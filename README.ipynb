{
 "cells": [
  {
   "cell_type": "markdown",
   "metadata": {},
   "source": [
    "# Exam Project \n",
    "\n",
    "####  42578 Advanced Business Analytics\n",
    "\n",
    "**Group members:** Toke Holst Møller (s172827), Johanne Juul Iversen (s174308), Ann-Katrine Christiansen (s184287) and Jesper Hauch (s174287)\n"
   ]
  },
  {
   "cell_type": "markdown",
   "metadata": {},
   "source": [
    "## Introduction\n",
    "\n",
    "In this project, the aim is to develop a guide that can help urban travellers find the perfect area for their next holiday, by comparing their favorite neighbourhoods to areas at their next destination. This project will act as a proof-of-concept considering only Manhattan in NYC and London. The guide will be based on the individual neighbourhoods' establishments and their reviews.\n",
    "\n",
    "The project uses the [Google Local](https://cseweb.ucsd.edu/~jmcauley/datasets.html#google_local) data published by Professor Julian McAuley from University of California, San Diego. The data contains reviews about businesses along with their geographical location. The raw data has 3.116.785 businesses and 11.453.845 reviews, which spans across locations all over the world.\n",
    "\n",
    "As mentioned, the wish was to focus solely on businesses located in London and Manhattan in NYC, which was accomplished through preprocessing of the data located in [the data processing notebook](./DataProcessing.ipynb). Initial data exploration will be performed in the [descriptive statistics notebook](./DescriptiveStatistics.ipynb) where further elaboration on the ideas for the direction of the guide are presented.\n",
    "\n",
    "The guide was developed using a space embedding model consisting of a neural network with a single layer, where the weights represent the embeddings of a neighbourhood. Since there are missing entries in the features, such as price range for an establishment, an NLP classification model was applied to impute the missing values based on the reviews of the establishment. Finally, the model was pushed to a production environment in collaboration with 2021.ai and their product Grace."
   ]
  },
  {
   "cell_type": "markdown",
   "metadata": {},
   "source": [
    "## How to read this report\n",
    "\n",
    "The report consist of X different notebooks besides this README notebook. They should be read in the order below. You can simply click on the link to enter the notebooks if your working directory is set to the source file location ...\n",
    "\n",
    "1. [Descriptive Statistics](./DescriptiveStatistics.ipynb)\n",
    "2. [NLP Classification](./NLPClassification_withSHAP.ipynb)\n",
    "3. [Space Embeddings](./SpaceEmbeddings.ipynb)\n",
    "4. [Recommender System](./RecommenderSystem.ipynb)\n",
    "\n",
    "Besides these notebooks, we have used the following notebooks for downloading of data and preprocissing of data...\n",
    "\n",
    "5. [Download Data](./DataDownload.ipynb)\n",
    "6. [Preprocessing of Data](./DataProcessing.ipynb)\n"
   ]
  },
  {
   "cell_type": "markdown",
   "metadata": {},
   "source": [
    "## Conclusion\n",
    "..."
   ]
  },
  {
   "cell_type": "markdown",
   "metadata": {},
   "source": [
    "## Individual contribution"
   ]
  },
  {
   "cell_type": "markdown",
   "metadata": {},
   "source": [
    "|Member  | Contribution | \n",
    "|:- --- |: ---| \n",
    "| Toke (s172827)| x, y, z | \n",
    "| Johanne (s174308)| x, y, z|\n",
    "| Ann-Katrine (s184287) | x, y, z |\n",
    "|Jesper (s174287)|x, y, z |\n",
    "\n"
   ]
  }
 ],
 "metadata": {
  "kernelspec": {
   "display_name": "Python 3",
   "language": "python",
   "name": "python3"
  },
  "language_info": {
   "codemirror_mode": {
    "name": "ipython",
    "version": 3
   },
   "file_extension": ".py",
   "mimetype": "text/x-python",
   "name": "python",
   "nbconvert_exporter": "python",
   "pygments_lexer": "ipython3",
   "version": "3.8.5"
  }
 },
 "nbformat": 4,
 "nbformat_minor": 2
}
