{
 "cells": [
  {
   "cell_type": "markdown",
   "metadata": {},
   "source": [
    "# Exam Project \n",
    "\n",
    "####  42578 Advanced Business Analytics\n",
    "\n",
    "**Group members:** Toke Holst Møller (s172827), Johanne Juul Iversen (s174308), Ann-Katrine Christiansen (s184287) and Jesper Hauch (s174287)\n"
   ]
  },
  {
   "cell_type": "markdown",
   "metadata": {},
   "source": [
    "## Introduction\n",
    "\n",
    "Have you ever been urban travelling? Then you've likely perused Google Maps, Yelp, Tripadvisor and the like for good reccomendations and tips on where to go, where to eat and what to do. Likely you've spent hours agonizing over one star reviews that contradict what you thought you knew while skipping over the five star reviews that just show praise. If that sounds like you, a solution is on its way. Imagine this. In your hometown you know exactly what you like and where to go. What if you could get exciting areas at your destination reccomended with the vibe you know from home? That is the goal of the Urban Travellers Guide&trade; . \n",
    "\n",
    "In this project, the aim is to develop a guide that can help urban travellers find the perfect area for their next holiday, by comparing their favorite neighbourhoods to areas at their next destination. This project will act as a proof-of-concept considering only Manhattan in NYC and London. The guide will be based on the individual neighbourhoods' establishments and their reviews.\n",
    "\n",
    "The project uses the [Google Local](https://cseweb.ucsd.edu/~jmcauley/datasets.html#google_local) data published by Professor Julian McAuley from University of California, San Diego. The data contains reviews about businesses along with their geographical location. The raw data has 3.116.785 businesses and 11.453.845 reviews, which spans across locations all over the world.\n",
    "\n",
    "As the wish was to focus solely on businesses located in London and Manhattan in NYC, the data was partitioned through preprocessing. Then initial data exploration is performed in the descriptive statistics notebook where further elaboration on the ideas for the direction of the guide are presented.\n",
    "\n",
    "The guide was developed using a space embedding model consisting of a neural network with a single layer, where the weights represent the embeddings of a neighbourhood. Since there are missing entries in the features, such as price range for an establishment, an NLP classification model was applied to impute the missing values based on the reviews of the establishment. By using the space embeddings to characterize the different areas of the cities, the reccomender system was created. This is done using the user in question and their reviews of the areas in their hometown. These are bundled for the different areas and using cosine similarity, other areas are returned as reccomendations.  \n",
    "\n",
    "Finally, the model was pushed to a production environment in collaboration with 2021.ai and their product Grace."
   ]
  },
  {
   "cell_type": "markdown",
   "metadata": {},
   "source": [
    "## How to read this report\n",
    "\n",
    "The report consist of four main notebooks besides this README notebook. They should be read in the order below. You can simply click on the link to enter the notebooks if your working directory is set to the source file location.\n",
    "\n",
    "1. [Descriptive Statistics](./DescriptiveStatistics.ipynb)\n",
    "2. [NLP Classification](./NLPClassification_withSHAP.ipynb)\n",
    "3. [Space Embeddings](./SpaceEmbeddings.ipynb)\n",
    "4. [Recommender System](./RecommenderSystem.ipynb)\n",
    "\n",
    "Besides the above four, we have used the following notebooks for downloading of data and preprocissing of data. These are available should they be of interest to the reader.\n",
    "\n",
    "5. [Download Data](./DataDownload.ipynb)\n",
    "6. [Preprocessing of Data](./DataProcessing.ipynb)\n"
   ]
  },
  {
   "cell_type": "markdown",
   "metadata": {},
   "source": [
    "## Discussion and conclusion\n",
    "\n",
    "By going through the notebooks above one should have gained a thourough understanding of the POC that is the Urban Travellers Guide. The project \n",
    "\n",
    "In predicting the prices for the establishments it was discovered that London was generally cheaper than New York. This was not reflected in the prediction model and the city could be added as a feature to ensure that the general price range of the city is reflected in the predicted data.  \n",
    "\n",
    "When testing the space embeddings it became clear that how the cities are partitioned is paramount to the model. Since NY is only represented by Manhattan and London includes some of the suburbs, there are some inconsistencies in how reccomendations are given. Manhattan is extremely dense compared to the greater London area and in further analysis it would be sensical to try to compare similar city structures, however hard that might be. This would affect grid size and bring another heap of issues but is definitely worth exploring.  "
   ]
  },
  {
   "cell_type": "markdown",
   "metadata": {},
   "source": [
    "## Individual contribution"
   ]
  },
  {
   "cell_type": "markdown",
   "metadata": {},
   "source": [
    "|Member  | Contribution | \n",
    "|:- --- |: ---| \n",
    "| Toke (s172827)| x, y, z | \n",
    "| Johanne (s174308)| x, y, z|\n",
    "| Ann-Katrine (s184287) | x, y, z |\n",
    "|Jesper (s174287)|x, y, z |\n",
    "\n"
   ]
  }
 ],
 "metadata": {
  "kernelspec": {
   "display_name": "Python 3",
   "language": "python",
   "name": "python3"
  },
  "language_info": {
   "codemirror_mode": {
    "name": "ipython",
    "version": 3
   },
   "file_extension": ".py",
   "mimetype": "text/x-python",
   "name": "python",
   "nbconvert_exporter": "python",
   "pygments_lexer": "ipython3",
   "version": "3.8.5"
  }
 },
 "nbformat": 4,
 "nbformat_minor": 2
}
