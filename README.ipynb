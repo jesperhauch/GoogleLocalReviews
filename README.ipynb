{
 "cells": [
  {
   "cell_type": "markdown",
   "metadata": {},
   "source": [
    "# Exam Project \n",
    "\n",
    "####  42578 Advanced Business Analytics\n",
    "\n",
    "**Group members:** Toke Holst Møller (s172827), Johanne Juul Iversen (s174308), Ann-Katrine Christiansen (s184287) and Jesper Hauch (s174287)\n"
   ]
  },
  {
   "cell_type": "markdown",
   "metadata": {},
   "source": [
    "## Introduction\n",
    "..."
   ]
  },
  {
   "cell_type": "markdown",
   "metadata": {},
   "source": [
    "## How to read this report\n",
    "\n",
    "The report consist of X different notebooks besides this README notebook. They should be read in the order below. You can simply click on the link to enter the notebooks if your working directory is set to the source file location ...\n",
    "\n",
    "1. [Descriptive Statistics](./DescriptiveStatistics.ipynb)\n",
    "2. [NLP Classification](./NLPClassification_withSHAP.ipynb)\n",
    "3. [Space Embeddings](./SpaceEmbeddings.ipynb)\n",
    "4. [Recommender System](./RecommenderSystem.ipynb)\n",
    "\n",
    "Besides these notebooks, we have used the following notebooks for downloading of data and preprocissing of data...\n",
    "\n",
    "5. [Download Data](./DataDownload.ipynb)\n",
    "6. [Preprocessing of Data](./DataProcessing.ipynb)\n"
   ]
  },
  {
   "cell_type": "markdown",
   "metadata": {},
   "source": [
    "## Conclusion\n",
    "..."
   ]
  },
  {
   "cell_type": "markdown",
   "metadata": {},
   "source": [
    "## Individual contribution"
   ]
  },
  {
   "cell_type": "markdown",
   "metadata": {},
   "source": [
    "|Member  | Contribution | \n",
    "|:- --- |: ---| \n",
    "| Toke (s172827)| x, y, z | \n",
    "| Johanne (s174308)| x, y, z|\n",
    "| Ann-Katrine (s184287) | x, y, z |\n",
    "|Jesper (s174287)|x, y, z |\n",
    "\n"
   ]
  },
  {
   "cell_type": "code",
   "execution_count": null,
   "metadata": {},
   "outputs": [],
   "source": []
  }
 ],
 "metadata": {
  "kernelspec": {
   "display_name": "Python 3 (ipykernel)",
   "language": "python",
   "name": "python3"
  },
  "language_info": {
   "codemirror_mode": {
    "name": "ipython",
    "version": 3
   },
   "file_extension": ".py",
   "mimetype": "text/x-python",
   "name": "python",
   "nbconvert_exporter": "python",
   "pygments_lexer": "ipython3",
   "version": "3.8.11"
  }
 },
 "nbformat": 4,
 "nbformat_minor": 2
}
