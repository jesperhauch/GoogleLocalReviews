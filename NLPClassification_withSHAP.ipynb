{
 "cells": [
  {
   "cell_type": "markdown",
   "metadata": {},
   "source": [
    "When providing recommendations to travellers, the price point of a shop or restaurant is essential. A student with part time job has a different budget than a person with a full time job. Thus, if you often visit cheap establishments, you will likely love the areas at your destination that serve streetfood and the like, while the guy putting down the company card will have no qualms about having an expensive meal. In this notebook, a NLP classifier for predicting the missing price points of establishments will be trained and interpreted.  "
   ]
  },
  {
   "cell_type": "markdown",
   "metadata": {},
   "source": [
    "* [Model building](#model-build)\n",
    "* [Data enrichment with trained classifier](#data-enrich)\n",
    "    * [Saving enrichened data](#saving-enrich)\n",
    "* [Model interpretation](#model-interpret)\n",
    "    * [SHAP analysis](#shap)\n",
    "* [Features for space embeddings](#features)"
   ]
  },
  {
   "cell_type": "markdown",
   "metadata": {},
   "source": [
    "# Model building <a class=\"anchor\" id=\"model-build\"></a>"
   ]
  },
  {
   "cell_type": "code",
   "execution_count": 1,
   "metadata": {},
   "outputs": [],
   "source": [
    "import numpy as np\n",
    "import pandas as pd\n",
    "import matplotlib.pyplot as plt\n",
    "import seaborn as sns\n",
    "from tqdm.notebook import tqdm\n",
    "import math\n",
    "from scipy.sparse import hstack, vstack, coo_matrix, csr_matrix, bmat\n",
    "sns.set_style(\"darkgrid\")\n",
    "data_path = \"data/\""
   ]
  },
  {
   "cell_type": "markdown",
   "metadata": {},
   "source": [
    "In this section a model to predict prices will be built. The model will be based on the following features:\n",
    "- Bag of Words or TF-IDF features\n",
    "- Raw review length\n",
    "- Lix number [see here](https://en.wikipedia.org/wiki/Lix_(readability_test))\n",
    "- Sentiment score (VADER)\n",
    "\n",
    "First of all, the reviews will be used to predict the price of the reviewed place. Either a bag of words count or a TF-IDF will be used, with the assumption that TF-IDF will perform better. The BoW count simply tells how any times a word is used in a review where TF-IDF show the relative importance of a given word in the review, taking into account all reviews.  \n",
    "\n",
    "Secondly, the length of the review is thought to influence the price in some way. A hypothesis could be that reviewers write longer reviews for more expensive establishments. A counter argument could be that longer reviews are mostly reviews with low ratings and has no influence on the price of an establishment. This will be interpreted later in this notebook under model interpretation.\n",
    "\n",
    "The LIX number is an index that indicates readability of a text. It provides a number from zero and up (though likely below 100), which indicates how hard the text is to understand. A LIX number below 25 are kids books, 35 to 45 is around the level of most newspapers, and above 55 is usually reserved for hard academic papers. The thesis is that more eloquent reviews are written for expensive establishments. \n",
    "\n",
    "Finally, the sentiment score is calculated using the VADER (Valence Aware Dictionary and Sentiment Reasoner) framework. This is a popular and powerful framework for performing sentiment analysis and provides three values for a given text. The degree to which the text is positive, negative and neutral. \n",
    "\n",
    "---"
   ]
  },
  {
   "cell_type": "markdown",
   "metadata": {},
   "source": [
    "First, the preprocessed NLP data is loaded and prepared for analysis."
   ]
  },
  {
   "cell_type": "code",
   "execution_count": 2,
   "metadata": {},
   "outputs": [],
   "source": [
    "df = pd.read_csv(\"data/NLP_data.csv\")\n",
    "df['reviewTextClean'] = df['reviewTextClean'].str.lower()\n",
    "df.dropna(subset=[\"reviewTextClean\"], inplace=True) # drop rows without a written review"
   ]
  },
  {
   "cell_type": "code",
   "execution_count": 3,
   "metadata": {},
   "outputs": [],
   "source": [
    "# Create BoW representation of cleaned reviews\n",
    "from sklearn.feature_extraction.text import CountVectorizer\n",
    "count_vect = CountVectorizer()\n",
    "bow_counts = count_vect.fit_transform(df['reviewTextClean'].values)"
   ]
  },
  {
   "cell_type": "code",
   "execution_count": 4,
   "metadata": {},
   "outputs": [
    {
     "name": "stdout",
     "output_type": "stream",
     "text": [
      "Length of vocabulary: 22973\n",
      "Length of corpus: 34923\n"
     ]
    }
   ],
   "source": [
    "print(\"Length of vocabulary:\", len(count_vect.vocabulary_))\n",
    "print(\"Length of corpus:\", bow_counts.shape[0])"
   ]
  },
  {
   "cell_type": "markdown",
   "metadata": {},
   "source": [
    "Creating tf-idf representation of cleaned reviews"
   ]
  },
  {
   "cell_type": "code",
   "execution_count": 5,
   "metadata": {},
   "outputs": [],
   "source": [
    "\n",
    "from sklearn.feature_extraction.text import TfidfTransformer\n",
    "tfidf = TfidfTransformer()\n",
    "bow_tfidf = tfidf.fit_transform(bow_counts)"
   ]
  },
  {
   "cell_type": "markdown",
   "metadata": {},
   "source": [
    "Add remaining features to both bow_counts and bow_tfidf. Here, both LIX and Number of Words are fitted such that they take values between zero and one to match the scale of the TF-IDF. This is done using min-max scaling. "
   ]
  },
  {
   "cell_type": "code",
   "execution_count": 6,
   "metadata": {},
   "outputs": [],
   "source": [
    "from sklearn.preprocessing import MinMaxScaler\n",
    "scaler = MinMaxScaler()\n",
    "df[[\"LIXNorm\", \"NoWNorm\"]] = scaler.fit_transform(df[[\"LIX\", \"NumberOfWords\"]])"
   ]
  },
  {
   "cell_type": "code",
   "execution_count": 7,
   "metadata": {},
   "outputs": [],
   "source": [
    "# ensure prices are integers\n",
    "df[\"price\"] = df[\"price\"].astype(int)"
   ]
  },
  {
   "cell_type": "markdown",
   "metadata": {},
   "source": [
    "The neutral sentiment score is not added as a feature. It would be heavily correlated with the positive and negative sentiment scores, since the negative, neutral and positive sentiment scores sum to one. "
   ]
  },
  {
   "cell_type": "code",
   "execution_count": 8,
   "metadata": {},
   "outputs": [],
   "source": [
    "rem_feats = csr_matrix(df[[\"posReviewPercent\", \"negReviewPercent\", \"LIXNorm\", \"NoWNorm\"]])\n",
    "bow_counts_full = hstack([bow_counts, rem_feats]).tocsr()\n",
    "bow_tfidf_full = hstack([bow_tfidf, rem_feats]).tocsr()"
   ]
  },
  {
   "cell_type": "code",
   "execution_count": 9,
   "metadata": {},
   "outputs": [
    {
     "name": "stdout",
     "output_type": "stream",
     "text": [
      "  (0, 22718)\t0.2658723650343767\n",
      "  (0, 22208)\t0.15807811848693062\n",
      "  (0, 21710)\t0.254530635282915\n",
      "  (0, 21306)\t0.24402847754314622\n",
      "  (0, 21176)\t0.16158268183912652\n",
      "  (0, 20684)\t0.28038263916013517\n",
      "  (0, 20570)\t0.12823857290505988\n",
      "  (0, 19341)\t0.09886157163166752\n",
      "  (0, 19044)\t0.20771534105026906\n",
      "  (0, 17947)\t0.16555346954485092\n",
      "  (0, 13642)\t0.09733546247922713\n",
      "  (0, 13556)\t0.1348788956990392\n",
      "  (0, 11888)\t0.1291489010931754\n",
      "  (0, 11461)\t0.14552646615429896\n",
      "  (0, 9893)\t0.3613211781160347\n",
      "  (0, 8984)\t0.06956063293257063\n",
      "  (0, 8810)\t0.06858585623849757\n",
      "  (0, 7905)\t0.15832874300150368\n",
      "  (0, 6386)\t0.10456978984058643\n",
      "  (0, 5569)\t0.245156415110424\n",
      "  (0, 5220)\t0.17050978277327358\n",
      "  (0, 4915)\t0.28437346494788585\n",
      "  (0, 4145)\t0.2805525408883\n",
      "  (0, 1711)\t0.10706632712216521\n",
      "  (0, 833)\t0.27686248133942865\n",
      "  (0, 22973)\t0.141\n",
      "  (0, 22974)\t0.109\n",
      "  (0, 22975)\t0.1362741594039535\n",
      "  (0, 22976)\t0.06657608695652173\n"
     ]
    }
   ],
   "source": [
    "print(bow_tfidf_full[0,:])"
   ]
  },
  {
   "cell_type": "markdown",
   "metadata": {},
   "source": [
    "The last thing to do before creating models is to split the data into training and test. In this case, to keep a completely clean test set, two splits are made. First we split the data into a development set and a test set. This test set is set aside for final testing once the models has been tuned. The development set is then split into train and validation, such that one can train and validate a model as usual. This is done for both the bag of words set and the TF-IDF set in order to test the hypothesis that TF-IDF performs better than a simple bag of words count. "
   ]
  },
  {
   "cell_type": "code",
   "execution_count": 10,
   "metadata": {},
   "outputs": [],
   "source": [
    "from sklearn.model_selection import train_test_split\n",
    "y = df.price.values-1\n",
    "text = np.array(df['reviewText'])\n",
    "\n",
    "# Split into development and test split for tfidf only\n",
    "X_tfidf_dev, X_tfidf_test, X_tfidf_f_dev, X_tfidf_f_test, y_dev, y_test, text_dev, text_test = train_test_split(bow_tfidf, bow_tfidf_full,  y, text, test_size=0.2, stratify=y)\n",
    "\n",
    "# Split development into training and validation for tfidf only\n",
    "X_tfidf_train, X_tfidf_val, X_tfidf_f_train, X_tfidf_f_val, y_train, y_val, text_train, text_val = train_test_split(X_tfidf_dev, X_tfidf_f_dev, y_dev, text_dev, test_size=0.1, stratify=y_dev)"
   ]
  },
  {
   "cell_type": "code",
   "execution_count": 11,
   "metadata": {},
   "outputs": [],
   "source": [
    "# Function that returns performance of classifier \n",
    "from sklearn.metrics import accuracy_score, f1_score, confusion_matrix\n",
    "def classification_metrics(header_text, clf, X_train, X_test, y_train, y_test):\n",
    "    print(\"=\"*48)\n",
    "    print(\" \"*int((48-len(header_text))/2), header_text)\n",
    "    print(\"=\"*48)\n",
    "    y_pred = clf.predict(X_train)\n",
    "    print(\"Train Accuracy:\", accuracy_score(y_train, y_pred))\n",
    "    y_pred = clf.predict(X_test)\n",
    "    print(\"Val Accuracy:\", accuracy_score(y_test, y_pred))\n",
    "    print(\"F1 Score:\", f1_score(y_test, y_pred, average=\"weighted\"))\n",
    "    print(confusion_matrix(y_test, y_pred))"
   ]
  },
  {
   "cell_type": "markdown",
   "metadata": {},
   "source": [
    "The first model is a simple dummy classifier which constantly predicts the most frequently occuring class in the training set. In our data, the most frequently occuring price range is the \\$\\$ price range, accounting for 56% of the training data. This performs about as well as expected with a accuracy of 55.82% for both training and validation. This is also the case when adding the additional features as the most frequent class in the observed *y* does not change with additional features."
   ]
  },
  {
   "cell_type": "code",
   "execution_count": 12,
   "metadata": {
    "scrolled": true
   },
   "outputs": [
    {
     "name": "stdout",
     "output_type": "stream",
     "text": [
      "================================================\n",
      "                 Dummy classifier\n",
      "================================================\n",
      "Train Accuracy: 0.5604120267260579\n",
      "Val Accuracy: 0.560486757337151\n",
      "F1 Score: 0.402624890821091\n",
      "[[   0  496    0]\n",
      " [   0 1566    0]\n",
      " [   0  732    0]]\n"
     ]
    }
   ],
   "source": [
    "# Dummy classifier predicting most frequent class\n",
    "from sklearn.dummy import DummyClassifier\n",
    "dummy_X = np.zeros(len(y_train))\n",
    "dummy = DummyClassifier(strategy=\"most_frequent\")\n",
    "dummy.fit(dummy_X, y_train)\n",
    "y_pred = dummy.predict(dummy_X)\n",
    "classification_metrics(\"Dummy classifier\", dummy, dummy_X, X_tfidf_val, y_train, y_val)"
   ]
  },
  {
   "cell_type": "markdown",
   "metadata": {},
   "source": [
    "Now that a baseline regressor has been established, it is time to find better performing classifiers. The classifiers will be fit using the TF-IDF feature excluding and including the additional features described in the beginning of this section. \n",
    "\n",
    "The first model to consider is logistic regression model, which can be seen as a simple but powerful model. The logistic regression simply uses the predefined hyperparameters by `sklearn`."
   ]
  },
  {
   "cell_type": "code",
   "execution_count": 15,
   "metadata": {},
   "outputs": [
    {
     "name": "stdout",
     "output_type": "stream",
     "text": [
      "================================================\n",
      "      LogisticRegression tf-idf w/o features\n",
      "================================================\n",
      "Train Accuracy: 0.7430798600063634\n",
      "Val Accuracy: 0.6385110952040086\n",
      "F1 Score: 0.6096687581234668\n",
      "[[ 140  341   15]\n",
      " [  67 1351  148]\n",
      " [   8  431  293]]\n"
     ]
    }
   ],
   "source": [
    "from sklearn.linear_model import LogisticRegression\n",
    "lr = LogisticRegression(max_iter=1000)\n",
    "lr.fit(X_tfidf_train, y_train)\n",
    "classification_metrics(\"LogisticRegression tf-idf w/o features\", lr, X_tfidf_train, X_tfidf_val, y_train, y_val)"
   ]
  },
  {
   "cell_type": "code",
   "execution_count": null,
   "metadata": {},
   "outputs": [
    {
     "name": "stdout",
     "output_type": "stream",
     "text": [
      "================================================\n",
      "          LogisticRegression tf-idf full\n",
      "================================================\n",
      "Train Accuracy: 0.7420458160992682\n",
      "Val Accuracy: 0.6263421617752326\n",
      "F1 Score: 0.5973792419869788\n",
      "[[ 149  328   19]\n",
      " [  64 1335  167]\n",
      " [   7  459  266]]\n"
     ]
    }
   ],
   "source": [
    "lr.fit(X_tfidf_f_train, y_train)\n",
    "classification_metrics(\"LogisticRegression tf-idf full\", lr, X_tfidf_f_train, X_tfidf_f_val, y_train, y_val)"
   ]
  },
  {
   "cell_type": "markdown",
   "metadata": {},
   "source": [
    "It is seen that performance is near identical using the data with and without the sentiments, review length and LIX number. A significant improvement is seen compared to the baseline dummy classifier, but there are some indications on overfitting based on the large difference between training and validation accuracy."
   ]
  },
  {
   "cell_type": "markdown",
   "metadata": {},
   "source": [
    "The next model considered is a XGBoost model, which stands for eXtreme Gradient Boosting. Usually this type of ensemble model outperforms logistic regression, so let us see how it performs on our data set."
   ]
  },
  {
   "cell_type": "code",
   "execution_count": 14,
   "metadata": {},
   "outputs": [
    {
     "name": "stderr",
     "output_type": "stream",
     "text": [
      "c:\\Users\\Bruger\\Documents\\GoogleLocalReviews\\abaenv\\lib\\site-packages\\xgboost\\compat.py:36: FutureWarning: pandas.Int64Index is deprecated and will be removed from pandas in a future version. Use pandas.Index with the appropriate dtype instead.\n",
      "  from pandas import MultiIndex, Int64Index\n"
     ]
    },
    {
     "name": "stdout",
     "output_type": "stream",
     "text": [
      "================================================\n",
      "           XGBoost tf-idf w/o features\n",
      "================================================\n",
      "Train Accuracy: 0.7373926185173402\n",
      "Val Accuracy: 0.6127415891195419\n",
      "F1 Score: 0.5625864383865431\n",
      "[[ 108  380    8]\n",
      " [  50 1409  107]\n",
      " [   5  532  195]]\n"
     ]
    }
   ],
   "source": [
    "import xgboost\n",
    "xgb_params = {\"reg_lambda\": 0.5}\n",
    "xgb = xgboost.XGBClassifier(eval_metric=\"mlogloss\", use_label_encoder=False, verbosity=1)\n",
    "xgb.set_params(**xgb_params)\n",
    "xgb.fit(X_tfidf_train, y_train)\n",
    "classification_metrics(\"XGBoost tf-idf w/o features\", xgb, X_tfidf_train, X_tfidf_val, y_train, y_val)"
   ]
  },
  {
   "cell_type": "code",
   "execution_count": 37,
   "metadata": {},
   "outputs": [
    {
     "name": "stdout",
     "output_type": "stream",
     "text": [
      "================================================\n",
      "               XGBoost tf-idf full\n",
      "================================================\n",
      "Train Accuracy: 0.7389436843779829\n",
      "Val Accuracy: 0.6037938439513243\n",
      "F1 Score: 0.5490010619690596\n",
      "[[ 107  379   10]\n",
      " [  55 1411  100]\n",
      " [   5  558  169]]\n"
     ]
    }
   ],
   "source": [
    "xgb.fit(X_tfidf_f_train, y_train)\n",
    "classification_metrics(\"XGBoost tf-idf full\", xgb, X_tfidf_f_train, X_tfidf_f_val, y_train, y_val)"
   ]
  },
  {
   "cell_type": "markdown",
   "metadata": {},
   "source": [
    "Finally, as the Logistic regression seems to perform the best, an Ordinal Logistic Regression is tested. This could be useful as there is an inherent order to the price points in the sense that `$$` is more expensive than `$` etc. (`$` < `$$` < `$$$`) "
   ]
  },
  {
   "cell_type": "code",
   "execution_count": 19,
   "metadata": {},
   "outputs": [
    {
     "name": "stdout",
     "output_type": "stream",
     "text": [
      "===================================\n",
      " Ordinal Logistic Regression tf-idf\n",
      "===================================\n",
      "Train Accuracy: 0.8730909958638243\n",
      "Val Accuracy: 0.560486757337151\n",
      "F1 Score: 0.402624890821091\n",
      "[[   0  496    0]\n",
      " [   0 1566    0]\n",
      " [   0  732    0]]\n"
     ]
    }
   ],
   "source": [
    "from mord import LogisticAT\n",
    "from sklearn.preprocessing import StandardScaler\n",
    "# y must be integer - fixed in df \n",
    "#y_train = np.array([int(i) for i in y_train])\n",
    "scaler = StandardScaler(with_mean=False)\n",
    "X_tfidf_train = scaler.fit_transform(X_tfidf_train)\n",
    "lat = LogisticAT(alpha=1.0, verbose=0)\n",
    "lat.fit(X_tfidf_train, y_train)\n",
    "classification_metrics(\"Ordinal Logistic Regression tf-idf\", lat, X_tfidf_train, X_tfidf_val, y_train, y_val)"
   ]
  },
  {
   "cell_type": "code",
   "execution_count": 20,
   "metadata": {},
   "outputs": [
    {
     "name": "stdout",
     "output_type": "stream",
     "text": [
      "===================================\n",
      " Ordinal Logistic Regression tf-idf full\n",
      "===================================\n",
      "Train Accuracy: 0.8726137448297805\n",
      "Val Accuracy: 0.560486757337151\n",
      "F1 Score: 0.402624890821091\n",
      "[[   0  496    0]\n",
      " [   0 1566    0]\n",
      " [   0  732    0]]\n"
     ]
    }
   ],
   "source": [
    "X_tfidf_f_train = scaler.fit_transform(X_tfidf_f_train)\n",
    "lat.fit(X_tfidf_f_train, y_train)\n",
    "classification_metrics(\"Ordinal Logistic Regression tf-idf full\", lat, X_tfidf_f_train, X_tfidf_f_val, y_train, y_val)"
   ]
  },
  {
   "cell_type": "markdown",
   "metadata": {},
   "source": [
    "As ordinal regression (as well as dummy and xgboost) performs significantly worse than the logistic regression, the logistic regression is chosen to be tuned in order to increase performance. This is done through a grid search to tune the hyperparameters."
   ]
  },
  {
   "cell_type": "code",
   "execution_count": 48,
   "metadata": {},
   "outputs": [],
   "source": [
    "%%capture # captures warning outputs\n",
    "from sklearn.model_selection import GridSearchCV\n",
    "from sklearn.model_selection import RepeatedStratifiedKFold\n",
    "from scipy.stats import loguniform\n",
    "\n",
    "# As the goal is to classify, the RepeatedStratifiedKFold is used\n",
    "cv = RepeatedStratifiedKFold(n_splits=3, n_repeats=3, random_state=1)\n",
    "\n",
    "space = dict()\n",
    "space['solver'] = ['saga']\n",
    "space['penalty'] = ['none', 'l1', 'l2']\n",
    "space['C'] = [0.1, 1, 10]\n",
    "\n",
    "search = GridSearchCV(lr, space, cv=cv)\n",
    "result = search.fit(X_tfidf_f_train, y_train)"
   ]
  },
  {
   "cell_type": "code",
   "execution_count": null,
   "metadata": {},
   "outputs": [],
   "source": [
    "import pickle\n",
    "with open(\"models/NLP_classifier.pkl\", \"wb\") as f:\n",
    "    pickle.dump(result.best_estimator_, f)"
   ]
  },
  {
   "cell_type": "markdown",
   "metadata": {},
   "source": [
    "The found hyperparameters can be seen below, and will be used for predicting the price points of the full data set."
   ]
  },
  {
   "cell_type": "code",
   "execution_count": 50,
   "metadata": {},
   "outputs": [
    {
     "name": "stdout",
     "output_type": "stream",
     "text": [
      "Best Score: 0.628062316920317\n",
      "Best Hyperparameters: {'C': 1, 'penalty': 'l2', 'solver': 'saga'}\n"
     ]
    }
   ],
   "source": [
    "print('Best Score: %s' % result.best_score_)\n",
    "print('Best Hyperparameters: %s' % result.best_params_)"
   ]
  },
  {
   "cell_type": "markdown",
   "metadata": {},
   "source": [
    "From these parameters the logistic regression object is redefined such that the found parameters are used in the model.  "
   ]
  },
  {
   "cell_type": "code",
   "execution_count": null,
   "metadata": {},
   "outputs": [],
   "source": [
    "lr = result.best_estimator_\n",
    "classification_metrics(\"LogisticRegression tf-idf full\", lr, X_tfidf_f_train, X_tfidf_f_val, y_train, y_val)"
   ]
  },
  {
   "cell_type": "markdown",
   "metadata": {},
   "source": [
    "# Data enrichment with trained classifier <a class=\"anchor\" id=\"data-enrich\"></a>\n",
    "Using the best prediction model on the remaining of the businesses without a price range "
   ]
  },
  {
   "cell_type": "code",
   "execution_count": 1,
   "metadata": {},
   "outputs": [],
   "source": [
    "import pickle\n",
    "import pandas as pd\n",
    "lr = pickle.load(open(\"models/NLP_classifier.pkl\", \"rb\"))"
   ]
  },
  {
   "cell_type": "code",
   "execution_count": 20,
   "metadata": {},
   "outputs": [],
   "source": [
    "df_predict = pd.read_csv(\"data/NLP_predict.csv\")\n",
    "df_predict['reviewTextClean'] = df_predict['reviewTextClean'].str.lower()\n",
    "df_predict.dropna(subset=[\"reviewTextClean\"], inplace=True)"
   ]
  },
  {
   "cell_type": "code",
   "execution_count": 21,
   "metadata": {},
   "outputs": [],
   "source": [
    "bow_counts_final = count_vect.transform(df_predict['reviewTextClean'].values)"
   ]
  },
  {
   "cell_type": "markdown",
   "metadata": {},
   "source": [
    "Create tf-idf representation of `reviewTextClean`"
   ]
  },
  {
   "cell_type": "code",
   "execution_count": 22,
   "metadata": {},
   "outputs": [],
   "source": [
    "bow_tfidf_final = tfidf.transform(bow_counts_final)"
   ]
  },
  {
   "cell_type": "markdown",
   "metadata": {},
   "source": [
    "Add remaining features to both bow_counts and bow_tfidf. Here, both LIX and Number of Words are fitted such that they take values between zero and one to match the scale of the TF-IDF. This is done using min-max scaling. "
   ]
  },
  {
   "cell_type": "code",
   "execution_count": 23,
   "metadata": {},
   "outputs": [],
   "source": [
    "scaler_f = MinMaxScaler()\n",
    "df_predict[[\"LIXNorm\", \"NoWNorm\"]] = scaler_f.fit_transform(df_predict[[\"LIX\", \"NumberOfWords\"]])"
   ]
  },
  {
   "cell_type": "markdown",
   "metadata": {},
   "source": [
    "The neutral sentiment score is not added as a feature. It would be heavily correlated with the positive and negative sentiment scores, since the three sum to one. "
   ]
  },
  {
   "cell_type": "code",
   "execution_count": 24,
   "metadata": {},
   "outputs": [],
   "source": [
    "rem_feats_pred = csr_matrix(df_predict[[\"posReviewPercent\", \"negReviewPercent\", \"LIXNorm\", \"NoWNorm\"]])\n",
    "bow_counts_final = hstack([bow_counts_final, rem_feats_pred]).tocsr()\n",
    "bow_tfidf_final = hstack([bow_tfidf_final, rem_feats_pred]).tocsr()"
   ]
  },
  {
   "cell_type": "code",
   "execution_count": 25,
   "metadata": {},
   "outputs": [],
   "source": [
    "X = bow_tfidf_final\n",
    "predict = lr.predict(X)\n",
    "# Get prices back to 1-2-3 format instead of 0-1-2\n",
    "df_predict[\"pred_price\"] = predict+1"
   ]
  },
  {
   "cell_type": "code",
   "execution_count": 26,
   "metadata": {},
   "outputs": [
    {
     "data": {
      "text/plain": [
       "0.0"
      ]
     },
     "execution_count": 26,
     "metadata": {},
     "output_type": "execute_result"
    }
   ],
   "source": [
    "# Fraction that matches real price, \n",
    "# all prices in the NLP predict dataframe are NaN so the fraction should be 0\n",
    "sum(sum([df_predict[\"price\"] == df_predict[\"pred_price\"]])) / len(df_predict)"
   ]
  },
  {
   "cell_type": "markdown",
   "metadata": {},
   "source": [
    "Below the pricepoint for each establishment is calculated. It is done such that the price point that has the highest count across all reviews for a given establishment is the one it gets. "
   ]
  },
  {
   "cell_type": "code",
   "execution_count": 27,
   "metadata": {},
   "outputs": [],
   "source": [
    "# First create a series with the Id, predicted price and the counts\n",
    "p_choice = df_predict.groupby(['gPlusPlaceId', 'pred_price']).size()\n",
    "\n",
    "# Create dataframe\n",
    "df_p = p_choice.to_frame('count').reset_index()\n",
    "# Find largest count for each place Id\n",
    "df_pmax = df_p.groupby('gPlusPlaceId').max()['count'].reset_index()\n",
    "# Merge the largest count and the df with the price points\n",
    "df_pfin = df_pmax.merge(df_p, on=['gPlusPlaceId', 'count'])\n",
    "# Drop the counts\n",
    "df_pfin = df_pfin.drop(['count'], axis=1)\n",
    "\n",
    "# As there are cases where there are equal number of reviews, these cases pick the larger price\n",
    "df_pfin = df_pfin.groupby('gPlusPlaceId').max()['pred_price'].reset_index()"
   ]
  },
  {
   "cell_type": "markdown",
   "metadata": {},
   "source": [
    "## Saving enrichened data<a class=\"anchor\" id=\"saving-enrich\"></a>\n",
    "\n",
    "Finally, the prices are added to the places data, such that every establishment has a price associated with it."
   ]
  },
  {
   "cell_type": "code",
   "execution_count": 28,
   "metadata": {
    "scrolled": true
   },
   "outputs": [
    {
     "data": {
      "text/html": [
       "<div>\n",
       "<style scoped>\n",
       "    .dataframe tbody tr th:only-of-type {\n",
       "        vertical-align: middle;\n",
       "    }\n",
       "\n",
       "    .dataframe tbody tr th {\n",
       "        vertical-align: top;\n",
       "    }\n",
       "\n",
       "    .dataframe thead th {\n",
       "        text-align: right;\n",
       "    }\n",
       "</style>\n",
       "<table border=\"1\" class=\"dataframe\">\n",
       "  <thead>\n",
       "    <tr style=\"text-align: right;\">\n",
       "      <th></th>\n",
       "      <th>gPlusPlaceId</th>\n",
       "      <th>name</th>\n",
       "      <th>price</th>\n",
       "      <th>lat</th>\n",
       "      <th>lon</th>\n",
       "      <th>city</th>\n",
       "      <th>address</th>\n",
       "      <th>Grid</th>\n",
       "      <th>category</th>\n",
       "      <th>pred_price</th>\n",
       "    </tr>\n",
       "  </thead>\n",
       "  <tbody>\n",
       "    <tr>\n",
       "      <th>0</th>\n",
       "      <td>101742583391038750118</td>\n",
       "      <td>Carpo London</td>\n",
       "      <td>NaN</td>\n",
       "      <td>51.509499</td>\n",
       "      <td>-0.135762</td>\n",
       "      <td>London</td>\n",
       "      <td>16 Piccadilly, London W1J 0DE, United Kingdom</td>\n",
       "      <td>L159</td>\n",
       "      <td>Retail</td>\n",
       "      <td>2.0</td>\n",
       "    </tr>\n",
       "    <tr>\n",
       "      <th>1</th>\n",
       "      <td>100574642292837870712</td>\n",
       "      <td>Premium Cars</td>\n",
       "      <td>NaN</td>\n",
       "      <td>51.514637</td>\n",
       "      <td>-0.064980</td>\n",
       "      <td>London</td>\n",
       "      <td>10 Commercial Road Premium Cars First Floor, S...</td>\n",
       "      <td>L186</td>\n",
       "      <td>Other</td>\n",
       "      <td>NaN</td>\n",
       "    </tr>\n",
       "    <tr>\n",
       "      <th>2</th>\n",
       "      <td>105185983265572241970</td>\n",
       "      <td>eSpares Ltd</td>\n",
       "      <td>NaN</td>\n",
       "      <td>51.479416</td>\n",
       "      <td>-0.179209</td>\n",
       "      <td>London</td>\n",
       "      <td>Chelsea Wharf, 15 Lots Rd, London, Chelsea SW1...</td>\n",
       "      <td>L40</td>\n",
       "      <td>Wholesale</td>\n",
       "      <td>2.0</td>\n",
       "    </tr>\n",
       "    <tr>\n",
       "      <th>3</th>\n",
       "      <td>104500852703501308358</td>\n",
       "      <td>Superdrug</td>\n",
       "      <td>NaN</td>\n",
       "      <td>51.494537</td>\n",
       "      <td>-0.145769</td>\n",
       "      <td>London</td>\n",
       "      <td>Unit 35, Victoria Railway Station, London SW1V...</td>\n",
       "      <td>L101</td>\n",
       "      <td>Retail</td>\n",
       "      <td>NaN</td>\n",
       "    </tr>\n",
       "    <tr>\n",
       "      <th>4</th>\n",
       "      <td>107519298595557659572</td>\n",
       "      <td>Kura</td>\n",
       "      <td>2.0</td>\n",
       "      <td>51.502122</td>\n",
       "      <td>-0.163029</td>\n",
       "      <td>London</td>\n",
       "      <td>3-4 Park Close, London SW1X 7PQ, United Kingdom</td>\n",
       "      <td>L137</td>\n",
       "      <td>Restaurant</td>\n",
       "      <td>NaN</td>\n",
       "    </tr>\n",
       "  </tbody>\n",
       "</table>\n",
       "</div>"
      ],
      "text/plain": [
       "            gPlusPlaceId          name  price        lat       lon    city  \\\n",
       "0  101742583391038750118  Carpo London    NaN  51.509499 -0.135762  London   \n",
       "1  100574642292837870712  Premium Cars    NaN  51.514637 -0.064980  London   \n",
       "2  105185983265572241970   eSpares Ltd    NaN  51.479416 -0.179209  London   \n",
       "3  104500852703501308358     Superdrug    NaN  51.494537 -0.145769  London   \n",
       "4  107519298595557659572          Kura    2.0  51.502122 -0.163029  London   \n",
       "\n",
       "                                             address  Grid    category  \\\n",
       "0      16 Piccadilly, London W1J 0DE, United Kingdom  L159      Retail   \n",
       "1  10 Commercial Road Premium Cars First Floor, S...  L186       Other   \n",
       "2  Chelsea Wharf, 15 Lots Rd, London, Chelsea SW1...   L40   Wholesale   \n",
       "3  Unit 35, Victoria Railway Station, London SW1V...  L101      Retail   \n",
       "4    3-4 Park Close, London SW1X 7PQ, United Kingdom  L137  Restaurant   \n",
       "\n",
       "   pred_price  \n",
       "0         2.0  \n",
       "1         NaN  \n",
       "2         2.0  \n",
       "3         NaN  \n",
       "4         NaN  "
      ]
     },
     "execution_count": 28,
     "metadata": {},
     "output_type": "execute_result"
    }
   ],
   "source": [
    "df_places = pd.read_csv(\"data/places_final.csv\")\n",
    "df_places = pd.merge(df_places, df_pfin, how=\"left\", on=\"gPlusPlaceId\")\n",
    "df_places.head()"
   ]
  },
  {
   "cell_type": "code",
   "execution_count": 29,
   "metadata": {},
   "outputs": [],
   "source": [
    "price = np.zeros(len(df_places))\n",
    "for i in range(len(df_places)):\n",
    "    if np.isnan(df_places['price'][i]) and np.isnan(df_places['pred_price'][i]):\n",
    "        price[i]=np.nan\n",
    "    elif np.isnan(df_places['price'][i]):\n",
    "        price[i]=df_places['pred_price'][i]\n",
    "    elif np.isnan(df_places['pred_price'][i]):\n",
    "        price[i]=df_places['price'][i]\n",
    "    else:\n",
    "        price[i]= df_places['price'][i]\n",
    "\n",
    "df_places['price']=price"
   ]
  },
  {
   "cell_type": "code",
   "execution_count": 30,
   "metadata": {},
   "outputs": [
    {
     "data": {
      "text/html": [
       "<div>\n",
       "<style scoped>\n",
       "    .dataframe tbody tr th:only-of-type {\n",
       "        vertical-align: middle;\n",
       "    }\n",
       "\n",
       "    .dataframe tbody tr th {\n",
       "        vertical-align: top;\n",
       "    }\n",
       "\n",
       "    .dataframe thead th {\n",
       "        text-align: right;\n",
       "    }\n",
       "</style>\n",
       "<table border=\"1\" class=\"dataframe\">\n",
       "  <thead>\n",
       "    <tr style=\"text-align: right;\">\n",
       "      <th></th>\n",
       "      <th>gPlusPlaceId</th>\n",
       "      <th>name</th>\n",
       "      <th>price</th>\n",
       "      <th>lat</th>\n",
       "      <th>lon</th>\n",
       "      <th>city</th>\n",
       "      <th>address</th>\n",
       "      <th>Grid</th>\n",
       "      <th>category</th>\n",
       "      <th>pred_price</th>\n",
       "    </tr>\n",
       "  </thead>\n",
       "  <tbody>\n",
       "    <tr>\n",
       "      <th>0</th>\n",
       "      <td>101742583391038750118</td>\n",
       "      <td>Carpo London</td>\n",
       "      <td>2.0</td>\n",
       "      <td>51.509499</td>\n",
       "      <td>-0.135762</td>\n",
       "      <td>London</td>\n",
       "      <td>16 Piccadilly, London W1J 0DE, United Kingdom</td>\n",
       "      <td>L159</td>\n",
       "      <td>Retail</td>\n",
       "      <td>2.0</td>\n",
       "    </tr>\n",
       "    <tr>\n",
       "      <th>1</th>\n",
       "      <td>100574642292837870712</td>\n",
       "      <td>Premium Cars</td>\n",
       "      <td>NaN</td>\n",
       "      <td>51.514637</td>\n",
       "      <td>-0.064980</td>\n",
       "      <td>London</td>\n",
       "      <td>10 Commercial Road Premium Cars First Floor, S...</td>\n",
       "      <td>L186</td>\n",
       "      <td>Other</td>\n",
       "      <td>NaN</td>\n",
       "    </tr>\n",
       "    <tr>\n",
       "      <th>2</th>\n",
       "      <td>105185983265572241970</td>\n",
       "      <td>eSpares Ltd</td>\n",
       "      <td>2.0</td>\n",
       "      <td>51.479416</td>\n",
       "      <td>-0.179209</td>\n",
       "      <td>London</td>\n",
       "      <td>Chelsea Wharf, 15 Lots Rd, London, Chelsea SW1...</td>\n",
       "      <td>L40</td>\n",
       "      <td>Wholesale</td>\n",
       "      <td>2.0</td>\n",
       "    </tr>\n",
       "    <tr>\n",
       "      <th>3</th>\n",
       "      <td>104500852703501308358</td>\n",
       "      <td>Superdrug</td>\n",
       "      <td>NaN</td>\n",
       "      <td>51.494537</td>\n",
       "      <td>-0.145769</td>\n",
       "      <td>London</td>\n",
       "      <td>Unit 35, Victoria Railway Station, London SW1V...</td>\n",
       "      <td>L101</td>\n",
       "      <td>Retail</td>\n",
       "      <td>NaN</td>\n",
       "    </tr>\n",
       "    <tr>\n",
       "      <th>4</th>\n",
       "      <td>107519298595557659572</td>\n",
       "      <td>Kura</td>\n",
       "      <td>2.0</td>\n",
       "      <td>51.502122</td>\n",
       "      <td>-0.163029</td>\n",
       "      <td>London</td>\n",
       "      <td>3-4 Park Close, London SW1X 7PQ, United Kingdom</td>\n",
       "      <td>L137</td>\n",
       "      <td>Restaurant</td>\n",
       "      <td>NaN</td>\n",
       "    </tr>\n",
       "  </tbody>\n",
       "</table>\n",
       "</div>"
      ],
      "text/plain": [
       "            gPlusPlaceId          name  price        lat       lon    city  \\\n",
       "0  101742583391038750118  Carpo London    2.0  51.509499 -0.135762  London   \n",
       "1  100574642292837870712  Premium Cars    NaN  51.514637 -0.064980  London   \n",
       "2  105185983265572241970   eSpares Ltd    2.0  51.479416 -0.179209  London   \n",
       "3  104500852703501308358     Superdrug    NaN  51.494537 -0.145769  London   \n",
       "4  107519298595557659572          Kura    2.0  51.502122 -0.163029  London   \n",
       "\n",
       "                                             address  Grid    category  \\\n",
       "0      16 Piccadilly, London W1J 0DE, United Kingdom  L159      Retail   \n",
       "1  10 Commercial Road Premium Cars First Floor, S...  L186       Other   \n",
       "2  Chelsea Wharf, 15 Lots Rd, London, Chelsea SW1...   L40   Wholesale   \n",
       "3  Unit 35, Victoria Railway Station, London SW1V...  L101      Retail   \n",
       "4    3-4 Park Close, London SW1X 7PQ, United Kingdom  L137  Restaurant   \n",
       "\n",
       "   pred_price  \n",
       "0         2.0  \n",
       "1         NaN  \n",
       "2         2.0  \n",
       "3         NaN  \n",
       "4         NaN  "
      ]
     },
     "execution_count": 30,
     "metadata": {},
     "output_type": "execute_result"
    }
   ],
   "source": [
    "df_places.head()"
   ]
  },
  {
   "cell_type": "markdown",
   "metadata": {},
   "source": [
    "As there are businesses that do not have any reviews in the review data, it will not be possible to predict a price for these."
   ]
  },
  {
   "cell_type": "code",
   "execution_count": 31,
   "metadata": {},
   "outputs": [
    {
     "name": "stdout",
     "output_type": "stream",
     "text": [
      "Fraction of the business without a pricerange:  0.2622\n"
     ]
    }
   ],
   "source": [
    "print('Fraction of the business without a pricerange: ',np.round(len(np.where(np.isnan(df_places['price']))[0])/len(df_places),4))"
   ]
  },
  {
   "cell_type": "code",
   "execution_count": 32,
   "metadata": {},
   "outputs": [],
   "source": [
    "df_places=df_places.drop(['pred_price'], axis=1)"
   ]
  },
  {
   "cell_type": "code",
   "execution_count": 33,
   "metadata": {},
   "outputs": [],
   "source": [
    "df_places.to_csv(data_path + \"places_final_NLP.csv\", index=False)"
   ]
  },
  {
   "cell_type": "markdown",
   "metadata": {},
   "source": [
    "Above, the data with the prices is saved and is ready to be used in further modelling. These prices should help the space embeddings model make great reccomendations to travellers. "
   ]
  },
  {
   "cell_type": "markdown",
   "metadata": {},
   "source": [
    "# Model Interpretation<a class=\"anchor\" id=\"model-interpret\"></a>\n",
    "\n",
    "Finally, in order to explore what features has the biggest influence on the price predictions, the overall feature importance of the best prediction model is computed. Furthermore, a SHAP analysis is be conducted to inspect the most important features in the dataset, and illustrated using a few selected reviews. "
   ]
  },
  {
   "cell_type": "code",
   "execution_count": 44,
   "metadata": {},
   "outputs": [],
   "source": [
    "import seaborn as sns\n",
    "import matplotlib\n",
    "import matplotlib.pyplot as plt\n",
    "from scipy import sparse\n",
    "import shap\n",
    "from random import sample\n",
    "import random\n",
    "\n",
    "%matplotlib inline\n",
    "FIG_SIZE = (40,18)\n",
    "sns.set_style(\"whitegrid\")\n",
    "sns.set(rc = {'figure.figsize': FIG_SIZE})\n",
    "matplotlib.rcParams['figure.figsize'] = FIG_SIZE\n",
    "plt.rcParams['figure.figsize'] = FIG_SIZE"
   ]
  },
  {
   "cell_type": "markdown",
   "metadata": {},
   "source": [
    "Defining helper functions to calculate feature importance for the regression model"
   ]
  },
  {
   "cell_type": "code",
   "execution_count": 47,
   "metadata": {},
   "outputs": [],
   "source": [
    "#Calculating feature imporatnce\n",
    "def imp_df(column_names, importances):\n",
    "    \"\"\"Function for creating a feature importance dataframe\"\"\"\n",
    "    df = pd.DataFrame({'feature': column_names, 'feature_importance': importances})\\\n",
    "           .sort_values('feature_importance', ascending=False)\\\n",
    "           .reset_index(drop=True)\n",
    "    return df\n",
    "\n",
    "# plotting feature importance\n",
    "def var_imp_plot(imp_df, title):\n",
    "    \"\"\"Plotting a feature importance dataframe (horizontal barchart)\"\"\"\n",
    "    sns.set(font_scale = 2.5)\n",
    "    sns.barplot(x='feature_importance', y='feature', data=imp_df, \n",
    "                orient='h', color='royalblue')\\\n",
    "       .set_title(title, fontsize = 20)"
   ]
  },
  {
   "cell_type": "markdown",
   "metadata": {},
   "source": [
    "As the data is on a sparse format, the feature names map are extracted from the vector count. Hereafter the 4 additional features for the review `sentiment`, `LIX number` and `number of words` are appended"
   ]
  },
  {
   "cell_type": "code",
   "execution_count": 80,
   "metadata": {
    "scrolled": true
   },
   "outputs": [],
   "source": [
    "feature_names = count_vect.get_feature_names()\n",
    "feature_names.extend([\"posReviewPercent\", \"negReviewPercent\", \"LIXNorm\", \"NoWNorm\"])"
   ]
  },
  {
   "cell_type": "markdown",
   "metadata": {},
   "source": [
    "Creating a datafram for the X train data for tf-idf full training data, and adding the feature names for the columns"
   ]
  },
  {
   "cell_type": "code",
   "execution_count": 49,
   "metadata": {},
   "outputs": [],
   "source": [
    "X = pd.DataFrame.sparse.from_spmatrix(X_tfidf_f_train, columns=feature_names)"
   ]
  },
  {
   "cell_type": "markdown",
   "metadata": {},
   "source": [
    "Finding the feature impartance from the linear regression coefficients for all features. \n",
    "\n",
    "As the logistic regression model predict 3 values, `$`, `$$`and `$$` respectivly, we have chosen to analyse which featues the the biggest influence on the expensive estblishments."
   ]
  },
  {
   "cell_type": "code",
   "execution_count": 50,
   "metadata": {},
   "outputs": [],
   "source": [
    "lr_imp = imp_df(X.columns, lr.coef_[2]) # predictions in price class 2"
   ]
  },
  {
   "cell_type": "markdown",
   "metadata": {},
   "source": [
    "To decrease the number of features considers, the 15 features with the highest positiv and the 15 feature with the most negative imporatance score are visualised"
   ]
  },
  {
   "cell_type": "code",
   "execution_count": 51,
   "metadata": {},
   "outputs": [
    {
     "data": {
      "image/png": "[encoded data removed]",
      "text/plain": [
       "<Figure size 2880x1296 with 1 Axes>"
      ]
     },
     "metadata": {},
     "output_type": "display_data"
    }
   ],
   "source": [
    "importance_30 = lr_imp[:15].append(lr_imp[-15:], ignore_index=True)\n",
    "var_imp_plot(importance_30, 'Linear regression feature importance')"
   ]
  },
  {
   "cell_type": "markdown",
   "metadata": {},
   "source": [
    "From above plot, it can be derived that words like: *Steak*, *View*, *Reservation* and *Oyster* have a positive effect on the price prediction if they appear in a review. Whereas words like *Pizza*, *Coffee*, *Sandwich* and *Fast* are likely to have a negative effect on the price preduction, meaning that the price will generally be predicted lower if these words appear in a review. \n",
    "\n",
    "The above plot also indicated the the LIX number, number of words and sensitivity of a review generally are not the most important features when predicting the price range of a business"
   ]
  },
  {
   "cell_type": "markdown",
   "metadata": {},
   "source": [
    "## SHAP analysis<a class=\"anchor\" id=\"shap\"></a>\n",
    "\n",
    "To investigate the feature importance for the entire dataset a SHAP analyses is carried out. From this we hope to be able to outline whe most important features on an aggregated level. \n",
    "\n",
    "To minimize the run time of the SHAP analysis, a random sample with size = 5000 is taken from the sparsed X_train data"
   ]
  },
  {
   "cell_type": "code",
   "execution_count": 52,
   "metadata": {},
   "outputs": [],
   "source": [
    "all_indices = range(X_tfidf_f_train.shape[0])\n",
    "random_indices = random.sample(all_indices, 2000)\n",
    "\n",
    "sorted_random_indices = sorted(random_indices)\n",
    "X_sample=X_tfidf_f_train[sorted_random_indices, :]"
   ]
  },
  {
   "cell_type": "code",
   "execution_count": 56,
   "metadata": {},
   "outputs": [],
   "source": [
    "explainer = shap.Explainer(lr, X_tfidf_f_train, feature_names_out=count_vect.get_feature_names())"
   ]
  },
  {
   "cell_type": "code",
   "execution_count": 57,
   "metadata": {},
   "outputs": [],
   "source": [
    "#finding the shap_values for the n=2000 random samples\n",
    "shap_values = explainer(X_sample)"
   ]
  },
  {
   "cell_type": "markdown",
   "metadata": {},
   "source": [
    "When visualising the results of the SHAP explainer, negative SHAP values indicates that a feature or a word makes the classifier less likely to predict an establishment as expensive. Whereas a positive shap value indicated high chance of predicting the price class as expensive."
   ]
  },
  {
   "cell_type": "code",
   "execution_count": 82,
   "metadata": {},
   "outputs": [
    {
     "data": {
      "text/plain": [
       "22977"
      ]
     },
     "execution_count": 82,
     "metadata": {},
     "output_type": "execute_result"
    }
   ],
   "source": [
    "len(feature_names)"
   ]
  },
  {
   "cell_type": "code",
   "execution_count": 128,
   "metadata": {},
   "outputs": [
    {
     "data": {
      "image/png": "[encoded data removed]",
      "text/plain": [
       "<Figure size 576x684 with 2 Axes>"
      ]
     },
     "metadata": {},
     "output_type": "display_data"
    }
   ],
   "source": [
    "# SHAP beeswarm plot\n",
    "shap.summary_plot(shap_values[:,:,2],feature_names=feature_names,max_display=20) \n",
    "#max display can be larger if the fig size is adjusted"
   ]
  },
  {
   "cell_type": "markdown",
   "metadata": {},
   "source": [
    "The beeswarm plot agrees with the feature importance plot on the features that they have in common. Generally it can be concluded that the features are all contributing to one \"side\" only, ie. the word *Pizza* always indicates that the place is cheap. How cheap varies but *Pizza* never contributes to a place being expensive. This is good since the effect of the features are strictly the same with regards to a place being cheap or expensive.   "
   ]
  },
  {
   "cell_type": "markdown",
   "metadata": {},
   "source": [
    "**Test to see feature importance for prediction where the exact pricerange was predicted correctly and where the prediction is wrong**\n",
    "\n",
    "The three coming force plots provide an overview of what contributes both positively and negatively to the price prediction. One can see the reviews as well, and that way create their own impression of whether the predictor is doing a good job or not. "
   ]
  },
  {
   "cell_type": "code",
   "execution_count": 84,
   "metadata": {},
   "outputs": [],
   "source": [
    "y_pred=lr.predict(X_tfidf_f_train)"
   ]
  },
  {
   "cell_type": "code",
   "execution_count": 85,
   "metadata": {},
   "outputs": [
    {
     "data": {
      "text/plain": [
       "'A good lunchtime deal and escape from midtown noisy restaurants.'"
      ]
     },
     "execution_count": 85,
     "metadata": {},
     "output_type": "execute_result"
    }
   ],
   "source": [
    "#Checking review number 999\n",
    "test_review=999\n",
    "x_index=sorted_random_indices[test_review]\n",
    "text_train[x_index]"
   ]
  },
  {
   "cell_type": "code",
   "execution_count": 86,
   "metadata": {},
   "outputs": [
    {
     "name": "stdout",
     "output_type": "stream",
     "text": [
      "Actual price range of review:  2\n",
      "Predicted price range of review:  1\n"
     ]
    }
   ],
   "source": [
    "print('Actual price range of review: ', y_train[x_index])\n",
    "print('Predicted price range of review: ',y_pred[x_index])"
   ]
  },
  {
   "cell_type": "code",
   "execution_count": 87,
   "metadata": {},
   "outputs": [
    {
     "data": {
      "image/png": "[encoded data removed]",
      "text/plain": [
       "<Figure size 1440x216 with 1 Axes>"
      ]
     },
     "metadata": {},
     "output_type": "display_data"
    }
   ],
   "source": [
    "shap.force_plot(explainer.expected_value[2], shap_values[test_review,:,2].values, \n",
    "                X.iloc[x_index,:], \n",
    "                matplotlib=True)"
   ]
  },
  {
   "cell_type": "code",
   "execution_count": 88,
   "metadata": {},
   "outputs": [
    {
     "data": {
      "text/plain": [
       "'A bit too expensive with the normal menu, the \"happy hour\" menu is incredible value for money.'"
      ]
     },
     "execution_count": 88,
     "metadata": {},
     "output_type": "execute_result"
    }
   ],
   "source": [
    "# checking review number 562\n",
    "test_review=562\n",
    "x_index=sorted_random_indices[test_review]\n",
    "text_train[x_index]"
   ]
  },
  {
   "cell_type": "code",
   "execution_count": 89,
   "metadata": {},
   "outputs": [
    {
     "name": "stdout",
     "output_type": "stream",
     "text": [
      "Actual price range of review:  2\n",
      "Predicted price range of review:  1\n"
     ]
    }
   ],
   "source": [
    "print('Actual price range of review: ', y_train[x_index])\n",
    "print('Predicted price range of review: ',y_pred[x_index])"
   ]
  },
  {
   "cell_type": "code",
   "execution_count": 90,
   "metadata": {},
   "outputs": [
    {
     "data": {
      "image/png": "[encoded data removed]",
      "text/plain": [
       "<Figure size 1440x216 with 1 Axes>"
      ]
     },
     "metadata": {},
     "output_type": "display_data"
    }
   ],
   "source": [
    "shap.force_plot(explainer.expected_value[2], shap_values[test_review,:,2].values, \n",
    "                X.iloc[x_index,:], \n",
    "                matplotlib=True)"
   ]
  },
  {
   "cell_type": "code",
   "execution_count": 91,
   "metadata": {},
   "outputs": [
    {
     "data": {
      "text/plain": [
       "'A small cozy ramen place. You better come early or you may have to wait for a long time. There is always a long line outside. The original style soup base is very rich and its great with the firm ramen. They also have one with a strong garlic broth which is also my favorite.'"
      ]
     },
     "execution_count": 91,
     "metadata": {},
     "output_type": "execute_result"
    }
   ],
   "source": [
    "# checking review number 1390\n",
    "test_review=1390\n",
    "x_index=sorted_random_indices[test_review]\n",
    "text_train[x_index]"
   ]
  },
  {
   "cell_type": "code",
   "execution_count": 92,
   "metadata": {},
   "outputs": [
    {
     "name": "stdout",
     "output_type": "stream",
     "text": [
      "Actual price range of review:  1\n",
      "Predicted price range of review:  1\n"
     ]
    }
   ],
   "source": [
    "print('Actual price range of review: ', y_train[x_index])\n",
    "print('Predicted price range of review: ',y_pred[x_index])"
   ]
  },
  {
   "cell_type": "code",
   "execution_count": 93,
   "metadata": {
    "scrolled": true
   },
   "outputs": [
    {
     "data": {
      "image/png": "[encoded data removed]",
      "text/plain": [
       "<Figure size 1440x216 with 1 Axes>"
      ]
     },
     "metadata": {},
     "output_type": "display_data"
    }
   ],
   "source": [
    "shap.force_plot(explainer.expected_value[2], shap_values[test_review,:,2].values, \n",
    "                X.iloc[x_index,:], \n",
    "                matplotlib=True)"
   ]
  },
  {
   "cell_type": "markdown",
   "metadata": {},
   "source": [
    "# Features for Space Embedding Dataframe<a class=\"anchor\" id=\"features\"></a>"
   ]
  },
  {
   "cell_type": "markdown",
   "metadata": {},
   "source": [
    "To create a dataframe which can be used for space embedding in London and New York, the features for both cities are aggregated on a grid cell level. "
   ]
  },
  {
   "cell_type": "code",
   "execution_count": 109,
   "metadata": {},
   "outputs": [],
   "source": [
    "reviews = pd.read_csv(data_path + \"reviews_final.csv\")"
   ]
  },
  {
   "cell_type": "markdown",
   "metadata": {},
   "source": [
    "#### Business per grid cell\n",
    "\n",
    "Counting all business per cell"
   ]
  },
  {
   "cell_type": "code",
   "execution_count": 101,
   "metadata": {},
   "outputs": [],
   "source": [
    "df_grid=df_places.groupby('Grid')['gPlusPlaceId'].count().reset_index()\n",
    "df_grid.rename(columns = {'gPlusPlaceId':'PlaceCount'}, inplace = True)"
   ]
  },
  {
   "cell_type": "markdown",
   "metadata": {},
   "source": [
    "Finding the avg price range for businesses in the grid cells"
   ]
  },
  {
   "cell_type": "code",
   "execution_count": 248,
   "metadata": {},
   "outputs": [],
   "source": [
    "#price = places.groupby('Grid').mean()['price'].reset_index()\n",
    "#df_grid=df_grid.merge(price,on='Grid')"
   ]
  },
  {
   "cell_type": "markdown",
   "metadata": {},
   "source": [
    "Finding number of establishments in each price range - is changed later based on NLP model."
   ]
  },
  {
   "cell_type": "code",
   "execution_count": 102,
   "metadata": {},
   "outputs": [],
   "source": [
    "df_grid['Price 1'] = 0\n",
    "df_grid['Price 2'] = 0\n",
    "df_grid['Price 3'] = 0\n",
    "df_grid.set_index('Grid', inplace = True)\n",
    "\n",
    "for grid in df_places.Grid.unique():\n",
    "    df_grid.loc[grid, 'Price 1'] = df_places.loc[(df_places.Grid==grid) & (df_places.price == 1.0)].gPlusPlaceId.nunique()\n",
    "    df_grid.loc[grid, 'Price 2'] = df_places.loc[(df_places.Grid==grid) & (df_places.price == 2.0)].gPlusPlaceId.nunique()\n",
    "    df_grid.loc[grid, 'Price 3'] = df_places.loc[(df_places.Grid==grid) & (df_places.price == 3.0)].gPlusPlaceId.nunique()\n"
   ]
  },
  {
   "cell_type": "code",
   "execution_count": 103,
   "metadata": {},
   "outputs": [
    {
     "data": {
      "text/html": [
       "<div>\n",
       "<style scoped>\n",
       "    .dataframe tbody tr th:only-of-type {\n",
       "        vertical-align: middle;\n",
       "    }\n",
       "\n",
       "    .dataframe tbody tr th {\n",
       "        vertical-align: top;\n",
       "    }\n",
       "\n",
       "    .dataframe thead th {\n",
       "        text-align: right;\n",
       "    }\n",
       "</style>\n",
       "<table border=\"1\" class=\"dataframe\">\n",
       "  <thead>\n",
       "    <tr style=\"text-align: right;\">\n",
       "      <th></th>\n",
       "      <th>PlaceCount</th>\n",
       "      <th>Price 1</th>\n",
       "      <th>Price 2</th>\n",
       "      <th>Price 3</th>\n",
       "    </tr>\n",
       "    <tr>\n",
       "      <th>Grid</th>\n",
       "      <th></th>\n",
       "      <th></th>\n",
       "      <th></th>\n",
       "      <th></th>\n",
       "    </tr>\n",
       "  </thead>\n",
       "  <tbody>\n",
       "    <tr>\n",
       "      <th>L0</th>\n",
       "      <td>8</td>\n",
       "      <td>0</td>\n",
       "      <td>4</td>\n",
       "      <td>0</td>\n",
       "    </tr>\n",
       "    <tr>\n",
       "      <th>L1</th>\n",
       "      <td>10</td>\n",
       "      <td>0</td>\n",
       "      <td>6</td>\n",
       "      <td>1</td>\n",
       "    </tr>\n",
       "  </tbody>\n",
       "</table>\n",
       "</div>"
      ],
      "text/plain": [
       "      PlaceCount  Price 1  Price 2  Price 3\n",
       "Grid                                       \n",
       "L0             8        0        4        0\n",
       "L1            10        0        6        1"
      ]
     },
     "execution_count": 103,
     "metadata": {},
     "output_type": "execute_result"
    }
   ],
   "source": [
    "df_grid.head(2)"
   ]
  },
  {
   "cell_type": "markdown",
   "metadata": {},
   "source": [
    "Counting number of business per category per grid cell"
   ]
  },
  {
   "cell_type": "code",
   "execution_count": 105,
   "metadata": {},
   "outputs": [],
   "source": [
    "cat_cols=df_places.groupby(['Grid','category']).count()['gPlusPlaceId'].reset_index()\n",
    "cat_cols=pd.pivot_table(cat_cols, index='Grid', columns='category', values='gPlusPlaceId').fillna(0)\n",
    "df_grid=df_grid.join(cat_cols,on='Grid')"
   ]
  },
  {
   "cell_type": "code",
   "execution_count": 106,
   "metadata": {},
   "outputs": [
    {
     "data": {
      "text/html": [
       "<div>\n",
       "<style scoped>\n",
       "    .dataframe tbody tr th:only-of-type {\n",
       "        vertical-align: middle;\n",
       "    }\n",
       "\n",
       "    .dataframe tbody tr th {\n",
       "        vertical-align: top;\n",
       "    }\n",
       "\n",
       "    .dataframe thead th {\n",
       "        text-align: right;\n",
       "    }\n",
       "</style>\n",
       "<table border=\"1\" class=\"dataframe\">\n",
       "  <thead>\n",
       "    <tr style=\"text-align: right;\">\n",
       "      <th></th>\n",
       "      <th>PlaceCount</th>\n",
       "      <th>Price 1</th>\n",
       "      <th>Price 2</th>\n",
       "      <th>Price 3</th>\n",
       "      <th>Accommodation</th>\n",
       "      <th>Bar</th>\n",
       "      <th>Cafe</th>\n",
       "      <th>Cultural</th>\n",
       "      <th>Education</th>\n",
       "      <th>Health</th>\n",
       "      <th>Other</th>\n",
       "      <th>Outdoors</th>\n",
       "      <th>Restaurant</th>\n",
       "      <th>Retail</th>\n",
       "      <th>Service</th>\n",
       "      <th>Wholesale</th>\n",
       "    </tr>\n",
       "    <tr>\n",
       "      <th>Grid</th>\n",
       "      <th></th>\n",
       "      <th></th>\n",
       "      <th></th>\n",
       "      <th></th>\n",
       "      <th></th>\n",
       "      <th></th>\n",
       "      <th></th>\n",
       "      <th></th>\n",
       "      <th></th>\n",
       "      <th></th>\n",
       "      <th></th>\n",
       "      <th></th>\n",
       "      <th></th>\n",
       "      <th></th>\n",
       "      <th></th>\n",
       "      <th></th>\n",
       "    </tr>\n",
       "  </thead>\n",
       "  <tbody>\n",
       "    <tr>\n",
       "      <th>L0</th>\n",
       "      <td>8</td>\n",
       "      <td>0</td>\n",
       "      <td>4</td>\n",
       "      <td>0</td>\n",
       "      <td>0.0</td>\n",
       "      <td>0.0</td>\n",
       "      <td>0.0</td>\n",
       "      <td>0.0</td>\n",
       "      <td>0.0</td>\n",
       "      <td>0.0</td>\n",
       "      <td>1.0</td>\n",
       "      <td>1.0</td>\n",
       "      <td>5.0</td>\n",
       "      <td>0.0</td>\n",
       "      <td>1.0</td>\n",
       "      <td>0.0</td>\n",
       "    </tr>\n",
       "    <tr>\n",
       "      <th>L1</th>\n",
       "      <td>10</td>\n",
       "      <td>0</td>\n",
       "      <td>6</td>\n",
       "      <td>1</td>\n",
       "      <td>0.0</td>\n",
       "      <td>0.0</td>\n",
       "      <td>1.0</td>\n",
       "      <td>0.0</td>\n",
       "      <td>0.0</td>\n",
       "      <td>1.0</td>\n",
       "      <td>3.0</td>\n",
       "      <td>0.0</td>\n",
       "      <td>2.0</td>\n",
       "      <td>0.0</td>\n",
       "      <td>2.0</td>\n",
       "      <td>1.0</td>\n",
       "    </tr>\n",
       "  </tbody>\n",
       "</table>\n",
       "</div>"
      ],
      "text/plain": [
       "      PlaceCount  Price 1  Price 2  Price 3  Accommodation  Bar  Cafe  \\\n",
       "Grid                                                                    \n",
       "L0             8        0        4        0            0.0  0.0   0.0   \n",
       "L1            10        0        6        1            0.0  0.0   1.0   \n",
       "\n",
       "      Cultural  Education  Health  Other  Outdoors  Restaurant  Retail  \\\n",
       "Grid                                                                     \n",
       "L0         0.0        0.0     0.0    1.0       1.0         5.0     0.0   \n",
       "L1         0.0        0.0     1.0    3.0       0.0         2.0     0.0   \n",
       "\n",
       "      Service  Wholesale  \n",
       "Grid                      \n",
       "L0        1.0        0.0  \n",
       "L1        2.0        1.0  "
      ]
     },
     "execution_count": 106,
     "metadata": {},
     "output_type": "execute_result"
    }
   ],
   "source": [
    "df_grid.head(2)"
   ]
  },
  {
   "cell_type": "markdown",
   "metadata": {},
   "source": [
    "#### Rating\n",
    "\n",
    "Finding number of reviews per cell"
   ]
  },
  {
   "cell_type": "code",
   "execution_count": 110,
   "metadata": {},
   "outputs": [],
   "source": [
    "mergeddf=df_places.merge(reviews,on='gPlusPlaceId',how='outer').dropna(subset=['name'])\n",
    "grid_reviews = mergeddf.groupby('Grid').count()['gPlusUserId'].reset_index()\n",
    "df_grid=df_grid.merge(grid_reviews.rename(columns={'gPlusUserId':'ReviewCount'}),on='Grid')"
   ]
  },
  {
   "cell_type": "markdown",
   "metadata": {},
   "source": [
    "Overall average rating per cell, and average per budiness type\n",
    "\n",
    "When finding the average ratings, all business with less than 3 reviews are removed, as these tend to have a very large average review. \n",
    "A reason for this could be that friends and family give good ratings to newly opened businesses."
   ]
  },
  {
   "cell_type": "code",
   "execution_count": 111,
   "metadata": {},
   "outputs": [],
   "source": [
    "mergeddf['rating'] = mergeddf['rating'].astype(float)\n",
    "# removing all business with less than 3 reviews\n",
    "avg_reviews = mergeddf.groupby(['Grid','gPlusPlaceId'])['rating'].agg([\"count\", \"mean\"]).loc[lambda x: x['count'] > 3, \"mean\"].reset_index()\n",
    "\n",
    "# finding the average rating per grid cell\n",
    "avg_reviews = avg_reviews.groupby('Grid').mean()['mean'].reset_index()\n",
    "\n",
    "df_grid=df_grid.merge(avg_reviews.rename(columns={'mean':'Rating'}),on='Grid')"
   ]
  },
  {
   "cell_type": "code",
   "execution_count": 112,
   "metadata": {},
   "outputs": [],
   "source": [
    "#Creating rating name column for each business type's avg rating \n",
    "\n",
    "cat_rev = mergeddf.groupby(['Grid','category','gPlusPlaceId'])['rating'].agg([\"count\", \"mean\"]).loc[lambda x: x['count'] > 3, \"mean\"].reset_index()\n",
    "cat_val=[]\n",
    "\n",
    "for i in range(len(cat_rev)):\n",
    "    cat_val.append(cat_rev['category'][i]+'_rating')\n",
    "\n",
    "cat_rev['cat_val']=cat_val\n",
    "category_rating=pd.pivot_table(cat_rev, index='Grid', columns='cat_val', values='mean').fillna(0)\n",
    "df_grid=df_grid.merge(category_rating,on='Grid')"
   ]
  },
  {
   "cell_type": "markdown",
   "metadata": {},
   "source": [
    "#### Sensitivity\n",
    "\n",
    "Counting positive and negative reviews in a grid cell"
   ]
  },
  {
   "cell_type": "code",
   "execution_count": 115,
   "metadata": {
    "scrolled": false
   },
   "outputs": [],
   "source": [
    "positive=np.zeros(len(mergeddf))\n",
    "negative=np.zeros(len(mergeddf))\n",
    "#neutral=np.zeros(len(mergeddf))\n",
    "\n",
    "for i in range(len(mergeddf)):\n",
    "    sensitiv=[mergeddf['posReviewPercent'][i],mergeddf['negReviewPercent'][i]]#,mergeddf['midReviewPercent'][i]]\n",
    "    sensitivmax=np.where(sensitiv==np.max(sensitiv))[0]\n",
    "    \n",
    "    if math.isnan(sensitiv[0])==False:\n",
    "        if 0 in sensitivmax:\n",
    "            positive[i]=1\n",
    "\n",
    "        if 1 in sensitivmax:\n",
    "            negative[i]=1   \n",
    "\n",
    "#        if 2 in sensitivmax:\n",
    "#            neutral[i]=1\n",
    "    else:\n",
    "        0\n",
    "\n",
    "mergeddf['positive'] = positive\n",
    "mergeddf['negative'] = negative\n",
    "#mergeddf['neutral'] = neutral"
   ]
  },
  {
   "cell_type": "code",
   "execution_count": 116,
   "metadata": {},
   "outputs": [],
   "source": [
    "# Sum of positiv and negative ratings per grid cell\n",
    "\n",
    "sensitivity = mergeddf.groupby('Grid').sum()[['positive','negative']].reset_index()\n",
    "\n",
    "# Total number of positive and negative ratings in dataframe\n",
    "count=sensitivity.iloc[:,1:].sum(axis=1)\n",
    "\n",
    "# distribution of positive and negative reviews per grid cell\n",
    "sensitivity['PositiveReviews']=sensitivity['positive']/count\n",
    "sensitivity['NegativeReviews']=sensitivity['negative']/count\n",
    "\n",
    "df_grid=df_grid.merge(sensitivity[['Grid','PositiveReviews','NegativeReviews']],on='Grid')"
   ]
  },
  {
   "cell_type": "markdown",
   "metadata": {},
   "source": [
    "Relative review length per grip cell (Avg length per cell over evg length for all reviews)"
   ]
  },
  {
   "cell_type": "code",
   "execution_count": 117,
   "metadata": {},
   "outputs": [],
   "source": [
    "review_len=[]\n",
    "for i in range(len(mergeddf)):\n",
    "    if pd.isnull(mergeddf['reviewText'][i])==False:\n",
    "        review_len.append(len(mergeddf['reviewText'][i].split(\" \")))\n",
    "    else: \n",
    "        review_len.append(0)\n",
    "        \n",
    "\n",
    "mergeddf['review_len']=review_len   \n",
    "avg_review_len = np.mean(review_len)"
   ]
  },
  {
   "cell_type": "code",
   "execution_count": 118,
   "metadata": {},
   "outputs": [],
   "source": [
    "Grid_review_len = mergeddf.groupby('Grid').mean()['review_len'].reset_index()\n",
    "Grid_review_len['ReviewLength'] = Grid_review_len['review_len']/avg_review_len\n",
    "df_grid=df_grid.merge(Grid_review_len[['Grid','ReviewLength']],on='Grid')"
   ]
  },
  {
   "cell_type": "markdown",
   "metadata": {},
   "source": [
    "Final dataframe for grid cell aggregated features"
   ]
  },
  {
   "cell_type": "code",
   "execution_count": 125,
   "metadata": {
    "scrolled": false
   },
   "outputs": [
    {
     "data": {
      "text/html": [
       "<div>\n",
       "<style scoped>\n",
       "    .dataframe tbody tr th:only-of-type {\n",
       "        vertical-align: middle;\n",
       "    }\n",
       "\n",
       "    .dataframe tbody tr th {\n",
       "        vertical-align: top;\n",
       "    }\n",
       "\n",
       "    .dataframe thead th {\n",
       "        text-align: right;\n",
       "    }\n",
       "</style>\n",
       "<table border=\"1\" class=\"dataframe\">\n",
       "  <thead>\n",
       "    <tr style=\"text-align: right;\">\n",
       "      <th></th>\n",
       "      <th>Grid</th>\n",
       "      <th>PlaceCount</th>\n",
       "      <th>Price 1</th>\n",
       "      <th>Price 2</th>\n",
       "      <th>Price 3</th>\n",
       "      <th>Accommodation</th>\n",
       "      <th>Bar</th>\n",
       "      <th>Cafe</th>\n",
       "      <th>Cultural</th>\n",
       "      <th>Education</th>\n",
       "      <th>...</th>\n",
       "      <th>Health_rating</th>\n",
       "      <th>Other_rating</th>\n",
       "      <th>Outdoors_rating</th>\n",
       "      <th>Restaurant_rating</th>\n",
       "      <th>Retail_rating</th>\n",
       "      <th>Service_rating</th>\n",
       "      <th>Wholesale_rating</th>\n",
       "      <th>PositiveReviews</th>\n",
       "      <th>NegativeReviews</th>\n",
       "      <th>ReviewLength</th>\n",
       "    </tr>\n",
       "  </thead>\n",
       "  <tbody>\n",
       "    <tr>\n",
       "      <th>0</th>\n",
       "      <td>L0</td>\n",
       "      <td>8</td>\n",
       "      <td>0</td>\n",
       "      <td>4</td>\n",
       "      <td>0</td>\n",
       "      <td>0.0</td>\n",
       "      <td>0.0</td>\n",
       "      <td>0.0</td>\n",
       "      <td>0.0</td>\n",
       "      <td>0.0</td>\n",
       "      <td>...</td>\n",
       "      <td>0.0</td>\n",
       "      <td>4.020000</td>\n",
       "      <td>0.0</td>\n",
       "      <td>3.942857</td>\n",
       "      <td>0.000000</td>\n",
       "      <td>0.000000</td>\n",
       "      <td>0.000000</td>\n",
       "      <td>0.696000</td>\n",
       "      <td>0.304000</td>\n",
       "      <td>0.536595</td>\n",
       "    </tr>\n",
       "    <tr>\n",
       "      <th>1</th>\n",
       "      <td>L1</td>\n",
       "      <td>10</td>\n",
       "      <td>0</td>\n",
       "      <td>6</td>\n",
       "      <td>1</td>\n",
       "      <td>0.0</td>\n",
       "      <td>0.0</td>\n",
       "      <td>1.0</td>\n",
       "      <td>0.0</td>\n",
       "      <td>0.0</td>\n",
       "      <td>...</td>\n",
       "      <td>5.0</td>\n",
       "      <td>0.000000</td>\n",
       "      <td>0.0</td>\n",
       "      <td>4.777778</td>\n",
       "      <td>0.000000</td>\n",
       "      <td>4.000000</td>\n",
       "      <td>0.000000</td>\n",
       "      <td>0.851852</td>\n",
       "      <td>0.148148</td>\n",
       "      <td>0.802238</td>\n",
       "    </tr>\n",
       "    <tr>\n",
       "      <th>2</th>\n",
       "      <td>L10</td>\n",
       "      <td>3</td>\n",
       "      <td>0</td>\n",
       "      <td>2</td>\n",
       "      <td>0</td>\n",
       "      <td>0.0</td>\n",
       "      <td>0.0</td>\n",
       "      <td>0.0</td>\n",
       "      <td>0.0</td>\n",
       "      <td>1.0</td>\n",
       "      <td>...</td>\n",
       "      <td>0.0</td>\n",
       "      <td>4.200000</td>\n",
       "      <td>0.0</td>\n",
       "      <td>0.000000</td>\n",
       "      <td>0.000000</td>\n",
       "      <td>0.000000</td>\n",
       "      <td>0.000000</td>\n",
       "      <td>0.857143</td>\n",
       "      <td>0.142857</td>\n",
       "      <td>0.999095</td>\n",
       "    </tr>\n",
       "    <tr>\n",
       "      <th>3</th>\n",
       "      <td>L100</td>\n",
       "      <td>74</td>\n",
       "      <td>3</td>\n",
       "      <td>32</td>\n",
       "      <td>17</td>\n",
       "      <td>12.0</td>\n",
       "      <td>6.0</td>\n",
       "      <td>6.0</td>\n",
       "      <td>0.0</td>\n",
       "      <td>1.0</td>\n",
       "      <td>...</td>\n",
       "      <td>3.6</td>\n",
       "      <td>4.024460</td>\n",
       "      <td>0.0</td>\n",
       "      <td>3.711172</td>\n",
       "      <td>4.500000</td>\n",
       "      <td>3.028846</td>\n",
       "      <td>0.000000</td>\n",
       "      <td>0.732975</td>\n",
       "      <td>0.267025</td>\n",
       "      <td>0.895548</td>\n",
       "    </tr>\n",
       "    <tr>\n",
       "      <th>4</th>\n",
       "      <td>L101</td>\n",
       "      <td>163</td>\n",
       "      <td>8</td>\n",
       "      <td>78</td>\n",
       "      <td>25</td>\n",
       "      <td>21.0</td>\n",
       "      <td>19.0</td>\n",
       "      <td>20.0</td>\n",
       "      <td>1.0</td>\n",
       "      <td>1.0</td>\n",
       "      <td>...</td>\n",
       "      <td>4.5</td>\n",
       "      <td>4.223132</td>\n",
       "      <td>0.0</td>\n",
       "      <td>3.748855</td>\n",
       "      <td>3.549446</td>\n",
       "      <td>4.311111</td>\n",
       "      <td>3.722222</td>\n",
       "      <td>0.801535</td>\n",
       "      <td>0.198465</td>\n",
       "      <td>0.843739</td>\n",
       "    </tr>\n",
       "  </tbody>\n",
       "</table>\n",
       "<p>5 rows × 34 columns</p>\n",
       "</div>"
      ],
      "text/plain": [
       "   Grid  PlaceCount  Price 1  Price 2  Price 3  Accommodation   Bar  Cafe  \\\n",
       "0    L0           8        0        4        0            0.0   0.0   0.0   \n",
       "1    L1          10        0        6        1            0.0   0.0   1.0   \n",
       "2   L10           3        0        2        0            0.0   0.0   0.0   \n",
       "3  L100          74        3       32       17           12.0   6.0   6.0   \n",
       "4  L101         163        8       78       25           21.0  19.0  20.0   \n",
       "\n",
       "   Cultural  Education  ...  Health_rating  Other_rating  Outdoors_rating  \\\n",
       "0       0.0        0.0  ...            0.0      4.020000              0.0   \n",
       "1       0.0        0.0  ...            5.0      0.000000              0.0   \n",
       "2       0.0        1.0  ...            0.0      4.200000              0.0   \n",
       "3       0.0        1.0  ...            3.6      4.024460              0.0   \n",
       "4       1.0        1.0  ...            4.5      4.223132              0.0   \n",
       "\n",
       "   Restaurant_rating  Retail_rating  Service_rating  Wholesale_rating  \\\n",
       "0           3.942857       0.000000        0.000000          0.000000   \n",
       "1           4.777778       0.000000        4.000000          0.000000   \n",
       "2           0.000000       0.000000        0.000000          0.000000   \n",
       "3           3.711172       4.500000        3.028846          0.000000   \n",
       "4           3.748855       3.549446        4.311111          3.722222   \n",
       "\n",
       "   PositiveReviews  NegativeReviews  ReviewLength  \n",
       "0         0.696000         0.304000      0.536595  \n",
       "1         0.851852         0.148148      0.802238  \n",
       "2         0.857143         0.142857      0.999095  \n",
       "3         0.732975         0.267025      0.895548  \n",
       "4         0.801535         0.198465      0.843739  \n",
       "\n",
       "[5 rows x 34 columns]"
      ]
     },
     "execution_count": 125,
     "metadata": {},
     "output_type": "execute_result"
    }
   ],
   "source": [
    "df_grid.head()"
   ]
  },
  {
   "cell_type": "code",
   "execution_count": 120,
   "metadata": {},
   "outputs": [
    {
     "data": {
      "text/plain": [
       "Index(['Grid', 'PlaceCount', 'Price 1', 'Price 2', 'Price 3', 'Accommodation',\n",
       "       'Bar', 'Cafe', 'Cultural', 'Education', 'Health', 'Other', 'Outdoors',\n",
       "       'Restaurant', 'Retail', 'Service', 'Wholesale', 'ReviewCount', 'Rating',\n",
       "       'Accommodation_rating', 'Bar_rating', 'Cafe_rating', 'Cultural_rating',\n",
       "       'Education_rating', 'Health_rating', 'Other_rating', 'Outdoors_rating',\n",
       "       'Restaurant_rating', 'Retail_rating', 'Service_rating',\n",
       "       'Wholesale_rating', 'PositiveReviews', 'NegativeReviews',\n",
       "       'ReviewLength'],\n",
       "      dtype='object')"
      ]
     },
     "execution_count": 120,
     "metadata": {},
     "output_type": "execute_result"
    }
   ],
   "source": [
    "df_grid.columns"
   ]
  },
  {
   "cell_type": "code",
   "execution_count": 122,
   "metadata": {},
   "outputs": [],
   "source": [
    "df_grid.to_csv(data_path +'space_embedding_data_NLP.csv')"
   ]
  }
 ],
 "metadata": {
  "interpreter": {
   "hash": "120e41c718bbd8f8ec4a027ba989813e34426de40859c9c53e628c4a48c10621"
  },
  "kernelspec": {
   "display_name": "Python 3.9.5 ('abaenv': venv)",
   "language": "python",
   "name": "python3"
  },
  "language_info": {
   "codemirror_mode": {
    "name": "ipython",
    "version": 3
   },
   "file_extension": ".py",
   "mimetype": "text/x-python",
   "name": "python",
   "nbconvert_exporter": "python",
   "pygments_lexer": "ipython3",
   "version": "3.9.5"
  }
 },
 "nbformat": 4,
 "nbformat_minor": 2
}
