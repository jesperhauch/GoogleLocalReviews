{
 "cells": [
  {
   "cell_type": "code",
   "execution_count": 1,
   "metadata": {},
   "outputs": [
    {
     "name": "stderr",
     "output_type": "stream",
     "text": [
      "/Users/johanneiversen/opt/anaconda3/envs/tf/lib/python3.7/site-packages/statsmodels/tools/_testing.py:19: FutureWarning: pandas.util.testing is deprecated. Use the functions in the public API at pandas.testing instead.\n",
      "  import pandas.util.testing as tm\n"
     ]
    }
   ],
   "source": [
    "import numpy as np\n",
    "import pandas as pd\n",
    "import matplotlib.pyplot as plt\n",
    "import seaborn as sns\n",
    "from tqdm.notebook import tqdm\n",
    "from scipy.sparse import hstack, vstack, coo_matrix, csr_matrix, bmat\n",
    "sns.set_style(\"darkgrid\")\n",
    "data_path = \"data/\""
   ]
  },
  {
   "cell_type": "markdown",
   "metadata": {},
   "source": [
    "# Model building"
   ]
  },
  {
   "cell_type": "markdown",
   "metadata": {},
   "source": [
    "In order to give better reccomendations to travellers, the price point of a shop or restaurant is essential. A student, living of a part time job has a different budget than the business traveler. Thus, if you often visit cheap eats you'll likely love the areas at your destination that serve streetfood and the like, while the guy putting down the company card will have no qualms about having an expensive meal. \n",
    "\n",
    "In this section a model to predict prices will be built. The model will be based on the following features:\n",
    "- Bag of Words or TF-IDF features\n",
    "- Raw review length\n",
    "- Lix number [see here](https://en.wikipedia.org/wiki/Lix_(readability_test))\n",
    "- Sentiment score (VADER)\n",
    "\n",
    "First of all, the reviews will be used to predict the price of the reviewed place. Either a bag of words count or a TF-IDF will be used, with the thesis that TF-IDF will perform better. The BoW count simply tells how any times a word is used in a review where TF-IDF show the relative importance of a given word in the review, taking into account all reviews.  \n",
    "\n",
    "Secondly the length of the review is thought to influence the price in some way. It can be argued that it could affect both negatively and positively as long reviews tend to be either very positive or negative.\n",
    "\n",
    "The LIX number is an index that indicates readability of a text. It provides a number from zero and up (though likely below 100), which indicates how hard the text is to understand. It follows that below 25 are kids books and 35 to 45 is around the level of most newspapers. Above 55 is usually reserved for hard academic papers. The thesis is that more eloquent reviews might lead to a higher price. \n",
    "\n",
    "Finally, the sentiment score is calculated using the VADER (Valence Aware Dictionary and sEntiment Reasoner) framework. This is a popular and powerful framework for performing sentiment analysis and provides three values for a given text. The degree to which the text is positive, negative and neutral. \n",
    "\n",
    "---"
   ]
  },
  {
   "cell_type": "markdown",
   "metadata": {},
   "source": [
    "First, the preprocessed NLP data is loaded and prepared for analysis."
   ]
  },
  {
   "cell_type": "code",
   "execution_count": 2,
   "metadata": {},
   "outputs": [],
   "source": [
    "df = pd.read_csv(\"data/NLP_data.csv\")\n",
    "df['reviewTextClean'] = df['reviewTextClean'].str.lower()\n",
    "df.dropna(subset=[\"reviewTextClean\"], inplace=True)"
   ]
  },
  {
   "cell_type": "code",
   "execution_count": 3,
   "metadata": {},
   "outputs": [],
   "source": [
    "from sklearn.feature_extraction.text import CountVectorizer\n",
    "count_vect = CountVectorizer()\n",
    "bow_counts = count_vect.fit_transform(df['reviewTextClean'].values)"
   ]
  },
  {
   "cell_type": "code",
   "execution_count": 4,
   "metadata": {},
   "outputs": [
    {
     "name": "stdout",
     "output_type": "stream",
     "text": [
      "Length of vocabulary: 22973\n",
      "Length of corpus: 34923\n"
     ]
    }
   ],
   "source": [
    "print(\"Length of vocabulary:\", len(count_vect.vocabulary_))\n",
    "print(\"Length of corpus:\", bow_counts.shape[0])"
   ]
  },
  {
   "cell_type": "markdown",
   "metadata": {},
   "source": [
    "Create tf-idf representation of `reviewTextClean`"
   ]
  },
  {
   "cell_type": "code",
   "execution_count": 5,
   "metadata": {},
   "outputs": [],
   "source": [
    "from sklearn.feature_extraction.text import TfidfTransformer\n",
    "tfidf = TfidfTransformer()\n",
    "bow_tfidf = tfidf.fit_transform(bow_counts)"
   ]
  },
  {
   "cell_type": "markdown",
   "metadata": {},
   "source": [
    "Add remaining features to both bow_counts and bow_tfidf. Here, both LIX and Number of Words are fitted such that they take values between zero and one to match the scale of the TF-IDF. This is done using min-max scaling. "
   ]
  },
  {
   "cell_type": "code",
   "execution_count": 6,
   "metadata": {},
   "outputs": [],
   "source": [
    "from sklearn.preprocessing import MinMaxScaler\n",
    "scaler = MinMaxScaler()\n",
    "df[[\"LIXNorm\", \"NoWNorm\"]] = scaler.fit_transform(df[[\"LIX\", \"NumberOfWords\"]])"
   ]
  },
  {
   "cell_type": "code",
   "execution_count": 7,
   "metadata": {},
   "outputs": [],
   "source": [
    "df[\"price\"] = df[\"price\"].astype(int)"
   ]
  },
  {
   "cell_type": "markdown",
   "metadata": {},
   "source": [
    "The neutral sentiment score is not added as a feature. It would be heavily correlated with the positive and negative sentiment scores, since the three sum to one. "
   ]
  },
  {
   "cell_type": "code",
   "execution_count": 8,
   "metadata": {},
   "outputs": [],
   "source": [
    "rem_feats = csr_matrix(df[[\"posReviewPercent\", \"negReviewPercent\", \"LIXNorm\", \"NoWNorm\"]])\n",
    "bow_counts_full = hstack([bow_counts, rem_feats]).tocsr()\n",
    "bow_tfidf_full = hstack([bow_tfidf, rem_feats]).tocsr()"
   ]
  },
  {
   "cell_type": "code",
   "execution_count": 11,
   "metadata": {},
   "outputs": [
    {
     "name": "stdout",
     "output_type": "stream",
     "text": [
      "  (0, 833)\t0.27686248133942865\n",
      "  (0, 1711)\t0.10706632712216521\n",
      "  (0, 4145)\t0.2805525408883\n",
      "  (0, 4915)\t0.28437346494788585\n",
      "  (0, 5220)\t0.17050978277327358\n",
      "  (0, 5569)\t0.245156415110424\n",
      "  (0, 6386)\t0.10456978984058643\n",
      "  (0, 7905)\t0.15832874300150368\n",
      "  (0, 8810)\t0.06858585623849757\n",
      "  (0, 8984)\t0.06956063293257063\n",
      "  (0, 9893)\t0.3613211781160347\n",
      "  (0, 11461)\t0.14552646615429896\n",
      "  (0, 11888)\t0.1291489010931754\n",
      "  (0, 13556)\t0.1348788956990392\n",
      "  (0, 13642)\t0.09733546247922713\n",
      "  (0, 17947)\t0.16555346954485092\n",
      "  (0, 19044)\t0.20771534105026906\n",
      "  (0, 19341)\t0.09886157163166752\n",
      "  (0, 20570)\t0.12823857290505988\n",
      "  (0, 20684)\t0.28038263916013517\n",
      "  (0, 21176)\t0.16158268183912652\n",
      "  (0, 21306)\t0.24402847754314622\n",
      "  (0, 21710)\t0.254530635282915\n",
      "  (0, 22208)\t0.15807811848693062\n",
      "  (0, 22718)\t0.2658723650343767\n",
      "  (0, 22973)\t0.141\n",
      "  (0, 22974)\t0.109\n",
      "  (0, 22975)\t0.1362741594039535\n",
      "  (0, 22976)\t0.06657608695652173\n"
     ]
    }
   ],
   "source": [
    "print(bow_tfidf_full[0,:])"
   ]
  },
  {
   "cell_type": "markdown",
   "metadata": {},
   "source": [
    "First the data is split into training and test. In this case, to keep a completely clean test set, two splits are made. First we split the data into a developement set and a test set. This test set is set aside for final testing once the models has been tuned. The developement set is then split into train and validation such that one can train and test a model as usual. This is done for both the bag of words set and the TF-IDF set in order to test the hypothesis that a TF-IDF performs better than a simple bag of words count. "
   ]
  },
  {
   "cell_type": "code",
   "execution_count": 12,
   "metadata": {},
   "outputs": [],
   "source": [
    "from sklearn.model_selection import train_test_split\n",
    "y = df.price.values-1\n",
    "text= np.array(df['reviewText'])\n",
    "\n",
    "# Split into development and test split for bow and tfidf only\n",
    "X_bow_dev, X_bow_test, X_tfidf_dev, X_tfidf_test, X_tfidf_f_dev, X_tfidf_f_test, y_dev, y_test, text_dev, text_test = train_test_split(bow_counts, bow_tfidf, bow_tfidf_full,  y, text, test_size=0.2, stratify=y)\n",
    "\n",
    "# Split development into training and validation for bow and tfidf only\n",
    "X_bow_train, X_bow_val, X_tfidf_train, X_tfidf_val, X_tfidf_f_train, X_tfidf_f_val, y_train, y_val, text_train, text_val = train_test_split(X_bow_dev, X_tfidf_dev, X_tfidf_f_dev, y_dev, text_dev, test_size=0.1, stratify=y_dev)"
   ]
  },
  {
   "cell_type": "code",
   "execution_count": 13,
   "metadata": {},
   "outputs": [],
   "source": [
    "# Function that returns performance of classifier \n",
    "from sklearn.metrics import accuracy_score, f1_score, confusion_matrix\n",
    "def classification_metrics(header_text, clf, X_train, X_test, y_train, y_test):\n",
    "    print(\"=\"*35)\n",
    "    print(\" \"*int((35-len(header_text))/2), header_text)\n",
    "    print(\"=\"*35)\n",
    "    y_pred = clf.predict(X_train)\n",
    "    print(\"Train Accuracy:\", accuracy_score(y_train, y_pred))\n",
    "    y_pred = clf.predict(X_test)\n",
    "    print(\"Val Accuracy:\", accuracy_score(y_test, y_pred))\n",
    "    print(\"F1 Score:\", f1_score(y_test, y_pred, average=\"weighted\"))\n",
    "    print(confusion_matrix(y_test, y_pred))"
   ]
  },
  {
   "cell_type": "markdown",
   "metadata": {},
   "source": [
    "First a simple dummy classifier was tested using the bag of word counts. It predicts the class of the observation from the most frequent class in the set. This performs about as well as expected with a accuracy of 55.82% for both training and validation. This is also the case when adding the additional features as the most frequent class in the observed y does not change with additional features."
   ]
  },
  {
   "cell_type": "code",
   "execution_count": 14,
   "metadata": {
    "scrolled": true
   },
   "outputs": [
    {
     "name": "stdout",
     "output_type": "stream",
     "text": [
      "===================================\n",
      "          Dummy classifier\n",
      "===================================\n",
      "Train Accuracy: 0.5604120267260579\n",
      "Val Accuracy: 0.560486757337151\n",
      "F1 Score: 0.402624890821091\n",
      "[[   0  496    0]\n",
      " [   0 1566    0]\n",
      " [   0  732    0]]\n"
     ]
    }
   ],
   "source": [
    "# Dummy classifier predicting most frequent class\n",
    "from sklearn.dummy import DummyClassifier\n",
    "dummy = DummyClassifier(strategy=\"most_frequent\")\n",
    "dummy.fit(X_bow_train, y_train)\n",
    "y_pred = dummy.predict(X_bow_val)\n",
    "classification_metrics(\"Dummy classifier\", dummy, X_bow_train, X_bow_val, y_train, y_val)"
   ]
  },
  {
   "cell_type": "markdown",
   "metadata": {},
   "source": [
    "From the dummy classifier, the next step to test was the TF-IDF data. This was done using a logistic regression as that provides a discrete outcome. This performs significantly better than the dummy classifier with an accuracy of 65% on the validation set. When adding the extra features troubles arise"
   ]
  },
  {
   "cell_type": "code",
   "execution_count": 15,
   "metadata": {},
   "outputs": [
    {
     "name": "stdout",
     "output_type": "stream",
     "text": [
      "===================================\n",
      "      LogisticRegression tf-idf\n",
      "===================================\n",
      "Train Accuracy: 0.741250397709195\n",
      "Val Accuracy: 0.6335003579098067\n",
      "F1 Score: 0.6052754694770959\n",
      "[[ 138  340   18]\n",
      " [  62 1337  167]\n",
      " [   7  430  295]]\n"
     ]
    }
   ],
   "source": [
    "from sklearn.linear_model import LogisticRegression\n",
    "lr = LogisticRegression(solver=\"saga\")\n",
    "lr.fit(X_tfidf_train, y_train)\n",
    "classification_metrics(\"LogisticRegression tf-idf\", lr, X_tfidf_train, X_tfidf_val, y_train, y_val)"
   ]
  },
  {
   "cell_type": "code",
   "execution_count": 16,
   "metadata": {},
   "outputs": [
    {
     "name": "stdout",
     "output_type": "stream",
     "text": [
      "===================================\n",
      "   LogisticRegression tf-idf full\n",
      "===================================\n",
      "Train Accuracy: 0.7405742920776328\n",
      "Val Accuracy: 0.6342161775232641\n",
      "F1 Score: 0.6060167955356105\n",
      "[[ 140  339   17]\n",
      " [  61 1339  166]\n",
      " [   7  432  293]]\n"
     ]
    }
   ],
   "source": [
    "lr = LogisticRegression(solver=\"saga\")\n",
    "lr.fit(X_tfidf_f_train, y_train)\n",
    "classification_metrics(\"LogisticRegression tf-idf full\", lr, X_tfidf_f_train, X_tfidf_f_val, y_train, y_val)"
   ]
  },
  {
   "cell_type": "markdown",
   "metadata": {},
   "source": [
    "Then xgboost is employed to see what a Gradient Boosting can do to classify the price points of the establishments. This does not perform better than the logistic regression."
   ]
  },
  {
   "cell_type": "code",
   "execution_count": 17,
   "metadata": {},
   "outputs": [
    {
     "name": "stdout",
     "output_type": "stream",
     "text": [
      "===================================\n",
      "           XGBoost tf-idf\n",
      "===================================\n",
      "Train Accuracy: 0.7305520203627108\n",
      "Val Accuracy: 0.6206156048675734\n",
      "F1 Score: 0.5691209137602626\n",
      "[[ 108  376   12]\n",
      " [  46 1429   91]\n",
      " [   0  535  197]]\n"
     ]
    }
   ],
   "source": [
    "import xgboost\n",
    "xgb = xgboost.XGBClassifier(eval_metric=\"mlogloss\", use_label_encoder=False)\n",
    "xgb.fit(X_tfidf_train, y_train)\n",
    "classification_metrics(\"XGBoost tf-idf\", xgb, X_tfidf_train, X_tfidf_val, y_train, y_val)"
   ]
  },
  {
   "cell_type": "code",
   "execution_count": 18,
   "metadata": {},
   "outputs": [
    {
     "name": "stdout",
     "output_type": "stream",
     "text": [
      "===================================\n",
      "         XGBoost tf-idf full\n",
      "===================================\n",
      "Train Accuracy: 0.7326996500159084\n",
      "Val Accuracy: 0.6220472440944882\n",
      "F1 Score: 0.5686475813303657\n",
      "[[ 106  380   10]\n",
      " [  36 1439   91]\n",
      " [   1  538  193]]\n"
     ]
    }
   ],
   "source": [
    "xgb.fit(X_tfidf_f_train, y_train)\n",
    "classification_metrics(\"XGBoost tf-idf full\", xgb, X_tfidf_f_train, X_tfidf_f_val, y_train, y_val)"
   ]
  },
  {
   "cell_type": "markdown",
   "metadata": {},
   "source": [
    "Finally, as the Logistic regression seems to perform the best, an Ordinal Logistic Regression is tested. This could be useful as there is an inherent order to the price points in the sense that `$$` is more expensive than `$` etc. (`$` < `$$` < `$$$`) "
   ]
  },
  {
   "cell_type": "code",
   "execution_count": 19,
   "metadata": {},
   "outputs": [
    {
     "name": "stdout",
     "output_type": "stream",
     "text": [
      "===================================\n",
      " Ordinal Logistic Regression tf-idf\n",
      "===================================\n",
      "Train Accuracy: 0.8730909958638243\n",
      "Val Accuracy: 0.560486757337151\n",
      "F1 Score: 0.402624890821091\n",
      "[[   0  496    0]\n",
      " [   0 1566    0]\n",
      " [   0  732    0]]\n"
     ]
    }
   ],
   "source": [
    "from mord import LogisticAT\n",
    "from sklearn.preprocessing import StandardScaler\n",
    "# y must be integer - fixed in df \n",
    "#y_train = np.array([int(i) for i in y_train])\n",
    "scaler = StandardScaler(with_mean=False)\n",
    "X_tfidf_train = scaler.fit_transform(X_tfidf_train)\n",
    "lat = LogisticAT(alpha=1.0, verbose=0)\n",
    "lat.fit(X_tfidf_train, y_train)\n",
    "classification_metrics(\"Ordinal Logistic Regression tf-idf\", lat, X_tfidf_train, X_tfidf_val, y_train, y_val)"
   ]
  },
  {
   "cell_type": "code",
   "execution_count": 20,
   "metadata": {},
   "outputs": [
    {
     "name": "stdout",
     "output_type": "stream",
     "text": [
      "===================================\n",
      " Ordinal Logistic Regression tf-idf full\n",
      "===================================\n",
      "Train Accuracy: 0.8726137448297805\n",
      "Val Accuracy: 0.560486757337151\n",
      "F1 Score: 0.402624890821091\n",
      "[[   0  496    0]\n",
      " [   0 1566    0]\n",
      " [   0  732    0]]\n"
     ]
    }
   ],
   "source": [
    "X_tfidf_f_train = scaler.fit_transform(X_tfidf_f_train)\n",
    "lat.fit(X_tfidf_f_train, y_train)\n",
    "classification_metrics(\"Ordinal Logistic Regression tf-idf full\", lat, X_tfidf_f_train, X_tfidf_f_val, y_train, y_val)"
   ]
  },
  {
   "cell_type": "markdown",
   "metadata": {},
   "source": [
    "As ordinal regression (as well as dummy and xgboost) performs significantly worse than the logistic regression, the logistic regression is chosen to be tuned in order to increase performance. This is done through a grid search to tune the hyperparameters."
   ]
  },
  {
   "cell_type": "code",
   "execution_count": null,
   "metadata": {},
   "outputs": [
    {
     "name": "stderr",
     "output_type": "stream",
     "text": [
      "Setting penalty='none' will ignore the C and l1_ratio parameters\n",
      "The max_iter was reached which means the coef_ did not converge\n",
      "Setting penalty='none' will ignore the C and l1_ratio parameters\n",
      "The max_iter was reached which means the coef_ did not converge\n",
      "Setting penalty='none' will ignore the C and l1_ratio parameters\n",
      "The max_iter was reached which means the coef_ did not converge\n",
      "Setting penalty='none' will ignore the C and l1_ratio parameters\n",
      "The max_iter was reached which means the coef_ did not converge\n",
      "Setting penalty='none' will ignore the C and l1_ratio parameters\n",
      "The max_iter was reached which means the coef_ did not converge\n",
      "Setting penalty='none' will ignore the C and l1_ratio parameters\n",
      "The max_iter was reached which means the coef_ did not converge\n",
      "Setting penalty='none' will ignore the C and l1_ratio parameters\n",
      "The max_iter was reached which means the coef_ did not converge\n",
      "Setting penalty='none' will ignore the C and l1_ratio parameters\n",
      "The max_iter was reached which means the coef_ did not converge\n",
      "Setting penalty='none' will ignore the C and l1_ratio parameters\n",
      "The max_iter was reached which means the coef_ did not converge\n",
      "The max_iter was reached which means the coef_ did not converge\n",
      "The max_iter was reached which means the coef_ did not converge\n",
      "The max_iter was reached which means the coef_ did not converge\n",
      "The max_iter was reached which means the coef_ did not converge\n",
      "The max_iter was reached which means the coef_ did not converge\n",
      "The max_iter was reached which means the coef_ did not converge\n",
      "The max_iter was reached which means the coef_ did not converge\n",
      "The max_iter was reached which means the coef_ did not converge\n",
      "The max_iter was reached which means the coef_ did not converge\n",
      "The max_iter was reached which means the coef_ did not converge\n",
      "The max_iter was reached which means the coef_ did not converge\n",
      "The max_iter was reached which means the coef_ did not converge\n",
      "The max_iter was reached which means the coef_ did not converge\n",
      "The max_iter was reached which means the coef_ did not converge\n",
      "The max_iter was reached which means the coef_ did not converge\n",
      "The max_iter was reached which means the coef_ did not converge\n",
      "The max_iter was reached which means the coef_ did not converge\n",
      "The max_iter was reached which means the coef_ did not converge\n",
      "The max_iter was reached which means the coef_ did not converge\n",
      "The max_iter was reached which means the coef_ did not converge\n",
      "The max_iter was reached which means the coef_ did not converge\n",
      "The max_iter was reached which means the coef_ did not converge\n",
      "The max_iter was reached which means the coef_ did not converge\n",
      "The max_iter was reached which means the coef_ did not converge\n",
      "The max_iter was reached which means the coef_ did not converge\n",
      "The max_iter was reached which means the coef_ did not converge\n",
      "The max_iter was reached which means the coef_ did not converge\n",
      "The max_iter was reached which means the coef_ did not converge\n",
      "The max_iter was reached which means the coef_ did not converge\n",
      "The max_iter was reached which means the coef_ did not converge\n",
      "The max_iter was reached which means the coef_ did not converge\n",
      "The max_iter was reached which means the coef_ did not converge\n",
      "The max_iter was reached which means the coef_ did not converge\n",
      "The max_iter was reached which means the coef_ did not converge\n",
      "The max_iter was reached which means the coef_ did not converge\n",
      "The max_iter was reached which means the coef_ did not converge\n",
      "The max_iter was reached which means the coef_ did not converge\n",
      "The max_iter was reached which means the coef_ did not converge\n",
      "The max_iter was reached which means the coef_ did not converge\n",
      "The max_iter was reached which means the coef_ did not converge\n",
      "The max_iter was reached which means the coef_ did not converge\n",
      "The max_iter was reached which means the coef_ did not converge\n",
      "The max_iter was reached which means the coef_ did not converge\n",
      "The max_iter was reached which means the coef_ did not converge\n",
      "The max_iter was reached which means the coef_ did not converge\n",
      "Setting penalty='none' will ignore the C and l1_ratio parameters\n",
      "The max_iter was reached which means the coef_ did not converge\n",
      "Setting penalty='none' will ignore the C and l1_ratio parameters\n",
      "The max_iter was reached which means the coef_ did not converge\n",
      "Setting penalty='none' will ignore the C and l1_ratio parameters\n",
      "The max_iter was reached which means the coef_ did not converge\n",
      "Setting penalty='none' will ignore the C and l1_ratio parameters\n",
      "The max_iter was reached which means the coef_ did not converge\n",
      "Setting penalty='none' will ignore the C and l1_ratio parameters\n",
      "The max_iter was reached which means the coef_ did not converge\n",
      "Setting penalty='none' will ignore the C and l1_ratio parameters\n",
      "The max_iter was reached which means the coef_ did not converge\n",
      "Setting penalty='none' will ignore the C and l1_ratio parameters\n",
      "The max_iter was reached which means the coef_ did not converge\n",
      "Setting penalty='none' will ignore the C and l1_ratio parameters\n",
      "The max_iter was reached which means the coef_ did not converge\n",
      "Setting penalty='none' will ignore the C and l1_ratio parameters\n",
      "The max_iter was reached which means the coef_ did not converge\n",
      "The max_iter was reached which means the coef_ did not converge\n",
      "The max_iter was reached which means the coef_ did not converge\n",
      "The max_iter was reached which means the coef_ did not converge\n",
      "The max_iter was reached which means the coef_ did not converge\n",
      "The max_iter was reached which means the coef_ did not converge\n",
      "The max_iter was reached which means the coef_ did not converge\n",
      "The max_iter was reached which means the coef_ did not converge\n",
      "The max_iter was reached which means the coef_ did not converge\n"
     ]
    }
   ],
   "source": [
    "from sklearn.model_selection import GridSearchCV\n",
    "from sklearn.model_selection import RepeatedStratifiedKFold\n",
    "from scipy.stats import loguniform\n",
    "\n",
    "# As the goal is to classify, the RepeatedStratifiedKFold is used\n",
    "cv = RepeatedStratifiedKFold(n_splits=3, n_repeats=3, random_state=1)\n",
    "\n",
    "space = dict()\n",
    "space['solver'] = ['saga']\n",
    "space['penalty'] = ['none', 'l1', 'l2']\n",
    "space['C'] = [0.1, 1, 10]\n",
    "\n",
    "search = GridSearchCV(lr, space, cv=cv)\n",
    "result = search.fit(X_tfidf_f_train, y_train)"
   ]
  },
  {
   "cell_type": "markdown",
   "metadata": {},
   "source": [
    "The found hyperparameters can be seen below, and will be used for predicting the price points of the full data set."
   ]
  },
  {
   "cell_type": "code",
   "execution_count": null,
   "metadata": {},
   "outputs": [],
   "source": [
    "print('Best Score: %s' % result.best_score_)\n",
    "print('Best Hyperparameters: %s' % result.best_params_)"
   ]
  },
  {
   "cell_type": "markdown",
   "metadata": {},
   "source": [
    "## predicting the price for all business\n",
    "Using the best prediction model on the remaining of the businesses without a price range "
   ]
  },
  {
   "cell_type": "code",
   "execution_count": 21,
   "metadata": {},
   "outputs": [],
   "source": [
    "df_predict = pd.read_csv(\"data/NLP_predict.csv\")\n",
    "df_predict['reviewTextClean'] = df_predict['reviewTextClean'].str.lower()\n",
    "df_predict.dropna(subset=[\"reviewTextClean\"], inplace=True)"
   ]
  },
  {
   "cell_type": "code",
   "execution_count": 22,
   "metadata": {},
   "outputs": [],
   "source": [
    "bow_counts_final = count_vect.transform(df_predict['reviewTextClean'].values)"
   ]
  },
  {
   "cell_type": "markdown",
   "metadata": {},
   "source": [
    "Create tf-idf representation of `reviewTextClean`"
   ]
  },
  {
   "cell_type": "code",
   "execution_count": 23,
   "metadata": {},
   "outputs": [],
   "source": [
    "bow_tfidf_final = tfidf.transform(bow_counts_final)"
   ]
  },
  {
   "cell_type": "markdown",
   "metadata": {},
   "source": [
    "Add remaining features to both bow_counts and bow_tfidf. Here, both LIX and Number of Words are fitted such that they take values between zero and one to match the scale of the TF-IDF. This is done using min-max scaling. "
   ]
  },
  {
   "cell_type": "code",
   "execution_count": 24,
   "metadata": {},
   "outputs": [],
   "source": [
    "scaler_f = MinMaxScaler()\n",
    "df_predict[[\"LIXNorm\", \"NoWNorm\"]] = scaler_f.fit_transform(df_predict[[\"LIX\", \"NumberOfWords\"]])"
   ]
  },
  {
   "cell_type": "markdown",
   "metadata": {},
   "source": [
    "The neutral sentiment score is not added as a feature. It would be heavily correlated with the positive and negative sentiment scores, since the three sum to one. "
   ]
  },
  {
   "cell_type": "code",
   "execution_count": 25,
   "metadata": {},
   "outputs": [],
   "source": [
    "rem_feats_pred = csr_matrix(df_predict[[\"posReviewPercent\", \"negReviewPercent\", \"LIXNorm\", \"NoWNorm\"]])\n",
    "bow_counts_final = hstack([bow_counts_final, rem_feats_pred]).tocsr()\n",
    "bow_tfidf_final = hstack([bow_tfidf_final, rem_feats_pred]).tocsr()"
   ]
  },
  {
   "cell_type": "code",
   "execution_count": 26,
   "metadata": {},
   "outputs": [],
   "source": [
    "X = bow_tfidf_final\n",
    "predict = lr.predict(X)\n",
    "# Get prices back to 1-2-3 format instead of 0-1-2\n",
    "df_predict[\"pred_price\"] = predict+1"
   ]
  },
  {
   "cell_type": "code",
   "execution_count": 27,
   "metadata": {},
   "outputs": [
    {
     "data": {
      "text/plain": [
       "0.0"
      ]
     },
     "execution_count": 27,
     "metadata": {},
     "output_type": "execute_result"
    }
   ],
   "source": [
    "# Fraction that matches real price, \n",
    "# all prices in the NPL predict dataframe are NaN so the fraction should be 0\n",
    "sum(sum([df_predict[\"price\"] == df_predict[\"pred_price\"]])) / len(df_predict)"
   ]
  },
  {
   "cell_type": "code",
   "execution_count": 28,
   "metadata": {},
   "outputs": [],
   "source": [
    "# First create a series with the Id, predicted price and the counts\n",
    "p_choice = df_predict.groupby(['gPlusPlaceId', 'pred_price']).size()\n",
    "\n",
    "# Create dataframe\n",
    "df_p = p_choice.to_frame('count').reset_index()\n",
    "# Find largest count for each place Id\n",
    "df_pmax = df_p.groupby('gPlusPlaceId').max()['count'].reset_index()\n",
    "# Merge the largest count and the df with the price points\n",
    "df_pfin = df_pmax.merge(df_p, on=['gPlusPlaceId', 'count'])\n",
    "# Drop the counts\n",
    "df_pfin = df_pfin.drop(['count'], axis=1)\n",
    "\n",
    "# As there are cases where there are equal number of reviews, these cases pick the larger price\n",
    "df_pfin = df_pfin.groupby('gPlusPlaceId').max()['pred_price'].reset_index()"
   ]
  },
  {
   "cell_type": "markdown",
   "metadata": {},
   "source": [
    "## saving the data\n",
    "\n",
    "Finally, the prices are added to the places data, such that every establishment has a price associated with it."
   ]
  },
  {
   "cell_type": "code",
   "execution_count": 30,
   "metadata": {
    "scrolled": true
   },
   "outputs": [
    {
     "data": {
      "text/html": [
       "<div>\n",
       "<style scoped>\n",
       "    .dataframe tbody tr th:only-of-type {\n",
       "        vertical-align: middle;\n",
       "    }\n",
       "\n",
       "    .dataframe tbody tr th {\n",
       "        vertical-align: top;\n",
       "    }\n",
       "\n",
       "    .dataframe thead th {\n",
       "        text-align: right;\n",
       "    }\n",
       "</style>\n",
       "<table border=\"1\" class=\"dataframe\">\n",
       "  <thead>\n",
       "    <tr style=\"text-align: right;\">\n",
       "      <th></th>\n",
       "      <th>gPlusPlaceId</th>\n",
       "      <th>name</th>\n",
       "      <th>price</th>\n",
       "      <th>lat</th>\n",
       "      <th>lon</th>\n",
       "      <th>city</th>\n",
       "      <th>address</th>\n",
       "      <th>Grid</th>\n",
       "      <th>category</th>\n",
       "      <th>pred_price</th>\n",
       "    </tr>\n",
       "  </thead>\n",
       "  <tbody>\n",
       "    <tr>\n",
       "      <th>0</th>\n",
       "      <td>101742583391038750118</td>\n",
       "      <td>Carpo London</td>\n",
       "      <td>NaN</td>\n",
       "      <td>51.509499</td>\n",
       "      <td>-0.135762</td>\n",
       "      <td>London</td>\n",
       "      <td>16 Piccadilly, London W1J 0DE, United Kingdom</td>\n",
       "      <td>L159</td>\n",
       "      <td>Retail</td>\n",
       "      <td>2.0</td>\n",
       "    </tr>\n",
       "    <tr>\n",
       "      <th>1</th>\n",
       "      <td>100574642292837870712</td>\n",
       "      <td>Premium Cars</td>\n",
       "      <td>NaN</td>\n",
       "      <td>51.514637</td>\n",
       "      <td>-0.064980</td>\n",
       "      <td>London</td>\n",
       "      <td>10 Commercial Road Premium Cars First Floor, S...</td>\n",
       "      <td>L186</td>\n",
       "      <td>Other</td>\n",
       "      <td>NaN</td>\n",
       "    </tr>\n",
       "    <tr>\n",
       "      <th>2</th>\n",
       "      <td>105185983265572241970</td>\n",
       "      <td>eSpares Ltd</td>\n",
       "      <td>NaN</td>\n",
       "      <td>51.479416</td>\n",
       "      <td>-0.179209</td>\n",
       "      <td>London</td>\n",
       "      <td>Chelsea Wharf, 15 Lots Rd, London, Chelsea SW1...</td>\n",
       "      <td>L40</td>\n",
       "      <td>Wholesale</td>\n",
       "      <td>2.0</td>\n",
       "    </tr>\n",
       "    <tr>\n",
       "      <th>3</th>\n",
       "      <td>104500852703501308358</td>\n",
       "      <td>Superdrug</td>\n",
       "      <td>NaN</td>\n",
       "      <td>51.494537</td>\n",
       "      <td>-0.145769</td>\n",
       "      <td>London</td>\n",
       "      <td>Unit 35, Victoria Railway Station, London SW1V...</td>\n",
       "      <td>L101</td>\n",
       "      <td>Retail</td>\n",
       "      <td>NaN</td>\n",
       "    </tr>\n",
       "    <tr>\n",
       "      <th>4</th>\n",
       "      <td>107519298595557659572</td>\n",
       "      <td>Kura</td>\n",
       "      <td>2.0</td>\n",
       "      <td>51.502122</td>\n",
       "      <td>-0.163029</td>\n",
       "      <td>London</td>\n",
       "      <td>3-4 Park Close, London SW1X 7PQ, United Kingdom</td>\n",
       "      <td>L137</td>\n",
       "      <td>Restaurant</td>\n",
       "      <td>NaN</td>\n",
       "    </tr>\n",
       "  </tbody>\n",
       "</table>\n",
       "</div>"
      ],
      "text/plain": [
       "            gPlusPlaceId          name  price        lat       lon    city  \\\n",
       "0  101742583391038750118  Carpo London    NaN  51.509499 -0.135762  London   \n",
       "1  100574642292837870712  Premium Cars    NaN  51.514637 -0.064980  London   \n",
       "2  105185983265572241970   eSpares Ltd    NaN  51.479416 -0.179209  London   \n",
       "3  104500852703501308358     Superdrug    NaN  51.494537 -0.145769  London   \n",
       "4  107519298595557659572          Kura    2.0  51.502122 -0.163029  London   \n",
       "\n",
       "                                             address  Grid    category  \\\n",
       "0      16 Piccadilly, London W1J 0DE, United Kingdom  L159      Retail   \n",
       "1  10 Commercial Road Premium Cars First Floor, S...  L186       Other   \n",
       "2  Chelsea Wharf, 15 Lots Rd, London, Chelsea SW1...   L40   Wholesale   \n",
       "3  Unit 35, Victoria Railway Station, London SW1V...  L101      Retail   \n",
       "4    3-4 Park Close, London SW1X 7PQ, United Kingdom  L137  Restaurant   \n",
       "\n",
       "   pred_price  \n",
       "0         2.0  \n",
       "1         NaN  \n",
       "2         2.0  \n",
       "3         NaN  \n",
       "4         NaN  "
      ]
     },
     "execution_count": 30,
     "metadata": {},
     "output_type": "execute_result"
    }
   ],
   "source": [
    "df_places = pd.read_csv(\"data/places_final.csv\")\n",
    "df_places = pd.merge(df_places, df_pfin, how=\"left\", on=\"gPlusPlaceId\")\n",
    "df_places.head()"
   ]
  },
  {
   "cell_type": "code",
   "execution_count": 33,
   "metadata": {},
   "outputs": [],
   "source": [
    "price = np.zeros(len(df_places))\n",
    "for i in range(len(df_places)):\n",
    "    if np.isnan(df_places['price'][i]) and np.isnan(df_places['pred_price'][i]):\n",
    "        price[i]=np.nan\n",
    "    elif np.isnan(df_places['price'][i]):\n",
    "        price[i]=df_places['pred_price'][i]\n",
    "    elif np.isnan(df_places['pred_price'][i]):\n",
    "        price[i]=df_places['price'][i]\n",
    "    else:\n",
    "        price[i]= df_places['price'][i]\n",
    "\n",
    "df_places['price']=price"
   ]
  },
  {
   "cell_type": "markdown",
   "metadata": {},
   "source": [
    "As there are bunisses that do not have any reviews in the review data, it will not be possible to predict a price for these."
   ]
  },
  {
   "cell_type": "code",
   "execution_count": 39,
   "metadata": {},
   "outputs": [
    {
     "name": "stdout",
     "output_type": "stream",
     "text": [
      "Fraction of the business without a pricerange:  0.2622\n"
     ]
    }
   ],
   "source": [
    "print('Fraction of the business without a pricerange: ',np.round(len(np.where(np.isnan(df_places['price']))[0])/len(df_places),4))"
   ]
  },
  {
   "cell_type": "code",
   "execution_count": 41,
   "metadata": {},
   "outputs": [],
   "source": [
    "df_places=df_places.drop(['pred_price'], axis=1)"
   ]
  },
  {
   "cell_type": "code",
   "execution_count": 42,
   "metadata": {},
   "outputs": [],
   "source": [
    "df_places.to_csv(data_path + \"places_final_NLP.csv\", index=False)"
   ]
  },
  {
   "cell_type": "markdown",
   "metadata": {},
   "source": [
    "## Model Interpretation\n",
    "\n",
    "In order to explore what features has the biggest influence on the price predictions the overall feature importance the the best prediction model are computed. Furthermore, a SHAP analysis will be conducted to inspect the most important features in the dataset, and for a few selected reviews. "
   ]
  },
  {
   "cell_type": "code",
   "execution_count": 43,
   "metadata": {},
   "outputs": [],
   "source": [
    "import seaborn as sns\n",
    "import matplotlib\n",
    "import matplotlib.pyplot as plt\n",
    "from scipy import sparse\n",
    "import shap\n",
    "from random import sample\n",
    "import random\n",
    "%matplotlib inline\n",
    "FIG_SIZE = (40,18)\n",
    "sns.set_style(\"whitegrid\")\n",
    "sns.set(rc = {'figure.figsize': FIG_SIZE})\n",
    "matplotlib.rcParams['figure.figsize'] = FIG_SIZE\n",
    "plt.rcParams['figure.figsize'] = FIG_SIZE"
   ]
  },
  {
   "cell_type": "markdown",
   "metadata": {},
   "source": [
    "Defining helper function s to calculate feature importance for the regression model"
   ]
  },
  {
   "cell_type": "code",
   "execution_count": 44,
   "metadata": {},
   "outputs": [],
   "source": [
    "#Calculating feature imporatnce\n",
    "def imp_df(column_names, importances):\n",
    "    \"\"\"Function for creating a feature importance dataframe\"\"\"\n",
    "    df = pd.DataFrame({'feature': column_names, 'feature_importance': importances})\\\n",
    "           .sort_values('feature_importance', ascending=False)\\\n",
    "           .reset_index(drop=True)\n",
    "    return df\n",
    "\n",
    "# plotting feature importance\n",
    "def var_imp_plot(imp_df, title):\n",
    "    \"\"\"Plotting a feature importance dataframe (horizontal barchart)\"\"\"\n",
    "    sns.barplot(x='feature_importance', y='feature', data=imp_df, \n",
    "                orient='h', color='royalblue')\\\n",
    "       .set_title(title, fontsize = 20)"
   ]
  },
  {
   "cell_type": "markdown",
   "metadata": {},
   "source": [
    "As the data is on a sparse format, the feature names map are extracted from the vector count. Hereafter the 4 additional features for the review `sensitivit`, `LIX number` and `number of words` are appended"
   ]
  },
  {
   "cell_type": "code",
   "execution_count": 45,
   "metadata": {
    "scrolled": true
   },
   "outputs": [
    {
     "name": "stderr",
     "output_type": "stream",
     "text": [
      "Function get_feature_names is deprecated; get_feature_names is deprecated in 1.0 and will be removed in 1.2. Please use get_feature_names_out instead.\n"
     ]
    }
   ],
   "source": [
    "feature_names = count_vect.get_feature_names()\n",
    "feature_names.extend([\"posReviewPercent\", \"negReviewPercent\", \"LIXNorm\", \"NoWNorm\"])"
   ]
  },
  {
   "cell_type": "markdown",
   "metadata": {},
   "source": [
    "Creating a datafram for the X train data for tf-idf full training data, and adding the feature names for the columns"
   ]
  },
  {
   "cell_type": "code",
   "execution_count": 46,
   "metadata": {},
   "outputs": [],
   "source": [
    "X = pd.DataFrame.sparse.from_spmatrix(X_tfidf_f_train, columns=feature_names)"
   ]
  },
  {
   "cell_type": "markdown",
   "metadata": {},
   "source": [
    "Finding the feature impartance from the linear regression coefficients for all features. \n",
    "\n",
    "As the logistic regression model predict 3 values, `$`, `$$`and `$$` respectivly, we have chosen to analyse which featues the the biggest influence on the expensive estblishments."
   ]
  },
  {
   "cell_type": "code",
   "execution_count": 47,
   "metadata": {},
   "outputs": [],
   "source": [
    "lr_imp = imp_df(X.columns, lr.coef_[2]) # predictions in price class 2"
   ]
  },
  {
   "cell_type": "markdown",
   "metadata": {},
   "source": [
    "To decrease the number of features considers, the 15 features with the highest positiv and the 15 feature with the most negative imporatance score are visualised"
   ]
  },
  {
   "cell_type": "code",
   "execution_count": 48,
   "metadata": {},
   "outputs": [
    {
     "data": {
      "image/png": "[encoded data removed]",
      "text/plain": [
       "<Figure size 2880x1296 with 1 Axes>"
      ]
     },
     "metadata": {},
     "output_type": "display_data"
    }
   ],
   "source": [
    "importance_30 = lr_imp[:15].append(lr_imp[-15:], ignore_index=True)\n",
    "var_imp_plot(importance_30, 'Linear regression feature importance')"
   ]
  },
  {
   "cell_type": "markdown",
   "metadata": {},
   "source": [
    "From above plot, it can be derived that words like: *Steak*, *View*, *Reservation* and *Oyster* have a positive effect on the price prediction if they appear in a review. Whereas words like *Pizza*, *Coffee*, *Sandwich* and *Fast* are likely to have a negative effect on the price preduction, meaning that the price will generally be predicted lower if these words appear in a review. \n",
    "\n",
    "The above plot also indicated the the LIX number, number of words and sensitivity of a review generally are not the most important features when predicting the price range of a business"
   ]
  },
  {
   "cell_type": "markdown",
   "metadata": {},
   "source": [
    "#### SHAP analysis\n",
    "\n",
    "To investigate the feature importance for the entire dataset a SHAP analyses is carried out. From this we hope to be able to outline whe most important features on an aggregated level. \n",
    "\n",
    "To minimize the run time of the SHAP analysis, a random sample with size = 5000 is taken from the sparsed X_train data"
   ]
  },
  {
   "cell_type": "code",
   "execution_count": 49,
   "metadata": {},
   "outputs": [],
   "source": [
    "all_indices = range(X_tfidf_f_train.shape[0])\n",
    "random_indices = random.sample(all_indices, 2000)\n",
    "\n",
    "sorted_random_indices = sorted(random_indices)\n",
    "X_sample=X_tfidf_f_train[sorted_random_indices, :]"
   ]
  },
  {
   "cell_type": "code",
   "execution_count": 50,
   "metadata": {},
   "outputs": [
    {
     "name": "stderr",
     "output_type": "stream",
     "text": [
      "Function get_feature_names is deprecated; get_feature_names is deprecated in 1.0 and will be removed in 1.2. Please use get_feature_names_out instead.\n"
     ]
    }
   ],
   "source": [
    "explainer = shap.Explainer(lr, X_tfidf_f_train, feature_names=count_vect.get_feature_names())"
   ]
  },
  {
   "cell_type": "code",
   "execution_count": 51,
   "metadata": {},
   "outputs": [],
   "source": [
    "#finding the shap_values for the n=2000 random samples\n",
    "shap_values = explainer(X_sample)"
   ]
  },
  {
   "cell_type": "markdown",
   "metadata": {},
   "source": [
    "When visualising the Sresults of the SHAP explainer s negative shap value inducated that a feature or a word appearing makes the classifyer less likely to predict an esablishment as exopensive, where a positive shap value indicated high chance of preducting the price class"
   ]
  },
  {
   "cell_type": "code",
   "execution_count": 52,
   "metadata": {},
   "outputs": [
    {
     "data": {
      "image/png": "[encoded data removed]",
      "text/plain": [
       "<Figure size 576x540 with 2 Axes>"
      ]
     },
     "metadata": {},
     "output_type": "display_data"
    }
   ],
   "source": [
    "# SHAP beeswarm plot\n",
    "shap.summary_plot(shap_values[:,:,2],feature_names=count_vect.get_feature_names(),max_display=15) \n",
    "#max display can be larger if the fig size is adjusted"
   ]
  },
  {
   "cell_type": "markdown",
   "metadata": {},
   "source": [
    "Not surprisingly the beeswarm plpt of the SHAP values indicated that some of the most important features are similar to the once the feature importance plot shows. But as the SHAP analysis is made from all price classes there are additional features that are included. \n",
    "This could also be due to the limited sample the SHAP analyses is based on rather than the full dataset. "
   ]
  },
  {
   "cell_type": "markdown",
   "metadata": {},
   "source": [
    "**Test to see feature importance for prediction where the exact pricerange was predicted and some where the prediction is wrong**"
   ]
  },
  {
   "cell_type": "code",
   "execution_count": 53,
   "metadata": {},
   "outputs": [],
   "source": [
    "y_pred=lr.predict(X_tfidf_f_train)"
   ]
  },
  {
   "cell_type": "code",
   "execution_count": 54,
   "metadata": {},
   "outputs": [
    {
     "data": {
      "text/plain": [
       "\"Had a meal with my son and daughter on the way to an Arsenal match.  The place was packed, but other patrons were happy to make room and squeeze us in at a table.  The service was surprisingly good on such a busy day.  Our order was taken promptly, and the food didn't take long at all.  As far as pub food goes, it was pretty tasty and there was plenty of it.  Bar staff were very efficient, and even though busy were willing to help a tourist pick a good beer.\""
      ]
     },
     "execution_count": 54,
     "metadata": {},
     "output_type": "execute_result"
    }
   ],
   "source": [
    "#Checking review number 999\n",
    "test_review=999\n",
    "x_index=sorted_random_indices[test_review]\n",
    "text_train[x_index]"
   ]
  },
  {
   "cell_type": "code",
   "execution_count": 55,
   "metadata": {},
   "outputs": [
    {
     "name": "stdout",
     "output_type": "stream",
     "text": [
      "Actual price range of review:  0\n",
      "Predicted price range of review:  0\n"
     ]
    }
   ],
   "source": [
    "print('Actual price range of review: ', y_train[x_index])\n",
    "print('Predicted price range of review: ',y_pred[x_index])"
   ]
  },
  {
   "cell_type": "code",
   "execution_count": 56,
   "metadata": {},
   "outputs": [
    {
     "data": {
      "image/png": "[encoded data removed]",
      "text/plain": [
       "<Figure size 1440x216 with 1 Axes>"
      ]
     },
     "metadata": {},
     "output_type": "display_data"
    }
   ],
   "source": [
    "shap.force_plot(explainer.expected_value[2], shap_values[test_review,:,2].values, \n",
    "                X.iloc[x_index,:], \n",
    "                matplotlib=True)"
   ]
  },
  {
   "cell_type": "code",
   "execution_count": 57,
   "metadata": {},
   "outputs": [
    {
     "data": {
      "text/plain": [
       "'OK, the Times Square location is better for atmosphere.'"
      ]
     },
     "execution_count": 57,
     "metadata": {},
     "output_type": "execute_result"
    }
   ],
   "source": [
    "# checking review number 562\n",
    "test_review=562\n",
    "x_index=sorted_random_indices[test_review]\n",
    "text_train[x_index]"
   ]
  },
  {
   "cell_type": "code",
   "execution_count": 58,
   "metadata": {},
   "outputs": [
    {
     "name": "stdout",
     "output_type": "stream",
     "text": [
      "Actual price range of review:  1\n",
      "Predicted price range of review:  0\n"
     ]
    }
   ],
   "source": [
    "print('Actual price range of review: ', y_train[x_index])\n",
    "print('Predicted price range of review: ',y_pred[x_index])"
   ]
  },
  {
   "cell_type": "code",
   "execution_count": 59,
   "metadata": {},
   "outputs": [
    {
     "data": {
      "image/png": "[encoded data removed]",
      "text/plain": [
       "<Figure size 1440x216 with 1 Axes>"
      ]
     },
     "metadata": {},
     "output_type": "display_data"
    }
   ],
   "source": [
    "shap.force_plot(explainer.expected_value[2], shap_values[test_review,:,2].values, \n",
    "                X.iloc[x_index,:], \n",
    "                matplotlib=True)"
   ]
  },
  {
   "cell_type": "code",
   "execution_count": 60,
   "metadata": {},
   "outputs": [
    {
     "data": {
      "text/plain": [
       "\"This place is just like every other Cosi, really busy and crazy during lunch time. I usually take a late lunch so I'll stop in for my sandwich around 2. The food is just the same as the other locations. If you're in need of a quick healthy bite for lunch this is the place to go. The people are always nice and the place is always clean. Can't complain at all about this location.\""
      ]
     },
     "execution_count": 60,
     "metadata": {},
     "output_type": "execute_result"
    }
   ],
   "source": [
    "# checking review number 1390\n",
    "test_review=1390\n",
    "x_index=sorted_random_indices[test_review]\n",
    "text_train[x_index]"
   ]
  },
  {
   "cell_type": "code",
   "execution_count": 61,
   "metadata": {},
   "outputs": [
    {
     "name": "stdout",
     "output_type": "stream",
     "text": [
      "Actual price range of review:  0\n",
      "Predicted price range of review:  0\n"
     ]
    }
   ],
   "source": [
    "print('Actual price range of review: ', y_train[x_index])\n",
    "print('Predicted price range of review: ',y_pred[x_index])"
   ]
  },
  {
   "cell_type": "code",
   "execution_count": 62,
   "metadata": {},
   "outputs": [
    {
     "data": {
      "image/png": "[encoded data removed]",
      "text/plain": [
       "<Figure size 1440x216 with 1 Axes>"
      ]
     },
     "metadata": {},
     "output_type": "display_data"
    }
   ],
   "source": [
    "shap.force_plot(explainer.expected_value[2], shap_values[test_review,:,2].values, \n",
    "                X.iloc[x_index,:], \n",
    "                matplotlib=True)"
   ]
  },
  {
   "cell_type": "code",
   "execution_count": null,
   "metadata": {},
   "outputs": [],
   "source": []
  }
 ],
 "metadata": {
  "interpreter": {
   "hash": "6f9910882fae098898ae321f07726ec847ec186b3979568b9e6c54444f9aa773"
  },
  "kernelspec": {
   "display_name": "Python 3 (ipykernel)",
   "language": "python",
   "name": "python3"
  },
  "language_info": {
   "codemirror_mode": {
    "name": "ipython",
    "version": 3
   },
   "file_extension": ".py",
   "mimetype": "text/x-python",
   "name": "python",
   "nbconvert_exporter": "python",
   "pygments_lexer": "ipython3",
   "version": "3.7.11"
  }
 },
 "nbformat": 4,
 "nbformat_minor": 2
}
