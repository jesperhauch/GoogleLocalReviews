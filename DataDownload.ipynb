{
 "cells": [
  {
   "cell_type": "markdown",
   "metadata": {},
   "source": [
    "# Data Download"
   ]
  },
  {
   "cell_type": "markdown",
   "metadata": {},
   "source": [
    "The data is downloaded from [Google Local](https://cseweb.ucsd.edu/~jmcauley/datasets.html#google_local) data published by Professor Julian McAuley from University of California, San Diego. The data contains reviews about businesses along with their geographical location. The raw data has 3.116.785 businesses and 11.453.845 reviews, which spans across locations all over the world.\n",
    "\n",
    "The data is stored as multiple non comma seperated dictionaries and must be converted into readable json format. This process in done below. The code takes approximate 6 hours to run and outputs the two data files \"reviews.csv\" and \"places.csv\". In this data downloading process, we have decided to only use data from United Kingdom and New York, USA."
   ]
  },
  {
   "cell_type": "code",
   "execution_count": null,
   "metadata": {},
   "outputs": [
    {
     "ename": "",
     "evalue": "",
     "output_type": "error",
     "traceback": [
      "\u001b[1;31mFailed to start the Kernel. \n",
      "[IPKernelApp] ERROR | Current working directory doesn't exist. \n",
      "View Jupyter <a href='command:jupyter.viewOutput'>log</a> for further details."
     ]
    }
   ],
   "source": [
    "import pandas as pd\n",
    "import requests\n",
    "import gzip\n",
    "import shutil\n",
    "import json\n",
    "import re\n",
    "import ast\n",
    "import os\n",
    "from tqdm import tqdm"
   ]
  },
  {
   "cell_type": "code",
   "execution_count": 18,
   "metadata": {},
   "outputs": [],
   "source": [
    "# Unzipping and saving as json\n",
    "def unzip_gzip(file):\n",
    "    with gzip.open(file, \"rb\") as f_in:\n",
    "        with open(file.rsplit(\".\", 1)[0], \"wb\") as f_out:\n",
    "            shutil.copyfileobj(f_in, f_out)"
   ]
  },
  {
   "cell_type": "markdown",
   "metadata": {},
   "source": [
    "# Places"
   ]
  },
  {
   "cell_type": "code",
   "execution_count": 3,
   "metadata": {},
   "outputs": [],
   "source": [
    "# Specify file path\n",
    "url = \"http://deepyeti.ucsd.edu/jmcauley/datasets/googlelocal/places.clean.json.gz\"\n",
    "filename = url.split(\"/\")[-1]"
   ]
  },
  {
   "cell_type": "code",
   "execution_count": null,
   "metadata": {},
   "outputs": [],
   "source": [
    "# Download file\n",
    "with open(filename, \"wb\") as f:\n",
    "    r = requests.get(url)\n",
    "    f.write(r.content)"
   ]
  },
  {
   "cell_type": "code",
   "execution_count": 7,
   "metadata": {},
   "outputs": [],
   "source": [
    "unzip_gzip(filename)"
   ]
  },
  {
   "cell_type": "code",
   "execution_count": 5,
   "metadata": {},
   "outputs": [
    {
     "name": "stderr",
     "output_type": "stream",
     "text": [
      "3114353it [13:29, 3845.68it/s]\n"
     ]
    }
   ],
   "source": [
    "# Inspiration from https://gist.github.com/mbrzusto/23fe728966247f25f3ec\n",
    "fr=open(\"places.clean.json\")\n",
    "fw=open(\"places.json\", \"w\")\n",
    "written_firstline = 0\n",
    "for line in tqdm(fr):\n",
    "    json_dat = ast.literal_eval(line)\n",
    "    full_address = \", \".join(json_dat['address'])\n",
    "    in_ny = re.findall(r\"NY\\s\\d{5}\", json_dat['address'][-1]) # addresses in New York end with NY XXXXX\n",
    "    in_london = re.findall(r'London.*?United Kingdom', full_address) # addresses in London contains the word London followed by zip code of varying length and United Kingdom\n",
    "    if in_ny or in_london:\n",
    "        if written_firstline == 0: # If file is empty\n",
    "            fw.write(\"[\")\n",
    "            json.dump(json_dat, fw)\n",
    "            written_firstline += 1\n",
    "        else:\n",
    "            fw.write(\",\\n\")\n",
    "            json.dump(json_dat, fw)\n",
    "fw.write(\"]\")\n",
    "\n",
    "fw.close()\n",
    "fr.close()"
   ]
  },
  {
   "cell_type": "code",
   "execution_count": 6,
   "metadata": {},
   "outputs": [],
   "source": [
    "with open(\"places.json\", \"r\") as f:\n",
    "    content = json.loads(f.read())"
   ]
  },
  {
   "cell_type": "code",
   "execution_count": 7,
   "metadata": {},
   "outputs": [],
   "source": [
    "df = pd.DataFrame(content)\n",
    "df.to_csv(\"places.csv\", index=False, sep=\";\")"
   ]
  },
  {
   "cell_type": "markdown",
   "metadata": {},
   "source": [
    "`gPlusPlaceId` is a unique ID for each business."
   ]
  },
  {
   "cell_type": "code",
   "execution_count": 13,
   "metadata": {},
   "outputs": [
    {
     "name": "stdout",
     "output_type": "stream",
     "text": [
      "(102851, 8)\n",
      "102851\n"
     ]
    }
   ],
   "source": [
    "print(df.shape)\n",
    "print(df.gPlusPlaceId.nunique())"
   ]
  },
  {
   "cell_type": "markdown",
   "metadata": {},
   "source": [
    "# Reviews"
   ]
  },
  {
   "cell_type": "code",
   "execution_count": 14,
   "metadata": {},
   "outputs": [],
   "source": [
    "places = pd.read_csv(\"places.csv\", sep=\";\")"
   ]
  },
  {
   "cell_type": "code",
   "execution_count": 4,
   "metadata": {},
   "outputs": [],
   "source": [
    "url = \"http://deepyeti.ucsd.edu/jmcauley/datasets/googlelocal/reviews.clean.json.gz\"\n",
    "filename = url.split(\"/\")[-1]\n",
    "with open(filename, \"wb\") as f:\n",
    "    r = requests.get(url)\n",
    "    f.write(r.content)"
   ]
  },
  {
   "cell_type": "code",
   "execution_count": 7,
   "metadata": {},
   "outputs": [],
   "source": [
    "unzip_gzip(filename)"
   ]
  },
  {
   "cell_type": "code",
   "execution_count": 15,
   "metadata": {},
   "outputs": [
    {
     "name": "stderr",
     "output_type": "stream",
     "text": [
      "62135it [06:16, 165.11it/s]\n"
     ]
    },
    {
     "ename": "KeyboardInterrupt",
     "evalue": "",
     "output_type": "error",
     "traceback": [
      "\u001b[1;31m---------------------------------------------------------------------------\u001b[0m",
      "\u001b[1;31mKeyboardInterrupt\u001b[0m                         Traceback (most recent call last)",
      "\u001b[1;32mc:\\Users\\Bruger\\OneDrive - Danmarks Tekniske Universitet\\Kandidat - Business Analytics\\3. Semester F22\\42587 Advanced Business Analytics\\Project\\GL Preprocessing.ipynb Cell 16'\u001b[0m in \u001b[0;36m<module>\u001b[1;34m\u001b[0m\n\u001b[0;32m      <a href='vscode-notebook-cell:/c%3A/Users/Bruger/OneDrive%20-%20Danmarks%20Tekniske%20Universitet/Kandidat%20-%20Business%20Analytics/3.%20Semester%20F22/42587%20Advanced%20Business%20Analytics/Project/GL%20Preprocessing.ipynb#ch0000014?line=2'>3</a>\u001b[0m fw\u001b[39m=\u001b[39m\u001b[39mopen\u001b[39m(\u001b[39m\"\u001b[39m\u001b[39mreviews.json\u001b[39m\u001b[39m\"\u001b[39m, \u001b[39m\"\u001b[39m\u001b[39mw\u001b[39m\u001b[39m\"\u001b[39m)\n\u001b[0;32m      <a href='vscode-notebook-cell:/c%3A/Users/Bruger/OneDrive%20-%20Danmarks%20Tekniske%20Universitet/Kandidat%20-%20Business%20Analytics/3.%20Semester%20F22/42587%20Advanced%20Business%20Analytics/Project/GL%20Preprocessing.ipynb#ch0000014?line=3'>4</a>\u001b[0m written_firstline \u001b[39m=\u001b[39m \u001b[39m0\u001b[39m\n\u001b[1;32m----> <a href='vscode-notebook-cell:/c%3A/Users/Bruger/OneDrive%20-%20Danmarks%20Tekniske%20Universitet/Kandidat%20-%20Business%20Analytics/3.%20Semester%20F22/42587%20Advanced%20Business%20Analytics/Project/GL%20Preprocessing.ipynb#ch0000014?line=4'>5</a>\u001b[0m \u001b[39mfor\u001b[39;00m line \u001b[39min\u001b[39;00m tqdm(fr):\n\u001b[0;32m      <a href='vscode-notebook-cell:/c%3A/Users/Bruger/OneDrive%20-%20Danmarks%20Tekniske%20Universitet/Kandidat%20-%20Business%20Analytics/3.%20Semester%20F22/42587%20Advanced%20Business%20Analytics/Project/GL%20Preprocessing.ipynb#ch0000014?line=5'>6</a>\u001b[0m     json_dat \u001b[39m=\u001b[39m ast\u001b[39m.\u001b[39mliteral_eval(line)\n\u001b[0;32m      <a href='vscode-notebook-cell:/c%3A/Users/Bruger/OneDrive%20-%20Danmarks%20Tekniske%20Universitet/Kandidat%20-%20Business%20Analytics/3.%20Semester%20F22/42587%20Advanced%20Business%20Analytics/Project/GL%20Preprocessing.ipynb#ch0000014?line=6'>7</a>\u001b[0m     \u001b[39mif\u001b[39;00m json_dat[\u001b[39m'\u001b[39m\u001b[39mgPlusPlaceId\u001b[39m\u001b[39m'\u001b[39m] \u001b[39min\u001b[39;00m places_ids:\n",
      "File \u001b[1;32m~\\anaconda3\\envs\\env\\lib\\site-packages\\tqdm\\std.py:1181\u001b[0m, in \u001b[0;36mtqdm.__iter__\u001b[1;34m(self)\u001b[0m\n\u001b[0;32m   <a href='file:///c%3A/Users/Bruger/anaconda3/envs/env/lib/site-packages/tqdm/std.py?line=1178'>1179</a>\u001b[0m \u001b[39mtry\u001b[39;00m:\n\u001b[0;32m   <a href='file:///c%3A/Users/Bruger/anaconda3/envs/env/lib/site-packages/tqdm/std.py?line=1179'>1180</a>\u001b[0m     \u001b[39mfor\u001b[39;00m obj \u001b[39min\u001b[39;00m iterable:\n\u001b[1;32m-> <a href='file:///c%3A/Users/Bruger/anaconda3/envs/env/lib/site-packages/tqdm/std.py?line=1180'>1181</a>\u001b[0m         \u001b[39myield\u001b[39;00m obj\n\u001b[0;32m   <a href='file:///c%3A/Users/Bruger/anaconda3/envs/env/lib/site-packages/tqdm/std.py?line=1181'>1182</a>\u001b[0m         \u001b[39m# Update and possibly print the progressbar.\u001b[39;00m\n\u001b[0;32m   <a href='file:///c%3A/Users/Bruger/anaconda3/envs/env/lib/site-packages/tqdm/std.py?line=1182'>1183</a>\u001b[0m         \u001b[39m# Note: does not call self.update(1) for speed optimisation.\u001b[39;00m\n\u001b[0;32m   <a href='file:///c%3A/Users/Bruger/anaconda3/envs/env/lib/site-packages/tqdm/std.py?line=1183'>1184</a>\u001b[0m         n \u001b[39m+\u001b[39m\u001b[39m=\u001b[39m \u001b[39m1\u001b[39m\n",
      "\u001b[1;31mKeyboardInterrupt\u001b[0m: "
     ]
    }
   ],
   "source": [
    "places_ids = places.gPlusPlaceId.values\n",
    "fr=open(\"reviews.clean.json\")\n",
    "fw=open(\"reviews.json\", \"w\")\n",
    "written_firstline = 0\n",
    "for line in tqdm(fr):\n",
    "    json_dat = ast.literal_eval(line)\n",
    "    if json_dat['gPlusPlaceId'] in places_ids:\n",
    "        if written_firstline == 0:\n",
    "            fw.write(\"[\")\n",
    "            json.dump(json_dat, fw)\n",
    "            written_firstline += 1\n",
    "        else:\n",
    "            fw.write(\",\\n\")\n",
    "            json.dump(json_dat, fw)\n",
    "                 \n",
    "fw.write(\"]\")\n",
    "\n",
    "fw.close()\n",
    "fr.close()"
   ]
  },
  {
   "cell_type": "code",
   "execution_count": null,
   "metadata": {},
   "outputs": [],
   "source": [
    "with open(\"reviews.json\", \"r\") as f:\n",
    "    content = json.loads(f.read())\n",
    "\n",
    "df = pd.DataFrame(content)\n",
    "df.to_csv(\"reviews.csv\", index=False, sep=\";\")"
   ]
  }
 ],
 "metadata": {
  "interpreter": {
   "hash": "9e9e982dfc258e8d223c37f4327606c8da7dedee0f3f31349257777800bfa443"
  },
  "kernelspec": {
   "display_name": "Python 3.9.7 ('env')",
   "language": "python",
   "name": "python3"
  },
  "language_info": {
   "codemirror_mode": {
    "name": "ipython",
    "version": 3
   },
   "file_extension": ".py",
   "mimetype": "text/x-python",
   "name": "python",
   "nbconvert_exporter": "python",
   "pygments_lexer": "ipython3",
   "version": "3.8.11"
  },
  "orig_nbformat": 4
 },
 "nbformat": 4,
 "nbformat_minor": 2
}
