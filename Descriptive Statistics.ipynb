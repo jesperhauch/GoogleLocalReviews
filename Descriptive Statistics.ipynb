{
 "cells": [
  {
   "cell_type": "code",
   "execution_count": 173,
   "metadata": {},
   "outputs": [
    {
     "name": "stderr",
     "output_type": "stream",
     "text": [
      "[nltk_data] Downloading package stopwords to\n",
      "[nltk_data]     /Users/akterminsprove/nltk_data...\n",
      "[nltk_data]   Unzipping corpora/stopwords.zip.\n"
     ]
    }
   ],
   "source": [
    "import pandas as pd\n",
    "import matplotlib.pyplot as plt\n",
    "%matplotlib inline\n",
    "import seaborn as sns\n",
    "import numpy as np\n",
    "from tqdm import tqdm \n",
    "sns.set_style(\"darkgrid\")\n",
    "from datetime import datetime\n",
    "\n",
    "\n",
    "# Text mining\n",
    "import re\n",
    "import nltk\n",
    "from nltk import word_tokenize\n",
    "from nltk.stem import WordNetLemmatizer \n",
    "lemmatizer = WordNetLemmatizer()\n",
    "nltk.download(\"stopwords\")\n",
    "_stop_words = nltk.corpus.stopwords.words('english')\n",
    "\n",
    "# Folium maps\n",
    "import folium\n",
    "from folium.plugins import MarkerCluster"
   ]
  },
  {
   "cell_type": "code",
   "execution_count": 174,
   "metadata": {},
   "outputs": [],
   "source": [
    "data_path = \"data/\"\n",
    "places = pd.read_csv(data_path + \"places.csv\", sep=\";\")\n",
    "reviews = pd.read_csv(data_path + \"reviews.csv\", sep=\";\", low_memory=False)"
   ]
  },
  {
   "cell_type": "markdown",
   "metadata": {},
   "source": [
    "# 1 Data preprocessing"
   ]
  },
  {
   "cell_type": "markdown",
   "metadata": {},
   "source": [
    "## 1.1 Places"
   ]
  },
  {
   "cell_type": "code",
   "execution_count": 175,
   "metadata": {},
   "outputs": [
    {
     "name": "stdout",
     "output_type": "stream",
     "text": [
      "<class 'pandas.core.frame.DataFrame'>\n",
      "RangeIndex: 102851 entries, 0 to 102850\n",
      "Data columns (total 8 columns):\n",
      " #   Column        Non-Null Count   Dtype \n",
      "---  ------        --------------   ----- \n",
      " 0   name          102851 non-null  object\n",
      " 1   price         30486 non-null   object\n",
      " 2   address       102851 non-null  object\n",
      " 3   hours         65403 non-null   object\n",
      " 4   phone         98390 non-null   object\n",
      " 5   closed        102851 non-null  bool  \n",
      " 6   gPlusPlaceId  102851 non-null  object\n",
      " 7   gps           101600 non-null  object\n",
      "dtypes: bool(1), object(7)\n",
      "memory usage: 5.6+ MB\n"
     ]
    }
   ],
   "source": [
    "# Quick overwiew of the attributes of the places in the Google Local file\n",
    "places.info()"
   ]
  },
  {
   "cell_type": "markdown",
   "metadata": {},
   "source": [
    "Places consist of 102851 entries with 7 attributes ... We see that some of the attributes have missing values..."
   ]
  },
  {
   "cell_type": "code",
   "execution_count": 176,
   "metadata": {},
   "outputs": [
    {
     "data": {
      "text/plain": [
       "name                0\n",
       "price           72365\n",
       "address             0\n",
       "hours           37448\n",
       "phone            4461\n",
       "closed              0\n",
       "gPlusPlaceId        0\n",
       "gps              1251\n",
       "dtype: int64"
      ]
     },
     "execution_count": 176,
     "metadata": {},
     "output_type": "execute_result"
    }
   ],
   "source": [
    "# Lets consider the \n",
    "places.isna().sum()"
   ]
  },
  {
   "cell_type": "code",
   "execution_count": 177,
   "metadata": {},
   "outputs": [
    {
     "data": {
      "text/plain": [
       "(96497, 8)"
      ]
     },
     "execution_count": 177,
     "metadata": {},
     "output_type": "execute_result"
    }
   ],
   "source": [
    "# First, we have to remove places that are currently closed\n",
    "places = places.loc[places.closed == False ].reset_index(drop=True)\n",
    "\n",
    "# That leaves ud with 96497 places across NY and London\n",
    "places.shape"
   ]
  },
  {
   "cell_type": "code",
   "execution_count": 178,
   "metadata": {},
   "outputs": [],
   "source": [
    "# Remove places that does not have coordinates\n",
    "places = places.loc[places.gps.isna()==False].reset_index(drop=True)\n",
    "\n",
    "# Then we clean the GPS coordinates to become latitiude and longitude\n",
    "places['lat'] = [float(i.strip('][').split(', ')[0]) for i in places.gps]\n",
    "places['lon'] = [float(i.strip('][').split(', ')[1]) for i in places.gps]"
   ]
  },
  {
   "cell_type": "code",
   "execution_count": 179,
   "metadata": {},
   "outputs": [
    {
     "data": {
      "text/plain": [
       "2.0    15484\n",
       "3.0     9124\n",
       "1.0     3151\n",
       "Name: price_cat, dtype: int64"
      ]
     },
     "execution_count": 179,
     "metadata": {},
     "output_type": "execute_result"
    }
   ],
   "source": [
    "# We have some missing values in the price, we wish to predict these based on other features\n",
    "\n",
    "# But first, we convert price ranges into three categories\n",
    "# $ = £\n",
    "# $$ = ££\n",
    "# $$$ = £££\n",
    "\n",
    "places['price_cat'] = np.nan\n",
    "\n",
    "for i in range(1,4):\n",
    "    indexes = places.loc[(places.price == \"$\"*i) |(places.price == \"£\"*i)].index\n",
    "    places.loc[indexes, 'price_cat'] = i \n",
    "\n",
    "places['price_cat'] = places.price_cat.astype('category')\n",
    "\n",
    "# Now the values have been filled in\n",
    "places.price_cat.value_counts()\n"
   ]
  },
  {
   "cell_type": "code",
   "execution_count": 180,
   "metadata": {},
   "outputs": [
    {
     "name": "stderr",
     "output_type": "stream",
     "text": [
      "94583it [02:29, 731.27it/s]"
     ]
    }
   ],
   "source": [
    "# Make a feature that can distinguish between places in London and NY\n",
    "\n",
    "places['city'] = np.nan\n",
    "\n",
    "for num,adress in tqdm(enumerate(places.address)):\n",
    "\n",
    "    # Clean adress\n",
    "    i = adress.strip('][').split(',')[-1]\n",
    "    # Check if in NY\n",
    "    in_ny = re.findall(r\"NY\\s\\d{5}\", i)\n",
    "    # Check if in United Kingdom aka London\n",
    "    #in_london = re.findall(r'United Kingdom', i)\n",
    "\n",
    "    if len(in_ny)>0:\n",
    "\n",
    "        places.loc[num, 'city'] = 'New York'\n",
    "\n",
    "    else:\n",
    "\n",
    "        places.loc[num, 'city'] = 'London' \n",
    "    "
   ]
  },
  {
   "cell_type": "code",
   "execution_count": null,
   "metadata": {},
   "outputs": [
    {
     "data": {
      "text/html": [
       "<div>\n",
       "<style scoped>\n",
       "    .dataframe tbody tr th:only-of-type {\n",
       "        vertical-align: middle;\n",
       "    }\n",
       "\n",
       "    .dataframe tbody tr th {\n",
       "        vertical-align: top;\n",
       "    }\n",
       "\n",
       "    .dataframe thead th {\n",
       "        text-align: right;\n",
       "    }\n",
       "</style>\n",
       "<table border=\"1\" class=\"dataframe\">\n",
       "  <thead>\n",
       "    <tr style=\"text-align: right;\">\n",
       "      <th></th>\n",
       "      <th>name</th>\n",
       "      <th>price</th>\n",
       "      <th>lat</th>\n",
       "      <th>lon</th>\n",
       "      <th>city</th>\n",
       "    </tr>\n",
       "  </thead>\n",
       "  <tbody>\n",
       "    <tr>\n",
       "      <th>0</th>\n",
       "      <td>Steppingstone Day School Inc</td>\n",
       "      <td>NaN</td>\n",
       "      <td>40.719993</td>\n",
       "      <td>-73.820745</td>\n",
       "      <td>New York</td>\n",
       "    </tr>\n",
       "    <tr>\n",
       "      <th>1</th>\n",
       "      <td>HSBC Head Quarters</td>\n",
       "      <td>NaN</td>\n",
       "      <td>51.506582</td>\n",
       "      <td>-0.016885</td>\n",
       "      <td>London</td>\n",
       "    </tr>\n",
       "    <tr>\n",
       "      <th>2</th>\n",
       "      <td>Consulate General of the Republic of Poland</td>\n",
       "      <td>NaN</td>\n",
       "      <td>40.749680</td>\n",
       "      <td>-73.981173</td>\n",
       "      <td>New York</td>\n",
       "    </tr>\n",
       "    <tr>\n",
       "      <th>3</th>\n",
       "      <td>Bagel Depot</td>\n",
       "      <td>NaN</td>\n",
       "      <td>40.543839</td>\n",
       "      <td>-74.165041</td>\n",
       "      <td>New York</td>\n",
       "    </tr>\n",
       "  </tbody>\n",
       "</table>\n",
       "</div>"
      ],
      "text/plain": [
       "                                          name price        lat        lon  \\\n",
       "0                 Steppingstone Day School Inc   NaN  40.719993 -73.820745   \n",
       "1                           HSBC Head Quarters   NaN  51.506582  -0.016885   \n",
       "2  Consulate General of the Republic of Poland   NaN  40.749680 -73.981173   \n",
       "3                                  Bagel Depot   NaN  40.543839 -74.165041   \n",
       "\n",
       "       city  \n",
       "0  New York  \n",
       "1    London  \n",
       "2  New York  \n",
       "3  New York  "
      ]
     },
     "execution_count": 167,
     "metadata": {},
     "output_type": "execute_result"
    }
   ],
   "source": [
    "# Drop features, that we are not going to use: Adress, Hours, Phone, GPS\n",
    "# Rename price_cat to priceb\n",
    "places = places[['gPlusPlaceId','name','price_cat','lat','lon','city']].rename(columns={'price_cat':\"price\"})\n",
    "places.head(4)"
   ]
  },
  {
   "cell_type": "code",
   "execution_count": null,
   "metadata": {},
   "outputs": [],
   "source": [
    "places.to_csv(data_path + \"places_cleaned.csv\", index=False)"
   ]
  },
  {
   "cell_type": "markdown",
   "metadata": {},
   "source": [
    "## Reviews"
   ]
  },
  {
   "cell_type": "code",
   "execution_count": null,
   "metadata": {},
   "outputs": [
    {
     "name": "stdout",
     "output_type": "stream",
     "text": [
      "Shape of reviews: (571724, 8)\n"
     ]
    },
    {
     "data": {
      "text/plain": [
       "rating                 0\n",
       "reviewerName        2139\n",
       "reviewText        146604\n",
       "categories         50096\n",
       "gPlusPlaceId        3885\n",
       "unixReviewTime     49070\n",
       "reviewTime         50817\n",
       "gPlusUserId         5632\n",
       "dtype: int64"
      ]
     },
     "execution_count": 170,
     "metadata": {},
     "output_type": "execute_result"
    }
   ],
   "source": [
    "print(\"Shape of reviews:\", reviews.shape)\n",
    "reviews.isna().sum()"
   ]
  },
  {
   "cell_type": "code",
   "execution_count": null,
   "metadata": {},
   "outputs": [],
   "source": [
    "# Categories is essential for our future analysis. Hence we remove rows with missing categories\n",
    "reviews.dropna(subset=[\"categories\"], inplace=True)"
   ]
  },
  {
   "cell_type": "code",
   "execution_count": null,
   "metadata": {},
   "outputs": [
    {
     "ename": "AttributeError",
     "evalue": "'DataFrame' object has no attribute 'gPlusPlaceId'",
     "output_type": "error",
     "traceback": [
      "\u001b[0;31m---------------------------------------------------------------------------\u001b[0m",
      "\u001b[0;31mAttributeError\u001b[0m                            Traceback (most recent call last)",
      "\u001b[0;32m/var/folders/k9/6q_wnl392rn1_6g2d_l2hnrh0000gr/T/ipykernel_12613/3626972457.py\u001b[0m in \u001b[0;36m<module>\u001b[0;34m\u001b[0m\n\u001b[1;32m      1\u001b[0m \u001b[0;31m# Only get reviews that are in the places list\u001b[0m\u001b[0;34m\u001b[0m\u001b[0;34m\u001b[0m\u001b[0;34m\u001b[0m\u001b[0m\n\u001b[0;32m----> 2\u001b[0;31m \u001b[0mreviews\u001b[0m \u001b[0;34m=\u001b[0m \u001b[0mreviews\u001b[0m\u001b[0;34m.\u001b[0m\u001b[0mloc\u001b[0m\u001b[0;34m[\u001b[0m\u001b[0;32mlambda\u001b[0m \u001b[0mx\u001b[0m\u001b[0;34m:\u001b[0m \u001b[0mx\u001b[0m\u001b[0;34m.\u001b[0m\u001b[0mgPlusPlaceId\u001b[0m\u001b[0;34m.\u001b[0m\u001b[0misin\u001b[0m\u001b[0;34m(\u001b[0m\u001b[0mplaces\u001b[0m\u001b[0;34m.\u001b[0m\u001b[0mgPlusPlaceId\u001b[0m\u001b[0;34m.\u001b[0m\u001b[0mvalues\u001b[0m\u001b[0;34m)\u001b[0m\u001b[0;34m]\u001b[0m\u001b[0;34m\u001b[0m\u001b[0;34m\u001b[0m\u001b[0m\n\u001b[0m",
      "\u001b[0;32m~/opt/anaconda3/lib/python3.8/site-packages/pandas/core/indexing.py\u001b[0m in \u001b[0;36m__getitem__\u001b[0;34m(self, key)\u001b[0m\n\u001b[1;32m    928\u001b[0m             \u001b[0maxis\u001b[0m \u001b[0;34m=\u001b[0m \u001b[0mself\u001b[0m\u001b[0;34m.\u001b[0m\u001b[0maxis\u001b[0m \u001b[0;32mor\u001b[0m \u001b[0;36m0\u001b[0m\u001b[0;34m\u001b[0m\u001b[0;34m\u001b[0m\u001b[0m\n\u001b[1;32m    929\u001b[0m \u001b[0;34m\u001b[0m\u001b[0m\n\u001b[0;32m--> 930\u001b[0;31m             \u001b[0mmaybe_callable\u001b[0m \u001b[0;34m=\u001b[0m \u001b[0mcom\u001b[0m\u001b[0;34m.\u001b[0m\u001b[0mapply_if_callable\u001b[0m\u001b[0;34m(\u001b[0m\u001b[0mkey\u001b[0m\u001b[0;34m,\u001b[0m \u001b[0mself\u001b[0m\u001b[0;34m.\u001b[0m\u001b[0mobj\u001b[0m\u001b[0;34m)\u001b[0m\u001b[0;34m\u001b[0m\u001b[0;34m\u001b[0m\u001b[0m\n\u001b[0m\u001b[1;32m    931\u001b[0m             \u001b[0;32mreturn\u001b[0m \u001b[0mself\u001b[0m\u001b[0;34m.\u001b[0m\u001b[0m_getitem_axis\u001b[0m\u001b[0;34m(\u001b[0m\u001b[0mmaybe_callable\u001b[0m\u001b[0;34m,\u001b[0m \u001b[0maxis\u001b[0m\u001b[0;34m=\u001b[0m\u001b[0maxis\u001b[0m\u001b[0;34m)\u001b[0m\u001b[0;34m\u001b[0m\u001b[0;34m\u001b[0m\u001b[0m\n\u001b[1;32m    932\u001b[0m \u001b[0;34m\u001b[0m\u001b[0m\n",
      "\u001b[0;32m~/opt/anaconda3/lib/python3.8/site-packages/pandas/core/common.py\u001b[0m in \u001b[0;36mapply_if_callable\u001b[0;34m(maybe_callable, obj, **kwargs)\u001b[0m\n\u001b[1;32m    356\u001b[0m     \"\"\"\n\u001b[1;32m    357\u001b[0m     \u001b[0;32mif\u001b[0m \u001b[0mcallable\u001b[0m\u001b[0;34m(\u001b[0m\u001b[0mmaybe_callable\u001b[0m\u001b[0;34m)\u001b[0m\u001b[0;34m:\u001b[0m\u001b[0;34m\u001b[0m\u001b[0;34m\u001b[0m\u001b[0m\n\u001b[0;32m--> 358\u001b[0;31m         \u001b[0;32mreturn\u001b[0m \u001b[0mmaybe_callable\u001b[0m\u001b[0;34m(\u001b[0m\u001b[0mobj\u001b[0m\u001b[0;34m,\u001b[0m \u001b[0;34m**\u001b[0m\u001b[0mkwargs\u001b[0m\u001b[0;34m)\u001b[0m\u001b[0;34m\u001b[0m\u001b[0;34m\u001b[0m\u001b[0m\n\u001b[0m\u001b[1;32m    359\u001b[0m \u001b[0;34m\u001b[0m\u001b[0m\n\u001b[1;32m    360\u001b[0m     \u001b[0;32mreturn\u001b[0m \u001b[0mmaybe_callable\u001b[0m\u001b[0;34m\u001b[0m\u001b[0;34m\u001b[0m\u001b[0m\n",
      "\u001b[0;32m/var/folders/k9/6q_wnl392rn1_6g2d_l2hnrh0000gr/T/ipykernel_12613/3626972457.py\u001b[0m in \u001b[0;36m<lambda>\u001b[0;34m(x)\u001b[0m\n\u001b[1;32m      1\u001b[0m \u001b[0;31m# Only get reviews that are in the places list\u001b[0m\u001b[0;34m\u001b[0m\u001b[0;34m\u001b[0m\u001b[0;34m\u001b[0m\u001b[0m\n\u001b[0;32m----> 2\u001b[0;31m \u001b[0mreviews\u001b[0m \u001b[0;34m=\u001b[0m \u001b[0mreviews\u001b[0m\u001b[0;34m.\u001b[0m\u001b[0mloc\u001b[0m\u001b[0;34m[\u001b[0m\u001b[0;32mlambda\u001b[0m \u001b[0mx\u001b[0m\u001b[0;34m:\u001b[0m \u001b[0mx\u001b[0m\u001b[0;34m.\u001b[0m\u001b[0mgPlusPlaceId\u001b[0m\u001b[0;34m.\u001b[0m\u001b[0misin\u001b[0m\u001b[0;34m(\u001b[0m\u001b[0mplaces\u001b[0m\u001b[0;34m.\u001b[0m\u001b[0mgPlusPlaceId\u001b[0m\u001b[0;34m.\u001b[0m\u001b[0mvalues\u001b[0m\u001b[0;34m)\u001b[0m\u001b[0;34m]\u001b[0m\u001b[0;34m\u001b[0m\u001b[0;34m\u001b[0m\u001b[0m\n\u001b[0m",
      "\u001b[0;32m~/opt/anaconda3/lib/python3.8/site-packages/pandas/core/generic.py\u001b[0m in \u001b[0;36m__getattr__\u001b[0;34m(self, name)\u001b[0m\n\u001b[1;32m   5485\u001b[0m         ):\n\u001b[1;32m   5486\u001b[0m             \u001b[0;32mreturn\u001b[0m \u001b[0mself\u001b[0m\u001b[0;34m[\u001b[0m\u001b[0mname\u001b[0m\u001b[0;34m]\u001b[0m\u001b[0;34m\u001b[0m\u001b[0;34m\u001b[0m\u001b[0m\n\u001b[0;32m-> 5487\u001b[0;31m         \u001b[0;32mreturn\u001b[0m \u001b[0mobject\u001b[0m\u001b[0;34m.\u001b[0m\u001b[0m__getattribute__\u001b[0m\u001b[0;34m(\u001b[0m\u001b[0mself\u001b[0m\u001b[0;34m,\u001b[0m \u001b[0mname\u001b[0m\u001b[0;34m)\u001b[0m\u001b[0;34m\u001b[0m\u001b[0;34m\u001b[0m\u001b[0m\n\u001b[0m\u001b[1;32m   5488\u001b[0m \u001b[0;34m\u001b[0m\u001b[0m\n\u001b[1;32m   5489\u001b[0m     \u001b[0;32mdef\u001b[0m \u001b[0m__setattr__\u001b[0m\u001b[0;34m(\u001b[0m\u001b[0mself\u001b[0m\u001b[0;34m,\u001b[0m \u001b[0mname\u001b[0m\u001b[0;34m:\u001b[0m \u001b[0mstr\u001b[0m\u001b[0;34m,\u001b[0m \u001b[0mvalue\u001b[0m\u001b[0;34m)\u001b[0m \u001b[0;34m->\u001b[0m \u001b[0;32mNone\u001b[0m\u001b[0;34m:\u001b[0m\u001b[0;34m\u001b[0m\u001b[0;34m\u001b[0m\u001b[0m\n",
      "\u001b[0;31mAttributeError\u001b[0m: 'DataFrame' object has no attribute 'gPlusPlaceId'"
     ]
    }
   ],
   "source": [
    "# Only get reviews that are in the places list\n",
    "reviews = reviews.loc[lambda x: x.gPlusPlaceId.isin(places.gPlusPlaceId.values)]"
   ]
  },
  {
   "cell_type": "code",
   "execution_count": null,
   "metadata": {},
   "outputs": [
    {
     "data": {
      "text/plain": [
       "rating             object\n",
       "reviewerName       object\n",
       "reviewText         object\n",
       "categories         object\n",
       "gPlusPlaceId       object\n",
       "unixReviewTime    float64\n",
       "reviewTime         object\n",
       "gPlusUserId        object\n",
       "dtype: object"
      ]
     },
     "metadata": {},
     "output_type": "display_data"
    }
   ],
   "source": [
    "reviews.dtypes"
   ]
  },
  {
   "cell_type": "code",
   "execution_count": null,
   "metadata": {},
   "outputs": [],
   "source": [
    "# Convert rating to numeric feature\n",
    "reviews['rating'] = pd.to_numeric(reviews['rating'])"
   ]
  },
  {
   "cell_type": "code",
   "execution_count": null,
   "metadata": {},
   "outputs": [],
   "source": [
    "# Using unix review time since it has less missing values and more information than the review time feature\n",
    "def unixToDatetime(unix_timestamp):\n",
    "    if not pd.isna(unix_timestamp):\n",
    "        return datetime.utcfromtimestamp(unix_timestamp).strftime(\"%Y-%m-%d %H:%M:%S\")\n",
    "    else:\n",
    "        return np.NaN\n",
    "\n",
    "reviews['unixReviewTime'] = reviews['unixReviewTime'].apply(unixToDatetime)\n",
    "reviews.drop([\"reviewTime\"], axis=1, inplace=True)"
   ]
  },
  {
   "cell_type": "code",
   "execution_count": null,
   "metadata": {},
   "outputs": [],
   "source": [
    "# Categories are stored as a \"['Category']\", thus we use regex to find the word between the apostrophes\n",
    "reviews['categories'] = reviews.categories.apply(lambda x: re.findall(r\"[\\[|\\s]\\'(.*?)\\'[\\,|\\]]\", x))\n"
   ]
  },
  {
   "cell_type": "code",
   "execution_count": null,
   "metadata": {},
   "outputs": [],
   "source": [
    "# Text processing function from Social Graphs and Interactions\n",
    "def cleanString(text):\n",
    "    if not pd.isna(text):\n",
    "        tokens = word_tokenize(text) #Tokenizing\n",
    "        punctuation = [word.lower() for word in tokens if word.isalnum()] # remove punctuation and set to lower case\n",
    "        lemma = [lemmatizer.lemmatize(word) for word in punctuation] # lemmatize words\n",
    "        stopwords = stopwords.words('english')\n",
    "        return [w for w in lemma if w not in stopwords] # Finally removes stopwords\n",
    "    else:\n",
    "        return np.NaN"
   ]
  },
  {
   "cell_type": "code",
   "execution_count": null,
   "metadata": {},
   "outputs": [
    {
     "ename": "KeyboardInterrupt",
     "evalue": "",
     "output_type": "error",
     "traceback": [
      "\u001b[0;31m---------------------------------------------------------------------------\u001b[0m\n",
      "\u001b[0;31mKeyboardInterrupt\u001b[0m                         Traceback (most recent call last)\n",
      "\u001b[1;32m/home/jesperhauch/GoogleLocalReviews/Descriptive Statistics copy.ipynb Cell 13'\u001b[0m in \u001b[0;36m<cell line: 1>\u001b[0;34m()\u001b[0m\n",
      "\u001b[0;32m----> <a href='vscode-notebook-cell://wsl%2Bubuntu/home/jesperhauch/GoogleLocalReviews/Descriptive%20Statistics%20copy.ipynb#ch0000030vscode-remote?line=0'>1</a>\u001b[0m reviews[\u001b[39m'\u001b[39m\u001b[39mreviewTextClean\u001b[39m\u001b[39m'\u001b[39m] \u001b[39m=\u001b[39m reviews[\u001b[39m'\u001b[39;49m\u001b[39mreviewText\u001b[39;49m\u001b[39m'\u001b[39;49m]\u001b[39m.\u001b[39;49mapply(cleanString)\n",
      "\n",
      "File \u001b[0;32m~/.local/lib/python3.8/site-packages/pandas/core/series.py:4433\u001b[0m, in \u001b[0;36mSeries.apply\u001b[0;34m(self, func, convert_dtype, args, **kwargs)\u001b[0m\n",
      "\u001b[1;32m   <a href='file:///home/jesperhauch/.local/lib/python3.8/site-packages/pandas/core/series.py?line=4322'>4323</a>\u001b[0m \u001b[39mdef\u001b[39;00m \u001b[39mapply\u001b[39m(\n",
      "\u001b[1;32m   <a href='file:///home/jesperhauch/.local/lib/python3.8/site-packages/pandas/core/series.py?line=4323'>4324</a>\u001b[0m     \u001b[39mself\u001b[39m,\n",
      "\u001b[1;32m   <a href='file:///home/jesperhauch/.local/lib/python3.8/site-packages/pandas/core/series.py?line=4324'>4325</a>\u001b[0m     func: AggFuncType,\n",
      "\u001b[0;32m   (...)\u001b[0m\n",
      "\u001b[1;32m   <a href='file:///home/jesperhauch/.local/lib/python3.8/site-packages/pandas/core/series.py?line=4327'>4328</a>\u001b[0m     \u001b[39m*\u001b[39m\u001b[39m*\u001b[39mkwargs,\n",
      "\u001b[1;32m   <a href='file:///home/jesperhauch/.local/lib/python3.8/site-packages/pandas/core/series.py?line=4328'>4329</a>\u001b[0m ) \u001b[39m-\u001b[39m\u001b[39m>\u001b[39m DataFrame \u001b[39m|\u001b[39m Series:\n",
      "\u001b[1;32m   <a href='file:///home/jesperhauch/.local/lib/python3.8/site-packages/pandas/core/series.py?line=4329'>4330</a>\u001b[0m     \u001b[39m\"\"\"\u001b[39;00m\n",
      "\u001b[1;32m   <a href='file:///home/jesperhauch/.local/lib/python3.8/site-packages/pandas/core/series.py?line=4330'>4331</a>\u001b[0m \u001b[39m    Invoke function on values of Series.\u001b[39;00m\n",
      "\u001b[1;32m   <a href='file:///home/jesperhauch/.local/lib/python3.8/site-packages/pandas/core/series.py?line=4331'>4332</a>\u001b[0m \n",
      "\u001b[0;32m   (...)\u001b[0m\n",
      "\u001b[1;32m   <a href='file:///home/jesperhauch/.local/lib/python3.8/site-packages/pandas/core/series.py?line=4430'>4431</a>\u001b[0m \u001b[39m    dtype: float64\u001b[39;00m\n",
      "\u001b[1;32m   <a href='file:///home/jesperhauch/.local/lib/python3.8/site-packages/pandas/core/series.py?line=4431'>4432</a>\u001b[0m \u001b[39m    \"\"\"\u001b[39;00m\n",
      "\u001b[0;32m-> <a href='file:///home/jesperhauch/.local/lib/python3.8/site-packages/pandas/core/series.py?line=4432'>4433</a>\u001b[0m     \u001b[39mreturn\u001b[39;00m SeriesApply(\u001b[39mself\u001b[39;49m, func, convert_dtype, args, kwargs)\u001b[39m.\u001b[39;49mapply()\n",
      "\n",
      "File \u001b[0;32m~/.local/lib/python3.8/site-packages/pandas/core/apply.py:1082\u001b[0m, in \u001b[0;36mSeriesApply.apply\u001b[0;34m(self)\u001b[0m\n",
      "\u001b[1;32m   <a href='file:///home/jesperhauch/.local/lib/python3.8/site-packages/pandas/core/apply.py?line=1077'>1078</a>\u001b[0m \u001b[39mif\u001b[39;00m \u001b[39misinstance\u001b[39m(\u001b[39mself\u001b[39m\u001b[39m.\u001b[39mf, \u001b[39mstr\u001b[39m):\n",
      "\u001b[1;32m   <a href='file:///home/jesperhauch/.local/lib/python3.8/site-packages/pandas/core/apply.py?line=1078'>1079</a>\u001b[0m     \u001b[39m# if we are a string, try to dispatch\u001b[39;00m\n",
      "\u001b[1;32m   <a href='file:///home/jesperhauch/.local/lib/python3.8/site-packages/pandas/core/apply.py?line=1079'>1080</a>\u001b[0m     \u001b[39mreturn\u001b[39;00m \u001b[39mself\u001b[39m\u001b[39m.\u001b[39mapply_str()\n",
      "\u001b[0;32m-> <a href='file:///home/jesperhauch/.local/lib/python3.8/site-packages/pandas/core/apply.py?line=1081'>1082</a>\u001b[0m \u001b[39mreturn\u001b[39;00m \u001b[39mself\u001b[39;49m\u001b[39m.\u001b[39;49mapply_standard()\n",
      "\n",
      "File \u001b[0;32m~/.local/lib/python3.8/site-packages/pandas/core/apply.py:1137\u001b[0m, in \u001b[0;36mSeriesApply.apply_standard\u001b[0;34m(self)\u001b[0m\n",
      "\u001b[1;32m   <a href='file:///home/jesperhauch/.local/lib/python3.8/site-packages/pandas/core/apply.py?line=1130'>1131</a>\u001b[0m         values \u001b[39m=\u001b[39m obj\u001b[39m.\u001b[39mastype(\u001b[39mobject\u001b[39m)\u001b[39m.\u001b[39m_values\n",
      "\u001b[1;32m   <a href='file:///home/jesperhauch/.local/lib/python3.8/site-packages/pandas/core/apply.py?line=1131'>1132</a>\u001b[0m         \u001b[39m# error: Argument 2 to \"map_infer\" has incompatible type\u001b[39;00m\n",
      "\u001b[1;32m   <a href='file:///home/jesperhauch/.local/lib/python3.8/site-packages/pandas/core/apply.py?line=1132'>1133</a>\u001b[0m         \u001b[39m# \"Union[Callable[..., Any], str, List[Union[Callable[..., Any], str]],\u001b[39;00m\n",
      "\u001b[1;32m   <a href='file:///home/jesperhauch/.local/lib/python3.8/site-packages/pandas/core/apply.py?line=1133'>1134</a>\u001b[0m         \u001b[39m# Dict[Hashable, Union[Union[Callable[..., Any], str],\u001b[39;00m\n",
      "\u001b[1;32m   <a href='file:///home/jesperhauch/.local/lib/python3.8/site-packages/pandas/core/apply.py?line=1134'>1135</a>\u001b[0m         \u001b[39m# List[Union[Callable[..., Any], str]]]]]\"; expected\u001b[39;00m\n",
      "\u001b[1;32m   <a href='file:///home/jesperhauch/.local/lib/python3.8/site-packages/pandas/core/apply.py?line=1135'>1136</a>\u001b[0m         \u001b[39m# \"Callable[[Any], Any]\"\u001b[39;00m\n",
      "\u001b[0;32m-> <a href='file:///home/jesperhauch/.local/lib/python3.8/site-packages/pandas/core/apply.py?line=1136'>1137</a>\u001b[0m         mapped \u001b[39m=\u001b[39m lib\u001b[39m.\u001b[39;49mmap_infer(\n",
      "\u001b[1;32m   <a href='file:///home/jesperhauch/.local/lib/python3.8/site-packages/pandas/core/apply.py?line=1137'>1138</a>\u001b[0m             values,\n",
      "\u001b[1;32m   <a href='file:///home/jesperhauch/.local/lib/python3.8/site-packages/pandas/core/apply.py?line=1138'>1139</a>\u001b[0m             f,  \u001b[39m# type: ignore[arg-type]\u001b[39;49;00m\n",
      "\u001b[1;32m   <a href='file:///home/jesperhauch/.local/lib/python3.8/site-packages/pandas/core/apply.py?line=1139'>1140</a>\u001b[0m             convert\u001b[39m=\u001b[39;49m\u001b[39mself\u001b[39;49m\u001b[39m.\u001b[39;49mconvert_dtype,\n",
      "\u001b[1;32m   <a href='file:///home/jesperhauch/.local/lib/python3.8/site-packages/pandas/core/apply.py?line=1140'>1141</a>\u001b[0m         )\n",
      "\u001b[1;32m   <a href='file:///home/jesperhauch/.local/lib/python3.8/site-packages/pandas/core/apply.py?line=1142'>1143</a>\u001b[0m \u001b[39mif\u001b[39;00m \u001b[39mlen\u001b[39m(mapped) \u001b[39mand\u001b[39;00m \u001b[39misinstance\u001b[39m(mapped[\u001b[39m0\u001b[39m], ABCSeries):\n",
      "\u001b[1;32m   <a href='file:///home/jesperhauch/.local/lib/python3.8/site-packages/pandas/core/apply.py?line=1143'>1144</a>\u001b[0m     \u001b[39m# GH#43986 Need to do list(mapped) in order to get treated as nested\u001b[39;00m\n",
      "\u001b[1;32m   <a href='file:///home/jesperhauch/.local/lib/python3.8/site-packages/pandas/core/apply.py?line=1144'>1145</a>\u001b[0m     \u001b[39m#  See also GH#25959 regarding EA support\u001b[39;00m\n",
      "\u001b[1;32m   <a href='file:///home/jesperhauch/.local/lib/python3.8/site-packages/pandas/core/apply.py?line=1145'>1146</a>\u001b[0m     \u001b[39mreturn\u001b[39;00m obj\u001b[39m.\u001b[39m_constructor_expanddim(\u001b[39mlist\u001b[39m(mapped), index\u001b[39m=\u001b[39mobj\u001b[39m.\u001b[39mindex)\n",
      "\n",
      "File \u001b[0;32m~/.local/lib/python3.8/site-packages/pandas/_libs/lib.pyx:2870\u001b[0m, in \u001b[0;36mpandas._libs.lib.map_infer\u001b[0;34m()\u001b[0m\n",
      "\n",
      "\u001b[1;32m/home/jesperhauch/GoogleLocalReviews/Descriptive Statistics copy.ipynb Cell 12'\u001b[0m in \u001b[0;36mcleanString\u001b[0;34m(text)\u001b[0m\n",
      "\u001b[1;32m      <a href='vscode-notebook-cell://wsl%2Bubuntu/home/jesperhauch/GoogleLocalReviews/Descriptive%20Statistics%20copy.ipynb#ch0000033vscode-remote?line=5'>6</a>\u001b[0m \u001b[39mfrom\u001b[39;00m \u001b[39mnltk\u001b[39;00m\u001b[39m.\u001b[39;00m\u001b[39mcorpus\u001b[39;00m \u001b[39mimport\u001b[39;00m stopwords\n",
      "\u001b[1;32m      <a href='vscode-notebook-cell://wsl%2Bubuntu/home/jesperhauch/GoogleLocalReviews/Descriptive%20Statistics%20copy.ipynb#ch0000033vscode-remote?line=6'>7</a>\u001b[0m \u001b[39mif\u001b[39;00m \u001b[39mnot\u001b[39;00m pd\u001b[39m.\u001b[39misna(text):\n",
      "\u001b[0;32m----> <a href='vscode-notebook-cell://wsl%2Bubuntu/home/jesperhauch/GoogleLocalReviews/Descriptive%20Statistics%20copy.ipynb#ch0000033vscode-remote?line=7'>8</a>\u001b[0m     tokens \u001b[39m=\u001b[39m word_tokenize(text) \u001b[39m#Tokenizing\u001b[39;00m\n",
      "\u001b[1;32m      <a href='vscode-notebook-cell://wsl%2Bubuntu/home/jesperhauch/GoogleLocalReviews/Descriptive%20Statistics%20copy.ipynb#ch0000033vscode-remote?line=8'>9</a>\u001b[0m     punctuation \u001b[39m=\u001b[39m [word\u001b[39m.\u001b[39mlower() \u001b[39mfor\u001b[39;00m word \u001b[39min\u001b[39;00m tokens \u001b[39mif\u001b[39;00m word\u001b[39m.\u001b[39misalnum()] \u001b[39m# remove punctuation and set to lower case\u001b[39;00m\n",
      "\u001b[1;32m     <a href='vscode-notebook-cell://wsl%2Bubuntu/home/jesperhauch/GoogleLocalReviews/Descriptive%20Statistics%20copy.ipynb#ch0000033vscode-remote?line=9'>10</a>\u001b[0m     lemma \u001b[39m=\u001b[39m [lemmatizer\u001b[39m.\u001b[39mlemmatize(word) \u001b[39mfor\u001b[39;00m word \u001b[39min\u001b[39;00m punctuation] \u001b[39m# lemmatize words\u001b[39;00m\n",
      "\n",
      "File \u001b[0;32m~/.local/lib/python3.8/site-packages/nltk/tokenize/__init__.py:130\u001b[0m, in \u001b[0;36mword_tokenize\u001b[0;34m(text, language, preserve_line)\u001b[0m\n",
      "\u001b[1;32m    <a href='file:///home/jesperhauch/.local/lib/python3.8/site-packages/nltk/tokenize/__init__.py?line=114'>115</a>\u001b[0m \u001b[39m\"\"\"\u001b[39;00m\n",
      "\u001b[1;32m    <a href='file:///home/jesperhauch/.local/lib/python3.8/site-packages/nltk/tokenize/__init__.py?line=115'>116</a>\u001b[0m \u001b[39mReturn a tokenized copy of *text*,\u001b[39;00m\n",
      "\u001b[1;32m    <a href='file:///home/jesperhauch/.local/lib/python3.8/site-packages/nltk/tokenize/__init__.py?line=116'>117</a>\u001b[0m \u001b[39musing NLTK's recommended word tokenizer\u001b[39;00m\n",
      "\u001b[0;32m   (...)\u001b[0m\n",
      "\u001b[1;32m    <a href='file:///home/jesperhauch/.local/lib/python3.8/site-packages/nltk/tokenize/__init__.py?line=126'>127</a>\u001b[0m \u001b[39m:type preserve_line: bool\u001b[39;00m\n",
      "\u001b[1;32m    <a href='file:///home/jesperhauch/.local/lib/python3.8/site-packages/nltk/tokenize/__init__.py?line=127'>128</a>\u001b[0m \u001b[39m\"\"\"\u001b[39;00m\n",
      "\u001b[1;32m    <a href='file:///home/jesperhauch/.local/lib/python3.8/site-packages/nltk/tokenize/__init__.py?line=128'>129</a>\u001b[0m sentences \u001b[39m=\u001b[39m [text] \u001b[39mif\u001b[39;00m preserve_line \u001b[39melse\u001b[39;00m sent_tokenize(text, language)\n",
      "\u001b[0;32m--> <a href='file:///home/jesperhauch/.local/lib/python3.8/site-packages/nltk/tokenize/__init__.py?line=129'>130</a>\u001b[0m \u001b[39mreturn\u001b[39;00m [\n",
      "\u001b[1;32m    <a href='file:///home/jesperhauch/.local/lib/python3.8/site-packages/nltk/tokenize/__init__.py?line=130'>131</a>\u001b[0m     token \u001b[39mfor\u001b[39;00m sent \u001b[39min\u001b[39;00m sentences \u001b[39mfor\u001b[39;00m token \u001b[39min\u001b[39;00m _treebank_word_tokenizer\u001b[39m.\u001b[39mtokenize(sent)\n",
      "\u001b[1;32m    <a href='file:///home/jesperhauch/.local/lib/python3.8/site-packages/nltk/tokenize/__init__.py?line=131'>132</a>\u001b[0m ]\n",
      "\n",
      "File \u001b[0;32m~/.local/lib/python3.8/site-packages/nltk/tokenize/__init__.py:131\u001b[0m, in \u001b[0;36m<listcomp>\u001b[0;34m(.0)\u001b[0m\n",
      "\u001b[1;32m    <a href='file:///home/jesperhauch/.local/lib/python3.8/site-packages/nltk/tokenize/__init__.py?line=114'>115</a>\u001b[0m \u001b[39m\"\"\"\u001b[39;00m\n",
      "\u001b[1;32m    <a href='file:///home/jesperhauch/.local/lib/python3.8/site-packages/nltk/tokenize/__init__.py?line=115'>116</a>\u001b[0m \u001b[39mReturn a tokenized copy of *text*,\u001b[39;00m\n",
      "\u001b[1;32m    <a href='file:///home/jesperhauch/.local/lib/python3.8/site-packages/nltk/tokenize/__init__.py?line=116'>117</a>\u001b[0m \u001b[39musing NLTK's recommended word tokenizer\u001b[39;00m\n",
      "\u001b[0;32m   (...)\u001b[0m\n",
      "\u001b[1;32m    <a href='file:///home/jesperhauch/.local/lib/python3.8/site-packages/nltk/tokenize/__init__.py?line=126'>127</a>\u001b[0m \u001b[39m:type preserve_line: bool\u001b[39;00m\n",
      "\u001b[1;32m    <a href='file:///home/jesperhauch/.local/lib/python3.8/site-packages/nltk/tokenize/__init__.py?line=127'>128</a>\u001b[0m \u001b[39m\"\"\"\u001b[39;00m\n",
      "\u001b[1;32m    <a href='file:///home/jesperhauch/.local/lib/python3.8/site-packages/nltk/tokenize/__init__.py?line=128'>129</a>\u001b[0m sentences \u001b[39m=\u001b[39m [text] \u001b[39mif\u001b[39;00m preserve_line \u001b[39melse\u001b[39;00m sent_tokenize(text, language)\n",
      "\u001b[1;32m    <a href='file:///home/jesperhauch/.local/lib/python3.8/site-packages/nltk/tokenize/__init__.py?line=129'>130</a>\u001b[0m \u001b[39mreturn\u001b[39;00m [\n",
      "\u001b[0;32m--> <a href='file:///home/jesperhauch/.local/lib/python3.8/site-packages/nltk/tokenize/__init__.py?line=130'>131</a>\u001b[0m     token \u001b[39mfor\u001b[39;00m sent \u001b[39min\u001b[39;00m sentences \u001b[39mfor\u001b[39;00m token \u001b[39min\u001b[39;00m _treebank_word_tokenizer\u001b[39m.\u001b[39;49mtokenize(sent)\n",
      "\u001b[1;32m    <a href='file:///home/jesperhauch/.local/lib/python3.8/site-packages/nltk/tokenize/__init__.py?line=131'>132</a>\u001b[0m ]\n",
      "\n",
      "File \u001b[0;32m~/.local/lib/python3.8/site-packages/nltk/tokenize/destructive.py:158\u001b[0m, in \u001b[0;36mNLTKWordTokenizer.tokenize\u001b[0;34m(self, text, convert_parentheses, return_str)\u001b[0m\n",
      "\u001b[1;32m    <a href='file:///home/jesperhauch/.local/lib/python3.8/site-packages/nltk/tokenize/destructive.py?line=149'>150</a>\u001b[0m     warnings\u001b[39m.\u001b[39mwarn(\n",
      "\u001b[1;32m    <a href='file:///home/jesperhauch/.local/lib/python3.8/site-packages/nltk/tokenize/destructive.py?line=150'>151</a>\u001b[0m         \u001b[39m\"\u001b[39m\u001b[39mParameter \u001b[39m\u001b[39m'\u001b[39m\u001b[39mreturn_str\u001b[39m\u001b[39m'\u001b[39m\u001b[39m has been deprecated and should no \u001b[39m\u001b[39m\"\u001b[39m\n",
      "\u001b[1;32m    <a href='file:///home/jesperhauch/.local/lib/python3.8/site-packages/nltk/tokenize/destructive.py?line=151'>152</a>\u001b[0m         \u001b[39m\"\u001b[39m\u001b[39mlonger be used.\u001b[39m\u001b[39m\"\u001b[39m,\n",
      "\u001b[1;32m    <a href='file:///home/jesperhauch/.local/lib/python3.8/site-packages/nltk/tokenize/destructive.py?line=152'>153</a>\u001b[0m         category\u001b[39m=\u001b[39m\u001b[39mDeprecationWarning\u001b[39;00m,\n",
      "\u001b[1;32m    <a href='file:///home/jesperhauch/.local/lib/python3.8/site-packages/nltk/tokenize/destructive.py?line=153'>154</a>\u001b[0m         stacklevel\u001b[39m=\u001b[39m\u001b[39m2\u001b[39m,\n",
      "\u001b[1;32m    <a href='file:///home/jesperhauch/.local/lib/python3.8/site-packages/nltk/tokenize/destructive.py?line=154'>155</a>\u001b[0m     )\n",
      "\u001b[1;32m    <a href='file:///home/jesperhauch/.local/lib/python3.8/site-packages/nltk/tokenize/destructive.py?line=156'>157</a>\u001b[0m \u001b[39mfor\u001b[39;00m regexp, substitution \u001b[39min\u001b[39;00m \u001b[39mself\u001b[39m\u001b[39m.\u001b[39mSTARTING_QUOTES:\n",
      "\u001b[0;32m--> <a href='file:///home/jesperhauch/.local/lib/python3.8/site-packages/nltk/tokenize/destructive.py?line=157'>158</a>\u001b[0m     text \u001b[39m=\u001b[39m regexp\u001b[39m.\u001b[39;49msub(substitution, text)\n",
      "\u001b[1;32m    <a href='file:///home/jesperhauch/.local/lib/python3.8/site-packages/nltk/tokenize/destructive.py?line=159'>160</a>\u001b[0m \u001b[39mfor\u001b[39;00m regexp, substitution \u001b[39min\u001b[39;00m \u001b[39mself\u001b[39m\u001b[39m.\u001b[39mPUNCTUATION:\n",
      "\u001b[1;32m    <a href='file:///home/jesperhauch/.local/lib/python3.8/site-packages/nltk/tokenize/destructive.py?line=160'>161</a>\u001b[0m     text \u001b[39m=\u001b[39m regexp\u001b[39m.\u001b[39msub(substitution, text)\n",
      "\n",
      "\u001b[0;31mKeyboardInterrupt\u001b[0m: "
     ]
    }
   ],
   "source": [
    "reviews['reviewTextClean'] = reviews['reviewText'].apply(cleanString)"
   ]
  },
  {
   "cell_type": "code",
   "execution_count": null,
   "metadata": {},
   "outputs": [],
   "source": [
    "reviews.to_csv(data_path + \"reviews_cleaned.csv\", index=False)"
   ]
  },
  {
   "cell_type": "markdown",
   "metadata": {},
   "source": [
    "# Descriptive Statistics "
   ]
  },
  {
   "cell_type": "code",
   "execution_count": null,
   "metadata": {},
   "outputs": [],
   "source": [
    "def generateBaseMap(default_location=[56.46679, -2.97028], default_zoom_start=12):\n",
    "    base_map = folium.Map(location=default_location, control_scale=True, zoom_start=default_zoom_start)\n",
    "    return base_map"
   ]
  }
 ],
 "metadata": {
  "interpreter": {
   "hash": "cef06f2affa5ae95562f0760bca9fa2432cd63766c8d1240875ac699c6103183"
  },
  "kernelspec": {
   "display_name": "Python 3.8.10 ('abaenv': venv)",
   "language": "python",
   "name": "python3"
  },
  "language_info": {
   "codemirror_mode": {
    "name": "ipython",
    "version": 3
   },
   "file_extension": ".py",
   "mimetype": "text/x-python",
   "name": "python",
   "nbconvert_exporter": "python",
   "pygments_lexer": "ipython3",
   "version": "3.8.11"
  },
  "orig_nbformat": 4
 },
 "nbformat": 4,
 "nbformat_minor": 2
}
