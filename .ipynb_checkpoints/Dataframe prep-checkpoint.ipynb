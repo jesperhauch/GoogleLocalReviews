{
 "cells": [
  {
   "cell_type": "code",
   "execution_count": 1,
   "metadata": {},
   "outputs": [],
   "source": [
    "import pandas as pd\n",
    "import matplotlib.pyplot as plt\n",
    "%matplotlib inline\n",
    "import seaborn as sns\n",
    "import numpy as np\n",
    "sns.set_style(\"darkgrid\")\n",
    "import math"
   ]
  },
  {
   "cell_type": "code",
   "execution_count": 2,
   "metadata": {},
   "outputs": [],
   "source": [
    "data_path = \"data/\"\n",
    "places = pd.read_csv(data_path + \"places_final.csv\", sep=\",\")\n",
    "reviews = pd.read_csv(data_path + \"reviews_final.csv\", sep=\",\")"
   ]
  },
  {
   "cell_type": "markdown",
   "metadata": {},
   "source": [
    "## Datafram preperation\n",
    "\n",
    "To create a dataframe which can be used for space embedding in London and New York, the features for both cities are aggregated on a grid cell level. "
   ]
  },
  {
   "cell_type": "markdown",
   "metadata": {},
   "source": [
    "### Business per grid cell\n",
    "\n",
    "Counting all business per cell"
   ]
  },
  {
   "cell_type": "code",
   "execution_count": 3,
   "metadata": {},
   "outputs": [],
   "source": [
    "df_grid=places.groupby('Grid')['gPlusPlaceId'].count().reset_index()\n",
    "df_grid.rename(columns = {'gPlusPlaceId':'PlaceCount'}, inplace = True)"
   ]
  },
  {
   "cell_type": "markdown",
   "metadata": {},
   "source": [
    "Finding the avg price range for businesses in the grid cells"
   ]
  },
  {
   "cell_type": "code",
   "execution_count": 4,
   "metadata": {},
   "outputs": [],
   "source": [
    "price = places.groupby('Grid').mean()['price'].reset_index()\n",
    "df_grid=df_grid.merge(price,on='Grid')"
   ]
  },
  {
   "cell_type": "markdown",
   "metadata": {},
   "source": [
    "Counting number of business per category per grid cell"
   ]
  },
  {
   "cell_type": "code",
   "execution_count": 5,
   "metadata": {},
   "outputs": [],
   "source": [
    "cat_cols=places.groupby(['Grid','category']).count()['gPlusPlaceId'].reset_index()\n",
    "cat_cols=pd.pivot_table(cat_cols, index='Grid', columns='category', values='gPlusPlaceId').fillna(0)"
   ]
  },
  {
   "cell_type": "code",
   "execution_count": 6,
   "metadata": {},
   "outputs": [],
   "source": [
    "df_grid=df_grid.join(cat_cols,on='Grid')"
   ]
  },
  {
   "cell_type": "code",
   "execution_count": 7,
   "metadata": {},
   "outputs": [
    {
     "data": {
      "text/plain": [
       "(508, 15)"
      ]
     },
     "execution_count": 7,
     "metadata": {},
     "output_type": "execute_result"
    }
   ],
   "source": [
    "df_grid.shape"
   ]
  },
  {
   "cell_type": "code",
   "execution_count": 8,
   "metadata": {
    "scrolled": true
   },
   "outputs": [
    {
     "data": {
      "text/html": [
       "<div>\n",
       "<style scoped>\n",
       "    .dataframe tbody tr th:only-of-type {\n",
       "        vertical-align: middle;\n",
       "    }\n",
       "\n",
       "    .dataframe tbody tr th {\n",
       "        vertical-align: top;\n",
       "    }\n",
       "\n",
       "    .dataframe thead th {\n",
       "        text-align: right;\n",
       "    }\n",
       "</style>\n",
       "<table border=\"1\" class=\"dataframe\">\n",
       "  <thead>\n",
       "    <tr style=\"text-align: right;\">\n",
       "      <th></th>\n",
       "      <th>Grid</th>\n",
       "      <th>PlaceCount</th>\n",
       "      <th>price</th>\n",
       "      <th>Accommodation</th>\n",
       "      <th>Bar</th>\n",
       "      <th>Cafe</th>\n",
       "      <th>Cultural</th>\n",
       "      <th>Education</th>\n",
       "      <th>Health</th>\n",
       "      <th>Other</th>\n",
       "      <th>Outdoors</th>\n",
       "      <th>Restaurant</th>\n",
       "      <th>Retail</th>\n",
       "      <th>Service</th>\n",
       "      <th>Wholesale</th>\n",
       "    </tr>\n",
       "  </thead>\n",
       "  <tbody>\n",
       "    <tr>\n",
       "      <th>0</th>\n",
       "      <td>L0</td>\n",
       "      <td>8</td>\n",
       "      <td>2.000000</td>\n",
       "      <td>0.0</td>\n",
       "      <td>0.0</td>\n",
       "      <td>0.0</td>\n",
       "      <td>0.0</td>\n",
       "      <td>0.0</td>\n",
       "      <td>0.0</td>\n",
       "      <td>1.0</td>\n",
       "      <td>1.0</td>\n",
       "      <td>5.0</td>\n",
       "      <td>0.0</td>\n",
       "      <td>1.0</td>\n",
       "      <td>0.0</td>\n",
       "    </tr>\n",
       "    <tr>\n",
       "      <th>1</th>\n",
       "      <td>L1</td>\n",
       "      <td>10</td>\n",
       "      <td>2.000000</td>\n",
       "      <td>0.0</td>\n",
       "      <td>0.0</td>\n",
       "      <td>1.0</td>\n",
       "      <td>0.0</td>\n",
       "      <td>0.0</td>\n",
       "      <td>1.0</td>\n",
       "      <td>3.0</td>\n",
       "      <td>0.0</td>\n",
       "      <td>2.0</td>\n",
       "      <td>0.0</td>\n",
       "      <td>2.0</td>\n",
       "      <td>1.0</td>\n",
       "    </tr>\n",
       "    <tr>\n",
       "      <th>2</th>\n",
       "      <td>L10</td>\n",
       "      <td>3</td>\n",
       "      <td>NaN</td>\n",
       "      <td>0.0</td>\n",
       "      <td>0.0</td>\n",
       "      <td>0.0</td>\n",
       "      <td>0.0</td>\n",
       "      <td>1.0</td>\n",
       "      <td>0.0</td>\n",
       "      <td>1.0</td>\n",
       "      <td>0.0</td>\n",
       "      <td>0.0</td>\n",
       "      <td>1.0</td>\n",
       "      <td>0.0</td>\n",
       "      <td>0.0</td>\n",
       "    </tr>\n",
       "    <tr>\n",
       "      <th>3</th>\n",
       "      <td>L100</td>\n",
       "      <td>74</td>\n",
       "      <td>2.235294</td>\n",
       "      <td>12.0</td>\n",
       "      <td>6.0</td>\n",
       "      <td>6.0</td>\n",
       "      <td>0.0</td>\n",
       "      <td>1.0</td>\n",
       "      <td>4.0</td>\n",
       "      <td>16.0</td>\n",
       "      <td>0.0</td>\n",
       "      <td>17.0</td>\n",
       "      <td>4.0</td>\n",
       "      <td>7.0</td>\n",
       "      <td>1.0</td>\n",
       "    </tr>\n",
       "    <tr>\n",
       "      <th>4</th>\n",
       "      <td>L101</td>\n",
       "      <td>163</td>\n",
       "      <td>1.953488</td>\n",
       "      <td>21.0</td>\n",
       "      <td>19.0</td>\n",
       "      <td>20.0</td>\n",
       "      <td>1.0</td>\n",
       "      <td>1.0</td>\n",
       "      <td>10.0</td>\n",
       "      <td>19.0</td>\n",
       "      <td>0.0</td>\n",
       "      <td>37.0</td>\n",
       "      <td>21.0</td>\n",
       "      <td>9.0</td>\n",
       "      <td>5.0</td>\n",
       "    </tr>\n",
       "  </tbody>\n",
       "</table>\n",
       "</div>"
      ],
      "text/plain": [
       "   Grid  PlaceCount     price  Accommodation   Bar  Cafe  Cultural  Education  \\\n",
       "0    L0           8  2.000000            0.0   0.0   0.0       0.0        0.0   \n",
       "1    L1          10  2.000000            0.0   0.0   1.0       0.0        0.0   \n",
       "2   L10           3       NaN            0.0   0.0   0.0       0.0        1.0   \n",
       "3  L100          74  2.235294           12.0   6.0   6.0       0.0        1.0   \n",
       "4  L101         163  1.953488           21.0  19.0  20.0       1.0        1.0   \n",
       "\n",
       "   Health  Other  Outdoors  Restaurant  Retail  Service  Wholesale  \n",
       "0     0.0    1.0       1.0         5.0     0.0      1.0        0.0  \n",
       "1     1.0    3.0       0.0         2.0     0.0      2.0        1.0  \n",
       "2     0.0    1.0       0.0         0.0     1.0      0.0        0.0  \n",
       "3     4.0   16.0       0.0        17.0     4.0      7.0        1.0  \n",
       "4    10.0   19.0       0.0        37.0    21.0      9.0        5.0  "
      ]
     },
     "execution_count": 8,
     "metadata": {},
     "output_type": "execute_result"
    }
   ],
   "source": [
    "df_grid.head()"
   ]
  },
  {
   "cell_type": "markdown",
   "metadata": {},
   "source": [
    "### Rating\n",
    "\n",
    "Finding number of reviews per cell"
   ]
  },
  {
   "cell_type": "code",
   "execution_count": 9,
   "metadata": {},
   "outputs": [],
   "source": [
    "mergeddf=places.merge(reviews,on='gPlusPlaceId',how='outer').dropna(subset=['name'])"
   ]
  },
  {
   "cell_type": "code",
   "execution_count": 24,
   "metadata": {},
   "outputs": [
    {
     "data": {
      "text/html": [
       "<div>\n",
       "<style scoped>\n",
       "    .dataframe tbody tr th:only-of-type {\n",
       "        vertical-align: middle;\n",
       "    }\n",
       "\n",
       "    .dataframe tbody tr th {\n",
       "        vertical-align: top;\n",
       "    }\n",
       "\n",
       "    .dataframe thead th {\n",
       "        text-align: right;\n",
       "    }\n",
       "</style>\n",
       "<table border=\"1\" class=\"dataframe\">\n",
       "  <thead>\n",
       "    <tr style=\"text-align: right;\">\n",
       "      <th></th>\n",
       "      <th>Grid</th>\n",
       "      <th>gPlusUserId</th>\n",
       "    </tr>\n",
       "  </thead>\n",
       "  <tbody>\n",
       "    <tr>\n",
       "      <th>0</th>\n",
       "      <td>L0</td>\n",
       "      <td>125</td>\n",
       "    </tr>\n",
       "    <tr>\n",
       "      <th>1</th>\n",
       "      <td>L1</td>\n",
       "      <td>31</td>\n",
       "    </tr>\n",
       "    <tr>\n",
       "      <th>2</th>\n",
       "      <td>L10</td>\n",
       "      <td>8</td>\n",
       "    </tr>\n",
       "    <tr>\n",
       "      <th>3</th>\n",
       "      <td>L100</td>\n",
       "      <td>853</td>\n",
       "    </tr>\n",
       "    <tr>\n",
       "      <th>4</th>\n",
       "      <td>L101</td>\n",
       "      <td>1330</td>\n",
       "    </tr>\n",
       "    <tr>\n",
       "      <th>...</th>\n",
       "      <td>...</td>\n",
       "      <td>...</td>\n",
       "    </tr>\n",
       "    <tr>\n",
       "      <th>503</th>\n",
       "      <td>NY86</td>\n",
       "      <td>599</td>\n",
       "    </tr>\n",
       "    <tr>\n",
       "      <th>504</th>\n",
       "      <td>NY87</td>\n",
       "      <td>131</td>\n",
       "    </tr>\n",
       "    <tr>\n",
       "      <th>505</th>\n",
       "      <td>NY88</td>\n",
       "      <td>47</td>\n",
       "    </tr>\n",
       "    <tr>\n",
       "      <th>506</th>\n",
       "      <td>NY98</td>\n",
       "      <td>9</td>\n",
       "    </tr>\n",
       "    <tr>\n",
       "      <th>507</th>\n",
       "      <td>NY99</td>\n",
       "      <td>1647</td>\n",
       "    </tr>\n",
       "  </tbody>\n",
       "</table>\n",
       "<p>508 rows × 2 columns</p>\n",
       "</div>"
      ],
      "text/plain": [
       "     Grid  gPlusUserId\n",
       "0      L0          125\n",
       "1      L1           31\n",
       "2     L10            8\n",
       "3    L100          853\n",
       "4    L101         1330\n",
       "..    ...          ...\n",
       "503  NY86          599\n",
       "504  NY87          131\n",
       "505  NY88           47\n",
       "506  NY98            9\n",
       "507  NY99         1647\n",
       "\n",
       "[508 rows x 2 columns]"
      ]
     },
     "execution_count": 24,
     "metadata": {},
     "output_type": "execute_result"
    }
   ],
   "source": [
    "grid_reviews"
   ]
  },
  {
   "cell_type": "code",
   "execution_count": 10,
   "metadata": {},
   "outputs": [],
   "source": [
    "grid_reviews = mergeddf.groupby('Grid').count()['gPlusUserId'].reset_index()\n",
    "df_grid=df_grid.merge(grid_reviews,on='Grid')"
   ]
  },
  {
   "cell_type": "markdown",
   "metadata": {},
   "source": [
    "Overall average rating per cell, and average per budiness type\n",
    "\n",
    "When finding the average ratings, all business with less than 3 reviews are removed, as these tend to have a very large average review. \n",
    "A reason for this could be that friends and family give good ratings to newly opened businesses."
   ]
  },
  {
   "cell_type": "code",
   "execution_count": 11,
   "metadata": {},
   "outputs": [],
   "source": [
    "mergeddf['rating'] = mergeddf['rating'].astype(float)"
   ]
  },
  {
   "cell_type": "code",
   "execution_count": 12,
   "metadata": {},
   "outputs": [],
   "source": [
    "# removing all business with less than 3 reviews\n",
    "avg_reviews = mergeddf.groupby(['Grid','gPlusPlaceId'])['rating'].agg([\"count\", \"mean\"]).loc[lambda x: x['count'] > 3, \"mean\"].reset_index()\n",
    "\n",
    "# finding the average rating per grid cell\n",
    "avg_reviews = avg_reviews.groupby('Grid').mean()['mean'].reset_index()\n",
    "\n",
    "df_grid=df_grid.merge(avg_reviews,on='Grid')"
   ]
  },
  {
   "cell_type": "code",
   "execution_count": 13,
   "metadata": {},
   "outputs": [],
   "source": [
    "cat_rev = mergeddf.groupby(['Grid','category','gPlusPlaceId'])['rating'].agg([\"count\", \"mean\"]).loc[lambda x: x['count'] > 3, \"mean\"].reset_index()"
   ]
  },
  {
   "cell_type": "code",
   "execution_count": 14,
   "metadata": {},
   "outputs": [],
   "source": [
    "#Creating rating name column for each business type's avg rating \n",
    "cat_val=[]\n",
    "\n",
    "for i in range(len(cat_rev)):\n",
    "    cat_val.append(cat_rev['category'][i]+'_rating')\n",
    "\n",
    "cat_rev['cat_val']=cat_val"
   ]
  },
  {
   "cell_type": "code",
   "execution_count": 15,
   "metadata": {},
   "outputs": [],
   "source": [
    "category_rating=pd.pivot_table(cat_rev, index='Grid', columns='cat_val', values='mean').fillna(0)\n",
    "\n",
    "df_grid=df_grid.merge(category_rating,on='Grid')"
   ]
  },
  {
   "cell_type": "markdown",
   "metadata": {},
   "source": [
    "### Sensitivity\n",
    "\n",
    "Counting positive and negative reviews in a grid cell"
   ]
  },
  {
   "cell_type": "code",
   "execution_count": 16,
   "metadata": {
    "scrolled": false
   },
   "outputs": [],
   "source": [
    "positive=np.zeros(len(mergeddf))\n",
    "negative=np.zeros(len(mergeddf))\n",
    "#neutral=np.zeros(len(mergeddf))\n",
    "\n",
    "for i in range(len(mergeddf)):\n",
    "    sensitiv=[mergeddf['posReviewPercent'][i],mergeddf['negReviewPercent'][i]]#,mergeddf['midReviewPercent'][i]]\n",
    "    sensitivmax=np.where(sensitiv==np.max(sensitiv))[0]\n",
    "    \n",
    "    if math.isnan(sensitiv[0])==False:\n",
    "        if 0 in sensitivmax:\n",
    "            positive[i]=1\n",
    "\n",
    "        if 1 in sensitivmax:\n",
    "            negative[i]=1   \n",
    "\n",
    "#        if 2 in sensitivmax:\n",
    "#            neutral[i]=1\n",
    "    else:\n",
    "        0\n",
    "\n",
    "mergeddf['positive'] = positive\n",
    "mergeddf['negative'] = negative\n",
    "#mergeddf['neutral'] = neutral"
   ]
  },
  {
   "cell_type": "code",
   "execution_count": 17,
   "metadata": {},
   "outputs": [],
   "source": [
    "# Sum of positiv and negative ratings per grid cell\n",
    "\n",
    "sensitivity = mergeddf.groupby('Grid').sum()[['positive','negative']].reset_index()\n",
    "\n",
    "# Total number of positive and negative ratings in dataframe\n",
    "count=sensitivity.iloc[:,1:].sum(axis=1)\n",
    "\n",
    "# distribution of positive and negative reviews per grid cell\n",
    "sensitivity['positive']=sensitivity['positive']/count\n",
    "sensitivity['negative']=sensitivity['negative']/count"
   ]
  },
  {
   "cell_type": "code",
   "execution_count": 18,
   "metadata": {},
   "outputs": [],
   "source": [
    "df_grid=df_grid.merge(sensitivity,on='Grid')"
   ]
  },
  {
   "cell_type": "markdown",
   "metadata": {},
   "source": [
    "Relative review length per grip cell (Avg length per cell over evg length for all reviews)"
   ]
  },
  {
   "cell_type": "code",
   "execution_count": 19,
   "metadata": {},
   "outputs": [],
   "source": [
    "review_len=[]\n",
    "for i in range(len(mergeddf)):\n",
    "    if pd.isnull(mergeddf['reviewText'][i])==False:\n",
    "        review_len.append(len(mergeddf['reviewText'][i].split(\" \")))\n",
    "    else: \n",
    "        review_len.append(0)\n",
    "        \n",
    "\n",
    "mergeddf['review_len']=review_len   \n",
    "avg_review_len = np.mean(review_len)"
   ]
  },
  {
   "cell_type": "code",
   "execution_count": 20,
   "metadata": {},
   "outputs": [],
   "source": [
    "Grid_review_len = mergeddf.groupby('Grid').mean()['review_len'].reset_index()\n",
    "Grid_review_len['review_len'] = Grid_review_len['review_len']/avg_review_len"
   ]
  },
  {
   "cell_type": "markdown",
   "metadata": {},
   "source": [
    "Final dataframe for grid cell aggregated features"
   ]
  },
  {
   "cell_type": "code",
   "execution_count": 21,
   "metadata": {
    "scrolled": true
   },
   "outputs": [
    {
     "data": {
      "text/html": [
       "<div>\n",
       "<style scoped>\n",
       "    .dataframe tbody tr th:only-of-type {\n",
       "        vertical-align: middle;\n",
       "    }\n",
       "\n",
       "    .dataframe tbody tr th {\n",
       "        vertical-align: top;\n",
       "    }\n",
       "\n",
       "    .dataframe thead th {\n",
       "        text-align: right;\n",
       "    }\n",
       "</style>\n",
       "<table border=\"1\" class=\"dataframe\">\n",
       "  <thead>\n",
       "    <tr style=\"text-align: right;\">\n",
       "      <th></th>\n",
       "      <th>Grid</th>\n",
       "      <th>PlaceCount</th>\n",
       "      <th>price</th>\n",
       "      <th>Accommodation</th>\n",
       "      <th>Bar</th>\n",
       "      <th>Cafe</th>\n",
       "      <th>Cultural</th>\n",
       "      <th>Education</th>\n",
       "      <th>Health</th>\n",
       "      <th>Other</th>\n",
       "      <th>...</th>\n",
       "      <th>Health_rating</th>\n",
       "      <th>Other_rating</th>\n",
       "      <th>Outdoors_rating</th>\n",
       "      <th>Restaurant_rating</th>\n",
       "      <th>Retail_rating</th>\n",
       "      <th>Service_rating</th>\n",
       "      <th>Wholesale_rating</th>\n",
       "      <th>positive</th>\n",
       "      <th>negative</th>\n",
       "      <th>review_len</th>\n",
       "    </tr>\n",
       "  </thead>\n",
       "  <tbody>\n",
       "    <tr>\n",
       "      <th>0</th>\n",
       "      <td>L0</td>\n",
       "      <td>8</td>\n",
       "      <td>2.000000</td>\n",
       "      <td>0.0</td>\n",
       "      <td>0.0</td>\n",
       "      <td>0.0</td>\n",
       "      <td>0.0</td>\n",
       "      <td>0.0</td>\n",
       "      <td>0.0</td>\n",
       "      <td>1.0</td>\n",
       "      <td>...</td>\n",
       "      <td>0.0</td>\n",
       "      <td>4.020000</td>\n",
       "      <td>0.0</td>\n",
       "      <td>3.942857</td>\n",
       "      <td>0.000000</td>\n",
       "      <td>0.000000</td>\n",
       "      <td>0.000000</td>\n",
       "      <td>0.696000</td>\n",
       "      <td>0.304000</td>\n",
       "      <td>0.536595</td>\n",
       "    </tr>\n",
       "    <tr>\n",
       "      <th>1</th>\n",
       "      <td>L1</td>\n",
       "      <td>10</td>\n",
       "      <td>2.000000</td>\n",
       "      <td>0.0</td>\n",
       "      <td>0.0</td>\n",
       "      <td>1.0</td>\n",
       "      <td>0.0</td>\n",
       "      <td>0.0</td>\n",
       "      <td>1.0</td>\n",
       "      <td>3.0</td>\n",
       "      <td>...</td>\n",
       "      <td>5.0</td>\n",
       "      <td>0.000000</td>\n",
       "      <td>0.0</td>\n",
       "      <td>4.777778</td>\n",
       "      <td>0.000000</td>\n",
       "      <td>4.000000</td>\n",
       "      <td>0.000000</td>\n",
       "      <td>0.851852</td>\n",
       "      <td>0.148148</td>\n",
       "      <td>0.802238</td>\n",
       "    </tr>\n",
       "    <tr>\n",
       "      <th>2</th>\n",
       "      <td>L10</td>\n",
       "      <td>3</td>\n",
       "      <td>NaN</td>\n",
       "      <td>0.0</td>\n",
       "      <td>0.0</td>\n",
       "      <td>0.0</td>\n",
       "      <td>0.0</td>\n",
       "      <td>1.0</td>\n",
       "      <td>0.0</td>\n",
       "      <td>1.0</td>\n",
       "      <td>...</td>\n",
       "      <td>0.0</td>\n",
       "      <td>4.200000</td>\n",
       "      <td>0.0</td>\n",
       "      <td>0.000000</td>\n",
       "      <td>0.000000</td>\n",
       "      <td>0.000000</td>\n",
       "      <td>0.000000</td>\n",
       "      <td>0.857143</td>\n",
       "      <td>0.142857</td>\n",
       "      <td>0.999095</td>\n",
       "    </tr>\n",
       "    <tr>\n",
       "      <th>3</th>\n",
       "      <td>L100</td>\n",
       "      <td>74</td>\n",
       "      <td>2.235294</td>\n",
       "      <td>12.0</td>\n",
       "      <td>6.0</td>\n",
       "      <td>6.0</td>\n",
       "      <td>0.0</td>\n",
       "      <td>1.0</td>\n",
       "      <td>4.0</td>\n",
       "      <td>16.0</td>\n",
       "      <td>...</td>\n",
       "      <td>3.6</td>\n",
       "      <td>4.024460</td>\n",
       "      <td>0.0</td>\n",
       "      <td>3.711172</td>\n",
       "      <td>4.500000</td>\n",
       "      <td>3.028846</td>\n",
       "      <td>0.000000</td>\n",
       "      <td>0.732975</td>\n",
       "      <td>0.267025</td>\n",
       "      <td>0.895548</td>\n",
       "    </tr>\n",
       "    <tr>\n",
       "      <th>4</th>\n",
       "      <td>L101</td>\n",
       "      <td>163</td>\n",
       "      <td>1.953488</td>\n",
       "      <td>21.0</td>\n",
       "      <td>19.0</td>\n",
       "      <td>20.0</td>\n",
       "      <td>1.0</td>\n",
       "      <td>1.0</td>\n",
       "      <td>10.0</td>\n",
       "      <td>19.0</td>\n",
       "      <td>...</td>\n",
       "      <td>4.5</td>\n",
       "      <td>4.223132</td>\n",
       "      <td>0.0</td>\n",
       "      <td>3.748855</td>\n",
       "      <td>3.549446</td>\n",
       "      <td>4.311111</td>\n",
       "      <td>3.722222</td>\n",
       "      <td>0.801535</td>\n",
       "      <td>0.198465</td>\n",
       "      <td>0.843739</td>\n",
       "    </tr>\n",
       "  </tbody>\n",
       "</table>\n",
       "<p>5 rows × 32 columns</p>\n",
       "</div>"
      ],
      "text/plain": [
       "   Grid  PlaceCount     price  Accommodation   Bar  Cafe  Cultural  Education  \\\n",
       "0    L0           8  2.000000            0.0   0.0   0.0       0.0        0.0   \n",
       "1    L1          10  2.000000            0.0   0.0   1.0       0.0        0.0   \n",
       "2   L10           3       NaN            0.0   0.0   0.0       0.0        1.0   \n",
       "3  L100          74  2.235294           12.0   6.0   6.0       0.0        1.0   \n",
       "4  L101         163  1.953488           21.0  19.0  20.0       1.0        1.0   \n",
       "\n",
       "   Health  Other  ...  Health_rating  Other_rating  Outdoors_rating  \\\n",
       "0     0.0    1.0  ...            0.0      4.020000              0.0   \n",
       "1     1.0    3.0  ...            5.0      0.000000              0.0   \n",
       "2     0.0    1.0  ...            0.0      4.200000              0.0   \n",
       "3     4.0   16.0  ...            3.6      4.024460              0.0   \n",
       "4    10.0   19.0  ...            4.5      4.223132              0.0   \n",
       "\n",
       "   Restaurant_rating  Retail_rating  Service_rating  Wholesale_rating  \\\n",
       "0           3.942857       0.000000        0.000000          0.000000   \n",
       "1           4.777778       0.000000        4.000000          0.000000   \n",
       "2           0.000000       0.000000        0.000000          0.000000   \n",
       "3           3.711172       4.500000        3.028846          0.000000   \n",
       "4           3.748855       3.549446        4.311111          3.722222   \n",
       "\n",
       "   positive  negative  review_len  \n",
       "0  0.696000  0.304000    0.536595  \n",
       "1  0.851852  0.148148    0.802238  \n",
       "2  0.857143  0.142857    0.999095  \n",
       "3  0.732975  0.267025    0.895548  \n",
       "4  0.801535  0.198465    0.843739  \n",
       "\n",
       "[5 rows x 32 columns]"
      ]
     },
     "execution_count": 21,
     "metadata": {},
     "output_type": "execute_result"
    }
   ],
   "source": [
    "df_grid=df_grid.merge(Grid_review_len,on='Grid')\n",
    "df_grid.head()"
   ]
  },
  {
   "cell_type": "code",
   "execution_count": 23,
   "metadata": {},
   "outputs": [
    {
     "data": {
      "text/plain": [
       "Index(['Grid', 'PlaceCount', 'price', 'Accommodation', 'Bar', 'Cafe',\n",
       "       'Cultural', 'Education', 'Health', 'Other', 'Outdoors', 'Restaurant',\n",
       "       'Retail', 'Service', 'Wholesale', 'gPlusUserId', 'mean',\n",
       "       'Accommodation_rating', 'Bar_rating', 'Cafe_rating', 'Cultural_rating',\n",
       "       'Education_rating', 'Health_rating', 'Other_rating', 'Outdoors_rating',\n",
       "       'Restaurant_rating', 'Retail_rating', 'Service_rating',\n",
       "       'Wholesale_rating', 'positive', 'negative', 'review_len'],\n",
       "      dtype='object')"
      ]
     },
     "execution_count": 23,
     "metadata": {},
     "output_type": "execute_result"
    }
   ],
   "source": [
    "df_grid.columns"
   ]
  },
  {
   "cell_type": "code",
   "execution_count": null,
   "metadata": {},
   "outputs": [],
   "source": []
  }
 ],
 "metadata": {
  "kernelspec": {
   "display_name": "Python 3",
   "language": "python",
   "name": "python3"
  },
  "language_info": {
   "codemirror_mode": {
    "name": "ipython",
    "version": 3
   },
   "file_extension": ".py",
   "mimetype": "text/x-python",
   "name": "python",
   "nbconvert_exporter": "python",
   "pygments_lexer": "ipython3",
   "version": "3.8.5"
  }
 },
 "nbformat": 4,
 "nbformat_minor": 4
}
