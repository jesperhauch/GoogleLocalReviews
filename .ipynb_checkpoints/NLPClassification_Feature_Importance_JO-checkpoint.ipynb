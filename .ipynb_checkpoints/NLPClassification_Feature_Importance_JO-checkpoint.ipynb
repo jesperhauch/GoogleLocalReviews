{
 "cells": [
  {
   "cell_type": "code",
   "execution_count": 1,
   "metadata": {},
   "outputs": [
    {
     "name": "stderr",
     "output_type": "stream",
     "text": [
      "/Users/johanneiversen/opt/anaconda3/envs/tf/lib/python3.7/site-packages/statsmodels/tools/_testing.py:19: FutureWarning: pandas.util.testing is deprecated. Use the functions in the public API at pandas.testing instead.\n",
      "  import pandas.util.testing as tm\n"
     ]
    }
   ],
   "source": [
    "import numpy as np\n",
    "import pandas as pd\n",
    "import matplotlib.pyplot as plt\n",
    "import seaborn as sns\n",
    "from tqdm.notebook import tqdm\n",
    "from scipy.sparse import hstack, vstack, coo_matrix, csr_matrix, bmat\n",
    "sns.set_style(\"darkgrid\")\n",
    "data_path = \"data/\""
   ]
  },
  {
   "cell_type": "markdown",
   "metadata": {},
   "source": [
    "# Model building"
   ]
  },
  {
   "cell_type": "markdown",
   "metadata": {},
   "source": [
    "Build models with:\n",
    "- BoW or tf-idf features\n",
    "- Raw review length\n",
    "- Lix number [see here](https://en.wikipedia.org/wiki/Lix_(readability_test))\n",
    "- Sentiment score (3 scores)"
   ]
  },
  {
   "cell_type": "code",
   "execution_count": 2,
   "metadata": {},
   "outputs": [],
   "source": [
    "df = pd.read_csv(\"data/NLP_data.csv\")\n",
    "df['reviewTextClean'] = df['reviewTextClean'].str.lower()\n",
    "df.dropna(subset=[\"reviewTextClean\"], inplace=True)"
   ]
  },
  {
   "cell_type": "code",
   "execution_count": 3,
   "metadata": {
    "scrolled": true
   },
   "outputs": [
    {
     "data": {
      "text/html": [
       "<div>\n",
       "<style scoped>\n",
       "    .dataframe tbody tr th:only-of-type {\n",
       "        vertical-align: middle;\n",
       "    }\n",
       "\n",
       "    .dataframe tbody tr th {\n",
       "        vertical-align: top;\n",
       "    }\n",
       "\n",
       "    .dataframe thead th {\n",
       "        text-align: right;\n",
       "    }\n",
       "</style>\n",
       "<table border=\"1\" class=\"dataframe\">\n",
       "  <thead>\n",
       "    <tr style=\"text-align: right;\">\n",
       "      <th></th>\n",
       "      <th>rating</th>\n",
       "      <th>reviewText</th>\n",
       "      <th>reviewTextClean</th>\n",
       "      <th>posReviewPercent</th>\n",
       "      <th>negReviewPercent</th>\n",
       "      <th>midReviewPercent</th>\n",
       "      <th>price</th>\n",
       "      <th>LIX</th>\n",
       "      <th>NumberOfWords</th>\n",
       "      <th>gPlusPlaceId</th>\n",
       "    </tr>\n",
       "  </thead>\n",
       "  <tbody>\n",
       "    <tr>\n",
       "      <th>0</th>\n",
       "      <td>3.0</td>\n",
       "      <td>This is a very cute hotel with good amenities ...</td>\n",
       "      <td>cute hotel good amenity nice location great cr...</td>\n",
       "      <td>0.141</td>\n",
       "      <td>0.109</td>\n",
       "      <td>0.751</td>\n",
       "      <td>3.0</td>\n",
       "      <td>28.500000</td>\n",
       "      <td>50</td>\n",
       "      <td>106689630448064755324</td>\n",
       "    </tr>\n",
       "    <tr>\n",
       "      <th>1</th>\n",
       "      <td>4.0</td>\n",
       "      <td>Love this place.   The Great/Good:  Massage an...</td>\n",
       "      <td>love place massage facial technician best loun...</td>\n",
       "      <td>0.234</td>\n",
       "      <td>0.051</td>\n",
       "      <td>0.716</td>\n",
       "      <td>3.0</td>\n",
       "      <td>82.047619</td>\n",
       "      <td>63</td>\n",
       "      <td>108256990636148259283</td>\n",
       "    </tr>\n",
       "    <tr>\n",
       "      <th>2</th>\n",
       "      <td>5.0</td>\n",
       "      <td>service is amazing, the line goes so fast.</td>\n",
       "      <td>service amazing line go fast</td>\n",
       "      <td>0.352</td>\n",
       "      <td>0.000</td>\n",
       "      <td>0.648</td>\n",
       "      <td>2.0</td>\n",
       "      <td>33.000000</td>\n",
       "      <td>8</td>\n",
       "      <td>105947477166033397439</td>\n",
       "    </tr>\n",
       "    <tr>\n",
       "      <th>3</th>\n",
       "      <td>5.0</td>\n",
       "      <td>Get the chicken green salad. Yum.</td>\n",
       "      <td>get chicken green salad yum</td>\n",
       "      <td>0.000</td>\n",
       "      <td>0.000</td>\n",
       "      <td>1.000</td>\n",
       "      <td>1.0</td>\n",
       "      <td>19.666667</td>\n",
       "      <td>6</td>\n",
       "      <td>107098981103934500500</td>\n",
       "    </tr>\n",
       "    <tr>\n",
       "      <th>4</th>\n",
       "      <td>5.0</td>\n",
       "      <td>Never had a falafel bar before. Yum. +1 for su...</td>\n",
       "      <td>never falafel bar yum super crunchy sweet pota...</td>\n",
       "      <td>0.266</td>\n",
       "      <td>0.000</td>\n",
       "      <td>0.734</td>\n",
       "      <td>1.0</td>\n",
       "      <td>26.047619</td>\n",
       "      <td>21</td>\n",
       "      <td>108585910849109169666</td>\n",
       "    </tr>\n",
       "  </tbody>\n",
       "</table>\n",
       "</div>"
      ],
      "text/plain": [
       "   rating                                         reviewText  \\\n",
       "0     3.0  This is a very cute hotel with good amenities ...   \n",
       "1     4.0  Love this place.   The Great/Good:  Massage an...   \n",
       "2     5.0         service is amazing, the line goes so fast.   \n",
       "3     5.0                  Get the chicken green salad. Yum.   \n",
       "4     5.0  Never had a falafel bar before. Yum. +1 for su...   \n",
       "\n",
       "                                     reviewTextClean  posReviewPercent  \\\n",
       "0  cute hotel good amenity nice location great cr...             0.141   \n",
       "1  love place massage facial technician best loun...             0.234   \n",
       "2                       service amazing line go fast             0.352   \n",
       "3                        get chicken green salad yum             0.000   \n",
       "4  never falafel bar yum super crunchy sweet pota...             0.266   \n",
       "\n",
       "   negReviewPercent  midReviewPercent  price        LIX  NumberOfWords  \\\n",
       "0             0.109             0.751    3.0  28.500000             50   \n",
       "1             0.051             0.716    3.0  82.047619             63   \n",
       "2             0.000             0.648    2.0  33.000000              8   \n",
       "3             0.000             1.000    1.0  19.666667              6   \n",
       "4             0.000             0.734    1.0  26.047619             21   \n",
       "\n",
       "            gPlusPlaceId  \n",
       "0  106689630448064755324  \n",
       "1  108256990636148259283  \n",
       "2  105947477166033397439  \n",
       "3  107098981103934500500  \n",
       "4  108585910849109169666  "
      ]
     },
     "execution_count": 3,
     "metadata": {},
     "output_type": "execute_result"
    }
   ],
   "source": [
    "df.head()"
   ]
  },
  {
   "cell_type": "code",
   "execution_count": 4,
   "metadata": {},
   "outputs": [
    {
     "data": {
      "text/plain": [
       "(96001, 33795)"
      ]
     },
     "execution_count": 4,
     "metadata": {},
     "output_type": "execute_result"
    }
   ],
   "source": [
    "from sklearn.feature_extraction.text import CountVectorizer\n",
    "count_vect = CountVectorizer()\n",
    "bow_counts = count_vect.fit_transform(df['reviewTextClean'].values)\n",
    "bow_counts.shape"
   ]
  },
  {
   "cell_type": "code",
   "execution_count": 5,
   "metadata": {},
   "outputs": [
    {
     "name": "stdout",
     "output_type": "stream",
     "text": [
      "Length of vocabulary: 33795\n",
      "Length of corpus: 96001\n"
     ]
    }
   ],
   "source": [
    "print(\"Length of vocabulary:\", len(count_vect.vocabulary_))\n",
    "print(\"Length of corpus:\", bow_counts.shape[0])"
   ]
  },
  {
   "cell_type": "markdown",
   "metadata": {},
   "source": [
    "Create tf-idf representation of `reviewTextClean`"
   ]
  },
  {
   "cell_type": "code",
   "execution_count": 6,
   "metadata": {},
   "outputs": [],
   "source": [
    "from sklearn.feature_extraction.text import TfidfTransformer\n",
    "tfidf = TfidfTransformer()\n",
    "bow_tfidf = tfidf.fit_transform(bow_counts)"
   ]
  },
  {
   "cell_type": "markdown",
   "metadata": {},
   "source": [
    "Add remaining features to both bow_counts and bow_tfidf"
   ]
  },
  {
   "cell_type": "code",
   "execution_count": 7,
   "metadata": {},
   "outputs": [],
   "source": [
    "from sklearn.preprocessing import MinMaxScaler\n",
    "scaler = MinMaxScaler()\n",
    "df[[\"LIXNorm\", \"NoWNorm\"]] = scaler.fit_transform(df[[\"LIX\", \"NumberOfWords\"]])"
   ]
  },
  {
   "cell_type": "code",
   "execution_count": 8,
   "metadata": {},
   "outputs": [],
   "source": [
    "df[\"price\"] = df[\"price\"].astype(int)"
   ]
  },
  {
   "cell_type": "code",
   "execution_count": 9,
   "metadata": {},
   "outputs": [],
   "source": [
    "#rem_feats = csr_matrix(df[[\"posReviewPercent\", \"negReviewPercent\", \"midReviewPercent\", \"LIX\", \"NumberOfWords\"]])\n",
    "rem_feats = csr_matrix(df[[\"posReviewPercent\", \"negReviewPercent\", \"LIXNorm\", \"NoWNorm\"]])\n",
    "bow_counts_full = hstack([bow_counts, rem_feats]).tocsr()\n",
    "bow_tfidf_full = hstack([bow_tfidf, rem_feats]).tocsr()"
   ]
  },
  {
   "cell_type": "code",
   "execution_count": 10,
   "metadata": {},
   "outputs": [
    {
     "name": "stdout",
     "output_type": "stream",
     "text": [
      "  (0, 1254)\t0.2865966896963391\n",
      "  (0, 2533)\t0.10711259765276591\n",
      "  (0, 6048)\t0.27831494510811655\n",
      "  (0, 7158)\t0.28031377173992783\n",
      "  (0, 7583)\t0.16834943938545552\n",
      "  (0, 8103)\t0.2545201118484472\n",
      "  (0, 9298)\t0.10483606009852262\n",
      "  (0, 11508)\t0.1564140656440828\n",
      "  (0, 12864)\t0.06794621292653356\n",
      "  (0, 13111)\t0.0694752219899452\n",
      "  (0, 14447)\t0.3576194807022489\n",
      "  (0, 16802)\t0.14417594583527765\n",
      "  (0, 17415)\t0.1284114453908536\n",
      "  (0, 19909)\t0.13346342235554148\n",
      "  (0, 20051)\t0.09669954162366268\n",
      "  (0, 26347)\t0.16408146827974746\n",
      "  (0, 27946)\t0.2000790176860044\n",
      "  (0, 28372)\t0.09847745742261445\n",
      "  (0, 30105)\t0.12602822034467961\n",
      "  (0, 30254)\t0.2728413629251984\n",
      "  (0, 30982)\t0.16176057418419473\n",
      "  (0, 31186)\t0.25223180565723413\n",
      "  (0, 31797)\t0.25635987216511785\n",
      "  (0, 32542)\t0.15739559923055757\n",
      "  (0, 33301)\t0.2697086464659349\n",
      "  (0, 33795)\t0.141\n",
      "  (0, 33796)\t0.109\n",
      "  (0, 33797)\t0.1220604978234178\n",
      "  (0, 33798)\t0.06464379947229551\n"
     ]
    }
   ],
   "source": [
    "print(bow_tfidf_full[0,:])"
   ]
  },
  {
   "cell_type": "markdown",
   "metadata": {},
   "source": [
    "First the data is split into training and test. In this case, to keep a completely clean test set, two splits are made. First we split the data into a developement set and a test set. This test set is set aside for final testing once the models has been tuned. The developement set is then split into train and validation such that one can train and test a model as usual. This is done for both the bag of words set and the TF-IDF set in order to test the hypothesis that a TF-IDF performs better than a simple bag of words count. "
   ]
  },
  {
   "cell_type": "code",
   "execution_count": 11,
   "metadata": {},
   "outputs": [],
   "source": [
    "from sklearn.model_selection import train_test_split\n",
    "y = df.price.values-1\n",
    "text= np.array(df['reviewText'])\n",
    "\n",
    "# Split into development and test split for bow and tfidf only\n",
    "X_bow_dev, X_bow_test, X_tfidf_dev, X_tfidf_test, X_tfidf_f_dev, X_tfidf_f_test, y_dev, y_test, text_dev, text_test = train_test_split(bow_counts, bow_tfidf, bow_tfidf_full,  y, text, test_size=0.2, stratify=y)\n",
    "\n",
    "# Split development into training and validation for bow and tfidf only\n",
    "X_bow_train, X_bow_val, X_tfidf_train, X_tfidf_val, X_tfidf_f_train, X_tfidf_f_val, y_train, y_val, text_train, text_val = train_test_split(X_bow_dev, X_tfidf_dev, X_tfidf_f_dev, y_dev, text_dev, test_size=0.1, stratify=y_dev)"
   ]
  },
  {
   "cell_type": "code",
   "execution_count": 12,
   "metadata": {},
   "outputs": [],
   "source": [
    "# Function that returns performance of classifier \n",
    "from sklearn.metrics import accuracy_score, f1_score, confusion_matrix\n",
    "def classification_metrics(header_text, clf, X_train, X_test, y_train, y_test):\n",
    "    print(\"=\"*35)\n",
    "    print(\" \"*int((35-len(header_text))/2), header_text)\n",
    "    print(\"=\"*35)\n",
    "    y_pred = clf.predict(X_train)\n",
    "    print(\"Train Accuracy:\", accuracy_score(y_train, y_pred))\n",
    "    y_pred = clf.predict(X_test)\n",
    "    print(\"Val Accuracy:\", accuracy_score(y_test, y_pred))\n",
    "    print(\"F1 Score:\", f1_score(y_test, y_pred, average=\"weighted\"))\n",
    "    print(confusion_matrix(y_test, y_pred))"
   ]
  },
  {
   "cell_type": "markdown",
   "metadata": {},
   "source": [
    "First a simple dummy classifier was tested using the bag of word counts. It predicts the class of the observation from the most frequent class in the set. This performs about as well as expected with a accuracy of 55.82% for both training and validation. This is also the case when adding the additional features as the most frequent class in the observed y does not change with additional features."
   ]
  },
  {
   "cell_type": "code",
   "execution_count": 13,
   "metadata": {
    "scrolled": true
   },
   "outputs": [
    {
     "name": "stdout",
     "output_type": "stream",
     "text": [
      "===================================\n",
      "          Dummy classifier\n",
      "===================================\n",
      "Train Accuracy: 0.5582465277777777\n",
      "Val Accuracy: 0.558203125\n",
      "F1 Score: 0.3999359566934069\n",
      "[[   0 1382    0]\n",
      " [   0 4287    0]\n",
      " [   0 2011    0]]\n"
     ]
    }
   ],
   "source": [
    "# Dummy classifier predicting most frequent class\n",
    "from sklearn.dummy import DummyClassifier\n",
    "dummy = DummyClassifier(strategy=\"most_frequent\")\n",
    "dummy.fit(X_bow_train, y_train)\n",
    "y_pred = dummy.predict(X_bow_val)\n",
    "classification_metrics(\"Dummy classifier\", dummy, X_bow_train, X_bow_val, y_train, y_val)"
   ]
  },
  {
   "cell_type": "markdown",
   "metadata": {},
   "source": [
    "From the dummy classifier, the next step to test was the TF-IDF data. This was done using a logistic regression as that provides a discrete outcome. This performs significantly better than the dummy classifier with an accuracy of 65% on the validation set. When adding the extra features troubles arise"
   ]
  },
  {
   "cell_type": "code",
   "execution_count": 14,
   "metadata": {},
   "outputs": [
    {
     "name": "stdout",
     "output_type": "stream",
     "text": [
      "===================================\n",
      "      LogisticRegression tf-idf\n",
      "===================================\n",
      "Train Accuracy: 0.7230758101851852\n",
      "Val Accuracy: 0.6518229166666667\n",
      "F1 Score: 0.6305739673992731\n",
      "[[ 476  849   57]\n",
      " [ 187 3645  455]\n",
      " [  40 1086  885]]\n"
     ]
    }
   ],
   "source": [
    "from sklearn.linear_model import LogisticRegression\n",
    "lr = LogisticRegression(solver=\"saga\")\n",
    "lr.fit(X_tfidf_train, y_train)\n",
    "classification_metrics(\"LogisticRegression tf-idf\", lr, X_tfidf_train, X_tfidf_val, y_train, y_val)"
   ]
  },
  {
   "cell_type": "code",
   "execution_count": 15,
   "metadata": {
    "scrolled": false
   },
   "outputs": [
    {
     "name": "stdout",
     "output_type": "stream",
     "text": [
      "===================================\n",
      "   LogisticRegression tf-idf full\n",
      "===================================\n",
      "Train Accuracy: 0.7232494212962963\n",
      "Val Accuracy: 0.651171875\n",
      "F1 Score: 0.630126912706268\n",
      "[[ 477  847   58]\n",
      " [ 191 3638  458]\n",
      " [  39 1086  886]]\n"
     ]
    }
   ],
   "source": [
    "lr = LogisticRegression(solver=\"saga\")\n",
    "lr.fit(X_tfidf_f_train, y_train)\n",
    "classification_metrics(\"LogisticRegression tf-idf full\", lr, X_tfidf_f_train, X_tfidf_f_val, y_train, y_val)"
   ]
  },
  {
   "cell_type": "code",
   "execution_count": 54,
   "metadata": {},
   "outputs": [
    {
     "data": {
      "text/plain": [
       "array([1, 1, 1, ..., 1, 0, 1])"
      ]
     },
     "execution_count": 54,
     "metadata": {},
     "output_type": "execute_result"
    }
   ],
   "source": [
    "y_pred=lr.predict(X_tfidf_f_train)\n",
    "y_pred"
   ]
  },
  {
   "cell_type": "markdown",
   "metadata": {},
   "source": [
    "## Feature importance analysis\n",
    "\n",
    "First we identify significant featues by using odds ratio"
   ]
  },
  {
   "cell_type": "code",
   "execution_count": 16,
   "metadata": {},
   "outputs": [],
   "source": [
    "import seaborn as sns\n",
    "import matplotlib\n",
    "import matplotlib.pyplot as plt\n",
    "from scipy import sparse\n",
    "import shap\n",
    "from random import sample\n",
    "import random\n",
    "%matplotlib inline\n",
    "FIG_SIZE = (30, 20)\n",
    "sns.set_style(\"whitegrid\")\n",
    "sns.set(rc = {'figure.figsize': FIG_SIZE})\n",
    "matplotlib.rcParams['figure.figsize'] = FIG_SIZE\n",
    "plt.rcParams['figure.figsize'] = FIG_SIZE"
   ]
  },
  {
   "cell_type": "markdown",
   "metadata": {},
   "source": [
    "Defining helper function s to calculate feature importance for the regression model"
   ]
  },
  {
   "cell_type": "code",
   "execution_count": 17,
   "metadata": {},
   "outputs": [],
   "source": [
    "def imp_df(column_names, importances):\n",
    "    \"\"\"Function for creating a feature importance dataframe\"\"\"\n",
    "    df = pd.DataFrame({'feature': column_names, 'feature_importance': importances})\\\n",
    "           .sort_values('feature_importance', ascending=False)\\\n",
    "           .reset_index(drop=True)\n",
    "    return df\n",
    "\n",
    "def var_imp_plot(imp_df, title):\n",
    "    \"\"\"Plotting a feature importance dataframe (horizontal barchart)\"\"\"\n",
    "    sns.barplot(x='feature_importance', y='feature', data=imp_df, \n",
    "                orient='h', color='royalblue')\\\n",
    "       .set_title(title, fontsize = 20)"
   ]
  },
  {
   "cell_type": "markdown",
   "metadata": {},
   "source": [
    "Extracting the feature names from the vector count and appending the 4 additional features for the review sensitivity, LIX number and number of words "
   ]
  },
  {
   "cell_type": "code",
   "execution_count": 18,
   "metadata": {},
   "outputs": [
    {
     "name": "stderr",
     "output_type": "stream",
     "text": [
      "Function get_feature_names is deprecated; get_feature_names is deprecated in 1.0 and will be removed in 1.2. Please use get_feature_names_out instead.\n"
     ]
    }
   ],
   "source": [
    "feature_names = count_vect.get_feature_names()\n",
    "feature_names.extend([\"posReviewPercent\", \"negReviewPercent\", \"LIXNorm\", \"NoWNorm\"])"
   ]
  },
  {
   "cell_type": "markdown",
   "metadata": {},
   "source": [
    "Creating a datafram for the X train data for tf-idf full data, and adding the feature names for the columns"
   ]
  },
  {
   "cell_type": "code",
   "execution_count": 19,
   "metadata": {},
   "outputs": [],
   "source": [
    "X = pd.DataFrame.sparse.from_spmatrix(X_tfidf_f_train, columns=feature_names)"
   ]
  },
  {
   "cell_type": "markdown",
   "metadata": {},
   "source": [
    "Finding the feature impartance from the linear regression coefficients fot all features. \n",
    "\n",
    "As the logistic regression model predict 3 values, `$`, `$$`and `$$` respectivly, we have chosen to analyse which featues the the biggest influence on the expensive estblishments"
   ]
  },
  {
   "cell_type": "code",
   "execution_count": 20,
   "metadata": {
    "scrolled": true
   },
   "outputs": [],
   "source": [
    "lr_imp = imp_df(X.columns, lr.coef_[2])"
   ]
  },
  {
   "cell_type": "markdown",
   "metadata": {},
   "source": [
    "To decrease the number of features considers, we only consider the 30 features with the highest positiv and the 30 feature with the most negative imporatance score"
   ]
  },
  {
   "cell_type": "code",
   "execution_count": 21,
   "metadata": {},
   "outputs": [],
   "source": [
    "importance_30 = lr_imp[:15].append(lr_imp[-15:], ignore_index=True)"
   ]
  },
  {
   "cell_type": "code",
   "execution_count": 22,
   "metadata": {
    "scrolled": false
   },
   "outputs": [
    {
     "data": {
      "image/png": "[encoded data removed]",
      "text/plain": [
       "<Figure size 2160x1440 with 1 Axes>"
      ]
     },
     "metadata": {},
     "output_type": "display_data"
    }
   ],
   "source": [
    "var_imp_plot(importance_30, 'Linear regression feature importance')"
   ]
  },
  {
   "cell_type": "markdown",
   "metadata": {},
   "source": [
    "To minimize the runtie of the SHAP analysis, a random sample with size = 1000 is taken from the sparsed X_train data"
   ]
  },
  {
   "cell_type": "code",
   "execution_count": 23,
   "metadata": {},
   "outputs": [],
   "source": [
    "all_indices = range(X_tfidf_f_train.shape[0])\n",
    "random_indices = random.sample(all_indices, 1000)\n",
    "\n",
    "sorted_random_indices = sorted(random_indices)\n",
    "X_sample=X_tfidf_f_train[sorted_random_indices, :]"
   ]
  },
  {
   "cell_type": "markdown",
   "metadata": {},
   "source": [
    "Using the SHAP implementation to explain the test dataset for the logistic regression model"
   ]
  },
  {
   "cell_type": "code",
   "execution_count": 24,
   "metadata": {},
   "outputs": [
    {
     "name": "stderr",
     "output_type": "stream",
     "text": [
      "Function get_feature_names is deprecated; get_feature_names is deprecated in 1.0 and will be removed in 1.2. Please use get_feature_names_out instead.\n"
     ]
    }
   ],
   "source": [
    "explainer = shap.Explainer(lr, X_tfidf_f_train, feature_names=count_vect.get_feature_names())"
   ]
  },
  {
   "cell_type": "code",
   "execution_count": 25,
   "metadata": {},
   "outputs": [],
   "source": [
    "#finding the chap_values for the n=1000 random samples\n",
    "shap_values = explainer(X_sample)"
   ]
  },
  {
   "cell_type": "markdown",
   "metadata": {},
   "source": [
    "Plotting the features with the highest importance for establishments predicted to have price class `$$$`,\n",
    "\n",
    "A negative shap value inducated that a feature or a word appearing makes the classifyer less likely to predict an esablishment as exopensive, where a positive shap value indicated high chance of preducting the price class"
   ]
  },
  {
   "cell_type": "code",
   "execution_count": 26,
   "metadata": {},
   "outputs": [
    {
     "data": {
      "text/plain": [
       "(1000, 33799)"
      ]
     },
     "execution_count": 26,
     "metadata": {},
     "output_type": "execute_result"
    }
   ],
   "source": [
    "shap_values[:,:,2].shape"
   ]
  },
  {
   "cell_type": "code",
   "execution_count": 27,
   "metadata": {
    "scrolled": false
   },
   "outputs": [
    {
     "data": {
      "image/png": "[encoded data removed]",
      "text/plain": [
       "<Figure size 576x540 with 2 Axes>"
      ]
     },
     "metadata": {},
     "output_type": "display_data"
    }
   ],
   "source": [
    "# SHAP beeswarm plot\n",
    "shap.summary_plot(shap_values[:,:,2],feature_names=count_vect.get_feature_names(),max_display=15) \n",
    "#max display can be larger if the fig size is adjusted"
   ]
  },
  {
   "cell_type": "code",
   "execution_count": 28,
   "metadata": {},
   "outputs": [],
   "source": [
    "# finding the datalables for features in X\n",
    "train_ind= X.index.values\n",
    "data_disp, labels_disp = X, feature_names\n",
    "X_train_disp = data_disp.loc[train_ind]"
   ]
  },
  {
   "cell_type": "markdown",
   "metadata": {},
   "source": [
    "**Test to see feature importance for prediction where the exact pricerange was predicted and some where the prediction is wrong**"
   ]
  },
  {
   "cell_type": "code",
   "execution_count": 57,
   "metadata": {},
   "outputs": [],
   "source": [
    "test_review=999\n",
    "x_index=sorted_random_indices[test_review]"
   ]
  },
  {
   "cell_type": "code",
   "execution_count": 58,
   "metadata": {},
   "outputs": [
    {
     "data": {
      "text/plain": [
       "\"This is a great little place in Morningside Heights. They have great cooked to order food and an interesting variety of Black and White, Red and White, Green and White (etc.) cookies. I've gotten a variety of paninis here and I've consistently enjoyed the different choices they offer. It's usually packed out during lunch, so you may have to get it to go.\""
      ]
     },
     "execution_count": 58,
     "metadata": {},
     "output_type": "execute_result"
    }
   ],
   "source": [
    "text_train[x_index]"
   ]
  },
  {
   "cell_type": "code",
   "execution_count": 59,
   "metadata": {},
   "outputs": [
    {
     "name": "stdout",
     "output_type": "stream",
     "text": [
      "Actual price range of review:  0\n",
      "Predicted price range of review:  0\n"
     ]
    }
   ],
   "source": [
    "print('Actual price range of review: ', y_train[x_index])\n",
    "print('Predicted price range of review: ',y_pred[x_index])"
   ]
  },
  {
   "cell_type": "code",
   "execution_count": 60,
   "metadata": {
    "scrolled": false
   },
   "outputs": [
    {
     "data": {
      "image/png": "[encoded data removed]",
      "text/plain": [
       "<Figure size 1440x216 with 1 Axes>"
      ]
     },
     "metadata": {},
     "output_type": "display_data"
    }
   ],
   "source": [
    "shap.force_plot(explainer.expected_value[2], shap_values[test_review,:,2].values, \n",
    "                X.iloc[x_index,:], \n",
    "                matplotlib=True)"
   ]
  },
  {
   "cell_type": "code",
   "execution_count": 61,
   "metadata": {},
   "outputs": [
    {
     "data": {
      "text/plain": [
       "\"Quite honestly, this place was just not memorable. It's probably one of the better date night options of lower Manhattan but other than that the price of the food exceeds the quality of the food. Was it bad? No. What it great? No. I think I just expect better.\""
      ]
     },
     "execution_count": 61,
     "metadata": {},
     "output_type": "execute_result"
    }
   ],
   "source": [
    "test_review=562\n",
    "x_index=sorted_random_indices[test_review]\n",
    "text_train[x_index]"
   ]
  },
  {
   "cell_type": "code",
   "execution_count": 62,
   "metadata": {},
   "outputs": [
    {
     "name": "stdout",
     "output_type": "stream",
     "text": [
      "Actual price range of review:  2\n",
      "Predicted price range of review:  1\n"
     ]
    }
   ],
   "source": [
    "print('Actual price range of review: ', y_train[x_index])\n",
    "print('Predicted price range of review: ',y_pred[x_index])"
   ]
  },
  {
   "cell_type": "code",
   "execution_count": 63,
   "metadata": {},
   "outputs": [
    {
     "data": {
      "image/png": "[encoded data removed]",
      "text/plain": [
       "<Figure size 1440x216 with 1 Axes>"
      ]
     },
     "metadata": {},
     "output_type": "display_data"
    }
   ],
   "source": [
    "shap.force_plot(explainer.expected_value[2], shap_values[test_review,:,2].values, \n",
    "                X.iloc[x_index,:], \n",
    "                matplotlib=True)"
   ]
  },
  {
   "cell_type": "code",
   "execution_count": 64,
   "metadata": {},
   "outputs": [
    {
     "data": {
      "text/plain": [
       "'Pasta alla Norma is my favorite. The cheese is worth ordering if for no other reason than the intoxicating truffle honey side. Also pay attention to the specials, they always have great seasonal options.'"
      ]
     },
     "execution_count": 64,
     "metadata": {},
     "output_type": "execute_result"
    }
   ],
   "source": [
    "test_review=689\n",
    "x_index=sorted_random_indices[test_review]\n",
    "text_train[x_index]"
   ]
  },
  {
   "cell_type": "code",
   "execution_count": 65,
   "metadata": {},
   "outputs": [
    {
     "name": "stdout",
     "output_type": "stream",
     "text": [
      "Actual price range of review:  1\n",
      "Predicted price range of review:  1\n"
     ]
    }
   ],
   "source": [
    "print('Actual price range of review: ', y_train[x_index])\n",
    "print('Predicted price range of review: ',y_pred[x_index])"
   ]
  },
  {
   "cell_type": "code",
   "execution_count": 66,
   "metadata": {},
   "outputs": [
    {
     "data": {
      "image/png": "[encoded data removed]",
      "text/plain": [
       "<Figure size 1440x216 with 1 Axes>"
      ]
     },
     "metadata": {},
     "output_type": "display_data"
    }
   ],
   "source": [
    "shap.force_plot(explainer.expected_value[2], shap_values[test_review,:,2].values, \n",
    "                X.iloc[x_index,:], \n",
    "                matplotlib=True)"
   ]
  },
  {
   "cell_type": "markdown",
   "metadata": {},
   "source": [
    "### Additional models"
   ]
  },
  {
   "cell_type": "code",
   "execution_count": null,
   "metadata": {},
   "outputs": [
    {
     "name": "stderr",
     "output_type": "stream",
     "text": [
      "/Users/johanneiversen/opt/anaconda3/envs/tf/lib/python3.7/site-packages/ipykernel_launcher.py:1: SparseEfficiencyWarning: Comparing a sparse matrix with 0 using == is inefficient, try using != instead.\n",
      "  \"\"\"Entry point for launching an IPython kernel.\n"
     ]
    }
   ],
   "source": [
    "X2 = sm.add_constant(X_tfidf_f_train)\n",
    "est = sm.OLS(y_tfidf_f_train, X2)\n",
    "est2 = est.fit()\n",
    "print(est2.summary())"
   ]
  },
  {
   "cell_type": "markdown",
   "metadata": {},
   "source": [
    "Then xgboost is employed to see what a Gradient Boosting can do to classify the price points of the establishments. This does not perform better than the logistic regression."
   ]
  },
  {
   "cell_type": "code",
   "execution_count": 21,
   "metadata": {},
   "outputs": [
    {
     "name": "stdout",
     "output_type": "stream",
     "text": [
      "===================================\n",
      "           XGBoost tf-idf\n",
      "===================================\n",
      "Train Accuracy: 0.6863715277777778\n",
      "Val Accuracy: 0.620703125\n",
      "F1 Score: 0.568942691312278\n",
      "[[ 329 1036   17]\n",
      " [ 117 3926  244]\n",
      " [  20 1479  512]]\n"
     ]
    }
   ],
   "source": [
    "import xgboost\n",
    "xgb = xgboost.XGBClassifier(eval_metric=\"mlogloss\", use_label_encoder=False)\n",
    "xgb.fit(X_tfidf_train, y_train)\n",
    "classification_metrics(\"XGBoost tf-idf\", xgb, X_tfidf_train, X_tfidf_val, y_train, y_val)"
   ]
  },
  {
   "cell_type": "code",
   "execution_count": 22,
   "metadata": {},
   "outputs": [
    {
     "name": "stdout",
     "output_type": "stream",
     "text": [
      "===================================\n",
      "         XGBoost tf-idf full\n",
      "===================================\n",
      "Train Accuracy: 0.6898292824074074\n",
      "Val Accuracy: 0.6225260416666667\n",
      "F1 Score: 0.5708278956151229\n",
      "[[ 320 1041   21]\n",
      " [ 110 3934  243]\n",
      " [  20 1464  527]]\n"
     ]
    }
   ],
   "source": [
    "xgb.fit(X_tfidf_f_train, y_train)\n",
    "classification_metrics(\"XGBoost tf-idf full\", xgb, X_tfidf_f_train, X_tfidf_f_val, y_train, y_val)"
   ]
  },
  {
   "cell_type": "markdown",
   "metadata": {},
   "source": [
    "Finally, as the Logistic regression seems to perform the best, an Ordinal Logistic Regression is tested. This could be useful as there is an inherent order to the price points in the sense that `$$` is more expensive than `$` etc. (`$` < `$$` < `$$$`) "
   ]
  },
  {
   "cell_type": "code",
   "execution_count": 25,
   "metadata": {},
   "outputs": [
    {
     "name": "stdout",
     "output_type": "stream",
     "text": [
      "===================================\n",
      " Ordinal Logistic Regression tf-idf\n",
      "===================================\n",
      "Train Accuracy: 0.7819733796296297\n",
      "Val Accuracy: 0.558203125\n",
      "F1 Score: 0.3999359566934069\n",
      "[[   0 1382    0]\n",
      " [   0 4287    0]\n",
      " [   0 2011    0]]\n"
     ]
    }
   ],
   "source": [
    "from mord import LogisticAT\n",
    "from sklearn.preprocessing import StandardScaler\n",
    "# y must be integer - fixed in df \n",
    "#y_train = np.array([int(i) for i in y_train])\n",
    "scaler = StandardScaler(with_mean=False)\n",
    "X_tfidf_train = scaler.fit_transform(X_tfidf_train)\n",
    "lat = LogisticAT(alpha=1.0, verbose=0)\n",
    "lat.fit(X_tfidf_train, y_train)\n",
    "classification_metrics(\"Ordinal Logistic Regression tf-idf\", lat, X_tfidf_train, X_tfidf_val, y_train, y_val)"
   ]
  },
  {
   "cell_type": "code",
   "execution_count": 26,
   "metadata": {},
   "outputs": [
    {
     "name": "stdout",
     "output_type": "stream",
     "text": [
      "===================================\n",
      " Ordinal Logistic Regression tf-idf full\n",
      "===================================\n",
      "Train Accuracy: 0.7823350694444444\n",
      "Val Accuracy: 0.558203125\n",
      "F1 Score: 0.3999359566934069\n",
      "[[   0 1382    0]\n",
      " [   0 4287    0]\n",
      " [   0 2011    0]]\n"
     ]
    }
   ],
   "source": [
    "X_tfidf_f_train = scaler.fit_transform(X_tfidf_f_train)\n",
    "lat.fit(X_tfidf_f_train, y_train)\n",
    "classification_metrics(\"Ordinal Logistic Regression tf-idf full\", lat, X_tfidf_f_train, X_tfidf_f_val, y_train, y_val)"
   ]
  },
  {
   "cell_type": "markdown",
   "metadata": {},
   "source": [
    "As ordinal regression (as well as dummy and xgboost) performs significantly worse than the logistic regression, the logistic regression is chosen to be tuned in order to increase performance. This is done through a grid search to tune the hyperparameters."
   ]
  },
  {
   "cell_type": "code",
   "execution_count": null,
   "metadata": {},
   "outputs": [
    {
     "name": "stderr",
     "output_type": "stream",
     "text": [
      "/Users/johanneiversen/opt/anaconda3/envs/tf/lib/python3.7/site-packages/sklearn/linear_model/_logistic.py:1484: UserWarning: Setting penalty='none' will ignore the C and l1_ratio parameters\n",
      "  \"Setting penalty='none' will ignore the C and l1_ratio parameters\"\n",
      "/Users/johanneiversen/opt/anaconda3/envs/tf/lib/python3.7/site-packages/sklearn/linear_model/_sag.py:354: ConvergenceWarning: The max_iter was reached which means the coef_ did not converge\n",
      "  ConvergenceWarning,\n",
      "/Users/johanneiversen/opt/anaconda3/envs/tf/lib/python3.7/site-packages/sklearn/linear_model/_logistic.py:1484: UserWarning: Setting penalty='none' will ignore the C and l1_ratio parameters\n",
      "  \"Setting penalty='none' will ignore the C and l1_ratio parameters\"\n",
      "/Users/johanneiversen/opt/anaconda3/envs/tf/lib/python3.7/site-packages/sklearn/linear_model/_sag.py:354: ConvergenceWarning: The max_iter was reached which means the coef_ did not converge\n",
      "  ConvergenceWarning,\n",
      "/Users/johanneiversen/opt/anaconda3/envs/tf/lib/python3.7/site-packages/sklearn/linear_model/_logistic.py:1484: UserWarning: Setting penalty='none' will ignore the C and l1_ratio parameters\n",
      "  \"Setting penalty='none' will ignore the C and l1_ratio parameters\"\n",
      "/Users/johanneiversen/opt/anaconda3/envs/tf/lib/python3.7/site-packages/sklearn/linear_model/_sag.py:354: ConvergenceWarning: The max_iter was reached which means the coef_ did not converge\n",
      "  ConvergenceWarning,\n",
      "/Users/johanneiversen/opt/anaconda3/envs/tf/lib/python3.7/site-packages/sklearn/linear_model/_logistic.py:1484: UserWarning: Setting penalty='none' will ignore the C and l1_ratio parameters\n",
      "  \"Setting penalty='none' will ignore the C and l1_ratio parameters\"\n",
      "/Users/johanneiversen/opt/anaconda3/envs/tf/lib/python3.7/site-packages/sklearn/linear_model/_sag.py:354: ConvergenceWarning: The max_iter was reached which means the coef_ did not converge\n",
      "  ConvergenceWarning,\n",
      "/Users/johanneiversen/opt/anaconda3/envs/tf/lib/python3.7/site-packages/sklearn/linear_model/_logistic.py:1484: UserWarning: Setting penalty='none' will ignore the C and l1_ratio parameters\n",
      "  \"Setting penalty='none' will ignore the C and l1_ratio parameters\"\n",
      "/Users/johanneiversen/opt/anaconda3/envs/tf/lib/python3.7/site-packages/sklearn/linear_model/_sag.py:354: ConvergenceWarning: The max_iter was reached which means the coef_ did not converge\n",
      "  ConvergenceWarning,\n",
      "/Users/johanneiversen/opt/anaconda3/envs/tf/lib/python3.7/site-packages/sklearn/linear_model/_logistic.py:1484: UserWarning: Setting penalty='none' will ignore the C and l1_ratio parameters\n",
      "  \"Setting penalty='none' will ignore the C and l1_ratio parameters\"\n",
      "/Users/johanneiversen/opt/anaconda3/envs/tf/lib/python3.7/site-packages/sklearn/linear_model/_sag.py:354: ConvergenceWarning: The max_iter was reached which means the coef_ did not converge\n",
      "  ConvergenceWarning,\n",
      "/Users/johanneiversen/opt/anaconda3/envs/tf/lib/python3.7/site-packages/sklearn/linear_model/_logistic.py:1484: UserWarning: Setting penalty='none' will ignore the C and l1_ratio parameters\n",
      "  \"Setting penalty='none' will ignore the C and l1_ratio parameters\"\n",
      "/Users/johanneiversen/opt/anaconda3/envs/tf/lib/python3.7/site-packages/sklearn/linear_model/_sag.py:354: ConvergenceWarning: The max_iter was reached which means the coef_ did not converge\n",
      "  ConvergenceWarning,\n",
      "/Users/johanneiversen/opt/anaconda3/envs/tf/lib/python3.7/site-packages/sklearn/linear_model/_logistic.py:1484: UserWarning: Setting penalty='none' will ignore the C and l1_ratio parameters\n",
      "  \"Setting penalty='none' will ignore the C and l1_ratio parameters\"\n",
      "/Users/johanneiversen/opt/anaconda3/envs/tf/lib/python3.7/site-packages/sklearn/linear_model/_sag.py:354: ConvergenceWarning: The max_iter was reached which means the coef_ did not converge\n",
      "  ConvergenceWarning,\n",
      "/Users/johanneiversen/opt/anaconda3/envs/tf/lib/python3.7/site-packages/sklearn/linear_model/_logistic.py:1484: UserWarning: Setting penalty='none' will ignore the C and l1_ratio parameters\n",
      "  \"Setting penalty='none' will ignore the C and l1_ratio parameters\"\n",
      "/Users/johanneiversen/opt/anaconda3/envs/tf/lib/python3.7/site-packages/sklearn/linear_model/_sag.py:354: ConvergenceWarning: The max_iter was reached which means the coef_ did not converge\n",
      "  ConvergenceWarning,\n",
      "/Users/johanneiversen/opt/anaconda3/envs/tf/lib/python3.7/site-packages/sklearn/linear_model/_logistic.py:1484: UserWarning: Setting penalty='none' will ignore the C and l1_ratio parameters\n",
      "  \"Setting penalty='none' will ignore the C and l1_ratio parameters\"\n",
      "/Users/johanneiversen/opt/anaconda3/envs/tf/lib/python3.7/site-packages/sklearn/linear_model/_sag.py:354: ConvergenceWarning: The max_iter was reached which means the coef_ did not converge\n",
      "  ConvergenceWarning,\n",
      "/Users/johanneiversen/opt/anaconda3/envs/tf/lib/python3.7/site-packages/sklearn/linear_model/_logistic.py:1484: UserWarning: Setting penalty='none' will ignore the C and l1_ratio parameters\n",
      "  \"Setting penalty='none' will ignore the C and l1_ratio parameters\"\n",
      "/Users/johanneiversen/opt/anaconda3/envs/tf/lib/python3.7/site-packages/sklearn/linear_model/_sag.py:354: ConvergenceWarning: The max_iter was reached which means the coef_ did not converge\n",
      "  ConvergenceWarning,\n",
      "/Users/johanneiversen/opt/anaconda3/envs/tf/lib/python3.7/site-packages/sklearn/linear_model/_logistic.py:1484: UserWarning: Setting penalty='none' will ignore the C and l1_ratio parameters\n",
      "  \"Setting penalty='none' will ignore the C and l1_ratio parameters\"\n",
      "/Users/johanneiversen/opt/anaconda3/envs/tf/lib/python3.7/site-packages/sklearn/linear_model/_sag.py:354: ConvergenceWarning: The max_iter was reached which means the coef_ did not converge\n",
      "  ConvergenceWarning,\n",
      "/Users/johanneiversen/opt/anaconda3/envs/tf/lib/python3.7/site-packages/sklearn/linear_model/_logistic.py:1484: UserWarning: Setting penalty='none' will ignore the C and l1_ratio parameters\n",
      "  \"Setting penalty='none' will ignore the C and l1_ratio parameters\"\n",
      "/Users/johanneiversen/opt/anaconda3/envs/tf/lib/python3.7/site-packages/sklearn/linear_model/_sag.py:354: ConvergenceWarning: The max_iter was reached which means the coef_ did not converge\n",
      "  ConvergenceWarning,\n",
      "/Users/johanneiversen/opt/anaconda3/envs/tf/lib/python3.7/site-packages/sklearn/linear_model/_logistic.py:1484: UserWarning: Setting penalty='none' will ignore the C and l1_ratio parameters\n",
      "  \"Setting penalty='none' will ignore the C and l1_ratio parameters\"\n",
      "/Users/johanneiversen/opt/anaconda3/envs/tf/lib/python3.7/site-packages/sklearn/linear_model/_sag.py:354: ConvergenceWarning: The max_iter was reached which means the coef_ did not converge\n",
      "  ConvergenceWarning,\n",
      "/Users/johanneiversen/opt/anaconda3/envs/tf/lib/python3.7/site-packages/sklearn/linear_model/_logistic.py:1484: UserWarning: Setting penalty='none' will ignore the C and l1_ratio parameters\n",
      "  \"Setting penalty='none' will ignore the C and l1_ratio parameters\"\n",
      "/Users/johanneiversen/opt/anaconda3/envs/tf/lib/python3.7/site-packages/sklearn/linear_model/_sag.py:354: ConvergenceWarning: The max_iter was reached which means the coef_ did not converge\n",
      "  ConvergenceWarning,\n",
      "/Users/johanneiversen/opt/anaconda3/envs/tf/lib/python3.7/site-packages/sklearn/linear_model/_logistic.py:1484: UserWarning: Setting penalty='none' will ignore the C and l1_ratio parameters\n",
      "  \"Setting penalty='none' will ignore the C and l1_ratio parameters\"\n",
      "/Users/johanneiversen/opt/anaconda3/envs/tf/lib/python3.7/site-packages/sklearn/linear_model/_sag.py:354: ConvergenceWarning: The max_iter was reached which means the coef_ did not converge\n",
      "  ConvergenceWarning,\n",
      "/Users/johanneiversen/opt/anaconda3/envs/tf/lib/python3.7/site-packages/sklearn/linear_model/_logistic.py:1484: UserWarning: Setting penalty='none' will ignore the C and l1_ratio parameters\n",
      "  \"Setting penalty='none' will ignore the C and l1_ratio parameters\"\n",
      "/Users/johanneiversen/opt/anaconda3/envs/tf/lib/python3.7/site-packages/sklearn/linear_model/_sag.py:354: ConvergenceWarning: The max_iter was reached which means the coef_ did not converge\n",
      "  ConvergenceWarning,\n",
      "/Users/johanneiversen/opt/anaconda3/envs/tf/lib/python3.7/site-packages/sklearn/linear_model/_logistic.py:1484: UserWarning: Setting penalty='none' will ignore the C and l1_ratio parameters\n",
      "  \"Setting penalty='none' will ignore the C and l1_ratio parameters\"\n"
     ]
    },
    {
     "name": "stderr",
     "output_type": "stream",
     "text": [
      "/Users/johanneiversen/opt/anaconda3/envs/tf/lib/python3.7/site-packages/sklearn/linear_model/_sag.py:354: ConvergenceWarning: The max_iter was reached which means the coef_ did not converge\n",
      "  ConvergenceWarning,\n",
      "/Users/johanneiversen/opt/anaconda3/envs/tf/lib/python3.7/site-packages/sklearn/linear_model/_logistic.py:1484: UserWarning: Setting penalty='none' will ignore the C and l1_ratio parameters\n",
      "  \"Setting penalty='none' will ignore the C and l1_ratio parameters\"\n",
      "/Users/johanneiversen/opt/anaconda3/envs/tf/lib/python3.7/site-packages/sklearn/linear_model/_sag.py:354: ConvergenceWarning: The max_iter was reached which means the coef_ did not converge\n",
      "  ConvergenceWarning,\n",
      "/Users/johanneiversen/opt/anaconda3/envs/tf/lib/python3.7/site-packages/sklearn/linear_model/_logistic.py:1484: UserWarning: Setting penalty='none' will ignore the C and l1_ratio parameters\n",
      "  \"Setting penalty='none' will ignore the C and l1_ratio parameters\"\n",
      "/Users/johanneiversen/opt/anaconda3/envs/tf/lib/python3.7/site-packages/sklearn/linear_model/_sag.py:354: ConvergenceWarning: The max_iter was reached which means the coef_ did not converge\n",
      "  ConvergenceWarning,\n",
      "/Users/johanneiversen/opt/anaconda3/envs/tf/lib/python3.7/site-packages/sklearn/linear_model/_logistic.py:1484: UserWarning: Setting penalty='none' will ignore the C and l1_ratio parameters\n",
      "  \"Setting penalty='none' will ignore the C and l1_ratio parameters\"\n",
      "/Users/johanneiversen/opt/anaconda3/envs/tf/lib/python3.7/site-packages/sklearn/linear_model/_sag.py:354: ConvergenceWarning: The max_iter was reached which means the coef_ did not converge\n",
      "  ConvergenceWarning,\n",
      "/Users/johanneiversen/opt/anaconda3/envs/tf/lib/python3.7/site-packages/sklearn/linear_model/_logistic.py:1484: UserWarning: Setting penalty='none' will ignore the C and l1_ratio parameters\n",
      "  \"Setting penalty='none' will ignore the C and l1_ratio parameters\"\n",
      "/Users/johanneiversen/opt/anaconda3/envs/tf/lib/python3.7/site-packages/sklearn/linear_model/_sag.py:354: ConvergenceWarning: The max_iter was reached which means the coef_ did not converge\n",
      "  ConvergenceWarning,\n",
      "/Users/johanneiversen/opt/anaconda3/envs/tf/lib/python3.7/site-packages/sklearn/linear_model/_logistic.py:1484: UserWarning: Setting penalty='none' will ignore the C and l1_ratio parameters\n",
      "  \"Setting penalty='none' will ignore the C and l1_ratio parameters\"\n",
      "/Users/johanneiversen/opt/anaconda3/envs/tf/lib/python3.7/site-packages/sklearn/linear_model/_sag.py:354: ConvergenceWarning: The max_iter was reached which means the coef_ did not converge\n",
      "  ConvergenceWarning,\n",
      "/Users/johanneiversen/opt/anaconda3/envs/tf/lib/python3.7/site-packages/sklearn/linear_model/_logistic.py:1484: UserWarning: Setting penalty='none' will ignore the C and l1_ratio parameters\n",
      "  \"Setting penalty='none' will ignore the C and l1_ratio parameters\"\n",
      "/Users/johanneiversen/opt/anaconda3/envs/tf/lib/python3.7/site-packages/sklearn/linear_model/_sag.py:354: ConvergenceWarning: The max_iter was reached which means the coef_ did not converge\n",
      "  ConvergenceWarning,\n",
      "/Users/johanneiversen/opt/anaconda3/envs/tf/lib/python3.7/site-packages/sklearn/linear_model/_logistic.py:1484: UserWarning: Setting penalty='none' will ignore the C and l1_ratio parameters\n",
      "  \"Setting penalty='none' will ignore the C and l1_ratio parameters\"\n",
      "/Users/johanneiversen/opt/anaconda3/envs/tf/lib/python3.7/site-packages/sklearn/linear_model/_sag.py:354: ConvergenceWarning: The max_iter was reached which means the coef_ did not converge\n",
      "  ConvergenceWarning,\n",
      "/Users/johanneiversen/opt/anaconda3/envs/tf/lib/python3.7/site-packages/sklearn/linear_model/_logistic.py:1484: UserWarning: Setting penalty='none' will ignore the C and l1_ratio parameters\n",
      "  \"Setting penalty='none' will ignore the C and l1_ratio parameters\"\n",
      "/Users/johanneiversen/opt/anaconda3/envs/tf/lib/python3.7/site-packages/sklearn/linear_model/_sag.py:354: ConvergenceWarning: The max_iter was reached which means the coef_ did not converge\n",
      "  ConvergenceWarning,\n",
      "/Users/johanneiversen/opt/anaconda3/envs/tf/lib/python3.7/site-packages/sklearn/linear_model/_logistic.py:1484: UserWarning: Setting penalty='none' will ignore the C and l1_ratio parameters\n",
      "  \"Setting penalty='none' will ignore the C and l1_ratio parameters\"\n",
      "/Users/johanneiversen/opt/anaconda3/envs/tf/lib/python3.7/site-packages/sklearn/linear_model/_sag.py:354: ConvergenceWarning: The max_iter was reached which means the coef_ did not converge\n",
      "  ConvergenceWarning,\n",
      "/Users/johanneiversen/opt/anaconda3/envs/tf/lib/python3.7/site-packages/sklearn/linear_model/_logistic.py:1484: UserWarning: Setting penalty='none' will ignore the C and l1_ratio parameters\n",
      "  \"Setting penalty='none' will ignore the C and l1_ratio parameters\"\n",
      "/Users/johanneiversen/opt/anaconda3/envs/tf/lib/python3.7/site-packages/sklearn/linear_model/_sag.py:354: ConvergenceWarning: The max_iter was reached which means the coef_ did not converge\n",
      "  ConvergenceWarning,\n",
      "/Users/johanneiversen/opt/anaconda3/envs/tf/lib/python3.7/site-packages/sklearn/linear_model/_logistic.py:1484: UserWarning: Setting penalty='none' will ignore the C and l1_ratio parameters\n",
      "  \"Setting penalty='none' will ignore the C and l1_ratio parameters\"\n",
      "/Users/johanneiversen/opt/anaconda3/envs/tf/lib/python3.7/site-packages/sklearn/linear_model/_sag.py:354: ConvergenceWarning: The max_iter was reached which means the coef_ did not converge\n",
      "  ConvergenceWarning,\n",
      "/Users/johanneiversen/opt/anaconda3/envs/tf/lib/python3.7/site-packages/sklearn/linear_model/_logistic.py:1484: UserWarning: Setting penalty='none' will ignore the C and l1_ratio parameters\n",
      "  \"Setting penalty='none' will ignore the C and l1_ratio parameters\"\n",
      "/Users/johanneiversen/opt/anaconda3/envs/tf/lib/python3.7/site-packages/sklearn/linear_model/_sag.py:354: ConvergenceWarning: The max_iter was reached which means the coef_ did not converge\n",
      "  ConvergenceWarning,\n"
     ]
    }
   ],
   "source": [
    "from sklearn.model_selection import GridSearchCV\n",
    "from sklearn.model_selection import RepeatedStratifiedKFold\n",
    "from scipy.stats import loguniform\n",
    "\n",
    "# As the goal is to classify, the RepeatedStratifiedKFold is used\n",
    "cv = RepeatedStratifiedKFold(n_splits=10, n_repeats=3, random_state=1)\n",
    "\n",
    "space = dict()\n",
    "space['solver'] = ['saga']\n",
    "space['penalty'] = ['none', 'l1', 'l2', 'elasticnet']\n",
    "space['C'] = [0.01, 0.1, 1, 10, 100]\n",
    "\n",
    "search = GridSearchCV(lr, space, cv=cv)\n",
    "result = search.fit(X_tfidf_f_train, y_train)"
   ]
  },
  {
   "cell_type": "code",
   "execution_count": null,
   "metadata": {},
   "outputs": [],
   "source": [
    "print('Best Score: %s' % result.best_score_)\n",
    "print('Best Hyperparameters: %s' % result.best_params_)"
   ]
  },
  {
   "cell_type": "code",
   "execution_count": null,
   "metadata": {},
   "outputs": [],
   "source": [
    "df1 = pd.read_csv(\"data/reviews_final.csv\")\n",
    "print(df1.shape)\n",
    "df1.head()\n"
   ]
  },
  {
   "cell_type": "code",
   "execution_count": null,
   "metadata": {},
   "outputs": [],
   "source": [
    "df2 = pd.read_csv(\"data/places_final.csv\")\n",
    "print(df2.shape)\n",
    "df2.head()"
   ]
  },
  {
   "cell_type": "code",
   "execution_count": null,
   "metadata": {},
   "outputs": [],
   "source": [
    "X = bow_tfidf_full\n",
    "y = df.price.values-1"
   ]
  },
  {
   "cell_type": "code",
   "execution_count": null,
   "metadata": {},
   "outputs": [],
   "source": [
    "predict = lr.predict(X)"
   ]
  },
  {
   "cell_type": "code",
   "execution_count": null,
   "metadata": {},
   "outputs": [],
   "source": [
    "df[\"pred_price\"] = predict+1"
   ]
  },
  {
   "cell_type": "code",
   "execution_count": null,
   "metadata": {},
   "outputs": [],
   "source": [
    "df.head()"
   ]
  },
  {
   "cell_type": "code",
   "execution_count": null,
   "metadata": {},
   "outputs": [],
   "source": []
  },
  {
   "cell_type": "code",
   "execution_count": null,
   "metadata": {},
   "outputs": [],
   "source": []
  },
  {
   "cell_type": "code",
   "execution_count": null,
   "metadata": {},
   "outputs": [],
   "source": []
  },
  {
   "cell_type": "markdown",
   "metadata": {},
   "source": []
  }
 ],
 "metadata": {
  "interpreter": {
   "hash": "6f9910882fae098898ae321f07726ec847ec186b3979568b9e6c54444f9aa773"
  },
  "kernelspec": {
   "display_name": "Python 3 (ipykernel)",
   "language": "python",
   "name": "python3"
  },
  "language_info": {
   "codemirror_mode": {
    "name": "ipython",
    "version": 3
   },
   "file_extension": ".py",
   "mimetype": "text/x-python",
   "name": "python",
   "nbconvert_exporter": "python",
   "pygments_lexer": "ipython3",
   "version": "3.7.11"
  }
 },
 "nbformat": 4,
 "nbformat_minor": 2
}
