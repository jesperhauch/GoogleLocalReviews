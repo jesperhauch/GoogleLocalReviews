{
 "cells": [
  {
   "cell_type": "markdown",
   "metadata": {},
   "source": [
    "# Recommender System\n",
    "\n",
    "In this notebook, a recommender system is created based on the space embeddings obtained from the discrete space embeddings model. The purpose of the recommender system is to recommend areas in either London or New York based on a user's experience in either of the cities. The recommender system will make recommendations based on space embeddings for an area weighted by the average rating a user has given to establishments in the area. The similarity between embeddings is calculated using cosine similarity, where only areas with cosine similarity above 0.5 are considered valid recommendations.\n",
    "\n",
    "The recommender system is hosted as an API through the AI platform Grace by 2021.ai. The API receives establishment IDs and corresponding ratings as inputs, returning cosine similarity for all areas in the city the user has no experience in. The areas that are considered valid recommendations are visualized on a map and colored according to their calculated similarity. To demonstrate how the API works and to assess the quality of the recommendations obtained, the recommender system is tested on three personas with different preferences. "
   ]
  },
  {
   "cell_type": "markdown",
   "metadata": {},
   "source": [
    "# Table of Content\n",
    "* [Recommender System](#0-bullet)\n",
    "\n",
    "* [Personas](#1-bullet) \n",
    "    \n",
    "    * [Charles - Middle Age Man from London ](#2-bullet)\n",
    "\n",
    "    * [Tess - Hipster in 20's from London](#3-bullet)\n",
    "\n",
    "    * [Jack - Working Class Guy from London ](#4-bullet)\n",
    "    \n",
    "    * [NY version of Tess](#5-bullet)\n",
    "\n",
    "* [Conclusion](#6-bullet)\n",
    "\n",
    "\n",
    "    \n",
    "\n",
    "\n"
   ]
  },
  {
   "cell_type": "code",
   "execution_count": 64,
   "metadata": {
    "scrolled": true
   },
   "outputs": [],
   "source": [
    "import pandas as pd\n",
    "import seaborn as sns\n",
    "import matplotlib.pyplot as plt\n",
    "import numpy as np\n",
    "import requests\n",
    "import pickle\n",
    "from tensorflow import keras\n",
    "plt.rcParams[\"figure.figsize\"] = (12,7)\n",
    "sns.set_style(\"darkgrid\")\n",
    "\n",
    "# Helperfunctions for gridline plots\n",
    "from helperfunctions import get_country_specific_information, get_geojson_grid, generateBaseMap, save_to_png\n",
    "NY_location, L_location, NY_num, L_num = get_country_specific_information()"
   ]
  },
  {
   "cell_type": "markdown",
   "metadata": {},
   "source": [
    "# Recommender System <a class=\"anchor\" id=\"0-bullet\"></a>"
   ]
  },
  {
   "cell_type": "markdown",
   "metadata": {},
   "source": [
    "In this section, the recommender system is built on the embeddings obtained from the discrete space embeddings model. Below relevant data is loaded, which includes the dataframe `places_final.csv` containing information about each establishment and the pickle file `discrete_embeddings.pkl` containing the space embeddings."
   ]
  },
  {
   "cell_type": "code",
   "execution_count": 65,
   "metadata": {},
   "outputs": [],
   "source": [
    "# Load data used for modelling\n",
    "#df = pd.read_csv(\"data/space_embedding_data_NLP.csv\", index_col=[0])\n",
    "places = pd.read_csv(\"data/places_final.csv\")"
   ]
  },
  {
   "cell_type": "code",
   "execution_count": 66,
   "metadata": {},
   "outputs": [
    {
     "data": {
      "text/html": [
       "<div>\n",
       "<style scoped>\n",
       "    .dataframe tbody tr th:only-of-type {\n",
       "        vertical-align: middle;\n",
       "    }\n",
       "\n",
       "    .dataframe tbody tr th {\n",
       "        vertical-align: top;\n",
       "    }\n",
       "\n",
       "    .dataframe thead th {\n",
       "        text-align: right;\n",
       "    }\n",
       "</style>\n",
       "<table border=\"1\" class=\"dataframe\">\n",
       "  <thead>\n",
       "    <tr style=\"text-align: right;\">\n",
       "      <th></th>\n",
       "      <th>0</th>\n",
       "      <th>1</th>\n",
       "      <th>2</th>\n",
       "      <th>3</th>\n",
       "      <th>4</th>\n",
       "      <th>5</th>\n",
       "    </tr>\n",
       "  </thead>\n",
       "  <tbody>\n",
       "    <tr>\n",
       "      <th>L0</th>\n",
       "      <td>0.001433</td>\n",
       "      <td>-0.012677</td>\n",
       "      <td>0.006213</td>\n",
       "      <td>-0.000165</td>\n",
       "      <td>0.008206</td>\n",
       "      <td>0.011099</td>\n",
       "    </tr>\n",
       "    <tr>\n",
       "      <th>L1</th>\n",
       "      <td>0.269152</td>\n",
       "      <td>3.460942</td>\n",
       "      <td>-1.458247</td>\n",
       "      <td>-2.876282</td>\n",
       "      <td>-1.317084</td>\n",
       "      <td>-5.724437</td>\n",
       "    </tr>\n",
       "    <tr>\n",
       "      <th>L10</th>\n",
       "      <td>-0.002178</td>\n",
       "      <td>0.019951</td>\n",
       "      <td>0.036500</td>\n",
       "      <td>-0.011969</td>\n",
       "      <td>0.013564</td>\n",
       "      <td>0.027723</td>\n",
       "    </tr>\n",
       "    <tr>\n",
       "      <th>L100</th>\n",
       "      <td>-0.032761</td>\n",
       "      <td>-0.034071</td>\n",
       "      <td>-0.022443</td>\n",
       "      <td>-0.023177</td>\n",
       "      <td>-0.049930</td>\n",
       "      <td>-0.015488</td>\n",
       "    </tr>\n",
       "    <tr>\n",
       "      <th>L101</th>\n",
       "      <td>0.007770</td>\n",
       "      <td>-0.049722</td>\n",
       "      <td>0.018263</td>\n",
       "      <td>-0.047544</td>\n",
       "      <td>0.024548</td>\n",
       "      <td>-0.039448</td>\n",
       "    </tr>\n",
       "  </tbody>\n",
       "</table>\n",
       "</div>"
      ],
      "text/plain": [
       "             0         1         2         3         4         5\n",
       "L0    0.001433 -0.012677  0.006213 -0.000165  0.008206  0.011099\n",
       "L1    0.269152  3.460942 -1.458247 -2.876282 -1.317084 -5.724437\n",
       "L10  -0.002178  0.019951  0.036500 -0.011969  0.013564  0.027723\n",
       "L100 -0.032761 -0.034071 -0.022443 -0.023177 -0.049930 -0.015488\n",
       "L101  0.007770 -0.049722  0.018263 -0.047544  0.024548 -0.039448"
      ]
     },
     "execution_count": 66,
     "metadata": {},
     "output_type": "execute_result"
    }
   ],
   "source": [
    "# Get embeddings from model\n",
    "embeddings=pd.read_pickle(\"deployment/serialized/discrete_embeddings.pkl\")\n",
    "embeddings=pd.DataFrame(embeddings).T\n",
    "embeddings.head()"
   ]
  },
  {
   "cell_type": "markdown",
   "metadata": {},
   "source": [
    "The space embeddings are 5-dimensional vectors, comprising the information of the 11 targets predicted in the space embedding model. \n",
    "\n",
    "The embeddings are essential to the recommender system, since cosine similarity is calculated between them and the user input. To use the recommender system, a post request has to be made for the API, which the recommender system is deployed on. The recommender system is deployed using Grace, where the code used can be seen below. The recommender system takes `x` and `feature_names` as input, where the former is a matrix containing establishment IDs and their corresponding user given ratings and the latter are the feature names `IDs` and `Rating`. Firstly, some data manipulations are completed to calculate the average embedding of the user. Afterward, the cosine similarity between the average embedding of the user and the embeddings for the other city are calculated. The recommender system then returns a sorted data frame of the cosine similarity for each area in the other city than provided in the input `x`."
   ]
  },
  {
   "cell_type": "markdown",
   "metadata": {},
   "source": [
    "```python\n",
    "\n",
    "import pandas as pd\n",
    "import numpy as np\n",
    "from sklearn.metrics.pairwise import cosine_similarity\n",
    "\n",
    "def predict(self, x, feature_names):\n",
    "        \n",
    "        # Define user df\n",
    "        user = pd.DataFrame(data=x, columns=feature_names)\n",
    "        IDs = user['IDs'].values\n",
    "        # Save df of visited establishments\n",
    "        visited = self.places.loc[self.places.gPlusPlaceId.isin(IDs)][['gPlusPlaceId','city','Grid']]\n",
    "        # Add grid cell and city to user\n",
    "        user = user.merge(visited, left_on='IDs', right_on='gPlusPlaceId')\n",
    "        # Ensure rating is numeric\n",
    "        user['Rating'] = pd.to_numeric(user['Rating'])\n",
    "        # Save location user has experience from\n",
    "        city = user.city.unique()[0]\n",
    "        \n",
    "        # Calculate average rating of user based on ratings user have given in each grid \n",
    "        avg_grid_rating = pd.DataFrame(user.groupby('Grid').Rating.mean())\n",
    "        avg_user_rating = self.embeddings.loc[avg_grid_rating.index].values.T @ avg_grid_rating.values\n",
    "        # Calculate the cosine similarity for embeddings in other city \n",
    "        recommendation = pd.DataFrame(index = [i for i in self.embeddings.index if city[0] not in i])\n",
    "        for grid in recommendation.index:\n",
    "            recommendation.loc[grid, 'cosine_similarity'] = cosine_similarity(avg_user_rating.reshape(1,-1),self.embeddings.loc[grid].values.reshape(1,-1))\n",
    "\n",
    "        # Clean the indexes\n",
    "        if city == \"London\":\n",
    "            recommendation['clean_index'] = [int(i[2:]) for i in recommendation.index] \n",
    "        else:\n",
    "            recommendation['clean_index'] = [int(i[1:]) for i in recommendation.index] \n",
    "        \n",
    "        # Return the df with cosine similiarity for each grid in other city\n",
    "        return recommendation.sort_values(by=\"cosine_similarity\", ascending=False).reset_index().values\n",
    "\n",
    "\n",
    "```"
   ]
  },
  {
   "cell_type": "markdown",
   "metadata": {},
   "source": [
    "The recommender system is hosted on the Grace API and can be called using a post request. If the request is successful, it returns the recommendations of the above-described recommender system."
   ]
  },
  {
   "cell_type": "code",
   "execution_count": 67,
   "metadata": {},
   "outputs": [],
   "source": [
    "def APICall(IDs, Ratings):\n",
    "    \n",
    "    feature_names = ['IDs', 'Rating']\n",
    "    data = list(map(list, zip(IDs, Ratings)))\n",
    "\n",
    "    # Construct data for endpoint\n",
    "    endpoint = \"https://models.grace-dtu.2021.services/seldon/project-spaceembeddings/recommender-system/api/v0.1/predictions\"\n",
    "    headers = {'Grace-Client-Secret': 'c0de6747-ffb6-4023-913f-53c8222435bb'}\n",
    "    payload = {\"data\": {\"names\": feature_names,\n",
    "                        \"ndarray\": data}}\n",
    "\n",
    "    # Request response from endpoint\n",
    "    response = requests.post(endpoint, json=payload, headers=headers)\n",
    "\n",
    "    print(response.status_code)\n",
    "\n",
    "    if response.status_code == 200:\n",
    "        recommendations = pd.DataFrame(response.json()['data']['ndarray'], columns=['Grid', 'cosine_similarity', 'clean_index']).set_index('Grid')\n",
    "    \n",
    "    else:\n",
    "        recommendations = None\n",
    "\n",
    "    return PushIndex(recommendations)"
   ]
  },
  {
   "cell_type": "markdown",
   "metadata": {},
   "source": [
    "When the recommendations are obtained, the IDs of the grid cell indices needs to be pushed to map the grid cells correctly to the original grid. The original grid has an outer edge that is not included in the grid cell id initialization, thus the indices must be corrected to account for this. The function below ensures that only areas with cosine similarity above 0.5 are considered in the recommendation. These areas and their cosine similarities are visualize in a map. "
   ]
  },
  {
   "cell_type": "code",
   "execution_count": 68,
   "metadata": {},
   "outputs": [],
   "source": [
    "# Assumes that user only have ratings in either London or NY\n",
    "from sklearn.metrics.pairwise import cosine_similarity\n",
    "\n",
    "def PushIndex(df):\n",
    "\n",
    "    #0-18 = 22-40\n",
    "    #19-37 = 43-61\n",
    "    #38-56 = 64-82\n",
    "\n",
    "    old_matrix = np.array([np.array([i for i in range(22,41)]) for j in range(19)])\n",
    "    new_matrix = []\n",
    "    col = 21\n",
    "\n",
    "    for idx, x_i in enumerate(old_matrix):\n",
    "        new_matrix.append(x_i + idx * col)\n",
    "\n",
    "    mapping = dict(zip([i for i in range(0,21*21)], np.array(new_matrix).flatten().tolist()))\n",
    "    df['new_index'] = df.clean_index.map(mapping)\n",
    "    #similiarities = [1 if i in df.new_index.values else 0 for i in range(0,21*21)]\n",
    "    similiarities = [df.loc[df.new_index==num]['cosine_similarity'].values[0] if num in df.new_index.values else 0 for num in range(0,21*21)]\n",
    "    similiarities = [i if i>0.5 else 0 for i in similiarities]\n",
    "    \n",
    "    return similiarities, df"
   ]
  },
  {
   "cell_type": "markdown",
   "metadata": {},
   "source": [
    "The function below will be used to visualize the recommended areas of the personas created in the next section."
   ]
  },
  {
   "cell_type": "code",
   "execution_count": 72,
   "metadata": {},
   "outputs": [],
   "source": [
    "import json\n",
    "import matplotlib as mpl\n",
    "import folium\n",
    "\n",
    "def Plot(city, similiarity_list, title):\n",
    "\n",
    "    if city == \"London\":\n",
    "        grid = get_geojson_grid(\"New York\", n=NY_num)\n",
    "        default_location = NY_location\n",
    "\n",
    "    else:\n",
    "        grid = get_geojson_grid(\"London\", n=L_num)\n",
    "        default_location = L_location\n",
    "\n",
    "\n",
    "    m =  generateBaseMap(default_location)\n",
    "\n",
    "    for i, box in enumerate(grid):\n",
    "        geo_json = json.dumps(box)\n",
    "\n",
    "        if similiarity_list[i] == 0:\n",
    "            color = mpl.colors.to_hex(\"white\")\n",
    "            gj = folium.GeoJson(geo_json, style_function=lambda feature, color=color: {'color':\"grey\", 'weight': 0.6,'dashArray': '1, 1', 'fillOpacity': 0.1,})\n",
    "\n",
    "        else:\n",
    "            #value =  (similiarity_list[i]-0.5) / (1-0.5) \n",
    "            s_min = min(np.array(similiarities)[np.where(np.array(similiarities)>0)])   \n",
    "            s_max = max(np.array(similiarities)[np.where(np.array(similiarities)>0)])    \n",
    "            #print(min(similiarity_list))\n",
    "            value =  (similiarity_list[i]-s_min) / (s_max-s_min) \n",
    "            #print(value)\n",
    "            #color = plt.cm.Greens(similiarity_list[i])\n",
    "            #color = plt.cm.PuRd(similiarity_list[i])\n",
    "            color = plt.cm.PuRd(value+0.5)\n",
    "            color = mpl.colors.to_hex(color)\n",
    "\n",
    "            gj = folium.GeoJson(geo_json,\n",
    "                                style_function=lambda feature, color=color: {\n",
    "                                                                                'fillColor': color,\n",
    "                                                                                'color':\"grey\",\n",
    "                                                                                'weight': 0.6,\n",
    "                                                                                'dashArray': '1, 1',\n",
    "                                                                                'fillOpacity': 0.9,\n",
    "                                                                            })\n",
    "\n",
    "        m.add_child(gj)\n",
    "\n",
    "    title_html = '''\n",
    "            <h3 align=\"center\" style=\"font-size:16px\"><b>{}</b></h3>\n",
    "            '''.format(title)   \n",
    "    m.get_root().html.add_child(folium.Element(title_html))   \n",
    "\n",
    "    return m"
   ]
  },
  {
   "cell_type": "markdown",
   "metadata": {},
   "source": [
    "# Personas <a class=\"anchor\" id=\"1-bullet\"></a>"
   ]
  },
  {
   "cell_type": "markdown",
   "metadata": {},
   "source": [
    "To validate the recommender system, three personas are created. As we are more familiar with London, the personas are created from our knowledge of the areas and research of surrounding areas. Since establishments in London are used as input, the recommender system will output recommended areas in New York on a map. Here, darker shaded areas denoted highly similar areas. \n",
    "\n",
    "The personas are created to fit three very different personalities and socio-economic classes, where the aim is to clearly distinguish the personas and their recommended areas. \n",
    "\n",
    "To get an understanding of the different areas in New York / Manhattan, an overview of the average income is used as an indicator of the socio-economic classes,  (disclaimer – the plot is not very colorblind friendly) \n",
    "* (1)\thttps://ny.curbed.com/2017/8/9/16119400/income-distribution-nyc-map\n",
    "\n",
    "Furthermore, we assume that the areas listed below can be classified as ‘hip’ \n",
    "* (2)\thttps://www.businessinsider.com/maps-where-the-hipsters-and-the-yuppies-live-in-new-york-city-2013-10?r=US&IR=T\n",
    "* (3)\thttps://www.wimdu.com/blog/new-yorks-top-neighborhoods-part-1-manhattan\n",
    "\n",
    "And that the wealthy areas listed in the link below are representative for the upper class. \n",
    "* (4)\thttps://ceoworld.biz/2021/04/04/the-most-wealthy-neighborhoods-in-new-york-city/\n",
    "* (5)\thttps://ny.curbed.com/2017/6/27/15881706/nyc-richest-neighborhoods-manhattan-brooklyn "
   ]
  },
  {
   "cell_type": "markdown",
   "metadata": {},
   "source": [
    "### Charles - Middle Age Man from London  <a class=\"anchor\" id=\"2-bullet\"></a>"
   ]
  },
  {
   "cell_type": "markdown",
   "metadata": {},
   "source": [
    "The first persona is an upper-class middle-aged man, named Charles. Charles enjoys a good bottle of wine, fine dining, a good steak and prefers places with a view. Charles is not fond of the poorer areas in London and dislikes shawarma as he perceives it as ‘junk’. Recently he discovered how little pleasure he got out of cheesy entertainment.\n",
    "\n",
    "Charles has made the 5 Google ratings listed below:\n",
    "1.\tChelsea Riverside Brasserie (Chelsea) – 4 stars \n",
    "2.\tSophie's Steakhouse and Bar (Fulham)– 5 stars \n",
    "3.\tSantini (Belgraive) – 5 stars\n",
    "4.\tGolden Grill (Camberwell) – 1 star\n",
    "5.\tNetwork Theatre Waterloo (Waterloo) – 3 starts"
   ]
  },
  {
   "cell_type": "code",
   "execution_count": 85,
   "metadata": {},
   "outputs": [
    {
     "name": "stdout",
     "output_type": "stream",
     "text": [
      "200\n"
     ]
    }
   ],
   "source": [
    "#Charles - middle age man from London \n",
    "persona_L1 = ['117894493394086195117', '104063119900400467553', '109257478465059465681', '108826432794361150085', '108474869308709310130']\n",
    "L1_ratings = [4, 5, 5, 1, 3]\n",
    "\n",
    "IDs =  persona_L1\n",
    "Ratings = L1_ratings\n",
    "similiarities, df = APICall(IDs, Ratings)\n",
    "m = Plot('London',similiarities, 'Persona 1 - London to New York')\n",
    "#save_to_png(\"Persona1_NY\",m)"
   ]
  },
  {
   "cell_type": "markdown",
   "metadata": {},
   "source": [
    "![link](img/Persona1_NY.png)"
   ]
  },
  {
   "cell_type": "markdown",
   "metadata": {},
   "source": [
    "Charles is roughly recommended 5 area clusters, which are\n",
    "1.\tLincoln Square / Hell’s Kitchen\n",
    "2.\tWest Village\n",
    "3.\tTurtle Bay \n",
    "4.\tGarmancy/Union Square/Flatiron District\n",
    "5.\tLower Manhatten \n",
    "\n",
    "Most of the recommended areas covered in the five clusters are listed as 'wealthy NYC areas' in article (4) and (5). Therefore, one can argue that the recommended areas coincide with areas one would expect Charles to visit given his expensive preferences. On the other hand, it can be questioned whether all recommendations are equally valid. When considering cluster 5, it is found that this cluster is highly recommended with a dark shade. However, none of the surrounding areas are recommended, which makes it difficult to validate if the area can be concluded fit for Charles or if it merely contains a few highly recommended places. \n",
    "\n",
    "The validation of the recommended areas are based on manual inspection of the match between grids and actual areas in NYC. With this in mind, an overall assessment of Charles' recommended areas in NYC, is considerably positive despite isolated areas. "
   ]
  },
  {
   "cell_type": "markdown",
   "metadata": {},
   "source": [
    "### Tess - Hipster in 20's from London <a class=\"anchor\" id=\"3-bullet\"></a>"
   ]
  },
  {
   "cell_type": "markdown",
   "metadata": {},
   "source": [
    "The second persona is Tess who is in her late twenties, who would be classified as a hipster by most people. She enjoys natural wine, nightclubs, and streets buzzing with life. Two things she dislikes are capitalism and fast fashion!\n",
    "\n",
    "Tess recently review the 5 places below on Google:\n",
    "1.\tBlade Soho (Soho) – 5 stars\n",
    "2.\tCamden tattoo & piercings (Camden) – 4 stars\n",
    "3.\tFoxcroft and Ginger café (Soho) – 4 stars\n",
    "4.\tYumemoki (Fulham) – 2 stars \n",
    "5.\tZara (regent street) – 1 star"
   ]
  },
  {
   "cell_type": "code",
   "execution_count": 84,
   "metadata": {},
   "outputs": [
    {
     "name": "stdout",
     "output_type": "stream",
     "text": [
      "200\n"
     ]
    }
   ],
   "source": [
    "# Tess - hipster in 20's from London\n",
    "persona_L2 =  ['101414550408078459025', '101222111970032450108',  '110867761419823189329', '102526759936228897422', '105899272211447947388']\n",
    "L2_ratings = [5, 4, 4, 2 ,1 ]\n",
    "\n",
    "IDs =  persona_L2\n",
    "Ratings = L2_ratings\n",
    "similiarities, df = APICall(IDs, Ratings)\n",
    "m = Plot('London',similiarities, 'Persona 2 - London to New York')\n",
    "#save_to_png(\"Persona2_NY\",m)"
   ]
  },
  {
   "cell_type": "markdown",
   "metadata": {},
   "source": [
    "![link](img/Persona2_NY.png)"
   ]
  },
  {
   "cell_type": "markdown",
   "metadata": {},
   "source": [
    "Tess is recommended to visit some more widespread areas in New York. If we consider the recommended areas of darker shades she should visit: \n",
    "1.\tUpper East Side\n",
    "2.\tGreenwich Village/Chelsea/SoHo\n",
    "3.\tLower East Side\n",
    "4.\tMidtown\n",
    "\n",
    "All the places recommended match the ‘hip’ areas listed in article (2) and (3). Again, the recommender system provides reasonable recommendation, since one would expect Tess to visit some of the areas recommended for her."
   ]
  },
  {
   "cell_type": "markdown",
   "metadata": {},
   "source": [
    "### Jack - Working Class Guy from London <a class=\"anchor\" id=\"4-bullet\"></a>"
   ]
  },
  {
   "cell_type": "markdown",
   "metadata": {},
   "source": [
    "Finally, the third perona is Jack. He is an working-class guy, who loves his football team, Tottenham Spurs. He also loves a proper roast and a big pint after a long day of work. Generally, Jack dislikes everything expensive, except of course – tickets for a football match. \n",
    "\n",
    "Jack has reviewed the 5 following places on Google:\n",
    "1.\tThe Court (Tottenham) – 5 stars\n",
    "2.\tKaties (fish and chips) (Peckham) – 4 stars\n",
    "3.\tThe Old Haberdasher (Peckham) – 4 stars\n",
    "4.\tBarts (Chelsea) – 1 star \n",
    "5.\tCafé de Paris (Soho) – 1 star"
   ]
  },
  {
   "cell_type": "code",
   "execution_count": 83,
   "metadata": {},
   "outputs": [
    {
     "name": "stdout",
     "output_type": "stream",
     "text": [
      "200\n"
     ]
    }
   ],
   "source": [
    "# Jack - working class guy from London\n",
    "persona_L3  = ['117142684046048778874', '114202385542308064803', '111040899007592704996', '116048702018782286233', '101959599981305942585']\n",
    "L3_ratings = [5, 4, 4, 1, 1]\n",
    "\n",
    "IDs =  persona_L3\n",
    "Ratings = L3_ratings\n",
    "similiarities, df = APICall(IDs, Ratings)\n",
    "m = Plot('London',similiarities, 'Persona 3 - London to New York')\n",
    "#save_to_png(\"Persona3_NY\",m)"
   ]
  },
  {
   "cell_type": "markdown",
   "metadata": {},
   "source": [
    "![link](img/Persona3_NY.png)"
   ]
  },
  {
   "cell_type": "markdown",
   "metadata": {},
   "source": [
    "The last persona, Jack, is recommended to visit especially 2 larger clusters: \n",
    "1.\tHarlem / Manhattan Valley\n",
    "2.\tLower Manhattan / China Town\n",
    "\n",
    "The first recommendation for Jack is Harlem or Manhattan Valley. It is expected that this recommendation is well-received by Jack, since Harlem can described as having [affordable housing, iconic restaurants, community \"vibes\", and proud history](https://www.common.com/blog/2021/01/living-in-harlem-ny-the-ultimate-guide/). Jack is, surprisingly, recommended Lower Manhattan which can be perceived as an expensive area. However, as the area can also be considered touristy, the area might capture exactly what Jack is seeking. \n"
   ]
  },
  {
   "cell_type": "markdown",
   "metadata": {},
   "source": [
    "### New York version of Tess  <a class=\"anchor\" id=\"5-bullet\"></a>"
   ]
  },
  {
   "cell_type": "markdown",
   "metadata": {},
   "source": [
    "The recommender system seems to provide reasonable recommendations when recommending areas in New York based on establishments in London. To assess if the recommender system also works the other way around, we have created a New York version of Tess the Hipster.\n",
    "\n",
    "New Yorker Tess has rated the following on Google:\n",
    "* The Harrison (Greenwich) - 5 stars\n",
    "* Garden Court Café (Lenox Hill) - 4 stars\n",
    "* Chuck E. Cheese's (Bronx) - 1 star\n",
    "* FireBird (Hells Kitchen) - 2 star\n",
    "* Zara (SOHO) - 1 star"
   ]
  },
  {
   "cell_type": "code",
   "execution_count": 76,
   "metadata": {},
   "outputs": [],
   "source": [
    "#New Yorker version of the hipster\n",
    "NY1 = ['113977789460220411709',  '101274427290837781011', '106861653242718638090', '103027305365171139191', '113219169863257979653']\n",
    "Rating_N1 = [4, 5, 1, 2, 1]"
   ]
  },
  {
   "cell_type": "code",
   "execution_count": 79,
   "metadata": {},
   "outputs": [
    {
     "name": "stdout",
     "output_type": "stream",
     "text": [
      "200\n"
     ]
    }
   ],
   "source": [
    "IDs = NY1\n",
    "Ratings = Rating_N1\n",
    "similiarities, df = APICall(IDs, Ratings)\n",
    "m = Plot('New York',similiarities, 'Persona 2 - New York to London')\n",
    "#save_to_png(\"Persona2_L\",m)"
   ]
  },
  {
   "cell_type": "markdown",
   "metadata": {},
   "source": [
    "![link](img/Persona2_L.png) "
   ]
  },
  {
   "cell_type": "markdown",
   "metadata": {},
   "source": [
    "The recommendation created for the New York version of Jess, does not give any clear indication of places she should visit. The areas are highly spread out and it is difficult to justify that the recommendation is reasonable. Thus, it does not seem to work as well, when going from New York to London. Therefore, further validations will not be conducted from New York to London."
   ]
  },
  {
   "cell_type": "markdown",
   "metadata": {},
   "source": [
    "# Conclusion <a class=\"anchor\" id=\"6-bullet\"></a>"
   ]
  },
  {
   "cell_type": "markdown",
   "metadata": {},
   "source": [
    "To wrap up the final notebook documenting our work on space embeddings, it is possible to create a recommendation system based on space embeddings. The results are positive for personas coming from London to New York but less interpretive the other way around. As a proof of concept, the feasibility is confirmed but several things should be reconsidered if the concept should be realized. These will be highlighted in the discussion, which we urge you to read in the [README notebook](./README.ipynb)."
   ]
  },
  {
   "cell_type": "markdown",
   "metadata": {},
   "source": []
  }
 ],
 "metadata": {
  "interpreter": {
   "hash": "aee8b7b246df8f9039afb4144a1f6fd8d2ca17a180786b69acc140d282b71a49"
  },
  "kernelspec": {
   "display_name": "Python 3 (ipykernel)",
   "language": "python",
   "name": "python3"
  },
  "language_info": {
   "codemirror_mode": {
    "name": "ipython",
    "version": 3
   },
   "file_extension": ".py",
   "mimetype": "text/x-python",
   "name": "python",
   "nbconvert_exporter": "python",
   "pygments_lexer": "ipython3",
   "version": "3.7.11"
  }
 },
 "nbformat": 4,
 "nbformat_minor": 2
}
