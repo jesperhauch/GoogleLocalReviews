{
 "cells": [
  {
   "cell_type": "markdown",
   "id": "3cc2548f",
   "metadata": {},
   "source": [
    "Our space embeddings recommender system is hosted as an API through the AI platform [Grace](https://2021.ai/offerings/grace-enterprise-ai-platform/) developed by 2021.ai. The platform lowers the barrier of entry for AI deployment, since there is no need for writing Docker and bash scripts.\n",
    "\n",
    "Grace has plenty of well-written documentation available for all users, which made the deployment of our recommender system much simpler. If you are interested in a lightning quick guide to model deployment as an API, feel free to read the coming text. However, if you are simply interesting in seeing/making API calls you can scroll to the end of the document and find the code block. "
   ]
  },
  {
   "cell_type": "markdown",
   "id": "ca211fba",
   "metadata": {},
   "source": [
    "## Quick guide to model deployment in Grace"
   ]
  },
  {
   "cell_type": "markdown",
   "id": "db64060c",
   "metadata": {},
   "source": [
    "### Deployment folder setup\n",
    "Since Grace makes use of [seldon](https://github.com/SeldonIO/seldon-core) for building the API, the folder structure of our deployment files has to follow a specific structure and contain specific files. This is how our deployment folder was structured:\n",
    "\n",
    "```\n",
    "deployment\n",
    "|   definitions.py\n",
    "|   deployment.yaml\n",
    "|   Endpoint.py\n",
    "|   requirements.txt\n",
    "|\n",
    "----serialized\n",
    "    |   embeddings.pkl\n",
    "    |   places_final.csv\n",
    "```"
   ]
  },
  {
   "cell_type": "markdown",
   "id": "1c0afdcc",
   "metadata": {},
   "source": [
    "The `definitions.py` always contains the same content as indicated below\n",
    "```python\n",
    "# definitions.yaml\n",
    "import os\n",
    "ROOT_DIR = os.path.dirname(os.path.abspath(__file__))\n",
    "```"
   ]
  },
  {
   "cell_type": "markdown",
   "id": "079935a2",
   "metadata": {},
   "source": [
    "The `deployment.yaml` file also requires very low effort to fill out. The BaseImage is always set to the same in Grace. The ModelName is up to the modeller to use freely. Lastly, the ClassName should contain the name of the class which the API should call. It is <ins>very important</ins> that the class name is the same as the name of the file it is located in. In our project, it was chosen to use the default and named the class Endpoint and the python file `Endpoint.py` \n",
    "```yaml\n",
    "BaseImage: seldonio/seldon-core-s2i-python3:1.2.3\n",
    "ModelName: recommender-system\n",
    "ClassName: Endpoint\n",
    "```"
   ]
  },
  {
   "cell_type": "markdown",
   "id": "1773bc4f",
   "metadata": {},
   "source": [
    "The `Endpoint.py` file should have an initialization method `__init__` and a `predict` method. The seldon framework requires the predict method to take a ndarray (list or list of lists) and feature names as input, which can then be processed however you like.\n",
    "\n",
    "```python\n",
    "from definitions import ROOT_DIR\n",
    "import pandas as pd\n",
    "import numpy as np\n",
    "from sklearn.metrics.pairwise import cosine_similarity\n",
    "import pickle\n",
    "\n",
    "class Endpoint(object):\n",
    "    \"\"\"\n",
    "    Cutout of Endpoint class for explanation\n",
    "    \"\"\"\n",
    "\n",
    "    def __init__(self):\n",
    "        # Initializations \n",
    "        self.places = pd.read_csv(ROOT_DIR + \"/serialized/places_final.csv\")\n",
    "        self.embeddings = pd.DataFrame(pickle.load(open(ROOT_DIR + \"/serialized/continuous_embeddings.pkl\", \"rb\"))).T\n",
    "\n",
    "    def predict(self, x, feature_names):\n",
    "        # Define user df\n",
    "        user = pd.DataFrame(data=x, columns=feature_names)\n",
    "\n",
    "        \"\"\"\n",
    "        Do something\n",
    "        \"\"\"\n",
    "\n",
    "        return recommendation\n",
    "```"
   ]
  },
  {
   "cell_type": "markdown",
   "id": "d12ec22b",
   "metadata": {},
   "source": [
    "The last file of the main folder, `requirements.txt`, contains the packages and versions to be used in the `Endpoint` class. In our Endpoint, we only use three packages as listed below:\n",
    "```txt\n",
    "numpy==1.18.1\n",
    "pandas==1.0.1\n",
    "scikit-learn==0.22.1\n",
    "```"
   ]
  },
  {
   "cell_type": "markdown",
   "id": "111310df",
   "metadata": {},
   "source": [
    "In the `serialized` folder, data and models are stored which can be used by the API. In our case, a data file `places.csv` and an embeddings file `embeddings.pkl`. You may have noticed that these files are loaded in the `__init__` method inside the Endpoint class."
   ]
  },
  {
   "cell_type": "markdown",
   "id": "56b872f9",
   "metadata": {},
   "source": [
    "That wraps it up for the quick Grace tutorial. An example of an POST API call to the Grace model is found below."
   ]
  },
  {
   "cell_type": "code",
   "execution_count": 1,
   "id": "296ecaf0-a402-454f-90a4-88d60d20a196",
   "metadata": {},
   "outputs": [],
   "source": [
    "import numpy as np\n",
    "import requests\n",
    "\n",
    "feature_names = ['IDs', 'Rating']\n",
    "IDs = ['101742583391038750118','100574642292837870712']\n",
    "Ratings = [4,2]\n",
    "\n",
    "# Pythonic way to transpose list of lists \n",
    "data = list(map(list, zip(IDs, Ratings)))"
   ]
  },
  {
   "cell_type": "code",
   "execution_count": 9,
   "id": "19ce406f-7012-4378-80a1-34d55ddfd647",
   "metadata": {},
   "outputs": [
    {
     "name": "stdout",
     "output_type": "stream",
     "text": [
      "200\n"
     ]
    },
    {
     "data": {
      "text/html": [
       "<div>\n",
       "<style scoped>\n",
       "    .dataframe tbody tr th:only-of-type {\n",
       "        vertical-align: middle;\n",
       "    }\n",
       "\n",
       "    .dataframe tbody tr th {\n",
       "        vertical-align: top;\n",
       "    }\n",
       "\n",
       "    .dataframe thead th {\n",
       "        text-align: right;\n",
       "    }\n",
       "</style>\n",
       "<table border=\"1\" class=\"dataframe\">\n",
       "  <thead>\n",
       "    <tr style=\"text-align: right;\">\n",
       "      <th></th>\n",
       "      <th>Grid</th>\n",
       "      <th>cosine_similarity</th>\n",
       "      <th>clean_index</th>\n",
       "    </tr>\n",
       "  </thead>\n",
       "  <tbody>\n",
       "    <tr>\n",
       "      <th>0</th>\n",
       "      <td>NY149</td>\n",
       "      <td>0.858835</td>\n",
       "      <td>149</td>\n",
       "    </tr>\n",
       "    <tr>\n",
       "      <th>1</th>\n",
       "      <td>NY87</td>\n",
       "      <td>0.853345</td>\n",
       "      <td>87</td>\n",
       "    </tr>\n",
       "    <tr>\n",
       "      <th>2</th>\n",
       "      <td>NY189</td>\n",
       "      <td>0.842863</td>\n",
       "      <td>189</td>\n",
       "    </tr>\n",
       "    <tr>\n",
       "      <th>3</th>\n",
       "      <td>NY302</td>\n",
       "      <td>0.820331</td>\n",
       "      <td>302</td>\n",
       "    </tr>\n",
       "    <tr>\n",
       "      <th>4</th>\n",
       "      <td>NY140</td>\n",
       "      <td>0.772935</td>\n",
       "      <td>140</td>\n",
       "    </tr>\n",
       "    <tr>\n",
       "      <th>...</th>\n",
       "      <td>...</td>\n",
       "      <td>...</td>\n",
       "      <td>...</td>\n",
       "    </tr>\n",
       "    <tr>\n",
       "      <th>137</th>\n",
       "      <td>NY227</td>\n",
       "      <td>-0.727667</td>\n",
       "      <td>227</td>\n",
       "    </tr>\n",
       "    <tr>\n",
       "      <th>138</th>\n",
       "      <td>NY45</td>\n",
       "      <td>-0.785378</td>\n",
       "      <td>45</td>\n",
       "    </tr>\n",
       "    <tr>\n",
       "      <th>139</th>\n",
       "      <td>NY186</td>\n",
       "      <td>-0.796939</td>\n",
       "      <td>186</td>\n",
       "    </tr>\n",
       "    <tr>\n",
       "      <th>140</th>\n",
       "      <td>NY126</td>\n",
       "      <td>-0.915650</td>\n",
       "      <td>126</td>\n",
       "    </tr>\n",
       "    <tr>\n",
       "      <th>141</th>\n",
       "      <td>NY188</td>\n",
       "      <td>-0.923203</td>\n",
       "      <td>188</td>\n",
       "    </tr>\n",
       "  </tbody>\n",
       "</table>\n",
       "<p>142 rows × 3 columns</p>\n",
       "</div>"
      ],
      "text/plain": [
       "      Grid  cosine_similarity  clean_index\n",
       "0    NY149           0.858835          149\n",
       "1     NY87           0.853345           87\n",
       "2    NY189           0.842863          189\n",
       "3    NY302           0.820331          302\n",
       "4    NY140           0.772935          140\n",
       "..     ...                ...          ...\n",
       "137  NY227          -0.727667          227\n",
       "138   NY45          -0.785378           45\n",
       "139  NY186          -0.796939          186\n",
       "140  NY126          -0.915650          126\n",
       "141  NY188          -0.923203          188\n",
       "\n",
       "[142 rows x 3 columns]"
      ]
     },
     "execution_count": 9,
     "metadata": {},
     "output_type": "execute_result"
    }
   ],
   "source": [
    "# Construct data for endpoint\n",
    "import pandas as pd\n",
    "endpoint = \"https://models.grace-dtu.2021.services/seldon/project-spaceembeddings/recommender-system/api/v0.1/predictions\"\n",
    "headers = {'Grace-Client-Secret': 'c0de6747-ffb6-4023-913f-53c8222435bb'}\n",
    "payload = {\"data\": {\"names\": feature_names,\n",
    "                    \"ndarray\": data}}\n",
    "\n",
    "# Request response from endpoint\n",
    "response = requests.post(endpoint, json=payload, headers=headers)\n",
    "\n",
    "print(response.status_code)\n",
    "pd.DataFrame(response.json()['data']['ndarray'], columns = [\"Grid\", \"cosine_similarity\", \"clean_index\"])"
   ]
  },
  {
   "cell_type": "code",
   "execution_count": null,
   "id": "ecc61ba8",
   "metadata": {},
   "outputs": [],
   "source": []
  }
 ],
 "metadata": {
  "interpreter": {
   "hash": "120e41c718bbd8f8ec4a027ba989813e34426de40859c9c53e628c4a48c10621"
  },
  "kernelspec": {
   "display_name": "Python 3.9.5 ('abaenv': venv)",
   "language": "python",
   "name": "python3"
  },
  "language_info": {
   "codemirror_mode": {
    "name": "ipython",
    "version": 3
   },
   "file_extension": ".py",
   "mimetype": "text/x-python",
   "name": "python",
   "nbconvert_exporter": "python",
   "pygments_lexer": "ipython3",
   "version": "3.9.5"
  }
 },
 "nbformat": 4,
 "nbformat_minor": 5
}
