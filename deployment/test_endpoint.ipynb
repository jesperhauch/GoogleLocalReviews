{
 "cells": [
  {
   "cell_type": "code",
   "execution_count": 10,
   "id": "db46a343-01da-45ac-888a-be1539cc5e46",
   "metadata": {},
   "outputs": [],
   "source": [
    "from Endpoint import Endpoint\n",
    "import numpy as np"
   ]
  },
  {
   "cell_type": "code",
   "execution_count": 11,
   "id": "296ecaf0-a402-454f-90a4-88d60d20a196",
   "metadata": {},
   "outputs": [],
   "source": [
    "feature_names = ['IDs', 'Rating']\n",
    "IDs = ['101742583391038750118','100574642292837870712']\n",
    "Ratings = [4,2]\n",
    "\n",
    "# Pythonic way to transpose list of lists \n",
    "data = list(map(list, zip(IDs, Ratings)))"
   ]
  },
  {
   "cell_type": "code",
   "execution_count": 12,
   "id": "e880f77d-6a74-48c6-a2cf-74b559f3adc2",
   "metadata": {},
   "outputs": [
    {
     "data": {
      "text/plain": [
       "array(['NY145', 'NY4', 'NY243', 'NY2', 'NY245'], dtype=object)"
      ]
     },
     "execution_count": 12,
     "metadata": {},
     "output_type": "execute_result"
    }
   ],
   "source": [
    "# Intitalize endpoint\n",
    "ep = Endpoint()\n",
    "ep.predict(data, feature_names)"
   ]
  },
  {
   "cell_type": "code",
   "execution_count": 15,
   "id": "19ce406f-7012-4378-80a1-34d55ddfd647",
   "metadata": {},
   "outputs": [
    {
     "name": "stdout",
     "output_type": "stream",
     "text": [
      "200\n",
      "{'data': {'names': [], 'ndarray': ['NY145', 'NY4', 'NY243', 'NY2', 'NY245']}, 'meta': {}}\n"
     ]
    }
   ],
   "source": [
    "import requests\n",
    "\n",
    "# Construct data for endpoint\n",
    "endpoint = \"https://models.grace-dtu.2021.services/seldon/project-spaceembeddings/recommender-system/api/v0.1/predictions\"\n",
    "headers = {'Grace-Client-Secret': 'c0de6747-ffb6-4023-913f-53c8222435bb'}\n",
    "payload = {\"data\": {\"names\": feature_names,\n",
    "                    \"ndarray\": data}}\n",
    "\n",
    "# Request response from endpoint\n",
    "response = requests.post(endpoint, json=payload, headers=headers)\n",
    "\n",
    "print(response.status_code)\n",
    "print(response.json())"
   ]
  },
  {
   "cell_type": "code",
   "execution_count": null,
   "id": "38758db8-6447-4e8b-a0fa-f0ea6b1c48ad",
   "metadata": {},
   "outputs": [],
   "source": []
  }
 ],
 "metadata": {
  "kernelspec": {
   "display_name": "Python 3 (ipykernel)",
   "language": "python",
   "name": "python3"
  },
  "language_info": {
   "codemirror_mode": {
    "name": "ipython",
    "version": 3
   },
   "file_extension": ".py",
   "mimetype": "text/x-python",
   "name": "python",
   "nbconvert_exporter": "python",
   "pygments_lexer": "ipython3",
   "version": "3.8.10"
  }
 },
 "nbformat": 4,
 "nbformat_minor": 5
}
