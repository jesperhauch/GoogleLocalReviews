{
 "cells": [
  {
   "cell_type": "code",
   "execution_count": 1,
   "metadata": {},
   "outputs": [],
   "source": [
    "import pandas as pd\n",
    "import matplotlib.pyplot as plt\n",
    "import seaborn as sns\n",
    "sns.set_style(\"darkgrid\")\n",
    "data_path = \"data/\""
   ]
  },
  {
   "cell_type": "code",
   "execution_count": 2,
   "metadata": {},
   "outputs": [],
   "source": [
    "places = pd.read_csv(data_path + \"places.csv\", sep=\";\")\n",
    "reviews = pd.read_csv(data_path + \"reviews.csv\", sep=\";\", low_memory=False)"
   ]
  },
  {
   "cell_type": "markdown",
   "metadata": {},
   "source": [
    "## 1.2 Reviews"
   ]
  },
  {
   "cell_type": "code",
   "execution_count": 9,
   "metadata": {},
   "outputs": [
    {
     "name": "stderr",
     "output_type": "stream",
     "text": [
      "[nltk_data] Downloading package stopwords to\n",
      "[nltk_data]     /home/jesperhauch/nltk_data...\n",
      "[nltk_data]   Package stopwords is already up-to-date!\n"
     ]
    }
   ],
   "source": [
    "from datetime import datetime\n",
    "import numpy as np\n",
    "import re\n",
    "import nltk\n",
    "from nltk import word_tokenize\n",
    "from nltk.stem import WordNetLemmatizer \n",
    "lemmatizer = WordNetLemmatizer()\n",
    "nltk.download(\"stopwords\")\n",
    "_stop_words = nltk.corpus.stopwords.words('english')"
   ]
  },
  {
   "cell_type": "code",
   "execution_count": 18,
   "metadata": {},
   "outputs": [
    {
     "name": "stdout",
     "output_type": "stream",
     "text": [
      "Shape of reviews: (571724, 8)\n"
     ]
    },
    {
     "data": {
      "text/plain": [
       "rating                 0\n",
       "reviewerName        2139\n",
       "reviewText        146604\n",
       "categories         50096\n",
       "gPlusPlaceId        3885\n",
       "unixReviewTime     49070\n",
       "reviewTime         50817\n",
       "gPlusUserId         5632\n",
       "dtype: int64"
      ]
     },
     "execution_count": 18,
     "metadata": {},
     "output_type": "execute_result"
    }
   ],
   "source": [
    "print(\"Shape of reviews:\", reviews.shape)\n",
    "reviews.isna().sum()"
   ]
  },
  {
   "cell_type": "code",
   "execution_count": 19,
   "metadata": {},
   "outputs": [],
   "source": [
    "# Categories is essential for our future analysis. Hence we remove rows with missing categories\n",
    "reviews.dropna(subset=[\"categories\"], inplace=True)"
   ]
  },
  {
   "cell_type": "code",
   "execution_count": 20,
   "metadata": {},
   "outputs": [],
   "source": [
    "# Only get reviews that are in the places list\n",
    "reviews = reviews.loc[lambda x: x.gPlusPlaceId.isin(places.gPlusPlaceId.values)]"
   ]
  },
  {
   "cell_type": "code",
   "execution_count": 21,
   "metadata": {},
   "outputs": [
    {
     "data": {
      "text/plain": [
       "rating             object\n",
       "reviewerName       object\n",
       "reviewText         object\n",
       "categories         object\n",
       "gPlusPlaceId       object\n",
       "unixReviewTime    float64\n",
       "reviewTime         object\n",
       "gPlusUserId        object\n",
       "dtype: object"
      ]
     },
     "execution_count": 21,
     "metadata": {},
     "output_type": "execute_result"
    }
   ],
   "source": [
    "reviews.dtypes"
   ]
  },
  {
   "cell_type": "code",
   "execution_count": 22,
   "metadata": {},
   "outputs": [],
   "source": [
    "# Convert rating to numeric feature\n",
    "reviews['rating'] = pd.to_numeric(reviews['rating'], downcast=\"integer\")"
   ]
  },
  {
   "cell_type": "code",
   "execution_count": 23,
   "metadata": {},
   "outputs": [],
   "source": [
    "# Using unix review time since it has less missing values and more information than the review time feature\n",
    "def unixToDatetime(unix_timestamp):\n",
    "    if not pd.isna(unix_timestamp):\n",
    "        return datetime.utcfromtimestamp(unix_timestamp).strftime(\"%Y-%m-%d %H:%M:%S\")\n",
    "    else:\n",
    "        return np.NaN\n",
    "\n",
    "reviews['unixReviewTime'] = reviews['unixReviewTime'].apply(unixToDatetime)\n",
    "reviews.drop([\"reviewTime\"], axis=1, inplace=True)"
   ]
  },
  {
   "cell_type": "code",
   "execution_count": 24,
   "metadata": {},
   "outputs": [],
   "source": [
    "# Categories are stored as a \"['Category']\", thus we use regex to find the word between the apostrophes\n",
    "reviews['categories'] = reviews.categories.apply(lambda x: re.findall(r\"[\\[|\\s]\\'(.*?)\\'[\\,|\\]]\", x))"
   ]
  },
  {
   "cell_type": "code",
   "execution_count": 25,
   "metadata": {},
   "outputs": [],
   "source": [
    "# Text processing function from Social Graphs and Interactions\n",
    "def cleanString(text):\n",
    "    if not pd.isna(text):\n",
    "        tokens = word_tokenize(text) #Tokenizing\n",
    "        punctuation = [word.lower() for word in tokens if word.isalnum()] # remove punctuation and set to lower case\n",
    "        lemma = [lemmatizer.lemmatize(word) for word in punctuation] # lemmatize words\n",
    "        stopwords = stopwords.words('english')\n",
    "        return [w for w in lemma if w not in stopwords] # Finally removes stopwords\n",
    "    else:\n",
    "        return np.NaN"
   ]
  },
  {
   "cell_type": "code",
   "execution_count": 26,
   "metadata": {},
   "outputs": [],
   "source": [
    "#reviews['reviewTextClean'] = reviews['reviewText'].apply(cleanString)\n",
    "#reviews.to_csv(data_path + \"reviews_cleaned.csv\", index=False)"
   ]
  },
  {
   "cell_type": "markdown",
   "metadata": {},
   "source": [
    "# Exploratory (Reviews)"
   ]
  },
  {
   "cell_type": "code",
   "execution_count": 195,
   "metadata": {},
   "outputs": [],
   "source": [
    "reviews = pd.read_csv(data_path + \"reviews_cleaned.csv\")\n",
    "places = pd.read_csv(data_path + \"places_cleaned.csv\")"
   ]
  },
  {
   "cell_type": "code",
   "execution_count": 196,
   "metadata": {},
   "outputs": [],
   "source": [
    "reviews['categories'] = reviews.categories.apply(lambda x: re.findall(r\"[\\[|\\s]\\'(.*?)\\'[\\,|\\]]\", x))"
   ]
  },
  {
   "cell_type": "code",
   "execution_count": 197,
   "metadata": {},
   "outputs": [
    {
     "data": {
      "text/plain": [
       "\"['cute', 'hotel', 'good', 'amenity', 'nice', 'location', 'great', 'cranky', 'cocktail', 'staff', 'hotel', 'bar', 'second', 'floor', 'ugh', 'last', 'thing', 'need', 'trying', 'unwind', 'tightly', 'wound', 'sour', 'cocktail', 'waitress', 'delivering', '18', 'drink']\""
      ]
     },
     "execution_count": 197,
     "metadata": {},
     "output_type": "execute_result"
    }
   ],
   "source": [
    "reviews.reviewTextClean[0]"
   ]
  },
  {
   "cell_type": "markdown",
   "metadata": {},
   "source": [
    "Each business has the same categories attached to it across reviews. To ensure we have as few categories as possible, we will find the most popular categories across all reviews and assign the most popular category of the categories each business belongs to."
   ]
  },
  {
   "cell_type": "code",
   "execution_count": 198,
   "metadata": {},
   "outputs": [],
   "source": [
    "def findPopularCat(df):\n",
    "    popular_dict = df.explode(column = \"categories\").groupby([\"categories\"]).count()['gPlusUserId'].to_dict()\n",
    "    temp_df = df.drop_duplicates(subset=\"gPlusPlaceId\").reset_index(drop=True)\n",
    "    category_dict = {}\n",
    "    for _, row in temp_df.iterrows():\n",
    "        max_count = 0\n",
    "        max_cat = \"\"\n",
    "        for cat in row['categories']:\n",
    "            count = popular_dict[cat]\n",
    "            if count > max_count:\n",
    "                max_count = count\n",
    "                max_cat = cat\n",
    "        category_dict[row['gPlusPlaceId']] = max_cat\n",
    "    return category_dict"
   ]
  },
  {
   "cell_type": "code",
   "execution_count": 199,
   "metadata": {},
   "outputs": [],
   "source": [
    "category_dict = findPopularCat(reviews)\n",
    "places['category'] = places['gPlusPlaceId'].apply(lambda x: category_dict[x] if x in category_dict.keys() else np.NAN)"
   ]
  },
  {
   "cell_type": "code",
   "execution_count": 201,
   "metadata": {},
   "outputs": [
    {
     "data": {
      "text/html": [
       "<div>\n",
       "<style scoped>\n",
       "    .dataframe tbody tr th:only-of-type {\n",
       "        vertical-align: middle;\n",
       "    }\n",
       "\n",
       "    .dataframe tbody tr th {\n",
       "        vertical-align: top;\n",
       "    }\n",
       "\n",
       "    .dataframe thead th {\n",
       "        text-align: right;\n",
       "    }\n",
       "</style>\n",
       "<table border=\"1\" class=\"dataframe\">\n",
       "  <thead>\n",
       "    <tr style=\"text-align: right;\">\n",
       "      <th></th>\n",
       "      <th>gPlusPlaceId</th>\n",
       "      <th>name</th>\n",
       "      <th>price</th>\n",
       "      <th>lat</th>\n",
       "      <th>lon</th>\n",
       "      <th>city</th>\n",
       "      <th>address</th>\n",
       "      <th>category</th>\n",
       "    </tr>\n",
       "  </thead>\n",
       "  <tbody>\n",
       "    <tr>\n",
       "      <th>3938</th>\n",
       "      <td>115907789527187073270</td>\n",
       "      <td>India Cottage</td>\n",
       "      <td>2.0</td>\n",
       "      <td>51.469479</td>\n",
       "      <td>-0.210033</td>\n",
       "      <td>London</td>\n",
       "      <td>['67 Fulham High St', 'London SW6 3JJ', 'Unite...</td>\n",
       "      <td>Asian Restaurant</td>\n",
       "    </tr>\n",
       "    <tr>\n",
       "      <th>10954</th>\n",
       "      <td>103450930933542342454</td>\n",
       "      <td>Angelo's Pizza</td>\n",
       "      <td>2.0</td>\n",
       "      <td>40.764887</td>\n",
       "      <td>-73.977958</td>\n",
       "      <td>New York</td>\n",
       "      <td>['117 W 57th St', 'New York, NY 10019']</td>\n",
       "      <td>European Restaurant</td>\n",
       "    </tr>\n",
       "    <tr>\n",
       "      <th>7523</th>\n",
       "      <td>111123327984327241090</td>\n",
       "      <td>Guilty Goose</td>\n",
       "      <td>2.0</td>\n",
       "      <td>40.743503</td>\n",
       "      <td>-73.993862</td>\n",
       "      <td>New York</td>\n",
       "      <td>['131 W 23rd St', 'New York, NY 10011']</td>\n",
       "      <td>American Restaurant</td>\n",
       "    </tr>\n",
       "    <tr>\n",
       "      <th>9732</th>\n",
       "      <td>118007553844264644832</td>\n",
       "      <td>Giorgio's of Gramercy</td>\n",
       "      <td>2.0</td>\n",
       "      <td>40.739635</td>\n",
       "      <td>-73.988696</td>\n",
       "      <td>New York</td>\n",
       "      <td>['27 E 21st St', 'New York, NY 10010']</td>\n",
       "      <td>American Restaurant</td>\n",
       "    </tr>\n",
       "    <tr>\n",
       "      <th>4613</th>\n",
       "      <td>100580407174845512351</td>\n",
       "      <td>Grill 212</td>\n",
       "      <td>2.0</td>\n",
       "      <td>40.784161</td>\n",
       "      <td>-73.978794</td>\n",
       "      <td>New York</td>\n",
       "      <td>['212 W 80th St', 'New York, NY 10024']</td>\n",
       "      <td>Middle Eastern Restaurant</td>\n",
       "    </tr>\n",
       "    <tr>\n",
       "      <th>8298</th>\n",
       "      <td>102485927097406951073</td>\n",
       "      <td>Soup Spot</td>\n",
       "      <td>2.0</td>\n",
       "      <td>40.749522</td>\n",
       "      <td>-73.993233</td>\n",
       "      <td>New York</td>\n",
       "      <td>['220 W 31st St #2', 'New York, NY 10001']</td>\n",
       "      <td>Restaurant</td>\n",
       "    </tr>\n",
       "    <tr>\n",
       "      <th>6743</th>\n",
       "      <td>106433740781339566494</td>\n",
       "      <td>Buona Notte</td>\n",
       "      <td>2.0</td>\n",
       "      <td>40.717836</td>\n",
       "      <td>-73.998030</td>\n",
       "      <td>New York</td>\n",
       "      <td>['120 Mulberry St #1', 'New York, NY 10013']</td>\n",
       "      <td>Italian Restaurant</td>\n",
       "    </tr>\n",
       "    <tr>\n",
       "      <th>6084</th>\n",
       "      <td>115396141141975013836</td>\n",
       "      <td>Agave</td>\n",
       "      <td>2.0</td>\n",
       "      <td>40.734729</td>\n",
       "      <td>-74.002374</td>\n",
       "      <td>New York</td>\n",
       "      <td>['140 7th Ave S', 'New York, NY 10014']</td>\n",
       "      <td>Mexican Restaurant</td>\n",
       "    </tr>\n",
       "    <tr>\n",
       "      <th>3843</th>\n",
       "      <td>103200262396361416461</td>\n",
       "      <td>Yoshi Sushi</td>\n",
       "      <td>2.0</td>\n",
       "      <td>40.726882</td>\n",
       "      <td>-73.983088</td>\n",
       "      <td>New York</td>\n",
       "      <td>['131 Avenue A', 'New York, NY 10009']</td>\n",
       "      <td>Asian Restaurant</td>\n",
       "    </tr>\n",
       "    <tr>\n",
       "      <th>978</th>\n",
       "      <td>115418647207174673879</td>\n",
       "      <td>Khe-yo</td>\n",
       "      <td>2.0</td>\n",
       "      <td>40.716853</td>\n",
       "      <td>-74.008651</td>\n",
       "      <td>New York</td>\n",
       "      <td>['157 Duane St', 'New York, NY 10013']</td>\n",
       "      <td>Laotian Restaurant</td>\n",
       "    </tr>\n",
       "  </tbody>\n",
       "</table>\n",
       "</div>"
      ],
      "text/plain": [
       "                gPlusPlaceId                   name  price        lat  \\\n",
       "3938   115907789527187073270          India Cottage    2.0  51.469479   \n",
       "10954  103450930933542342454         Angelo's Pizza    2.0  40.764887   \n",
       "7523   111123327984327241090           Guilty Goose    2.0  40.743503   \n",
       "9732   118007553844264644832  Giorgio's of Gramercy    2.0  40.739635   \n",
       "4613   100580407174845512351              Grill 212    2.0  40.784161   \n",
       "8298   102485927097406951073              Soup Spot    2.0  40.749522   \n",
       "6743   106433740781339566494            Buona Notte    2.0  40.717836   \n",
       "6084   115396141141975013836                  Agave    2.0  40.734729   \n",
       "3843   103200262396361416461            Yoshi Sushi    2.0  40.726882   \n",
       "978    115418647207174673879                 Khe-yo    2.0  40.716853   \n",
       "\n",
       "             lon      city                                            address  \\\n",
       "3938   -0.210033    London  ['67 Fulham High St', 'London SW6 3JJ', 'Unite...   \n",
       "10954 -73.977958  New York            ['117 W 57th St', 'New York, NY 10019']   \n",
       "7523  -73.993862  New York            ['131 W 23rd St', 'New York, NY 10011']   \n",
       "9732  -73.988696  New York             ['27 E 21st St', 'New York, NY 10010']   \n",
       "4613  -73.978794  New York            ['212 W 80th St', 'New York, NY 10024']   \n",
       "8298  -73.993233  New York         ['220 W 31st St #2', 'New York, NY 10001']   \n",
       "6743  -73.998030  New York       ['120 Mulberry St #1', 'New York, NY 10013']   \n",
       "6084  -74.002374  New York            ['140 7th Ave S', 'New York, NY 10014']   \n",
       "3843  -73.983088  New York             ['131 Avenue A', 'New York, NY 10009']   \n",
       "978   -74.008651  New York             ['157 Duane St', 'New York, NY 10013']   \n",
       "\n",
       "                        category  \n",
       "3938            Asian Restaurant  \n",
       "10954        European Restaurant  \n",
       "7523         American Restaurant  \n",
       "9732         American Restaurant  \n",
       "4613   Middle Eastern Restaurant  \n",
       "8298                  Restaurant  \n",
       "6743          Italian Restaurant  \n",
       "6084          Mexican Restaurant  \n",
       "3843            Asian Restaurant  \n",
       "978           Laotian Restaurant  "
      ]
     },
     "execution_count": 201,
     "metadata": {},
     "output_type": "execute_result"
    }
   ],
   "source": [
    "s = places.category.str.contains(\"Restaurant\").values\n",
    "restaurants = places.loc[np.nonzero(s)[0]].reset_index(drop=True)\n",
    "restaurants[restaurants.price == 2].sample(10)"
   ]
  },
  {
   "cell_type": "code",
   "execution_count": 97,
   "metadata": {},
   "outputs": [
    {
     "data": {
      "image/png": "[encoded data removed]",
      "text/plain": [
       "<Figure size 432x288 with 1 Axes>"
      ]
     },
     "metadata": {},
     "output_type": "display_data"
    }
   ],
   "source": [
    "# Fjerne 0 rækker i reviews\n",
    "reviews.rating.value_counts().sort_index().plot.bar(xlabel=\"Rating\", ylabel=\"Count\", title=\"Number of reviews per rating\");"
   ]
  },
  {
   "cell_type": "code",
   "execution_count": 174,
   "metadata": {},
   "outputs": [
    {
     "data": {
      "text/plain": [
       "\"['cute', 'hotel', 'good', 'amenity', 'nice', 'location', 'great', 'cranky', 'cocktail', 'staff', 'hotel', 'bar', 'second', 'floor', 'ugh', 'last', 'thing', 'need', 'trying', 'unwind', 'tightly', 'wound', 'sour', 'cocktail', 'waitress', 'delivering', '18', 'drink']\""
      ]
     },
     "execution_count": 174,
     "metadata": {},
     "output_type": "execute_result"
    }
   ],
   "source": [
    "reviews.reviewTextClean[0]"
   ]
  },
  {
   "cell_type": "code",
   "execution_count": 171,
   "metadata": {},
   "outputs": [
    {
     "data": {
      "image/png": "[encoded data removed]",
      "text/plain": [
       "<Figure size 432x288 with 1 Axes>"
      ]
     },
     "metadata": {},
     "output_type": "display_data"
    }
   ],
   "source": [
    "# Distribution of the amount of characters in the reviews\n",
    "reviews.dropna(subset=[\"reviewTextClean\"]).reviewTextClean.apply(len).plot.hist(bins=50, edgecolor=\"black\");"
   ]
  },
  {
   "cell_type": "code",
   "execution_count": 100,
   "metadata": {},
   "outputs": [
    {
     "data": {
      "text/plain": [
       "<AxesSubplot:xlabel='unixReviewTime'>"
      ]
     },
     "execution_count": 100,
     "metadata": {},
     "output_type": "execute_result"
    },
    {
     "data": {
      "image/png": "[encoded data removed]",
      "text/plain": [
       "<Figure size 432x288 with 1 Axes>"
      ]
     },
     "metadata": {},
     "output_type": "display_data"
    }
   ],
   "source": [
    "# fjern alt før 2000\n",
    "temp_df = reviews.dropna(subset=\"unixReviewTime\")\n",
    "temp_df['unixReviewTime'] = pd.to_datetime(reviews['unixReviewTime'])\n",
    "temp_df.groupby(\"unixReviewTime\").mean()['rating'].sort_index().plot()"
   ]
  }
 ],
 "metadata": {
  "interpreter": {
   "hash": "cef06f2affa5ae95562f0760bca9fa2432cd63766c8d1240875ac699c6103183"
  },
  "kernelspec": {
   "display_name": "Python 3.8.10 ('abaenv': venv)",
   "language": "python",
   "name": "python3"
  },
  "language_info": {
   "codemirror_mode": {
    "name": "ipython",
    "version": 3
   },
   "file_extension": ".py",
   "mimetype": "text/x-python",
   "name": "python",
   "nbconvert_exporter": "python",
   "pygments_lexer": "ipython3",
   "version": "3.8.10"
  },
  "orig_nbformat": 4
 },
 "nbformat": 4,
 "nbformat_minor": 2
}
