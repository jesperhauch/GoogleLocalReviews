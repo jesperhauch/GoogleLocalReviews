{
 "cells": [
  {
   "cell_type": "code",
   "execution_count": 1,
   "metadata": {},
   "outputs": [],
   "source": [
    "import pandas as pd\n",
    "import matplotlib.pyplot as plt\n",
    "import seaborn as sns\n",
    "sns.set_style(\"darkgrid\")\n",
    "data_path = \"data/\""
   ]
  },
  {
   "cell_type": "code",
   "execution_count": 2,
   "metadata": {},
   "outputs": [],
   "source": [
    "places = pd.read_csv(data_path + \"places.csv\", sep=\";\")\n",
    "reviews = pd.read_csv(data_path + \"reviews.csv\", sep=\";\", low_memory=False)"
   ]
  },
  {
   "cell_type": "markdown",
   "metadata": {},
   "source": [
    "## 1.2 Reviews"
   ]
  },
  {
   "cell_type": "code",
   "execution_count": 9,
   "metadata": {},
   "outputs": [
    {
     "name": "stderr",
     "output_type": "stream",
     "text": [
      "[nltk_data] Downloading package stopwords to\n",
      "[nltk_data]     /home/jesperhauch/nltk_data...\n",
      "[nltk_data]   Package stopwords is already up-to-date!\n"
     ]
    }
   ],
   "source": [
    "from datetime import datetime\n",
    "import numpy as np\n",
    "import re\n",
    "import nltk\n",
    "from nltk import word_tokenize\n",
    "from nltk.stem import WordNetLemmatizer \n",
    "lemmatizer = WordNetLemmatizer()\n",
    "nltk.download(\"stopwords\")\n",
    "_stop_words = nltk.corpus.stopwords.words('english')"
   ]
  },
  {
   "cell_type": "code",
   "execution_count": 18,
   "metadata": {},
   "outputs": [
    {
     "name": "stdout",
     "output_type": "stream",
     "text": [
      "Shape of reviews: (571724, 8)\n"
     ]
    },
    {
     "data": {
      "text/plain": [
       "rating                 0\n",
       "reviewerName        2139\n",
       "reviewText        146604\n",
       "categories         50096\n",
       "gPlusPlaceId        3885\n",
       "unixReviewTime     49070\n",
       "reviewTime         50817\n",
       "gPlusUserId         5632\n",
       "dtype: int64"
      ]
     },
     "execution_count": 18,
     "metadata": {},
     "output_type": "execute_result"
    }
   ],
   "source": [
    "print(\"Shape of reviews:\", reviews.shape)\n",
    "reviews.isna().sum()"
   ]
  },
  {
   "cell_type": "code",
   "execution_count": 19,
   "metadata": {},
   "outputs": [],
   "source": [
    "# Categories is essential for our future analysis. Hence we remove rows with missing categories\n",
    "reviews.dropna(subset=[\"categories\"], inplace=True)"
   ]
  },
  {
   "cell_type": "code",
   "execution_count": 20,
   "metadata": {},
   "outputs": [],
   "source": [
    "# Only get reviews that are in the places list\n",
    "reviews = reviews.loc[lambda x: x.gPlusPlaceId.isin(places.gPlusPlaceId.values)]"
   ]
  },
  {
   "cell_type": "code",
   "execution_count": 21,
   "metadata": {},
   "outputs": [
    {
     "data": {
      "text/plain": [
       "rating             object\n",
       "reviewerName       object\n",
       "reviewText         object\n",
       "categories         object\n",
       "gPlusPlaceId       object\n",
       "unixReviewTime    float64\n",
       "reviewTime         object\n",
       "gPlusUserId        object\n",
       "dtype: object"
      ]
     },
     "execution_count": 21,
     "metadata": {},
     "output_type": "execute_result"
    }
   ],
   "source": [
    "reviews.dtypes"
   ]
  },
  {
   "cell_type": "code",
   "execution_count": 22,
   "metadata": {},
   "outputs": [],
   "source": [
    "# Convert rating to numeric feature\n",
    "reviews['rating'] = pd.to_numeric(reviews['rating'], downcast=\"integer\")"
   ]
  },
  {
   "cell_type": "code",
   "execution_count": 23,
   "metadata": {},
   "outputs": [],
   "source": [
    "# Using unix review time since it has less missing values and more information than the review time feature\n",
    "def unixToDatetime(unix_timestamp):\n",
    "    if not pd.isna(unix_timestamp):\n",
    "        return datetime.utcfromtimestamp(unix_timestamp).strftime(\"%Y-%m-%d %H:%M:%S\")\n",
    "    else:\n",
    "        return np.NaN\n",
    "\n",
    "reviews['unixReviewTime'] = reviews['unixReviewTime'].apply(unixToDatetime)\n",
    "reviews.drop([\"reviewTime\"], axis=1, inplace=True)"
   ]
  },
  {
   "cell_type": "code",
   "execution_count": 24,
   "metadata": {},
   "outputs": [],
   "source": [
    "# Categories are stored as a \"['Category']\", thus we use regex to find the word between the apostrophes\n",
    "reviews['categories'] = reviews.categories.apply(lambda x: re.findall(r\"[\\[|\\s]\\'(.*?)\\'[\\,|\\]]\", x))"
   ]
  },
  {
   "cell_type": "code",
   "execution_count": 25,
   "metadata": {},
   "outputs": [],
   "source": [
    "# Text processing function from Social Graphs and Interactions\n",
    "def cleanString(text):\n",
    "    if not pd.isna(text):\n",
    "        tokens = word_tokenize(text) #Tokenizing\n",
    "        punctuation = [word.lower() for word in tokens if word.isalnum()] # remove punctuation and set to lower case\n",
    "        lemma = [lemmatizer.lemmatize(word) for word in punctuation] # lemmatize words\n",
    "        stopwords = stopwords.words('english')\n",
    "        return [w for w in lemma if w not in stopwords] # Finally removes stopwords\n",
    "    else:\n",
    "        return np.NaN"
   ]
  },
  {
   "cell_type": "code",
   "execution_count": 26,
   "metadata": {},
   "outputs": [],
   "source": [
    "#reviews['reviewTextClean'] = reviews['reviewText'].apply(cleanString)\n",
    "#reviews.to_csv(data_path + \"reviews_cleaned.csv\", index=False)"
   ]
  },
  {
   "cell_type": "markdown",
   "metadata": {},
   "source": [
    "# Exploratory (Reviews)"
   ]
  },
  {
   "cell_type": "code",
   "execution_count": 203,
   "metadata": {},
   "outputs": [],
   "source": [
    "reviews = pd.read_csv(data_path + \"reviews_cleaned.csv\")\n",
    "places = pd.read_csv(data_path + \"places_cleaned.csv\")"
   ]
  },
  {
   "cell_type": "code",
   "execution_count": 204,
   "metadata": {},
   "outputs": [],
   "source": [
    "reviews['categories'] = reviews.categories.apply(lambda x: re.findall(r\"[\\[|\\s]\\'(.*?)\\'[\\,|\\]]\", x))"
   ]
  },
  {
   "cell_type": "code",
   "execution_count": 205,
   "metadata": {},
   "outputs": [
    {
     "data": {
      "text/plain": [
       "\"['cute', 'hotel', 'good', 'amenity', 'nice', 'location', 'great', 'cranky', 'cocktail', 'staff', 'hotel', 'bar', 'second', 'floor', 'ugh', 'last', 'thing', 'need', 'trying', 'unwind', 'tightly', 'wound', 'sour', 'cocktail', 'waitress', 'delivering', '18', 'drink']\""
      ]
     },
     "execution_count": 205,
     "metadata": {},
     "output_type": "execute_result"
    }
   ],
   "source": [
    "reviews.reviewTextClean[0]"
   ]
  },
  {
   "cell_type": "markdown",
   "metadata": {},
   "source": [
    "Each business has the same categories attached to it across reviews. To ensure we have as few categories as possible, we will find the most popular categories across all reviews and assign the most popular category of the categories each business belongs to."
   ]
  },
  {
   "cell_type": "code",
   "execution_count": 206,
   "metadata": {},
   "outputs": [],
   "source": [
    "def findPopularCat(df):\n",
    "    popular_dict = df.explode(column = \"categories\").groupby([\"categories\"]).count()['gPlusUserId'].to_dict()\n",
    "    temp_df = df.drop_duplicates(subset=\"gPlusPlaceId\").reset_index(drop=True)\n",
    "    category_dict = {}\n",
    "    for _, row in temp_df.iterrows():\n",
    "        max_count = 0\n",
    "        max_cat = \"\"\n",
    "        for cat in row['categories']:\n",
    "            count = popular_dict[cat]\n",
    "            if count > max_count:\n",
    "                max_count = count\n",
    "                max_cat = cat\n",
    "        category_dict[row['gPlusPlaceId']] = max_cat\n",
    "    return category_dict"
   ]
  },
  {
   "cell_type": "code",
   "execution_count": 207,
   "metadata": {},
   "outputs": [],
   "source": [
    "category_dict = findPopularCat(reviews)\n",
    "places['category'] = places['gPlusPlaceId'].apply(lambda x: category_dict[x] if x in category_dict.keys() else np.NAN)"
   ]
  },
  {
   "cell_type": "code",
   "execution_count": 224,
   "metadata": {},
   "outputs": [
    {
     "name": "stdout",
     "output_type": "stream",
     "text": [
      "Top 5 categories for London\n",
      "Asian Restaurant       1482\n",
      "Bar                    1346\n",
      "Cafe                   1337\n",
      "European Restaurant    1310\n",
      "Pub                    1240\n",
      "Name: category, dtype: int64\n",
      "\n",
      "Top 5 categories for New York\n",
      "European Restaurant    855\n",
      "Asian Restaurant       847\n",
      "American Restaurant    676\n",
      "Bar                    613\n",
      "Clothing Store         509\n",
      "Name: category, dtype: int64\n",
      "\n"
     ]
    }
   ],
   "source": [
    "for city in places.city.unique():\n",
    "    print(f\"Top 5 categories for {city}\")\n",
    "    print(places[lambda x: x['city'] == city].category.value_counts().head(5))\n",
    "    print()"
   ]
  },
  {
   "cell_type": "code",
   "execution_count": 208,
   "metadata": {},
   "outputs": [
    {
     "data": {
      "text/html": [
       "<div>\n",
       "<style scoped>\n",
       "    .dataframe tbody tr th:only-of-type {\n",
       "        vertical-align: middle;\n",
       "    }\n",
       "\n",
       "    .dataframe tbody tr th {\n",
       "        vertical-align: top;\n",
       "    }\n",
       "\n",
       "    .dataframe thead th {\n",
       "        text-align: right;\n",
       "    }\n",
       "</style>\n",
       "<table border=\"1\" class=\"dataframe\">\n",
       "  <thead>\n",
       "    <tr style=\"text-align: right;\">\n",
       "      <th></th>\n",
       "      <th>gPlusPlaceId</th>\n",
       "      <th>name</th>\n",
       "      <th>price</th>\n",
       "      <th>lat</th>\n",
       "      <th>lon</th>\n",
       "      <th>city</th>\n",
       "      <th>address</th>\n",
       "      <th>category</th>\n",
       "    </tr>\n",
       "  </thead>\n",
       "  <tbody>\n",
       "    <tr>\n",
       "      <th>102</th>\n",
       "      <td>104698941388952654212</td>\n",
       "      <td>Hush Brasserie, St Paul's</td>\n",
       "      <td>2.0</td>\n",
       "      <td>51.513687</td>\n",
       "      <td>-0.100898</td>\n",
       "      <td>London</td>\n",
       "      <td>['1', 'Ludgate Hill', 'London EC4M 7AA, United...</td>\n",
       "      <td>Restaurant</td>\n",
       "    </tr>\n",
       "    <tr>\n",
       "      <th>9189</th>\n",
       "      <td>105510857758934668310</td>\n",
       "      <td>Bombay Nights</td>\n",
       "      <td>2.0</td>\n",
       "      <td>51.554670</td>\n",
       "      <td>-0.196670</td>\n",
       "      <td>London</td>\n",
       "      <td>['90 Fortune Green Rd', 'London NW6 1DS', 'Uni...</td>\n",
       "      <td>Asian Restaurant</td>\n",
       "    </tr>\n",
       "    <tr>\n",
       "      <th>3592</th>\n",
       "      <td>112087937134512168699</td>\n",
       "      <td>Balade</td>\n",
       "      <td>2.0</td>\n",
       "      <td>40.730293</td>\n",
       "      <td>-73.983098</td>\n",
       "      <td>New York</td>\n",
       "      <td>['208 1st Ave', 'New York, NY 10009']</td>\n",
       "      <td>European Restaurant</td>\n",
       "    </tr>\n",
       "    <tr>\n",
       "      <th>9665</th>\n",
       "      <td>115583349153790445798</td>\n",
       "      <td>Biricchino</td>\n",
       "      <td>2.0</td>\n",
       "      <td>40.748816</td>\n",
       "      <td>-73.995372</td>\n",
       "      <td>New York</td>\n",
       "      <td>['260 W 29th St', 'New York, NY 10001']</td>\n",
       "      <td>European Restaurant</td>\n",
       "    </tr>\n",
       "    <tr>\n",
       "      <th>6235</th>\n",
       "      <td>114751548485707816030</td>\n",
       "      <td>The Parlour</td>\n",
       "      <td>2.0</td>\n",
       "      <td>40.788438</td>\n",
       "      <td>-73.977106</td>\n",
       "      <td>New York</td>\n",
       "      <td>['250 W 86th St', 'New York, NY 10024']</td>\n",
       "      <td>European Restaurant</td>\n",
       "    </tr>\n",
       "    <tr>\n",
       "      <th>1526</th>\n",
       "      <td>107221816672883434631</td>\n",
       "      <td>Lenny's</td>\n",
       "      <td>2.0</td>\n",
       "      <td>40.759453</td>\n",
       "      <td>-73.992077</td>\n",
       "      <td>New York</td>\n",
       "      <td>['613 9th Ave', 'New York, NY 10036']</td>\n",
       "      <td>Fast Food Restaurant</td>\n",
       "    </tr>\n",
       "    <tr>\n",
       "      <th>6278</th>\n",
       "      <td>107349526742503296462</td>\n",
       "      <td>The Great British</td>\n",
       "      <td>2.0</td>\n",
       "      <td>51.513146</td>\n",
       "      <td>-0.153363</td>\n",
       "      <td>London</td>\n",
       "      <td>['N Audley St', 'London W1K 6WT', 'United King...</td>\n",
       "      <td>European Restaurant</td>\n",
       "    </tr>\n",
       "    <tr>\n",
       "      <th>11289</th>\n",
       "      <td>105957518612656560929</td>\n",
       "      <td>Hundred Acres</td>\n",
       "      <td>2.0</td>\n",
       "      <td>40.727050</td>\n",
       "      <td>-74.002732</td>\n",
       "      <td>New York</td>\n",
       "      <td>['38 Macdougal St', 'New York, NY 10012']</td>\n",
       "      <td>American Restaurant</td>\n",
       "    </tr>\n",
       "    <tr>\n",
       "      <th>5436</th>\n",
       "      <td>117761098393990865846</td>\n",
       "      <td>Uncle Boons</td>\n",
       "      <td>2.0</td>\n",
       "      <td>40.721289</td>\n",
       "      <td>-73.994373</td>\n",
       "      <td>New York</td>\n",
       "      <td>['7 Spring St', 'New York, NY 10012']</td>\n",
       "      <td>Thai Restaurant</td>\n",
       "    </tr>\n",
       "    <tr>\n",
       "      <th>1031</th>\n",
       "      <td>116340574346185494522</td>\n",
       "      <td>Mizu</td>\n",
       "      <td>2.0</td>\n",
       "      <td>40.739019</td>\n",
       "      <td>-73.988999</td>\n",
       "      <td>New York</td>\n",
       "      <td>['29 E 20th St', 'New York, NY 10003']</td>\n",
       "      <td>Japanese Restaurant</td>\n",
       "    </tr>\n",
       "  </tbody>\n",
       "</table>\n",
       "</div>"
      ],
      "text/plain": [
       "                gPlusPlaceId                       name  price        lat  \\\n",
       "102    104698941388952654212  Hush Brasserie, St Paul's    2.0  51.513687   \n",
       "9189   105510857758934668310              Bombay Nights    2.0  51.554670   \n",
       "3592   112087937134512168699                     Balade    2.0  40.730293   \n",
       "9665   115583349153790445798                 Biricchino    2.0  40.748816   \n",
       "6235   114751548485707816030                The Parlour    2.0  40.788438   \n",
       "1526   107221816672883434631                    Lenny's    2.0  40.759453   \n",
       "6278   107349526742503296462          The Great British    2.0  51.513146   \n",
       "11289  105957518612656560929              Hundred Acres    2.0  40.727050   \n",
       "5436   117761098393990865846                Uncle Boons    2.0  40.721289   \n",
       "1031   116340574346185494522                       Mizu    2.0  40.739019   \n",
       "\n",
       "             lon      city                                            address  \\\n",
       "102    -0.100898    London  ['1', 'Ludgate Hill', 'London EC4M 7AA, United...   \n",
       "9189   -0.196670    London  ['90 Fortune Green Rd', 'London NW6 1DS', 'Uni...   \n",
       "3592  -73.983098  New York              ['208 1st Ave', 'New York, NY 10009']   \n",
       "9665  -73.995372  New York            ['260 W 29th St', 'New York, NY 10001']   \n",
       "6235  -73.977106  New York            ['250 W 86th St', 'New York, NY 10024']   \n",
       "1526  -73.992077  New York              ['613 9th Ave', 'New York, NY 10036']   \n",
       "6278   -0.153363    London  ['N Audley St', 'London W1K 6WT', 'United King...   \n",
       "11289 -74.002732  New York          ['38 Macdougal St', 'New York, NY 10012']   \n",
       "5436  -73.994373  New York              ['7 Spring St', 'New York, NY 10012']   \n",
       "1031  -73.988999  New York             ['29 E 20th St', 'New York, NY 10003']   \n",
       "\n",
       "                   category  \n",
       "102              Restaurant  \n",
       "9189       Asian Restaurant  \n",
       "3592    European Restaurant  \n",
       "9665    European Restaurant  \n",
       "6235    European Restaurant  \n",
       "1526   Fast Food Restaurant  \n",
       "6278    European Restaurant  \n",
       "11289   American Restaurant  \n",
       "5436        Thai Restaurant  \n",
       "1031    Japanese Restaurant  "
      ]
     },
     "execution_count": 208,
     "metadata": {},
     "output_type": "execute_result"
    }
   ],
   "source": [
    "s = places.category.str.contains(\"Restaurant\").values\n",
    "restaurants = places.loc[np.nonzero(s)[0]].reset_index(drop=True)\n",
    "restaurants[restaurants.price == 2].sample(10)"
   ]
  },
  {
   "cell_type": "code",
   "execution_count": 209,
   "metadata": {},
   "outputs": [
    {
     "data": {
      "image/png": "[encoded data removed]",
      "text/plain": [
       "<Figure size 432x288 with 1 Axes>"
      ]
     },
     "metadata": {},
     "output_type": "display_data"
    }
   ],
   "source": [
    "# Fjerne 0 rækker i reviews\n",
    "reviews.rating.value_counts().sort_index().plot.bar(xlabel=\"Rating\", ylabel=\"Count\", title=\"Number of reviews per rating\");"
   ]
  },
  {
   "cell_type": "code",
   "execution_count": 210,
   "metadata": {},
   "outputs": [
    {
     "data": {
      "image/png": "[encoded data removed]",
      "text/plain": [
       "<Figure size 432x288 with 1 Axes>"
      ]
     },
     "metadata": {},
     "output_type": "display_data"
    }
   ],
   "source": [
    "# Distribution of the amount of characters in the reviews\n",
    "reviews.dropna(subset=[\"reviewTextClean\"]).reviewTextClean.apply(len).plot.hist(bins=50, edgecolor=\"black\", xlabel=\"Number of words\");"
   ]
  },
  {
   "cell_type": "code",
   "execution_count": 100,
   "metadata": {},
   "outputs": [
    {
     "data": {
      "text/plain": [
       "<AxesSubplot:xlabel='unixReviewTime'>"
      ]
     },
     "execution_count": 100,
     "metadata": {},
     "output_type": "execute_result"
    },
    {
     "data": {
      "image/png": "[encoded data removed]",
      "text/plain": [
       "<Figure size 432x288 with 1 Axes>"
      ]
     },
     "metadata": {},
     "output_type": "display_data"
    }
   ],
   "source": [
    "# fjern alt før 2000\n",
    "temp_df = reviews.dropna(subset=\"unixReviewTime\")\n",
    "temp_df['unixReviewTime'] = pd.to_datetime(reviews['unixReviewTime'])\n",
    "temp_df.groupby(\"unixReviewTime\").mean()['rating'].sort_index().plot()"
   ]
  }
 ],
 "metadata": {
  "interpreter": {
   "hash": "cef06f2affa5ae95562f0760bca9fa2432cd63766c8d1240875ac699c6103183"
  },
  "kernelspec": {
   "display_name": "Python 3.8.10 ('abaenv': venv)",
   "language": "python",
   "name": "python3"
  },
  "language_info": {
   "codemirror_mode": {
    "name": "ipython",
    "version": 3
   },
   "file_extension": ".py",
   "mimetype": "text/x-python",
   "name": "python",
   "nbconvert_exporter": "python",
   "pygments_lexer": "ipython3",
   "version": "3.8.10"
  },
  "orig_nbformat": 4
 },
 "nbformat": 4,
 "nbformat_minor": 2
}
