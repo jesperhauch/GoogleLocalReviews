{
 "cells": [
  {
   "cell_type": "code",
   "execution_count": 162,
   "metadata": {},
   "outputs": [],
   "source": [
    "import pandas as pd\n",
    "import matplotlib.pyplot as plt\n",
    "import seaborn as sns\n",
    "sns.set_style(\"darkgrid\")"
   ]
  },
  {
   "cell_type": "code",
   "execution_count": 163,
   "metadata": {},
   "outputs": [],
   "source": [
    "data_path = \"data/\"\n",
    "places = pd.read_csv(data_path + \"places.csv\", sep=\";\")\n",
    "reviews = pd.read_csv(data_path + \"reviews.csv\", sep=\";\", low_memory=False)"
   ]
  },
  {
   "cell_type": "markdown",
   "metadata": {},
   "source": [
    "## 1.2 Reviews"
   ]
  },
  {
   "cell_type": "code",
   "execution_count": 1,
   "metadata": {},
   "outputs": [
    {
     "name": "stderr",
     "output_type": "stream",
     "text": [
      "[nltk_data] Downloading package stopwords to\n",
      "[nltk_data]     /home/jesperhauch/nltk_data...\n",
      "[nltk_data]   Package stopwords is already up-to-date!\n"
     ]
    }
   ],
   "source": [
    "from datetime import datetime\n",
    "import numpy as np\n",
    "import re\n",
    "import string\n",
    "import nltk\n",
    "from nltk import word_tokenize\n",
    "from nltk.stem import WordNetLemmatizer \n",
    "lemmatizer = WordNetLemmatizer()\n",
    "nltk.download(\"stopwords\")\n",
    "_stop_words = nltk.corpus.stopwords.words('english')"
   ]
  },
  {
   "cell_type": "code",
   "execution_count": 165,
   "metadata": {},
   "outputs": [
    {
     "name": "stdout",
     "output_type": "stream",
     "text": [
      "Shape of reviews: (571724, 8)\n"
     ]
    },
    {
     "data": {
      "text/plain": [
       "rating                 0\n",
       "reviewerName        2139\n",
       "reviewText        146604\n",
       "categories         50096\n",
       "gPlusPlaceId        3885\n",
       "unixReviewTime     49070\n",
       "reviewTime         50817\n",
       "gPlusUserId         5632\n",
       "dtype: int64"
      ]
     },
     "execution_count": 165,
     "metadata": {},
     "output_type": "execute_result"
    }
   ],
   "source": [
    "print(\"Shape of reviews:\", reviews.shape)\n",
    "reviews.isna().sum()"
   ]
  },
  {
   "cell_type": "code",
   "execution_count": 166,
   "metadata": {},
   "outputs": [],
   "source": [
    "# Categories is essential for our future analysis. Hence we remove rows with missing categories\n",
    "reviews.dropna(subset=[\"categories\"], inplace=True)"
   ]
  },
  {
   "cell_type": "code",
   "execution_count": 167,
   "metadata": {},
   "outputs": [],
   "source": [
    "# Only get reviews that are in the places list\n",
    "reviews = reviews.loc[lambda x: x.gPlusPlaceId.isin(places.gPlusPlaceId.values)]"
   ]
  },
  {
   "cell_type": "code",
   "execution_count": 168,
   "metadata": {},
   "outputs": [
    {
     "data": {
      "text/plain": [
       "rating             object\n",
       "reviewerName       object\n",
       "reviewText         object\n",
       "categories         object\n",
       "gPlusPlaceId       object\n",
       "unixReviewTime    float64\n",
       "reviewTime         object\n",
       "gPlusUserId        object\n",
       "dtype: object"
      ]
     },
     "execution_count": 168,
     "metadata": {},
     "output_type": "execute_result"
    }
   ],
   "source": [
    "reviews.dtypes"
   ]
  },
  {
   "cell_type": "code",
   "execution_count": 169,
   "metadata": {},
   "outputs": [],
   "source": [
    "# Convert rating to numeric feature\n",
    "reviews['rating'] = pd.to_numeric(reviews['rating'])"
   ]
  },
  {
   "cell_type": "code",
   "execution_count": 170,
   "metadata": {},
   "outputs": [],
   "source": [
    "# Using unix review time since it has less missing values and more information than the review time feature\n",
    "def unixToDatetime(unix_timestamp):\n",
    "    if not pd.isna(unix_timestamp):\n",
    "        return datetime.utcfromtimestamp(unix_timestamp).strftime(\"%Y-%m-%d %H:%M:%S\")\n",
    "    else:\n",
    "        return np.NaN\n",
    "\n",
    "reviews['unixReviewTime'] = reviews['unixReviewTime'].apply(unixToDatetime)\n",
    "reviews.drop([\"reviewTime\"], axis=1, inplace=True)"
   ]
  },
  {
   "cell_type": "code",
   "execution_count": 171,
   "metadata": {},
   "outputs": [],
   "source": [
    "# Categories are stored as a \"['Category']\", thus we use regex to find the word between the apostrophes\n",
    "reviews['categories'] = reviews.categories.apply(lambda x: re.findall(r\"[\\[|\\s]\\'(.*?)\\'[\\,|\\]]\", x))\n"
   ]
  },
  {
   "cell_type": "code",
   "execution_count": 183,
   "metadata": {},
   "outputs": [],
   "source": [
    "# Text processing function from Social Graphs and Interactions\n",
    "def cleanString(text):\n",
    "    if not pd.isna(text):\n",
    "        tokens = word_tokenize(text) #Tokenizing\n",
    "        punctuation = [word.lower() for word in tokens if word.isalnum()] # remove punctuation and set to lower case\n",
    "        lemma = [lemmatizer.lemmatize(word) for word in punctuation] # lemmatize words\n",
    "        stopwords = stopwords.words('english')\n",
    "        return [w for w in lemma if w not in stopwords] # Finally removes stopwords\n",
    "    else:\n",
    "        return np.NaN"
   ]
  },
  {
   "cell_type": "code",
   "execution_count": 184,
   "metadata": {},
   "outputs": [
    {
     "ename": "KeyboardInterrupt",
     "evalue": "",
     "output_type": "error",
     "traceback": [
      "\u001b[0;31m---------------------------------------------------------------------------\u001b[0m",
      "\u001b[0;31mKeyboardInterrupt\u001b[0m                         Traceback (most recent call last)",
      "\u001b[1;32m/home/jesperhauch/GoogleLocalReviews/Descriptive Statistics copy.ipynb Cell 13'\u001b[0m in \u001b[0;36m<cell line: 1>\u001b[0;34m()\u001b[0m\n\u001b[0;32m----> <a href='vscode-notebook-cell://wsl%2Bubuntu/home/jesperhauch/GoogleLocalReviews/Descriptive%20Statistics%20copy.ipynb#ch0000030vscode-remote?line=0'>1</a>\u001b[0m reviews[\u001b[39m'\u001b[39m\u001b[39mreviewTextClean\u001b[39m\u001b[39m'\u001b[39m] \u001b[39m=\u001b[39m reviews[\u001b[39m'\u001b[39;49m\u001b[39mreviewText\u001b[39;49m\u001b[39m'\u001b[39;49m]\u001b[39m.\u001b[39;49mapply(cleanString)\n",
      "File \u001b[0;32m~/.local/lib/python3.8/site-packages/pandas/core/series.py:4433\u001b[0m, in \u001b[0;36mSeries.apply\u001b[0;34m(self, func, convert_dtype, args, **kwargs)\u001b[0m\n\u001b[1;32m   <a href='file:///home/jesperhauch/.local/lib/python3.8/site-packages/pandas/core/series.py?line=4322'>4323</a>\u001b[0m \u001b[39mdef\u001b[39;00m \u001b[39mapply\u001b[39m(\n\u001b[1;32m   <a href='file:///home/jesperhauch/.local/lib/python3.8/site-packages/pandas/core/series.py?line=4323'>4324</a>\u001b[0m     \u001b[39mself\u001b[39m,\n\u001b[1;32m   <a href='file:///home/jesperhauch/.local/lib/python3.8/site-packages/pandas/core/series.py?line=4324'>4325</a>\u001b[0m     func: AggFuncType,\n\u001b[0;32m   (...)\u001b[0m\n\u001b[1;32m   <a href='file:///home/jesperhauch/.local/lib/python3.8/site-packages/pandas/core/series.py?line=4327'>4328</a>\u001b[0m     \u001b[39m*\u001b[39m\u001b[39m*\u001b[39mkwargs,\n\u001b[1;32m   <a href='file:///home/jesperhauch/.local/lib/python3.8/site-packages/pandas/core/series.py?line=4328'>4329</a>\u001b[0m ) \u001b[39m-\u001b[39m\u001b[39m>\u001b[39m DataFrame \u001b[39m|\u001b[39m Series:\n\u001b[1;32m   <a href='file:///home/jesperhauch/.local/lib/python3.8/site-packages/pandas/core/series.py?line=4329'>4330</a>\u001b[0m     \u001b[39m\"\"\"\u001b[39;00m\n\u001b[1;32m   <a href='file:///home/jesperhauch/.local/lib/python3.8/site-packages/pandas/core/series.py?line=4330'>4331</a>\u001b[0m \u001b[39m    Invoke function on values of Series.\u001b[39;00m\n\u001b[1;32m   <a href='file:///home/jesperhauch/.local/lib/python3.8/site-packages/pandas/core/series.py?line=4331'>4332</a>\u001b[0m \n\u001b[0;32m   (...)\u001b[0m\n\u001b[1;32m   <a href='file:///home/jesperhauch/.local/lib/python3.8/site-packages/pandas/core/series.py?line=4430'>4431</a>\u001b[0m \u001b[39m    dtype: float64\u001b[39;00m\n\u001b[1;32m   <a href='file:///home/jesperhauch/.local/lib/python3.8/site-packages/pandas/core/series.py?line=4431'>4432</a>\u001b[0m \u001b[39m    \"\"\"\u001b[39;00m\n\u001b[0;32m-> <a href='file:///home/jesperhauch/.local/lib/python3.8/site-packages/pandas/core/series.py?line=4432'>4433</a>\u001b[0m     \u001b[39mreturn\u001b[39;00m SeriesApply(\u001b[39mself\u001b[39;49m, func, convert_dtype, args, kwargs)\u001b[39m.\u001b[39;49mapply()\n",
      "File \u001b[0;32m~/.local/lib/python3.8/site-packages/pandas/core/apply.py:1082\u001b[0m, in \u001b[0;36mSeriesApply.apply\u001b[0;34m(self)\u001b[0m\n\u001b[1;32m   <a href='file:///home/jesperhauch/.local/lib/python3.8/site-packages/pandas/core/apply.py?line=1077'>1078</a>\u001b[0m \u001b[39mif\u001b[39;00m \u001b[39misinstance\u001b[39m(\u001b[39mself\u001b[39m\u001b[39m.\u001b[39mf, \u001b[39mstr\u001b[39m):\n\u001b[1;32m   <a href='file:///home/jesperhauch/.local/lib/python3.8/site-packages/pandas/core/apply.py?line=1078'>1079</a>\u001b[0m     \u001b[39m# if we are a string, try to dispatch\u001b[39;00m\n\u001b[1;32m   <a href='file:///home/jesperhauch/.local/lib/python3.8/site-packages/pandas/core/apply.py?line=1079'>1080</a>\u001b[0m     \u001b[39mreturn\u001b[39;00m \u001b[39mself\u001b[39m\u001b[39m.\u001b[39mapply_str()\n\u001b[0;32m-> <a href='file:///home/jesperhauch/.local/lib/python3.8/site-packages/pandas/core/apply.py?line=1081'>1082</a>\u001b[0m \u001b[39mreturn\u001b[39;00m \u001b[39mself\u001b[39;49m\u001b[39m.\u001b[39;49mapply_standard()\n",
      "File \u001b[0;32m~/.local/lib/python3.8/site-packages/pandas/core/apply.py:1137\u001b[0m, in \u001b[0;36mSeriesApply.apply_standard\u001b[0;34m(self)\u001b[0m\n\u001b[1;32m   <a href='file:///home/jesperhauch/.local/lib/python3.8/site-packages/pandas/core/apply.py?line=1130'>1131</a>\u001b[0m         values \u001b[39m=\u001b[39m obj\u001b[39m.\u001b[39mastype(\u001b[39mobject\u001b[39m)\u001b[39m.\u001b[39m_values\n\u001b[1;32m   <a href='file:///home/jesperhauch/.local/lib/python3.8/site-packages/pandas/core/apply.py?line=1131'>1132</a>\u001b[0m         \u001b[39m# error: Argument 2 to \"map_infer\" has incompatible type\u001b[39;00m\n\u001b[1;32m   <a href='file:///home/jesperhauch/.local/lib/python3.8/site-packages/pandas/core/apply.py?line=1132'>1133</a>\u001b[0m         \u001b[39m# \"Union[Callable[..., Any], str, List[Union[Callable[..., Any], str]],\u001b[39;00m\n\u001b[1;32m   <a href='file:///home/jesperhauch/.local/lib/python3.8/site-packages/pandas/core/apply.py?line=1133'>1134</a>\u001b[0m         \u001b[39m# Dict[Hashable, Union[Union[Callable[..., Any], str],\u001b[39;00m\n\u001b[1;32m   <a href='file:///home/jesperhauch/.local/lib/python3.8/site-packages/pandas/core/apply.py?line=1134'>1135</a>\u001b[0m         \u001b[39m# List[Union[Callable[..., Any], str]]]]]\"; expected\u001b[39;00m\n\u001b[1;32m   <a href='file:///home/jesperhauch/.local/lib/python3.8/site-packages/pandas/core/apply.py?line=1135'>1136</a>\u001b[0m         \u001b[39m# \"Callable[[Any], Any]\"\u001b[39;00m\n\u001b[0;32m-> <a href='file:///home/jesperhauch/.local/lib/python3.8/site-packages/pandas/core/apply.py?line=1136'>1137</a>\u001b[0m         mapped \u001b[39m=\u001b[39m lib\u001b[39m.\u001b[39;49mmap_infer(\n\u001b[1;32m   <a href='file:///home/jesperhauch/.local/lib/python3.8/site-packages/pandas/core/apply.py?line=1137'>1138</a>\u001b[0m             values,\n\u001b[1;32m   <a href='file:///home/jesperhauch/.local/lib/python3.8/site-packages/pandas/core/apply.py?line=1138'>1139</a>\u001b[0m             f,  \u001b[39m# type: ignore[arg-type]\u001b[39;49;00m\n\u001b[1;32m   <a href='file:///home/jesperhauch/.local/lib/python3.8/site-packages/pandas/core/apply.py?line=1139'>1140</a>\u001b[0m             convert\u001b[39m=\u001b[39;49m\u001b[39mself\u001b[39;49m\u001b[39m.\u001b[39;49mconvert_dtype,\n\u001b[1;32m   <a href='file:///home/jesperhauch/.local/lib/python3.8/site-packages/pandas/core/apply.py?line=1140'>1141</a>\u001b[0m         )\n\u001b[1;32m   <a href='file:///home/jesperhauch/.local/lib/python3.8/site-packages/pandas/core/apply.py?line=1142'>1143</a>\u001b[0m \u001b[39mif\u001b[39;00m \u001b[39mlen\u001b[39m(mapped) \u001b[39mand\u001b[39;00m \u001b[39misinstance\u001b[39m(mapped[\u001b[39m0\u001b[39m], ABCSeries):\n\u001b[1;32m   <a href='file:///home/jesperhauch/.local/lib/python3.8/site-packages/pandas/core/apply.py?line=1143'>1144</a>\u001b[0m     \u001b[39m# GH#43986 Need to do list(mapped) in order to get treated as nested\u001b[39;00m\n\u001b[1;32m   <a href='file:///home/jesperhauch/.local/lib/python3.8/site-packages/pandas/core/apply.py?line=1144'>1145</a>\u001b[0m     \u001b[39m#  See also GH#25959 regarding EA support\u001b[39;00m\n\u001b[1;32m   <a href='file:///home/jesperhauch/.local/lib/python3.8/site-packages/pandas/core/apply.py?line=1145'>1146</a>\u001b[0m     \u001b[39mreturn\u001b[39;00m obj\u001b[39m.\u001b[39m_constructor_expanddim(\u001b[39mlist\u001b[39m(mapped), index\u001b[39m=\u001b[39mobj\u001b[39m.\u001b[39mindex)\n",
      "File \u001b[0;32m~/.local/lib/python3.8/site-packages/pandas/_libs/lib.pyx:2870\u001b[0m, in \u001b[0;36mpandas._libs.lib.map_infer\u001b[0;34m()\u001b[0m\n",
      "\u001b[1;32m/home/jesperhauch/GoogleLocalReviews/Descriptive Statistics copy.ipynb Cell 12'\u001b[0m in \u001b[0;36mcleanString\u001b[0;34m(text)\u001b[0m\n\u001b[1;32m      <a href='vscode-notebook-cell://wsl%2Bubuntu/home/jesperhauch/GoogleLocalReviews/Descriptive%20Statistics%20copy.ipynb#ch0000033vscode-remote?line=5'>6</a>\u001b[0m \u001b[39mfrom\u001b[39;00m \u001b[39mnltk\u001b[39;00m\u001b[39m.\u001b[39;00m\u001b[39mcorpus\u001b[39;00m \u001b[39mimport\u001b[39;00m stopwords\n\u001b[1;32m      <a href='vscode-notebook-cell://wsl%2Bubuntu/home/jesperhauch/GoogleLocalReviews/Descriptive%20Statistics%20copy.ipynb#ch0000033vscode-remote?line=6'>7</a>\u001b[0m \u001b[39mif\u001b[39;00m \u001b[39mnot\u001b[39;00m pd\u001b[39m.\u001b[39misna(text):\n\u001b[0;32m----> <a href='vscode-notebook-cell://wsl%2Bubuntu/home/jesperhauch/GoogleLocalReviews/Descriptive%20Statistics%20copy.ipynb#ch0000033vscode-remote?line=7'>8</a>\u001b[0m     tokens \u001b[39m=\u001b[39m word_tokenize(text) \u001b[39m#Tokenizing\u001b[39;00m\n\u001b[1;32m      <a href='vscode-notebook-cell://wsl%2Bubuntu/home/jesperhauch/GoogleLocalReviews/Descriptive%20Statistics%20copy.ipynb#ch0000033vscode-remote?line=8'>9</a>\u001b[0m     punctuation \u001b[39m=\u001b[39m [word\u001b[39m.\u001b[39mlower() \u001b[39mfor\u001b[39;00m word \u001b[39min\u001b[39;00m tokens \u001b[39mif\u001b[39;00m word\u001b[39m.\u001b[39misalnum()] \u001b[39m# remove punctuation and set to lower case\u001b[39;00m\n\u001b[1;32m     <a href='vscode-notebook-cell://wsl%2Bubuntu/home/jesperhauch/GoogleLocalReviews/Descriptive%20Statistics%20copy.ipynb#ch0000033vscode-remote?line=9'>10</a>\u001b[0m     lemma \u001b[39m=\u001b[39m [lemmatizer\u001b[39m.\u001b[39mlemmatize(word) \u001b[39mfor\u001b[39;00m word \u001b[39min\u001b[39;00m punctuation] \u001b[39m# lemmatize words\u001b[39;00m\n",
      "File \u001b[0;32m~/.local/lib/python3.8/site-packages/nltk/tokenize/__init__.py:130\u001b[0m, in \u001b[0;36mword_tokenize\u001b[0;34m(text, language, preserve_line)\u001b[0m\n\u001b[1;32m    <a href='file:///home/jesperhauch/.local/lib/python3.8/site-packages/nltk/tokenize/__init__.py?line=114'>115</a>\u001b[0m \u001b[39m\"\"\"\u001b[39;00m\n\u001b[1;32m    <a href='file:///home/jesperhauch/.local/lib/python3.8/site-packages/nltk/tokenize/__init__.py?line=115'>116</a>\u001b[0m \u001b[39mReturn a tokenized copy of *text*,\u001b[39;00m\n\u001b[1;32m    <a href='file:///home/jesperhauch/.local/lib/python3.8/site-packages/nltk/tokenize/__init__.py?line=116'>117</a>\u001b[0m \u001b[39musing NLTK's recommended word tokenizer\u001b[39;00m\n\u001b[0;32m   (...)\u001b[0m\n\u001b[1;32m    <a href='file:///home/jesperhauch/.local/lib/python3.8/site-packages/nltk/tokenize/__init__.py?line=126'>127</a>\u001b[0m \u001b[39m:type preserve_line: bool\u001b[39;00m\n\u001b[1;32m    <a href='file:///home/jesperhauch/.local/lib/python3.8/site-packages/nltk/tokenize/__init__.py?line=127'>128</a>\u001b[0m \u001b[39m\"\"\"\u001b[39;00m\n\u001b[1;32m    <a href='file:///home/jesperhauch/.local/lib/python3.8/site-packages/nltk/tokenize/__init__.py?line=128'>129</a>\u001b[0m sentences \u001b[39m=\u001b[39m [text] \u001b[39mif\u001b[39;00m preserve_line \u001b[39melse\u001b[39;00m sent_tokenize(text, language)\n\u001b[0;32m--> <a href='file:///home/jesperhauch/.local/lib/python3.8/site-packages/nltk/tokenize/__init__.py?line=129'>130</a>\u001b[0m \u001b[39mreturn\u001b[39;00m [\n\u001b[1;32m    <a href='file:///home/jesperhauch/.local/lib/python3.8/site-packages/nltk/tokenize/__init__.py?line=130'>131</a>\u001b[0m     token \u001b[39mfor\u001b[39;00m sent \u001b[39min\u001b[39;00m sentences \u001b[39mfor\u001b[39;00m token \u001b[39min\u001b[39;00m _treebank_word_tokenizer\u001b[39m.\u001b[39mtokenize(sent)\n\u001b[1;32m    <a href='file:///home/jesperhauch/.local/lib/python3.8/site-packages/nltk/tokenize/__init__.py?line=131'>132</a>\u001b[0m ]\n",
      "File \u001b[0;32m~/.local/lib/python3.8/site-packages/nltk/tokenize/__init__.py:131\u001b[0m, in \u001b[0;36m<listcomp>\u001b[0;34m(.0)\u001b[0m\n\u001b[1;32m    <a href='file:///home/jesperhauch/.local/lib/python3.8/site-packages/nltk/tokenize/__init__.py?line=114'>115</a>\u001b[0m \u001b[39m\"\"\"\u001b[39;00m\n\u001b[1;32m    <a href='file:///home/jesperhauch/.local/lib/python3.8/site-packages/nltk/tokenize/__init__.py?line=115'>116</a>\u001b[0m \u001b[39mReturn a tokenized copy of *text*,\u001b[39;00m\n\u001b[1;32m    <a href='file:///home/jesperhauch/.local/lib/python3.8/site-packages/nltk/tokenize/__init__.py?line=116'>117</a>\u001b[0m \u001b[39musing NLTK's recommended word tokenizer\u001b[39;00m\n\u001b[0;32m   (...)\u001b[0m\n\u001b[1;32m    <a href='file:///home/jesperhauch/.local/lib/python3.8/site-packages/nltk/tokenize/__init__.py?line=126'>127</a>\u001b[0m \u001b[39m:type preserve_line: bool\u001b[39;00m\n\u001b[1;32m    <a href='file:///home/jesperhauch/.local/lib/python3.8/site-packages/nltk/tokenize/__init__.py?line=127'>128</a>\u001b[0m \u001b[39m\"\"\"\u001b[39;00m\n\u001b[1;32m    <a href='file:///home/jesperhauch/.local/lib/python3.8/site-packages/nltk/tokenize/__init__.py?line=128'>129</a>\u001b[0m sentences \u001b[39m=\u001b[39m [text] \u001b[39mif\u001b[39;00m preserve_line \u001b[39melse\u001b[39;00m sent_tokenize(text, language)\n\u001b[1;32m    <a href='file:///home/jesperhauch/.local/lib/python3.8/site-packages/nltk/tokenize/__init__.py?line=129'>130</a>\u001b[0m \u001b[39mreturn\u001b[39;00m [\n\u001b[0;32m--> <a href='file:///home/jesperhauch/.local/lib/python3.8/site-packages/nltk/tokenize/__init__.py?line=130'>131</a>\u001b[0m     token \u001b[39mfor\u001b[39;00m sent \u001b[39min\u001b[39;00m sentences \u001b[39mfor\u001b[39;00m token \u001b[39min\u001b[39;00m _treebank_word_tokenizer\u001b[39m.\u001b[39;49mtokenize(sent)\n\u001b[1;32m    <a href='file:///home/jesperhauch/.local/lib/python3.8/site-packages/nltk/tokenize/__init__.py?line=131'>132</a>\u001b[0m ]\n",
      "File \u001b[0;32m~/.local/lib/python3.8/site-packages/nltk/tokenize/destructive.py:158\u001b[0m, in \u001b[0;36mNLTKWordTokenizer.tokenize\u001b[0;34m(self, text, convert_parentheses, return_str)\u001b[0m\n\u001b[1;32m    <a href='file:///home/jesperhauch/.local/lib/python3.8/site-packages/nltk/tokenize/destructive.py?line=149'>150</a>\u001b[0m     warnings\u001b[39m.\u001b[39mwarn(\n\u001b[1;32m    <a href='file:///home/jesperhauch/.local/lib/python3.8/site-packages/nltk/tokenize/destructive.py?line=150'>151</a>\u001b[0m         \u001b[39m\"\u001b[39m\u001b[39mParameter \u001b[39m\u001b[39m'\u001b[39m\u001b[39mreturn_str\u001b[39m\u001b[39m'\u001b[39m\u001b[39m has been deprecated and should no \u001b[39m\u001b[39m\"\u001b[39m\n\u001b[1;32m    <a href='file:///home/jesperhauch/.local/lib/python3.8/site-packages/nltk/tokenize/destructive.py?line=151'>152</a>\u001b[0m         \u001b[39m\"\u001b[39m\u001b[39mlonger be used.\u001b[39m\u001b[39m\"\u001b[39m,\n\u001b[1;32m    <a href='file:///home/jesperhauch/.local/lib/python3.8/site-packages/nltk/tokenize/destructive.py?line=152'>153</a>\u001b[0m         category\u001b[39m=\u001b[39m\u001b[39mDeprecationWarning\u001b[39;00m,\n\u001b[1;32m    <a href='file:///home/jesperhauch/.local/lib/python3.8/site-packages/nltk/tokenize/destructive.py?line=153'>154</a>\u001b[0m         stacklevel\u001b[39m=\u001b[39m\u001b[39m2\u001b[39m,\n\u001b[1;32m    <a href='file:///home/jesperhauch/.local/lib/python3.8/site-packages/nltk/tokenize/destructive.py?line=154'>155</a>\u001b[0m     )\n\u001b[1;32m    <a href='file:///home/jesperhauch/.local/lib/python3.8/site-packages/nltk/tokenize/destructive.py?line=156'>157</a>\u001b[0m \u001b[39mfor\u001b[39;00m regexp, substitution \u001b[39min\u001b[39;00m \u001b[39mself\u001b[39m\u001b[39m.\u001b[39mSTARTING_QUOTES:\n\u001b[0;32m--> <a href='file:///home/jesperhauch/.local/lib/python3.8/site-packages/nltk/tokenize/destructive.py?line=157'>158</a>\u001b[0m     text \u001b[39m=\u001b[39m regexp\u001b[39m.\u001b[39;49msub(substitution, text)\n\u001b[1;32m    <a href='file:///home/jesperhauch/.local/lib/python3.8/site-packages/nltk/tokenize/destructive.py?line=159'>160</a>\u001b[0m \u001b[39mfor\u001b[39;00m regexp, substitution \u001b[39min\u001b[39;00m \u001b[39mself\u001b[39m\u001b[39m.\u001b[39mPUNCTUATION:\n\u001b[1;32m    <a href='file:///home/jesperhauch/.local/lib/python3.8/site-packages/nltk/tokenize/destructive.py?line=160'>161</a>\u001b[0m     text \u001b[39m=\u001b[39m regexp\u001b[39m.\u001b[39msub(substitution, text)\n",
      "\u001b[0;31mKeyboardInterrupt\u001b[0m: "
     ]
    }
   ],
   "source": [
    "reviews['reviewTextClean'] = reviews['reviewText'].apply(cleanString)"
   ]
  },
  {
   "cell_type": "code",
   "execution_count": null,
   "metadata": {},
   "outputs": [],
   "source": [
    "reviews.to_csv(data_path + \"reviews_cleaned.csv\", index=False)"
   ]
  },
  {
   "cell_type": "code",
   "execution_count": 185,
   "metadata": {},
   "outputs": [
    {
     "data": {
      "text/html": [
       "<div>\n",
       "<style scoped>\n",
       "    .dataframe tbody tr th:only-of-type {\n",
       "        vertical-align: middle;\n",
       "    }\n",
       "\n",
       "    .dataframe tbody tr th {\n",
       "        vertical-align: top;\n",
       "    }\n",
       "\n",
       "    .dataframe thead th {\n",
       "        text-align: right;\n",
       "    }\n",
       "</style>\n",
       "<table border=\"1\" class=\"dataframe\">\n",
       "  <thead>\n",
       "    <tr style=\"text-align: right;\">\n",
       "      <th></th>\n",
       "      <th>rating</th>\n",
       "      <th>reviewerName</th>\n",
       "      <th>reviewText</th>\n",
       "      <th>categories</th>\n",
       "      <th>gPlusPlaceId</th>\n",
       "      <th>unixReviewTime</th>\n",
       "      <th>reviewTime</th>\n",
       "      <th>gPlusUserId</th>\n",
       "    </tr>\n",
       "  </thead>\n",
       "  <tbody>\n",
       "    <tr>\n",
       "      <th>0</th>\n",
       "      <td>5.0</td>\n",
       "      <td>Jason Wagner</td>\n",
       "      <td>The Arbiter changed to be The Barrow Boy somew...</td>\n",
       "      <td>[Pub]</td>\n",
       "      <td>108354284028700140190</td>\n",
       "      <td>2010-07-27 22:46:50</td>\n",
       "      <td>Jul 27, 2010</td>\n",
       "      <td>100000196778399872657</td>\n",
       "    </tr>\n",
       "    <tr>\n",
       "      <th>1</th>\n",
       "      <td>3.0</td>\n",
       "      <td>elicia richardson-ellis</td>\n",
       "      <td>This is a very cute hotel with good amenities ...</td>\n",
       "      <td>[Restaurant]</td>\n",
       "      <td>106689630448064755324</td>\n",
       "      <td>2013-05-22 18:28:27</td>\n",
       "      <td>May 22, 2013</td>\n",
       "      <td>100000340778638927606</td>\n",
       "    </tr>\n",
       "    <tr>\n",
       "      <th>2</th>\n",
       "      <td>4.0</td>\n",
       "      <td>elicia richardson-ellis</td>\n",
       "      <td>Love this place.   The Great/Good:  Massage an...</td>\n",
       "      <td>[Stores and Shopping, Beauty Salon, Day Spa]</td>\n",
       "      <td>108256990636148259283</td>\n",
       "      <td>2013-05-22 18:26:22</td>\n",
       "      <td>May 22, 2013</td>\n",
       "      <td>100000340778638927606</td>\n",
       "    </tr>\n",
       "    <tr>\n",
       "      <th>3</th>\n",
       "      <td>4.0</td>\n",
       "      <td>Nakamura Zen</td>\n",
       "      <td>NaN</td>\n",
       "      <td>[Clothing Store]</td>\n",
       "      <td>104395160856690993217</td>\n",
       "      <td>2013-06-19 21:23:21</td>\n",
       "      <td>Jun 19, 2013</td>\n",
       "      <td>100000469599933991939</td>\n",
       "    </tr>\n",
       "    <tr>\n",
       "      <th>4</th>\n",
       "      <td>4.0</td>\n",
       "      <td>Nakamura Zen</td>\n",
       "      <td>NaN</td>\n",
       "      <td>[Clothing Store]</td>\n",
       "      <td>116090508615311611202</td>\n",
       "      <td>2013-06-19 21:23:29</td>\n",
       "      <td>Jun 19, 2013</td>\n",
       "      <td>100000469599933991939</td>\n",
       "    </tr>\n",
       "    <tr>\n",
       "      <th>...</th>\n",
       "      <td>...</td>\n",
       "      <td>...</td>\n",
       "      <td>...</td>\n",
       "      <td>...</td>\n",
       "      <td>...</td>\n",
       "      <td>...</td>\n",
       "      <td>...</td>\n",
       "      <td>...</td>\n",
       "    </tr>\n",
       "    <tr>\n",
       "      <th>571719</th>\n",
       "      <td>4.0</td>\n",
       "      <td>Bruno Orsini</td>\n",
       "      <td>NaN</td>\n",
       "      <td>[Bakery]</td>\n",
       "      <td>115393413807091201685</td>\n",
       "      <td>2011-01-31 05:07:21</td>\n",
       "      <td>Jan 30, 2011</td>\n",
       "      <td>118446627871409499434</td>\n",
       "    </tr>\n",
       "    <tr>\n",
       "      <th>571720</th>\n",
       "      <td>4.0</td>\n",
       "      <td>Bruno Orsini</td>\n",
       "      <td>NaN</td>\n",
       "      <td>[Southern Restaurant (US), American Restaurant...</td>\n",
       "      <td>115740012747676843252</td>\n",
       "      <td>2011-01-31 05:09:23</td>\n",
       "      <td>Jan 30, 2011</td>\n",
       "      <td>118446627871409499434</td>\n",
       "    </tr>\n",
       "    <tr>\n",
       "      <th>571721</th>\n",
       "      <td>4.0</td>\n",
       "      <td>Bruno Orsini</td>\n",
       "      <td>NaN</td>\n",
       "      <td>[Restaurant or Cafe, Latin American Restaurant...</td>\n",
       "      <td>116184585745702669719</td>\n",
       "      <td>2010-11-30 08:06:23</td>\n",
       "      <td>Nov 30, 2010</td>\n",
       "      <td>118446627871409499434</td>\n",
       "    </tr>\n",
       "    <tr>\n",
       "      <th>571722</th>\n",
       "      <td>4.0</td>\n",
       "      <td>Bruno Orsini</td>\n",
       "      <td>NaN</td>\n",
       "      <td>[Restaurant, Eclectic Restaurant, American Res...</td>\n",
       "      <td>117664146467660757996</td>\n",
       "      <td>2010-11-30 08:05:37</td>\n",
       "      <td>Nov 30, 2010</td>\n",
       "      <td>118446627871409499434</td>\n",
       "    </tr>\n",
       "    <tr>\n",
       "      <th>571723</th>\n",
       "      <td>5.0</td>\n",
       "      <td>Hector Martinez</td>\n",
       "      <td>Great food and ambiance! Bartender Kate serves...</td>\n",
       "      <td>[American Restaurant, New American Restaurant,...</td>\n",
       "      <td>115335677652071919916</td>\n",
       "      <td>2012-09-20 22:39:08</td>\n",
       "      <td>Sep 20, 2012</td>\n",
       "      <td>118446643036239885535</td>\n",
       "    </tr>\n",
       "  </tbody>\n",
       "</table>\n",
       "<p>519881 rows × 8 columns</p>\n",
       "</div>"
      ],
      "text/plain": [
       "        rating             reviewerName  \\\n",
       "0          5.0             Jason Wagner   \n",
       "1          3.0  elicia richardson-ellis   \n",
       "2          4.0  elicia richardson-ellis   \n",
       "3          4.0             Nakamura Zen   \n",
       "4          4.0             Nakamura Zen   \n",
       "...        ...                      ...   \n",
       "571719     4.0             Bruno Orsini   \n",
       "571720     4.0             Bruno Orsini   \n",
       "571721     4.0             Bruno Orsini   \n",
       "571722     4.0             Bruno Orsini   \n",
       "571723     5.0          Hector Martinez   \n",
       "\n",
       "                                               reviewText  \\\n",
       "0       The Arbiter changed to be The Barrow Boy somew...   \n",
       "1       This is a very cute hotel with good amenities ...   \n",
       "2       Love this place.   The Great/Good:  Massage an...   \n",
       "3                                                     NaN   \n",
       "4                                                     NaN   \n",
       "...                                                   ...   \n",
       "571719                                                NaN   \n",
       "571720                                                NaN   \n",
       "571721                                                NaN   \n",
       "571722                                                NaN   \n",
       "571723  Great food and ambiance! Bartender Kate serves...   \n",
       "\n",
       "                                               categories  \\\n",
       "0                                                   [Pub]   \n",
       "1                                            [Restaurant]   \n",
       "2            [Stores and Shopping, Beauty Salon, Day Spa]   \n",
       "3                                        [Clothing Store]   \n",
       "4                                        [Clothing Store]   \n",
       "...                                                   ...   \n",
       "571719                                           [Bakery]   \n",
       "571720  [Southern Restaurant (US), American Restaurant...   \n",
       "571721  [Restaurant or Cafe, Latin American Restaurant...   \n",
       "571722  [Restaurant, Eclectic Restaurant, American Res...   \n",
       "571723  [American Restaurant, New American Restaurant,...   \n",
       "\n",
       "                 gPlusPlaceId       unixReviewTime    reviewTime  \\\n",
       "0       108354284028700140190  2010-07-27 22:46:50  Jul 27, 2010   \n",
       "1       106689630448064755324  2013-05-22 18:28:27  May 22, 2013   \n",
       "2       108256990636148259283  2013-05-22 18:26:22  May 22, 2013   \n",
       "3       104395160856690993217  2013-06-19 21:23:21  Jun 19, 2013   \n",
       "4       116090508615311611202  2013-06-19 21:23:29  Jun 19, 2013   \n",
       "...                       ...                  ...           ...   \n",
       "571719  115393413807091201685  2011-01-31 05:07:21  Jan 30, 2011   \n",
       "571720  115740012747676843252  2011-01-31 05:09:23  Jan 30, 2011   \n",
       "571721  116184585745702669719  2010-11-30 08:06:23  Nov 30, 2010   \n",
       "571722  117664146467660757996  2010-11-30 08:05:37  Nov 30, 2010   \n",
       "571723  115335677652071919916  2012-09-20 22:39:08  Sep 20, 2012   \n",
       "\n",
       "                  gPlusUserId  \n",
       "0       100000196778399872657  \n",
       "1       100000340778638927606  \n",
       "2       100000340778638927606  \n",
       "3       100000469599933991939  \n",
       "4       100000469599933991939  \n",
       "...                       ...  \n",
       "571719  118446627871409499434  \n",
       "571720  118446627871409499434  \n",
       "571721  118446627871409499434  \n",
       "571722  118446627871409499434  \n",
       "571723  118446643036239885535  \n",
       "\n",
       "[519881 rows x 8 columns]"
      ]
     },
     "execution_count": 185,
     "metadata": {},
     "output_type": "execute_result"
    }
   ],
   "source": [
    "reviews"
   ]
  },
  {
   "cell_type": "code",
   "execution_count": null,
   "metadata": {},
   "outputs": [],
   "source": []
  }
 ],
 "metadata": {
  "interpreter": {
   "hash": "cef06f2affa5ae95562f0760bca9fa2432cd63766c8d1240875ac699c6103183"
  },
  "kernelspec": {
   "display_name": "Python 3.8.10 ('abaenv': venv)",
   "language": "python",
   "name": "python3"
  },
  "language_info": {
   "codemirror_mode": {
    "name": "ipython",
    "version": 3
   },
   "file_extension": ".py",
   "mimetype": "text/x-python",
   "name": "python",
   "nbconvert_exporter": "python",
   "pygments_lexer": "ipython3",
   "version": "3.8.10"
  },
  "orig_nbformat": 4
 },
 "nbformat": 4,
 "nbformat_minor": 2
}
