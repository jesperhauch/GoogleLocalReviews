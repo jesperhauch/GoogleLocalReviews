{
 "cells": [
  {
   "cell_type": "code",
   "execution_count": 71,
   "metadata": {},
   "outputs": [],
   "source": [
    "import pandas as pd\n",
    "import seaborn as sns\n",
    "import matplotlib.pyplot as plt\n",
    "import numpy as np\n",
    "from tensorflow.keras.utils import set_random_seed\n",
    "set_random_seed(1)\n",
    "plt.rcParams[\"figure.figsize\"] = (12,7)\n",
    "sns.set_style(\"darkgrid\")"
   ]
  },
  {
   "cell_type": "code",
   "execution_count": 72,
   "metadata": {},
   "outputs": [
    {
     "data": {
      "text/html": [
       "<div>\n",
       "<style scoped>\n",
       "    .dataframe tbody tr th:only-of-type {\n",
       "        vertical-align: middle;\n",
       "    }\n",
       "\n",
       "    .dataframe tbody tr th {\n",
       "        vertical-align: top;\n",
       "    }\n",
       "\n",
       "    .dataframe thead th {\n",
       "        text-align: right;\n",
       "    }\n",
       "</style>\n",
       "<table border=\"1\" class=\"dataframe\">\n",
       "  <thead>\n",
       "    <tr style=\"text-align: right;\">\n",
       "      <th></th>\n",
       "      <th>Grid</th>\n",
       "      <th>PlaceCount</th>\n",
       "      <th>Price 1</th>\n",
       "      <th>Price 2</th>\n",
       "      <th>Price 3</th>\n",
       "      <th>Accommodation</th>\n",
       "      <th>Bar</th>\n",
       "      <th>Cafe</th>\n",
       "      <th>Cultural</th>\n",
       "      <th>Education</th>\n",
       "      <th>...</th>\n",
       "      <th>Health_rating</th>\n",
       "      <th>Other_rating</th>\n",
       "      <th>Outdoors_rating</th>\n",
       "      <th>Restaurant_rating</th>\n",
       "      <th>Retail_rating</th>\n",
       "      <th>Service_rating</th>\n",
       "      <th>Wholesale_rating</th>\n",
       "      <th>PositiveReviews</th>\n",
       "      <th>NegativeReviews</th>\n",
       "      <th>ReviewLength</th>\n",
       "    </tr>\n",
       "  </thead>\n",
       "  <tbody>\n",
       "    <tr>\n",
       "      <th>0</th>\n",
       "      <td>L0</td>\n",
       "      <td>8</td>\n",
       "      <td>0</td>\n",
       "      <td>1</td>\n",
       "      <td>0</td>\n",
       "      <td>0.0</td>\n",
       "      <td>0.0</td>\n",
       "      <td>0.0</td>\n",
       "      <td>0.0</td>\n",
       "      <td>0.0</td>\n",
       "      <td>...</td>\n",
       "      <td>0.0</td>\n",
       "      <td>4.020000</td>\n",
       "      <td>0.0</td>\n",
       "      <td>3.942857</td>\n",
       "      <td>0.000000</td>\n",
       "      <td>0.000000</td>\n",
       "      <td>0.000000</td>\n",
       "      <td>0.696000</td>\n",
       "      <td>0.304000</td>\n",
       "      <td>0.536595</td>\n",
       "    </tr>\n",
       "    <tr>\n",
       "      <th>1</th>\n",
       "      <td>L1</td>\n",
       "      <td>10</td>\n",
       "      <td>0</td>\n",
       "      <td>1</td>\n",
       "      <td>0</td>\n",
       "      <td>0.0</td>\n",
       "      <td>0.0</td>\n",
       "      <td>1.0</td>\n",
       "      <td>0.0</td>\n",
       "      <td>0.0</td>\n",
       "      <td>...</td>\n",
       "      <td>5.0</td>\n",
       "      <td>0.000000</td>\n",
       "      <td>0.0</td>\n",
       "      <td>4.777778</td>\n",
       "      <td>0.000000</td>\n",
       "      <td>4.000000</td>\n",
       "      <td>0.000000</td>\n",
       "      <td>0.851852</td>\n",
       "      <td>0.148148</td>\n",
       "      <td>0.802238</td>\n",
       "    </tr>\n",
       "    <tr>\n",
       "      <th>2</th>\n",
       "      <td>L10</td>\n",
       "      <td>3</td>\n",
       "      <td>0</td>\n",
       "      <td>0</td>\n",
       "      <td>0</td>\n",
       "      <td>0.0</td>\n",
       "      <td>0.0</td>\n",
       "      <td>0.0</td>\n",
       "      <td>0.0</td>\n",
       "      <td>1.0</td>\n",
       "      <td>...</td>\n",
       "      <td>0.0</td>\n",
       "      <td>4.200000</td>\n",
       "      <td>0.0</td>\n",
       "      <td>0.000000</td>\n",
       "      <td>0.000000</td>\n",
       "      <td>0.000000</td>\n",
       "      <td>0.000000</td>\n",
       "      <td>0.857143</td>\n",
       "      <td>0.142857</td>\n",
       "      <td>0.999095</td>\n",
       "    </tr>\n",
       "    <tr>\n",
       "      <th>3</th>\n",
       "      <td>L100</td>\n",
       "      <td>74</td>\n",
       "      <td>2</td>\n",
       "      <td>9</td>\n",
       "      <td>6</td>\n",
       "      <td>12.0</td>\n",
       "      <td>6.0</td>\n",
       "      <td>6.0</td>\n",
       "      <td>0.0</td>\n",
       "      <td>1.0</td>\n",
       "      <td>...</td>\n",
       "      <td>3.6</td>\n",
       "      <td>4.024460</td>\n",
       "      <td>0.0</td>\n",
       "      <td>3.711172</td>\n",
       "      <td>4.500000</td>\n",
       "      <td>3.028846</td>\n",
       "      <td>0.000000</td>\n",
       "      <td>0.732975</td>\n",
       "      <td>0.267025</td>\n",
       "      <td>0.895548</td>\n",
       "    </tr>\n",
       "    <tr>\n",
       "      <th>4</th>\n",
       "      <td>L101</td>\n",
       "      <td>163</td>\n",
       "      <td>7</td>\n",
       "      <td>31</td>\n",
       "      <td>5</td>\n",
       "      <td>21.0</td>\n",
       "      <td>19.0</td>\n",
       "      <td>20.0</td>\n",
       "      <td>1.0</td>\n",
       "      <td>1.0</td>\n",
       "      <td>...</td>\n",
       "      <td>4.5</td>\n",
       "      <td>4.223132</td>\n",
       "      <td>0.0</td>\n",
       "      <td>3.748855</td>\n",
       "      <td>3.549446</td>\n",
       "      <td>4.311111</td>\n",
       "      <td>3.722222</td>\n",
       "      <td>0.801535</td>\n",
       "      <td>0.198465</td>\n",
       "      <td>0.843739</td>\n",
       "    </tr>\n",
       "  </tbody>\n",
       "</table>\n",
       "<p>5 rows × 34 columns</p>\n",
       "</div>"
      ],
      "text/plain": [
       "   Grid  PlaceCount  Price 1  Price 2  Price 3  Accommodation   Bar  Cafe  \\\n",
       "0    L0           8        0        1        0            0.0   0.0   0.0   \n",
       "1    L1          10        0        1        0            0.0   0.0   1.0   \n",
       "2   L10           3        0        0        0            0.0   0.0   0.0   \n",
       "3  L100          74        2        9        6           12.0   6.0   6.0   \n",
       "4  L101         163        7       31        5           21.0  19.0  20.0   \n",
       "\n",
       "   Cultural  Education  ...  Health_rating  Other_rating  Outdoors_rating  \\\n",
       "0       0.0        0.0  ...            0.0      4.020000              0.0   \n",
       "1       0.0        0.0  ...            5.0      0.000000              0.0   \n",
       "2       0.0        1.0  ...            0.0      4.200000              0.0   \n",
       "3       0.0        1.0  ...            3.6      4.024460              0.0   \n",
       "4       1.0        1.0  ...            4.5      4.223132              0.0   \n",
       "\n",
       "   Restaurant_rating  Retail_rating  Service_rating  Wholesale_rating  \\\n",
       "0           3.942857       0.000000        0.000000          0.000000   \n",
       "1           4.777778       0.000000        4.000000          0.000000   \n",
       "2           0.000000       0.000000        0.000000          0.000000   \n",
       "3           3.711172       4.500000        3.028846          0.000000   \n",
       "4           3.748855       3.549446        4.311111          3.722222   \n",
       "\n",
       "   PositiveReviews  NegativeReviews  ReviewLength  \n",
       "0         0.696000         0.304000      0.536595  \n",
       "1         0.851852         0.148148      0.802238  \n",
       "2         0.857143         0.142857      0.999095  \n",
       "3         0.732975         0.267025      0.895548  \n",
       "4         0.801535         0.198465      0.843739  \n",
       "\n",
       "[5 rows x 34 columns]"
      ]
     },
     "execution_count": 72,
     "metadata": {},
     "output_type": "execute_result"
    }
   ],
   "source": [
    "df = pd.read_csv(\"data/space_embedding_data.csv\", index_col=[0])\n",
    "df.head()"
   ]
  },
  {
   "cell_type": "code",
   "execution_count": 73,
   "metadata": {},
   "outputs": [],
   "source": [
    "y = df[[i for i in df.columns if \"_rating\" not in i]].drop([\"Grid\"], axis=1)\n",
    "X = pd.get_dummies(df.Grid).values"
   ]
  },
  {
   "cell_type": "code",
   "execution_count": 74,
   "metadata": {},
   "outputs": [],
   "source": [
    "from sklearn.preprocessing import StandardScaler\n",
    "sc = StandardScaler()\n",
    "y_tf = sc.fit_transform(y)"
   ]
  },
  {
   "cell_type": "markdown",
   "metadata": {},
   "source": [
    "# Space Embeddings model"
   ]
  },
  {
   "cell_type": "markdown",
   "metadata": {},
   "source": [
    "## Continuous features"
   ]
  },
  {
   "cell_type": "code",
   "execution_count": 75,
   "metadata": {},
   "outputs": [],
   "source": [
    "from keras.models import Model\n",
    "from keras.layers import Dense, Embedding, Flatten\n",
    "from keras import Input\n",
    "# Parameters\n",
    "input_neurons = X.shape[0]\n",
    "output_neurons = y_tf.shape[1]\n",
    "\n",
    "# Model architecture\n",
    "inp = Input(shape=(input_neurons,))\n",
    "emb = Embedding(input_dim=input_neurons, output_dim=8, input_length=input_neurons)(inp)\n",
    "flat = Flatten()(emb)\n",
    "\n",
    "dict_losses = {}\n",
    "output_acts = []\n",
    "for idx in range(len(y.columns)):\n",
    "    output_act = Dense(1, activation=\"linear\", use_bias=True, name=\"output_layer_cont\" + str(idx))(flat)\n",
    "    output_acts.append(output_act)\n",
    "    dict_losses['output_layer_cont' + str(idx)] = 'mean_squared_error'\n",
    "\n",
    "model = Model(inputs=inp, outputs=output_acts)"
   ]
  },
  {
   "cell_type": "code",
   "execution_count": 76,
   "metadata": {},
   "outputs": [
    {
     "name": "stdout",
     "output_type": "stream",
     "text": [
      "Model: \"model_2\"\n",
      "__________________________________________________________________________________________________\n",
      " Layer (type)                   Output Shape         Param #     Connected to                     \n",
      "==================================================================================================\n",
      " input_3 (InputLayer)           [(None, 480)]        0           []                               \n",
      "                                                                                                  \n",
      " embedding_2 (Embedding)        (None, 480, 8)       3840        ['input_3[0][0]']                \n",
      "                                                                                                  \n",
      " flatten_2 (Flatten)            (None, 3840)         0           ['embedding_2[0][0]']            \n",
      "                                                                                                  \n",
      " output_layer_cont0 (Dense)     (None, 1)            3841        ['flatten_2[0][0]']              \n",
      "                                                                                                  \n",
      " output_layer_cont1 (Dense)     (None, 1)            3841        ['flatten_2[0][0]']              \n",
      "                                                                                                  \n",
      " output_layer_cont2 (Dense)     (None, 1)            3841        ['flatten_2[0][0]']              \n",
      "                                                                                                  \n",
      " output_layer_cont3 (Dense)     (None, 1)            3841        ['flatten_2[0][0]']              \n",
      "                                                                                                  \n",
      " output_layer_cont4 (Dense)     (None, 1)            3841        ['flatten_2[0][0]']              \n",
      "                                                                                                  \n",
      " output_layer_cont5 (Dense)     (None, 1)            3841        ['flatten_2[0][0]']              \n",
      "                                                                                                  \n",
      " output_layer_cont6 (Dense)     (None, 1)            3841        ['flatten_2[0][0]']              \n",
      "                                                                                                  \n",
      " output_layer_cont7 (Dense)     (None, 1)            3841        ['flatten_2[0][0]']              \n",
      "                                                                                                  \n",
      " output_layer_cont8 (Dense)     (None, 1)            3841        ['flatten_2[0][0]']              \n",
      "                                                                                                  \n",
      " output_layer_cont9 (Dense)     (None, 1)            3841        ['flatten_2[0][0]']              \n",
      "                                                                                                  \n",
      " output_layer_cont10 (Dense)    (None, 1)            3841        ['flatten_2[0][0]']              \n",
      "                                                                                                  \n",
      " output_layer_cont11 (Dense)    (None, 1)            3841        ['flatten_2[0][0]']              \n",
      "                                                                                                  \n",
      " output_layer_cont12 (Dense)    (None, 1)            3841        ['flatten_2[0][0]']              \n",
      "                                                                                                  \n",
      " output_layer_cont13 (Dense)    (None, 1)            3841        ['flatten_2[0][0]']              \n",
      "                                                                                                  \n",
      " output_layer_cont14 (Dense)    (None, 1)            3841        ['flatten_2[0][0]']              \n",
      "                                                                                                  \n",
      " output_layer_cont15 (Dense)    (None, 1)            3841        ['flatten_2[0][0]']              \n",
      "                                                                                                  \n",
      " output_layer_cont16 (Dense)    (None, 1)            3841        ['flatten_2[0][0]']              \n",
      "                                                                                                  \n",
      " output_layer_cont17 (Dense)    (None, 1)            3841        ['flatten_2[0][0]']              \n",
      "                                                                                                  \n",
      " output_layer_cont18 (Dense)    (None, 1)            3841        ['flatten_2[0][0]']              \n",
      "                                                                                                  \n",
      " output_layer_cont19 (Dense)    (None, 1)            3841        ['flatten_2[0][0]']              \n",
      "                                                                                                  \n",
      " output_layer_cont20 (Dense)    (None, 1)            3841        ['flatten_2[0][0]']              \n",
      "                                                                                                  \n",
      "==================================================================================================\n",
      "Total params: 84,501\n",
      "Trainable params: 84,501\n",
      "Non-trainable params: 0\n",
      "__________________________________________________________________________________________________\n"
     ]
    }
   ],
   "source": [
    "model.summary()"
   ]
  },
  {
   "cell_type": "code",
   "execution_count": 77,
   "metadata": {},
   "outputs": [],
   "source": [
    "from keras.utils.vis_utils import plot_model\n",
    "#plot_model(model, to_file=\"model_plot.png\", show_shapes=True, show_layer_names=True)"
   ]
  },
  {
   "cell_type": "code",
   "execution_count": 78,
   "metadata": {},
   "outputs": [
    {
     "name": "stdout",
     "output_type": "stream",
     "text": [
      "Epoch 1/10\n",
      "Epoch 2/10\n",
      "Epoch 3/10\n",
      "Epoch 4/10\n",
      "Epoch 5/10\n",
      "Epoch 6/10\n",
      "Epoch 7/10\n",
      "Epoch 8/10\n",
      "Epoch 9/10\n",
      "Epoch 10/10\n"
     ]
    }
   ],
   "source": [
    "from tensorflow.keras.optimizers import Adam\n",
    "import json\n",
    "\n",
    "opt = Adam(learning_rate=0.01)\n",
    "model.compile(loss=dict_losses, optimizer=opt)\n",
    "\n",
    "batch_size = 64\n",
    "epochs = 10\n",
    "history = model.fit(X, y_tf, batch_size=batch_size, epochs=epochs, verbose=3)\n",
    "\n",
    "# save weights\n",
    "weights_countinous ={df.Grid[idx]: [str(i) for i in w] for idx, w in enumerate(model.layers[1].get_weights()[0])}\n",
    "f = open(\"embedding_weights/weights_continous.json\", \"w\")\n",
    "json.dump(weights_countinous, f)\n",
    "f.close()"
   ]
  },
  {
   "cell_type": "code",
   "execution_count": 79,
   "metadata": {},
   "outputs": [
    {
     "data": {
      "image/png": "[encoded data removed]",
      "text/plain": [
       "<Figure size 864x504 with 1 Axes>"
      ]
     },
     "metadata": {},
     "output_type": "display_data"
    }
   ],
   "source": [
    "for idx, (key, value) in enumerate(history.history.items()):\n",
    "    if key != \"loss\":\n",
    "        plt.plot(history.epoch, value, label=y.columns[idx-1])\n",
    "plt.ylabel(\"Loss\")\n",
    "plt.xlabel(\"Epochs\");\n",
    "plt.legend();"
   ]
  },
  {
   "cell_type": "code",
   "execution_count": 80,
   "metadata": {},
   "outputs": [
    {
     "name": "stdout",
     "output_type": "stream",
     "text": [
      "PlaceCount MSE: 0.23519486891146327\n",
      "Price 1 MSE: 0.423485486018024\n",
      "Price 2 MSE: 0.3475731276624855\n",
      "Price 3 MSE: 0.40078324527947784\n",
      "Accommodation MSE: 0.7559279161156731\n",
      "Bar MSE: 0.4390431223967885\n",
      "Cafe MSE: 0.3737998441531985\n",
      "Cultural MSE: 0.4694783198711544\n",
      "Education MSE: 0.6142279840024327\n",
      "Health MSE: 0.5174907098194129\n",
      "Other MSE: 0.36944496499887275\n",
      "Outdoors MSE: 0.7556328725453505\n",
      "Restaurant MSE: 0.33009958176445936\n",
      "Retail MSE: 0.3637242803436333\n",
      "Service MSE: 0.34305512596644416\n",
      "Wholesale MSE: 0.45962665711023665\n",
      "ReviewCount MSE: 0.3329812554627726\n",
      "Rating MSE: 1.2976316879293166\n",
      "PositiveReviews MSE: 1.225628569725886\n",
      "NegativeReviews MSE: 1.4596609110195742\n",
      "ReviewLength MSE: 1.2022863609139358\n"
     ]
    }
   ],
   "source": [
    "from sklearn.metrics import mean_squared_error\n",
    "continuous_model = []\n",
    "y_pred = model.predict(X)\n",
    "y_pred = np.array(y_pred).T.squeeze()\n",
    "for i in range(y_pred.shape[1]):\n",
    "    mse_feature = mean_squared_error(y_tf[:, i], y_pred[:, i])\n",
    "    print(y.columns[i], \"MSE:\", mse_feature)\n",
    "    continuous_model.append(mse_feature)"
   ]
  },
  {
   "cell_type": "code",
   "execution_count": 86,
   "metadata": {},
   "outputs": [
    {
     "data": {
      "text/plain": [
       "array([ 5,  6,  7,  8,  9, 10, 11, 12, 13, 14])"
      ]
     },
     "execution_count": 86,
     "metadata": {},
     "output_type": "execute_result"
    }
   ],
   "source": [
    "np.arange(5,15,1)"
   ]
  },
  {
   "cell_type": "code",
   "execution_count": 95,
   "metadata": {},
   "outputs": [],
   "source": [
    "#### Grid Search \n",
    "from sklearn.model_selection import GridSearchCV\n",
    "\n",
    "parameters = {'dim': np.arange(5,15,1), 'lr':np.arange(0.01,0.5, 0.05)}\n",
    "\n",
    "def nn(dim, lr):\n",
    "    batch_size = 64\n",
    "    epochs = 10\n",
    "    input_neurons = X.shape[0]\n",
    "    output_neurons = y_tf.shape[1]\n",
    "\n",
    "    # Model architecture\n",
    "    inp = Input(shape=(input_neurons,))\n",
    "    emb = Embedding(input_dim=input_neurons, output_dim=dim, input_length=input_neurons)(inp)\n",
    "    flat = Flatten()(emb)\n",
    "\n",
    "    dict_losses = {}\n",
    "    output_acts = []\n",
    "    for idx in range(len(y.columns)):\n",
    "        output_act = Dense(1, activation=\"linear\", use_bias=True, name=\"output_layer_cont\" + str(idx))(flat)\n",
    "        output_acts.append(output_act)\n",
    "        dict_losses['output_layer_cont' + str(idx)] = 'mean_squared_error'\n",
    "\n",
    "    model = Model(inputs=inp, outputs=output_acts)\n",
    "\n",
    "\n",
    "    opt = Adam(learning_rate=lr)\n",
    "    model.compile(loss=dict_losses, optimizer=opt)\n",
    "    history = model.fit(X, y_tf, batch_size=batch_size, epochs=epochs, verbose=3)\n",
    "    \n",
    "    return history.history['loss'][-1] \n"
   ]
  },
  {
   "cell_type": "code",
   "execution_count": null,
   "metadata": {},
   "outputs": [],
   "source": [
    "grid = GridSearchCV(estimator=model, param_grid=param_grid, n_jobs=-1, cv=3)\n",
    "grid_result = grid.fit(X, Y)"
   ]
  },
  {
   "cell_type": "markdown",
   "metadata": {},
   "source": [
    "## Discrete/categorical features"
   ]
  },
  {
   "cell_type": "code",
   "execution_count": 11,
   "metadata": {},
   "outputs": [
    {
     "ename": "UFuncTypeError",
     "evalue": "ufunc 'multiply' did not contain a loop with signature matching types (dtype('<U32'), dtype('<U32')) -> dtype('<U32')",
     "output_type": "error",
     "traceback": [
      "\u001b[0;31m---------------------------------------------------------------------------\u001b[0m",
      "\u001b[0;31mUFuncTypeError\u001b[0m                            Traceback (most recent call last)",
      "\u001b[0;32m/var/folders/k9/6q_wnl392rn1_6g2d_l2hnrh0000gr/T/ipykernel_49162/659696351.py\u001b[0m in \u001b[0;36m<module>\u001b[0;34m\u001b[0m\n\u001b[1;32m      3\u001b[0m \u001b[0mcolors\u001b[0m \u001b[0;34m=\u001b[0m \u001b[0;34m(\u001b[0m\u001b[0mdf\u001b[0m\u001b[0;34m.\u001b[0m\u001b[0mGrid\u001b[0m\u001b[0;34m.\u001b[0m\u001b[0mstr\u001b[0m\u001b[0;34m.\u001b[0m\u001b[0mstartswith\u001b[0m\u001b[0;34m(\u001b[0m\u001b[0;34m\"L\"\u001b[0m\u001b[0;34m)\u001b[0m\u001b[0;34m*\u001b[0m\u001b[0;36m1\u001b[0m\u001b[0;34m)\u001b[0m\u001b[0;34m.\u001b[0m\u001b[0mvalues\u001b[0m\u001b[0;34m\u001b[0m\u001b[0;34m\u001b[0m\u001b[0m\n\u001b[1;32m      4\u001b[0m \u001b[0mcolors\u001b[0m \u001b[0;34m=\u001b[0m \u001b[0;34m[\u001b[0m\u001b[0;34m\"red\"\u001b[0m \u001b[0;32mif\u001b[0m \u001b[0mi\u001b[0m\u001b[0;34m==\u001b[0m\u001b[0;36m1\u001b[0m \u001b[0;32melse\u001b[0m \u001b[0;34m\"blue\"\u001b[0m \u001b[0;32mfor\u001b[0m \u001b[0mi\u001b[0m \u001b[0;32min\u001b[0m \u001b[0mcolors\u001b[0m\u001b[0;34m]\u001b[0m\u001b[0;34m\u001b[0m\u001b[0;34m\u001b[0m\u001b[0m\n\u001b[0;32m----> 5\u001b[0;31m \u001b[0mX_emb\u001b[0m \u001b[0;34m=\u001b[0m \u001b[0mTSNE\u001b[0m\u001b[0;34m(\u001b[0m\u001b[0mn_components\u001b[0m\u001b[0;34m=\u001b[0m\u001b[0;36m2\u001b[0m\u001b[0;34m,\u001b[0m \u001b[0mlearning_rate\u001b[0m\u001b[0;34m=\u001b[0m\u001b[0;34m\"auto\"\u001b[0m\u001b[0;34m,\u001b[0m \u001b[0minit\u001b[0m\u001b[0;34m=\u001b[0m\u001b[0;34m\"random\"\u001b[0m\u001b[0;34m)\u001b[0m\u001b[0;34m.\u001b[0m\u001b[0mfit_transform\u001b[0m\u001b[0;34m(\u001b[0m\u001b[0membeddings\u001b[0m\u001b[0;34m)\u001b[0m\u001b[0;34m\u001b[0m\u001b[0;34m\u001b[0m\u001b[0m\n\u001b[0m\u001b[1;32m      6\u001b[0m \u001b[0;34m\u001b[0m\u001b[0m\n\u001b[1;32m      7\u001b[0m \u001b[0mplt\u001b[0m\u001b[0;34m.\u001b[0m\u001b[0mfigure\u001b[0m\u001b[0;34m(\u001b[0m\u001b[0mfigsize\u001b[0m\u001b[0;34m=\u001b[0m\u001b[0;34m(\u001b[0m\u001b[0;36m12\u001b[0m\u001b[0;34m,\u001b[0m\u001b[0;36m7\u001b[0m\u001b[0;34m)\u001b[0m\u001b[0;34m)\u001b[0m\u001b[0;34m\u001b[0m\u001b[0;34m\u001b[0m\u001b[0m\n",
      "\u001b[0;32m~/opt/anaconda3/lib/python3.8/site-packages/sklearn/manifold/_t_sne.py\u001b[0m in \u001b[0;36mfit_transform\u001b[0;34m(self, X, y)\u001b[0m\n\u001b[1;32m    930\u001b[0m             \u001b[0mEmbedding\u001b[0m \u001b[0mof\u001b[0m \u001b[0mthe\u001b[0m \u001b[0mtraining\u001b[0m \u001b[0mdata\u001b[0m \u001b[0;32min\u001b[0m \u001b[0mlow\u001b[0m\u001b[0;34m-\u001b[0m\u001b[0mdimensional\u001b[0m \u001b[0mspace\u001b[0m\u001b[0;34m.\u001b[0m\u001b[0;34m\u001b[0m\u001b[0;34m\u001b[0m\u001b[0m\n\u001b[1;32m    931\u001b[0m         \"\"\"\n\u001b[0;32m--> 932\u001b[0;31m         \u001b[0membedding\u001b[0m \u001b[0;34m=\u001b[0m \u001b[0mself\u001b[0m\u001b[0;34m.\u001b[0m\u001b[0m_fit\u001b[0m\u001b[0;34m(\u001b[0m\u001b[0mX\u001b[0m\u001b[0;34m)\u001b[0m\u001b[0;34m\u001b[0m\u001b[0;34m\u001b[0m\u001b[0m\n\u001b[0m\u001b[1;32m    933\u001b[0m         \u001b[0mself\u001b[0m\u001b[0;34m.\u001b[0m\u001b[0membedding_\u001b[0m \u001b[0;34m=\u001b[0m \u001b[0membedding\u001b[0m\u001b[0;34m\u001b[0m\u001b[0;34m\u001b[0m\u001b[0m\n\u001b[1;32m    934\u001b[0m         \u001b[0;32mreturn\u001b[0m \u001b[0mself\u001b[0m\u001b[0;34m.\u001b[0m\u001b[0membedding_\u001b[0m\u001b[0;34m\u001b[0m\u001b[0;34m\u001b[0m\u001b[0m\n",
      "\u001b[0;32m~/opt/anaconda3/lib/python3.8/site-packages/sklearn/manifold/_t_sne.py\u001b[0m in \u001b[0;36m_fit\u001b[0;34m(self, X, skip_num_points)\u001b[0m\n\u001b[1;32m    839\u001b[0m         \u001b[0mdegrees_of_freedom\u001b[0m \u001b[0;34m=\u001b[0m \u001b[0mmax\u001b[0m\u001b[0;34m(\u001b[0m\u001b[0mself\u001b[0m\u001b[0;34m.\u001b[0m\u001b[0mn_components\u001b[0m \u001b[0;34m-\u001b[0m \u001b[0;36m1\u001b[0m\u001b[0;34m,\u001b[0m \u001b[0;36m1\u001b[0m\u001b[0;34m)\u001b[0m\u001b[0;34m\u001b[0m\u001b[0;34m\u001b[0m\u001b[0m\n\u001b[1;32m    840\u001b[0m \u001b[0;34m\u001b[0m\u001b[0m\n\u001b[0;32m--> 841\u001b[0;31m         return self._tsne(P, degrees_of_freedom, n_samples,\n\u001b[0m\u001b[1;32m    842\u001b[0m                           \u001b[0mX_embedded\u001b[0m\u001b[0;34m=\u001b[0m\u001b[0mX_embedded\u001b[0m\u001b[0;34m,\u001b[0m\u001b[0;34m\u001b[0m\u001b[0;34m\u001b[0m\u001b[0m\n\u001b[1;32m    843\u001b[0m                           \u001b[0mneighbors\u001b[0m\u001b[0;34m=\u001b[0m\u001b[0mneighbors_nn\u001b[0m\u001b[0;34m,\u001b[0m\u001b[0;34m\u001b[0m\u001b[0;34m\u001b[0m\u001b[0m\n",
      "\u001b[0;32m~/opt/anaconda3/lib/python3.8/site-packages/sklearn/manifold/_t_sne.py\u001b[0m in \u001b[0;36m_tsne\u001b[0;34m(self, P, degrees_of_freedom, n_samples, X_embedded, neighbors, skip_num_points)\u001b[0m\n\u001b[1;32m    880\u001b[0m         \u001b[0;31m# higher learning rate controlled via the early exaggeration parameter\u001b[0m\u001b[0;34m\u001b[0m\u001b[0;34m\u001b[0m\u001b[0;34m\u001b[0m\u001b[0m\n\u001b[1;32m    881\u001b[0m         \u001b[0mP\u001b[0m \u001b[0;34m*=\u001b[0m \u001b[0mself\u001b[0m\u001b[0;34m.\u001b[0m\u001b[0mearly_exaggeration\u001b[0m\u001b[0;34m\u001b[0m\u001b[0;34m\u001b[0m\u001b[0m\n\u001b[0;32m--> 882\u001b[0;31m         params, kl_divergence, it = _gradient_descent(obj_func, params,\n\u001b[0m\u001b[1;32m    883\u001b[0m                                                       **opt_args)\n\u001b[1;32m    884\u001b[0m         \u001b[0;32mif\u001b[0m \u001b[0mself\u001b[0m\u001b[0;34m.\u001b[0m\u001b[0mverbose\u001b[0m\u001b[0;34m:\u001b[0m\u001b[0;34m\u001b[0m\u001b[0;34m\u001b[0m\u001b[0m\n",
      "\u001b[0;32m~/opt/anaconda3/lib/python3.8/site-packages/sklearn/manifold/_t_sne.py\u001b[0m in \u001b[0;36m_gradient_descent\u001b[0;34m(objective, p0, it, n_iter, n_iter_check, n_iter_without_progress, momentum, learning_rate, min_gain, min_grad_norm, verbose, args, kwargs)\u001b[0m\n\u001b[1;32m    370\u001b[0m         \u001b[0mnp\u001b[0m\u001b[0;34m.\u001b[0m\u001b[0mclip\u001b[0m\u001b[0;34m(\u001b[0m\u001b[0mgains\u001b[0m\u001b[0;34m,\u001b[0m \u001b[0mmin_gain\u001b[0m\u001b[0;34m,\u001b[0m \u001b[0mnp\u001b[0m\u001b[0;34m.\u001b[0m\u001b[0minf\u001b[0m\u001b[0;34m,\u001b[0m \u001b[0mout\u001b[0m\u001b[0;34m=\u001b[0m\u001b[0mgains\u001b[0m\u001b[0;34m)\u001b[0m\u001b[0;34m\u001b[0m\u001b[0;34m\u001b[0m\u001b[0m\n\u001b[1;32m    371\u001b[0m         \u001b[0mgrad\u001b[0m \u001b[0;34m*=\u001b[0m \u001b[0mgains\u001b[0m\u001b[0;34m\u001b[0m\u001b[0;34m\u001b[0m\u001b[0m\n\u001b[0;32m--> 372\u001b[0;31m         \u001b[0mupdate\u001b[0m \u001b[0;34m=\u001b[0m \u001b[0mmomentum\u001b[0m \u001b[0;34m*\u001b[0m \u001b[0mupdate\u001b[0m \u001b[0;34m-\u001b[0m \u001b[0mlearning_rate\u001b[0m \u001b[0;34m*\u001b[0m \u001b[0mgrad\u001b[0m\u001b[0;34m\u001b[0m\u001b[0;34m\u001b[0m\u001b[0m\n\u001b[0m\u001b[1;32m    373\u001b[0m         \u001b[0mp\u001b[0m \u001b[0;34m+=\u001b[0m \u001b[0mupdate\u001b[0m\u001b[0;34m\u001b[0m\u001b[0;34m\u001b[0m\u001b[0m\n\u001b[1;32m    374\u001b[0m \u001b[0;34m\u001b[0m\u001b[0m\n",
      "\u001b[0;31mUFuncTypeError\u001b[0m: ufunc 'multiply' did not contain a loop with signature matching types (dtype('<U32'), dtype('<U32')) -> dtype('<U32')"
     ]
    }
   ],
   "source": [
    "from sklearn.manifold import TSNE\n",
    "embeddings = model.layers[1].get_weights()[0]\n",
    "colors = (df.Grid.str.startswith(\"L\")*1).values\n",
    "colors = [\"red\" if i==1 else \"blue\" for i in colors]\n",
    "X_emb = TSNE(n_components=2, learning_rate=\"auto\", init=\"random\").fit_transform(embeddings)\n",
    "\n",
    "plt.figure(figsize=(12,7))\n",
    "plt.scatter(X_emb[:, 0], X_emb[:, 1], color=colors);"
   ]
  },
  {
   "cell_type": "code",
   "execution_count": null,
   "metadata": {},
   "outputs": [],
   "source": []
  }
 ],
 "metadata": {
  "interpreter": {
   "hash": "6f9910882fae098898ae321f07726ec847ec186b3979568b9e6c54444f9aa773"
  },
  "kernelspec": {
   "display_name": "Python 3.9.5 ('abaenv': venv)",
   "language": "python",
   "name": "python3"
  },
  "language_info": {
   "codemirror_mode": {
    "name": "ipython",
    "version": 3
   },
   "file_extension": ".py",
   "mimetype": "text/x-python",
   "name": "python",
   "nbconvert_exporter": "python",
   "pygments_lexer": "ipython3",
   "version": "3.8.11"
  },
  "orig_nbformat": 4
 },
 "nbformat": 4,
 "nbformat_minor": 2
}
