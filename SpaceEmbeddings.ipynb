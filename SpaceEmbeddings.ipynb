{
 "cells": [
  {
   "cell_type": "markdown",
   "metadata": {},
   "source": [
    "# Introduction\n",
    "\n"
   ]
  },
  {
   "cell_type": "markdown",
   "metadata": {},
   "source": [
    "In this notebook, the enriched data from the NLP classifier is used for a space embeddings model, where the goal is to provide a embedding vector for each grid cell. The embedding vectors are obtained from a shallow, one-layer neural network with multiple output layers. First, this architecture is described thoroughly, whereafter two approaches for the neural network is considered. Finally, a comparison between the two approaches is conducted, where the better performing model is identified to be used in the recommender system. "
   ]
  },
  {
   "cell_type": "markdown",
   "metadata": {},
   "source": [
    "## Table of Contents\n",
    "\n",
    "* [Space Embeddings Model](#0-bullet)\n",
    "* [Continuous features](#1-bullet)\n",
    "* [Discrete/categorical features](#2-bullet)\n",
    "* [Model comparison (Continuous vs Discrete/Categorical)](#3-bullet)\n",
    "* [Conclusion](#4-bullet)"
   ]
  },
  {
   "cell_type": "code",
   "execution_count": 11,
   "metadata": {},
   "outputs": [],
   "source": [
    "import pandas as pd\n",
    "import seaborn as sns\n",
    "import matplotlib.pyplot as plt\n",
    "import numpy as np\n",
    "#from tensorflow.keras.utils import set_random_seed\n",
    "#set_random_seed(1)\n",
    "plt.rcParams[\"figure.figsize\"] = (12,7)\n",
    "sns.set_style(\"darkgrid\")"
   ]
  },
  {
   "cell_type": "markdown",
   "metadata": {},
   "source": [
    "The space embeddings dataframe, that was created in [Descriptive Statistics](./DescriptiveStatistics.ipynb) and enriched through [NLP Classification](./NLPClassification.ipynb), is loaded and split into ***X*** and ***y*** matrices used as inputs for our neural network. Normally, one would use the features to predict a target in a machine learning, but it will be done oppositely when trying to learn embeddings for a target or in our case a grid cell. \n",
    "\n",
    "Therefore, ***X*** simply contains a one-hot encoding of all the grid cells, which makes it a 480x480 diagonal matrix with ones. The ***y*** matrix contains the features from the space embeddings dataframe and is shown below."
   ]
  },
  {
   "cell_type": "code",
   "execution_count": 12,
   "metadata": {},
   "outputs": [
    {
     "name": "stdout",
     "output_type": "stream",
     "text": [
      "Targets (y) shape: (480, 21)\n",
      "Input (X) shape: (480, 480)\n"
     ]
    },
    {
     "data": {
      "text/html": [
       "<div>\n",
       "<style scoped>\n",
       "    .dataframe tbody tr th:only-of-type {\n",
       "        vertical-align: middle;\n",
       "    }\n",
       "\n",
       "    .dataframe tbody tr th {\n",
       "        vertical-align: top;\n",
       "    }\n",
       "\n",
       "    .dataframe thead th {\n",
       "        text-align: right;\n",
       "    }\n",
       "</style>\n",
       "<table border=\"1\" class=\"dataframe\">\n",
       "  <thead>\n",
       "    <tr style=\"text-align: right;\">\n",
       "      <th></th>\n",
       "      <th>PlaceCount</th>\n",
       "      <th>Price 1</th>\n",
       "      <th>Price 2</th>\n",
       "      <th>Price 3</th>\n",
       "      <th>Accommodation</th>\n",
       "      <th>Bar</th>\n",
       "      <th>Cafe</th>\n",
       "      <th>Cultural</th>\n",
       "      <th>Education</th>\n",
       "      <th>Health</th>\n",
       "      <th>...</th>\n",
       "      <th>Outdoors</th>\n",
       "      <th>Restaurant</th>\n",
       "      <th>Retail</th>\n",
       "      <th>Service</th>\n",
       "      <th>Wholesale</th>\n",
       "      <th>ReviewCount</th>\n",
       "      <th>Rating</th>\n",
       "      <th>PositiveReviews</th>\n",
       "      <th>NegativeReviews</th>\n",
       "      <th>ReviewLength</th>\n",
       "    </tr>\n",
       "  </thead>\n",
       "  <tbody>\n",
       "    <tr>\n",
       "      <th>0</th>\n",
       "      <td>8</td>\n",
       "      <td>0</td>\n",
       "      <td>4</td>\n",
       "      <td>0</td>\n",
       "      <td>0.0</td>\n",
       "      <td>0.0</td>\n",
       "      <td>0.0</td>\n",
       "      <td>0.0</td>\n",
       "      <td>0.0</td>\n",
       "      <td>0.0</td>\n",
       "      <td>...</td>\n",
       "      <td>1.0</td>\n",
       "      <td>5.0</td>\n",
       "      <td>0.0</td>\n",
       "      <td>1.0</td>\n",
       "      <td>0.0</td>\n",
       "      <td>125</td>\n",
       "      <td>3.968571</td>\n",
       "      <td>0.696000</td>\n",
       "      <td>0.304000</td>\n",
       "      <td>0.536595</td>\n",
       "    </tr>\n",
       "    <tr>\n",
       "      <th>1</th>\n",
       "      <td>10</td>\n",
       "      <td>0</td>\n",
       "      <td>6</td>\n",
       "      <td>1</td>\n",
       "      <td>0.0</td>\n",
       "      <td>0.0</td>\n",
       "      <td>1.0</td>\n",
       "      <td>0.0</td>\n",
       "      <td>0.0</td>\n",
       "      <td>1.0</td>\n",
       "      <td>...</td>\n",
       "      <td>0.0</td>\n",
       "      <td>2.0</td>\n",
       "      <td>0.0</td>\n",
       "      <td>2.0</td>\n",
       "      <td>1.0</td>\n",
       "      <td>31</td>\n",
       "      <td>4.592593</td>\n",
       "      <td>0.851852</td>\n",
       "      <td>0.148148</td>\n",
       "      <td>0.802238</td>\n",
       "    </tr>\n",
       "    <tr>\n",
       "      <th>2</th>\n",
       "      <td>3</td>\n",
       "      <td>0</td>\n",
       "      <td>2</td>\n",
       "      <td>0</td>\n",
       "      <td>0.0</td>\n",
       "      <td>0.0</td>\n",
       "      <td>0.0</td>\n",
       "      <td>0.0</td>\n",
       "      <td>1.0</td>\n",
       "      <td>0.0</td>\n",
       "      <td>...</td>\n",
       "      <td>0.0</td>\n",
       "      <td>0.0</td>\n",
       "      <td>1.0</td>\n",
       "      <td>0.0</td>\n",
       "      <td>0.0</td>\n",
       "      <td>8</td>\n",
       "      <td>4.200000</td>\n",
       "      <td>0.857143</td>\n",
       "      <td>0.142857</td>\n",
       "      <td>0.999095</td>\n",
       "    </tr>\n",
       "    <tr>\n",
       "      <th>3</th>\n",
       "      <td>74</td>\n",
       "      <td>3</td>\n",
       "      <td>32</td>\n",
       "      <td>17</td>\n",
       "      <td>12.0</td>\n",
       "      <td>6.0</td>\n",
       "      <td>6.0</td>\n",
       "      <td>0.0</td>\n",
       "      <td>1.0</td>\n",
       "      <td>4.0</td>\n",
       "      <td>...</td>\n",
       "      <td>0.0</td>\n",
       "      <td>17.0</td>\n",
       "      <td>4.0</td>\n",
       "      <td>7.0</td>\n",
       "      <td>1.0</td>\n",
       "      <td>853</td>\n",
       "      <td>3.694524</td>\n",
       "      <td>0.732975</td>\n",
       "      <td>0.267025</td>\n",
       "      <td>0.895548</td>\n",
       "    </tr>\n",
       "    <tr>\n",
       "      <th>4</th>\n",
       "      <td>163</td>\n",
       "      <td>8</td>\n",
       "      <td>78</td>\n",
       "      <td>25</td>\n",
       "      <td>21.0</td>\n",
       "      <td>19.0</td>\n",
       "      <td>20.0</td>\n",
       "      <td>1.0</td>\n",
       "      <td>1.0</td>\n",
       "      <td>10.0</td>\n",
       "      <td>...</td>\n",
       "      <td>0.0</td>\n",
       "      <td>37.0</td>\n",
       "      <td>21.0</td>\n",
       "      <td>9.0</td>\n",
       "      <td>5.0</td>\n",
       "      <td>1330</td>\n",
       "      <td>3.719004</td>\n",
       "      <td>0.801535</td>\n",
       "      <td>0.198465</td>\n",
       "      <td>0.843739</td>\n",
       "    </tr>\n",
       "  </tbody>\n",
       "</table>\n",
       "<p>5 rows × 21 columns</p>\n",
       "</div>"
      ],
      "text/plain": [
       "   PlaceCount  Price 1  Price 2  Price 3  Accommodation   Bar  Cafe  Cultural  \\\n",
       "0           8        0        4        0            0.0   0.0   0.0       0.0   \n",
       "1          10        0        6        1            0.0   0.0   1.0       0.0   \n",
       "2           3        0        2        0            0.0   0.0   0.0       0.0   \n",
       "3          74        3       32       17           12.0   6.0   6.0       0.0   \n",
       "4         163        8       78       25           21.0  19.0  20.0       1.0   \n",
       "\n",
       "   Education  Health  ...  Outdoors  Restaurant  Retail  Service  Wholesale  \\\n",
       "0        0.0     0.0  ...       1.0         5.0     0.0      1.0        0.0   \n",
       "1        0.0     1.0  ...       0.0         2.0     0.0      2.0        1.0   \n",
       "2        1.0     0.0  ...       0.0         0.0     1.0      0.0        0.0   \n",
       "3        1.0     4.0  ...       0.0        17.0     4.0      7.0        1.0   \n",
       "4        1.0    10.0  ...       0.0        37.0    21.0      9.0        5.0   \n",
       "\n",
       "   ReviewCount    Rating  PositiveReviews  NegativeReviews  ReviewLength  \n",
       "0          125  3.968571         0.696000         0.304000      0.536595  \n",
       "1           31  4.592593         0.851852         0.148148      0.802238  \n",
       "2            8  4.200000         0.857143         0.142857      0.999095  \n",
       "3          853  3.694524         0.732975         0.267025      0.895548  \n",
       "4         1330  3.719004         0.801535         0.198465      0.843739  \n",
       "\n",
       "[5 rows x 21 columns]"
      ]
     },
     "execution_count": 12,
     "metadata": {},
     "output_type": "execute_result"
    }
   ],
   "source": [
    "# Load space embeddings data and prepare X and y matrices\n",
    "df = pd.read_csv(\"data/space_embedding_data_NLP.csv\", index_col=[0])\n",
    "y = df[[i for i in df.columns if \"_rating\" not in i]].drop([\"Grid\"], axis=1)\n",
    "X = pd.get_dummies(df.Grid).values\n",
    "\n",
    "print(\"Targets (y) shape:\", y.shape)\n",
    "print(\"Input (X) shape:\", X.shape)\n",
    "y.head()"
   ]
  },
  {
   "cell_type": "markdown",
   "metadata": {},
   "source": [
    "It is chosen to scale the targets in order for them to be weighted as equal as possible in the loss function."
   ]
  },
  {
   "cell_type": "code",
   "execution_count": 13,
   "metadata": {},
   "outputs": [],
   "source": [
    "# Standard scaling of targets/features\n",
    "from sklearn.preprocessing import StandardScaler\n",
    "sc = StandardScaler()\n",
    "y_tf = sc.fit_transform(y)"
   ]
  },
  {
   "cell_type": "markdown",
   "metadata": {},
   "source": [
    "# Space Embeddings model <a class=\"anchor\" id=\"0-bullet\"></a>"
   ]
  },
  {
   "cell_type": "markdown",
   "metadata": {},
   "source": [
    "Now that the data for the space embeddings model has been prepared, it is time to get a better understanding of the space embeddings model. The model is a shallow neural network illustrated by a simplified drawing below:"
   ]
  },
  {
   "cell_type": "markdown",
   "metadata": {},
   "source": [
    "![NN architecture](img/NN_Architecture.png)"
   ]
  },
  {
   "cell_type": "markdown",
   "metadata": {},
   "source": [
    "It is seen that the model takes an input of shape (, 480), which is equal to the number of grid cells in our dataset, and feeds it to an embedding layer, which outputs embeddings of shape (, 480, *n*). The *n* refers to the length of the embedding vector, which will be found through hyperparameter tuning, but it is essential that $n<m$ where *m* is the number of features per grid cell, since we are trying to map high-dimensional data to a lower dimension. The embeddings are then flattened and fed into *m* output layers, which will output a single prediction for each feature. Thus, the neural network has *m* losses where the hyperparameter tuning will optimize the aggregation of these *m* losses.\n",
    "\n",
    "The illustration above considers a regression task with continuous parameters and one output per feature, which will be one of two approaches conducted in this notebook:\n",
    "1. A neural network with continuous targets and regression metrics\n",
    "2. A neural network with uniform categorical targets and classification metrics\n",
    "\n",
    "The first approach requires no data processing and is relatively easy to implement given the nature of the data and the architecture of such a neural network. The idea for the second approach came from a discussion with our mentor, who has had success with using categorical data where the classes are uniformly distributed. This approach will require the final output layers to be categorical where ambiguity can arise regarding the architecture.\n",
    "\n",
    "Due to the many similarities between the two approaches, the first approach will be described more thoroughly where only differences will be highlighted in the second approach."
   ]
  },
  {
   "cell_type": "markdown",
   "metadata": {},
   "source": [
    "## Continuous features <a class=\"anchor\" id=\"1-bullet\"></a>"
   ]
  },
  {
   "cell_type": "markdown",
   "metadata": {},
   "source": [
    "The architecture for the two neural networks will be close to identical with the exception of the output layer(s). Naturally, the output activation and the loss function should be appropriate for a regression task, which is why a linear activation is used with a mean squared error loss. The following uses `keras-tuner` to tune the length of the embedding vector and the learning rate."
   ]
  },
  {
   "cell_type": "code",
   "execution_count": 5,
   "metadata": {},
   "outputs": [],
   "source": [
    "from keras.models import Model\n",
    "from keras.layers import Dense, Embedding, Flatten\n",
    "from keras import Input\n",
    "from tensorflow.keras.optimizers import Adam\n",
    "import keras_tuner as kt\n",
    "# https://www.tensorflow.org/tutorials/keras/keras_tuner\n",
    "def model_builder_continuous(hp):\n",
    "    input_neurons = X.shape[0]\n",
    "\n",
    "    # Model architecture\n",
    "    inp = Input(shape=(input_neurons,))\n",
    "    hp_embedding = hp.Int(\"units\", min_value=5, max_value=15, step=1)\n",
    "    emb = Embedding(input_dim=input_neurons, output_dim=hp_embedding, input_length=input_neurons)(inp)\n",
    "    flat = Flatten()(emb)\n",
    "\n",
    "    # Output layer(s) - create dict of losses to save losses and list of output layers\n",
    "    dict_losses = {}\n",
    "    output_acts = []\n",
    "    for idx in range(len(y.columns)):\n",
    "        output_act = Dense(1, activation=\"linear\", use_bias=True, name=\"output_layer_cont\" + str(idx))(flat)\n",
    "        output_acts.append(output_act)\n",
    "        dict_losses['output_layer_cont' + str(idx)] = 'mean_squared_error'\n",
    "\n",
    "    # Model compiling\n",
    "    model = Model(inputs=inp, outputs=output_acts)\n",
    "    hp_learning_rate = hp.Choice('learning_rate', values=[3e-4, 0.001, 0.01, 0.1])\n",
    "    opt = Adam(learning_rate=hp_learning_rate)\n",
    "    model.compile(loss=dict_losses, optimizer=opt)\n",
    "    return model\n"
   ]
  },
  {
   "cell_type": "code",
   "execution_count": 6,
   "metadata": {},
   "outputs": [
    {
     "name": "stdout",
     "output_type": "stream",
     "text": [
      "Trial 30 Complete [00h 00m 21s]\n",
      "loss: 19.917299270629883\n",
      "\n",
      "Best loss So Far: 11.672591209411621\n",
      "Total elapsed time: 00h 05m 13s\n",
      "INFO:tensorflow:Oracle triggered exit\n"
     ]
    }
   ],
   "source": [
    "objective = kt.Objective(\"loss\", direction=\"min\")\n",
    "tuner = kt.Hyperband(model_builder_continuous,\n",
    "                    objective=objective,\n",
    "                    max_epochs=20,\n",
    "                    directory=\"hyperparameter_tuning\",\n",
    "                    project_name=\"continuous_trials\",\n",
    "                    overwrite=False\n",
    ")\n",
    "\n",
    "tuner.search(X, y_tf)\n",
    "best_hps = tuner.get_best_hyperparameters()[0]"
   ]
  },
  {
   "cell_type": "markdown",
   "metadata": {},
   "source": [
    "The best model obtained in the tuning process is saved and trained for more epochs to better fit the targets."
   ]
  },
  {
   "cell_type": "code",
   "execution_count": 7,
   "metadata": {},
   "outputs": [],
   "source": [
    "# Rebuild model with best hyperparameters\n",
    "model = tuner.hypermodel.build(best_hps)\n",
    "\n",
    "# train model for 50 epochs\n",
    "history = model.fit(X, y_tf, epochs=100, verbose=0)\n",
    "train_loss_per_epoch = history.history['loss']"
   ]
  },
  {
   "cell_type": "markdown",
   "metadata": {},
   "source": [
    "To get the model at the epoch where it was best, the epoch of the lowest loss is found and the model is retrained."
   ]
  },
  {
   "cell_type": "code",
   "execution_count": 8,
   "metadata": {},
   "outputs": [
    {
     "name": "stdout",
     "output_type": "stream",
     "text": [
      "Best epoch: 24\n",
      "INFO:tensorflow:Assets written to: models/continuous_model\\assets\n"
     ]
    }
   ],
   "source": [
    "# Find best epoch in terms of train loss\n",
    "best_epoch = train_loss_per_epoch.index(min(train_loss_per_epoch)) + 1\n",
    "print(\"Best epoch:\", best_epoch)\n",
    "\n",
    "# Retrain the model with optimal epochs from above\n",
    "hypermodel = tuner.hypermodel.build(best_hps)\n",
    "hypermodel.fit(X, y_tf, epochs=best_epoch, verbose=0)\n",
    "\n",
    "# Save model\n",
    "hypermodel.save(\"models/continuous_model\")"
   ]
  },
  {
   "cell_type": "markdown",
   "metadata": {},
   "source": [
    "When fitting the space embeddings, we are interested in overfitting the current problem as much as possible. Therefore, we are simply interested in getting as low a loss as possible without having to worry about performance on validation or test sets. The loss curve for each feature is illustrated in the below figure."
   ]
  },
  {
   "cell_type": "code",
   "execution_count": 9,
   "metadata": {},
   "outputs": [
    {
     "data": {
      "image/png": "[encoded data removed]",
      "text/plain": [
       "<Figure size 864x504 with 1 Axes>"
      ]
     },
     "metadata": {},
     "output_type": "display_data"
    }
   ],
   "source": [
    "for idx, (key, value) in enumerate(hypermodel.history.history.items()):\n",
    "    if key != \"loss\":\n",
    "        plt.plot(hypermodel.history.epoch, value, label=y.columns[idx-1])\n",
    "plt.ylabel(\"Loss\")\n",
    "plt.xlabel(\"Epochs\");\n",
    "plt.legend();"
   ]
  },
  {
   "cell_type": "markdown",
   "metadata": {},
   "source": [
    "It is seen that the loss curves follow the same pattern with small variations. In the first epoch, the loss curves decrease drastically from different starting points. This decrease is less drastic from epoch 1-3, but then experiences a free fall until epoch 6. After epoch 6, the model keeps learning until epoch 23 where the loss starts to increase. Since the model is trained until the loss starts to increase, we have essentially implemented `EarlyStopping` with a patience of 1 epoch. One could have implemented the actual `EarlyStopping` function from keras with a higher patience, to be certain whether loss would keep increasing after the 23rd epoch."
   ]
  },
  {
   "cell_type": "code",
   "execution_count": 10,
   "metadata": {},
   "outputs": [],
   "source": [
    "# saving embeddings in pickle\n",
    "import pickle\n",
    "weights = hypermodel.layers[1].get_weights()[0].tolist()\n",
    "grids = df.Grid.values\n",
    "ws = {grids[i]: weights[i] for i in range(len(df))}\n",
    "with open(\"embeddings/continuous_embeddings.pkl\", \"wb\") as f:\n",
    "    pickle.dump(ws, f)"
   ]
  },
  {
   "cell_type": "markdown",
   "metadata": {},
   "source": [
    "## Discrete/categorical features <a class=\"anchor\" id=\"2-bullet\"></a>"
   ]
  },
  {
   "cell_type": "markdown",
   "metadata": {},
   "source": [
    "For the discrete space embeddings model, the continuous features needs to be discretized. As per our mentor's suggestion, the bins/classes of discretized features should be uniformly distributed. Thus, a function is created to ensure this."
   ]
  },
  {
   "cell_type": "code",
   "execution_count": 14,
   "metadata": {},
   "outputs": [],
   "source": [
    "# Defining a function for uniform discretizing of the features\n",
    "# Can only handle features with less than 20% zero values. \n",
    "\n",
    "def uniform_Discretization(array): \n",
    "    min_bins = 3\n",
    "    max_bins = 10\n",
    "\n",
    "    #if input contains zeros, adjust max number of bins\n",
    "    try:\n",
    "        calc_bins = np.int32(np.floor(1/(len(np.where(array==0)[0])/len(array))))\n",
    "        if np.any(array==0) and calc_bins < max_bins and calc_bins-min_bins>0:\n",
    "            max_bins = calc_bins\n",
    "    except ZeroDivisionError:\n",
    "        None\n",
    "\n",
    "    # find optimal number of bins with least variation in binsize\n",
    "    minspan = []\n",
    "    for i in range(min_bins, max_bins+1, 1):\n",
    "        try:\n",
    "            Value_count = pd.qcut(array,i).value_counts()\n",
    "            minspan.append(max(Value_count)-min(Value_count))\n",
    "        except ValueError:\n",
    "            minspan.append(1000)\n",
    "            continue\n",
    "\n",
    "    bins = np.argmin(minspan)+min_bins\n",
    "    intervals = np.unique(pd.qcut(array,bins))\n",
    "\n",
    "    # print number of bins and bin intervals\n",
    "    print(array.name,'- Bins: ', bins,'--',' '.join(str(x) for x in intervals))\n",
    "\n",
    "    # uniform discretized bin \n",
    "    uniform_vals = pd.qcut(array,bins, labels=False)\n",
    "    \n",
    "    return uniform_vals\n"
   ]
  },
  {
   "cell_type": "markdown",
   "metadata": {},
   "source": [
    "The discretization function is only applied for features containing less than 20% zero values, which is done to ensure uniform binning is possible. As a result, the number of features is decreased from 21 to 11, whose binning is shown below"
   ]
  },
  {
   "cell_type": "code",
   "execution_count": 15,
   "metadata": {
    "scrolled": true
   },
   "outputs": [
    {
     "name": "stdout",
     "output_type": "stream",
     "text": [
      "PlaceCount - Bins:  3 -- (0.999, 14.667] (14.667, 46.0] (46.0, 669.0]\n",
      "Price 2 - Bins:  6 -- (-0.001, 3.0] (3.0, 7.0] (7.0, 12.0] (12.0, 22.0] (22.0, 55.167] (55.167, 379.0]\n",
      "Price 3 - Bins:  3 -- (-0.001, 1.0] (1.0, 6.333] (6.333, 112.0]\n",
      "Bar - Bins:  4 -- (-0.001, 1.0] (1.0, 3.0] (3.0, 9.0] (9.0, 133.0]\n",
      "Other - Bins:  3 -- (-0.001, 2.0] (2.0, 6.0] (6.0, 91.0]\n",
      "Restaurant - Bins:  5 -- (-0.001, 1.0] (1.0, 4.0] (4.0, 9.4] (9.4, 25.0] (25.0, 263.0]\n",
      "ReviewCount - Bins:  5 -- (3.999, 40.8] (40.8, 99.2] (99.2, 225.4] (225.4, 638.2] (638.2, 8699.0]\n",
      "Rating - Bins:  3 -- (1.5550000000000002, 3.941] (3.941, 4.13] (4.13, 5.0]\n",
      "PositiveReviews - Bins:  4 -- (0.311, 0.792] (0.792, 0.833] (0.833, 0.864] (0.864, 1.0]\n",
      "NegativeReviews - Bins:  4 -- (-0.001, 0.136] (0.136, 0.167] (0.167, 0.208] (0.208, 0.688]\n",
      "ReviewLength - Bins:  3 -- (0.0665, 0.899] (0.899, 1.099] (1.099, 2.218]\n"
     ]
    }
   ],
   "source": [
    "# Transforming the dataset to uniform discretized values, for features with less than 20% zeros\n",
    "import pandas as pd\n",
    "y_discrete = pd.DataFrame()\n",
    "for col in y.columns:\n",
    "    if len(np.where(y[col]==0)[0])/len(y[col])<0.2:\n",
    "        y_discrete[col] = uniform_Discretization(y[col])\n",
    "        y_discrete[col] = y_discrete[col].astype(\"category\", copy=False)"
   ]
  },
  {
   "cell_type": "markdown",
   "metadata": {},
   "source": [
    "Finally, the target data is reshaped from a 480x11 matrix to a list of 11 one-hot encoded matrices of the features. This reshaping is necessary to ensure that the data can be passed into the output layers in the end of the model. Essentially the neural network is a single network doing 11 classification tasks at once with an embedding layer which ties it all together."
   ]
  },
  {
   "cell_type": "code",
   "execution_count": 16,
   "metadata": {},
   "outputs": [],
   "source": [
    "# Convert to \n",
    "data = []\n",
    "for c in y_discrete:\n",
    "    arr = np.asarray(pd.get_dummies(y_discrete[c]).values)\n",
    "    data.append(arr)"
   ]
  },
  {
   "cell_type": "markdown",
   "metadata": {},
   "source": [
    "Since there is only 11 features in the discrete data, the max length of the embeddings is set to 8 instead of 15, which was used for the continuous model. The majority of the architecture seen below is similar to the continuous with the exception of softmax activation and cross entropy loss."
   ]
  },
  {
   "cell_type": "code",
   "execution_count": 14,
   "metadata": {},
   "outputs": [],
   "source": [
    "def model_builder_discrete(hp):\n",
    "    input_neurons = X.shape[0]\n",
    "\n",
    "    # Model architecture\n",
    "    inp = Input(shape=(input_neurons,))\n",
    "    hp_embedding = hp.Int(\"units\", min_value=3, max_value=8, step=1)\n",
    "    emb = Embedding(input_dim=input_neurons, output_dim=hp_embedding, input_length=input_neurons)(inp)\n",
    "    flat = Flatten()(emb)\n",
    "\n",
    "    # Output layer\n",
    "    dict_losses = {}\n",
    "    output_acts = []\n",
    "    for idx in range(len(y_discrete.columns)):\n",
    "        n_output = y_discrete.iloc[:, idx].nunique()\n",
    "        output_act = Dense(n_output, activation=\"softmax\", use_bias=True, name=\"output_layer_cat\" + str(idx))(flat)\n",
    "        output_acts.append(output_act)\n",
    "        dict_losses['output_layer_cat' + str(idx)] = 'categorical_crossentropy'\n",
    "\n",
    "    # Model compiling\n",
    "    model = Model(inputs=inp, outputs=output_acts)\n",
    "    hp_learning_rate = hp.Choice('learning_rate', values=[3e-4, 0.001, 0.01, 0.1])\n",
    "    opt = Adam(learning_rate=hp_learning_rate)\n",
    "    model.compile(loss=dict_losses, optimizer=opt)\n",
    "    return model"
   ]
  },
  {
   "cell_type": "markdown",
   "metadata": {},
   "source": [
    "The next four code cells is identical to what was used in the continuous model, hence these are not commented. However, an interpretation will be made on the loss curves."
   ]
  },
  {
   "cell_type": "code",
   "execution_count": 15,
   "metadata": {},
   "outputs": [
    {
     "name": "stdout",
     "output_type": "stream",
     "text": [
      "Trial 30 Complete [00h 00m 09s]\n",
      "loss: 0.005318881012499332\n",
      "\n",
      "Best loss So Far: 0.003040631767362356\n",
      "Total elapsed time: 00h 03m 25s\n",
      "INFO:tensorflow:Oracle triggered exit\n"
     ]
    }
   ],
   "source": [
    "objective = kt.Objective(\"loss\", direction=\"min\")\n",
    "tuner = kt.Hyperband(model_builder_discrete,\n",
    "                    objective=objective,\n",
    "                    max_epochs=20,\n",
    "                    directory=\"hyperparameter_tuning\",\n",
    "                    project_name=\"discrete_trials\",\n",
    "                    overwrite=False\n",
    ")\n",
    "\n",
    "#tuner.search(X, output_space, callbacks=[stop_early])\n",
    "tuner.search(X, data)\n",
    "\n",
    "best_hps = tuner.get_best_hyperparameters()[0]"
   ]
  },
  {
   "cell_type": "code",
   "execution_count": 22,
   "metadata": {},
   "outputs": [
    {
     "name": "stdout",
     "output_type": "stream",
     "text": [
      "Best epoch: 300\n"
     ]
    }
   ],
   "source": [
    "# Rebuild model with best hyperparameters\n",
    "model = tuner.hypermodel.build(best_hps)\n",
    "\n",
    "# train model for 50 epochs\n",
    "history = model.fit(X, data, epochs=300, verbose=0)\n",
    "\n",
    "train_loss_per_epoch = history.history['loss']\n",
    "\n",
    "# Find best epoch in terms of train loss\n",
    "best_epoch = train_loss_per_epoch.index(min(train_loss_per_epoch)) + 1\n",
    "print(\"Best epoch:\", best_epoch)"
   ]
  },
  {
   "cell_type": "code",
   "execution_count": 23,
   "metadata": {},
   "outputs": [
    {
     "name": "stdout",
     "output_type": "stream",
     "text": [
      "INFO:tensorflow:Assets written to: models/discrete_model\\assets\n"
     ]
    }
   ],
   "source": [
    "# Retrain the model with optimal epochs from above\n",
    "hypermodel = tuner.hypermodel.build(best_hps)\n",
    "hypermodel.fit(X, data, epochs=best_epoch, verbose=0)\n",
    "\n",
    "# Save model\n",
    "hypermodel.save(\"models/discrete_model\")"
   ]
  },
  {
   "cell_type": "code",
   "execution_count": 24,
   "metadata": {},
   "outputs": [
    {
     "data": {
      "image/png": "[encoded data removed]",
      "text/plain": [
       "<Figure size 864x504 with 1 Axes>"
      ]
     },
     "metadata": {},
     "output_type": "display_data"
    }
   ],
   "source": [
    "for idx, (key, value) in enumerate(hypermodel.history.history.items()):\n",
    "    if key != \"loss\":\n",
    "        plt.plot(hypermodel.history.epoch, value, label=y.columns[idx-1])\n",
    "plt.ylabel(\"Loss\")\n",
    "plt.xlabel(\"Epochs\");\n",
    "plt.legend();"
   ]
  },
  {
   "cell_type": "markdown",
   "metadata": {},
   "source": [
    "The loss curves for the discrete model decreases severely in the first epoch, whereafter it starts to converge. The model was run for an increasing number of epochs where a loss decrease was found each time. It was decided to stop at 300 epochs in interest of time."
   ]
  },
  {
   "cell_type": "code",
   "execution_count": 28,
   "metadata": {},
   "outputs": [],
   "source": [
    "import pickle\n",
    "weights = hypermodel.layers[1].get_weights()[0].tolist()\n",
    "grids = df.Grid.values\n",
    "ws = {grids[i]: weights[i] for i in range(len(df))}\n",
    "with open(\"embeddings/discrete_embeddings.pkl\", \"wb\") as f:\n",
    "    pickle.dump(ws, f)"
   ]
  },
  {
   "cell_type": "markdown",
   "metadata": {},
   "source": [
    "## Model comparison (Continuous vs Discrete/Categorical) <a class=\"anchor\" id=\"3-bullet\"></a>"
   ]
  },
  {
   "cell_type": "markdown",
   "metadata": {},
   "source": [
    "In this section, it will be decided whether to go forward with the embeddings obtained from the continuous model or the discrete model. Unfortunately, there is no universal way of measuring the performance of embeddings. The performance is all specific to the end-purpose of the embeddings, as indicated in [this stackoverflow answer](https://stackoverflow.com/a/56997733). Since our purpose is to create embeddings, which can identify similar areas across borders from London to NYC and opposite, the following approach was chosen to compare the embedding models: \n",
    "1. Perform TSNE and determine if clusters with areas from both cities are present\n",
    "2. Determine if areas expected to be similar are actually similar"
   ]
  },
  {
   "cell_type": "code",
   "execution_count": 64,
   "metadata": {},
   "outputs": [],
   "source": [
    "# Load keras models generated from previous two sections\n",
    "from tensorflow import keras\n",
    "cont_model = keras.models.load_model(\"models/continuous_model\")\n",
    "disc_model = keras.models.load_model(\"models/discrete_model\")"
   ]
  },
  {
   "cell_type": "markdown",
   "metadata": {},
   "source": [
    "The first approach is used to ensure that cross-border grid cell comparisons are feasible. It is considered feasible when grid cells from both cities are mixed and not separated into clusters according to city. TSNE is performed for each embedding model in order to visualize the embeddings in a 2D scatter plot."
   ]
  },
  {
   "cell_type": "code",
   "execution_count": 65,
   "metadata": {},
   "outputs": [
    {
     "data": {
      "image/png": "[encoded data removed]",
      "text/plain": [
       "<Figure size 864x504 with 2 Axes>"
      ]
     },
     "metadata": {},
     "output_type": "display_data"
    }
   ],
   "source": [
    "from sklearn.manifold import TSNE\n",
    "# Apply TSNE to lower dimension of embeddings\n",
    "cont_embeddings = cont_model.layers[1].get_weights()[0]\n",
    "disc_embeddings = disc_model.layers[1].get_weights()[0]\n",
    "X_cont = TSNE(n_components=2, learning_rate=\"auto\", init=\"random\").fit_transform(cont_embeddings)\n",
    "X_disc = TSNE(n_components=2, learning_rate=\"auto\", init=\"random\").fit_transform(cont_embeddings)\n",
    "\n",
    "# Find index of London and NYC grids for scatter plot\n",
    "fig, ax = plt.subplots(2,1)\n",
    "london_idx = np.where((df.Grid.str.startswith(\"L\")*1).values==1)\n",
    "nyc_idx = np.where((df.Grid.str.startswith(\"N\")*1).values==1)\n",
    "\n",
    "# Create scatter plot for continuous model\n",
    "ax[0].scatter(X_cont[london_idx, 0], X_cont[london_idx, 1], color=\"red\", label=\"London\")\n",
    "ax[0].scatter(X_cont[nyc_idx, 0], X_cont[nyc_idx, 1], color=\"blue\", label=\"NYC\")\n",
    "ax[0].legend()\n",
    "ax[0].set_title(\"Continuous model embeddings\")\n",
    "\n",
    "# Create scatter plot for discrete model\n",
    "ax[1].scatter(X_disc[london_idx, 0], X_disc[london_idx, 1], color=\"red\", label=\"London\")\n",
    "ax[1].scatter(X_disc[nyc_idx, 0], X_disc[nyc_idx, 1], color=\"blue\", label=\"NYC\")\n",
    "ax[1].legend()\n",
    "ax[1].set_title(\"Discrete model embeddings\")\n",
    "fig.tight_layout()"
   ]
  },
  {
   "cell_type": "markdown",
   "metadata": {},
   "source": [
    "Luckily, there seems to be no clusters containing only NYC or London areas. The second approach has to be performed to differentiate between the two models. "
   ]
  },
  {
   "cell_type": "markdown",
   "metadata": {},
   "source": [
    "The second approach concerns a comparison of the models for areas that are known to be similar across the two cities. These areas have been selected according to Chris Donnan's [blog post](https://chrisdonnan.com/london-new-york-neighborhood-analogies-83549775676) on London/New York neighbourhood analogies. The areas compared are (London mentioned first):\n",
    "- Mayfair <-> Fifth Avenue\n",
    "- Chelsea <-> Upper East Side\n",
    "- Picadilly Circus <-> Times Square\n",
    "- Shoreditch <-> Lower East Side\n",
    "- The City <-> Wall Street\n",
    "\n",
    "The coordinates have been obtained manually through Google Maps. The coordinates are listed as as single point, but the areas are varying in size and can span across multiple grid cells. The next step is to obtain the grid cell for each of these areas. "
   ]
  },
  {
   "cell_type": "code",
   "execution_count": 66,
   "metadata": {},
   "outputs": [],
   "source": [
    "cols = [\"place\", \"lat\", \"lon\", \"comparison\"]\n",
    "df_test = pd.DataFrame([\n",
    "    [\"Mayfair L\", 51.511985026397035, -0.14879873348792902, \"C1\"],\n",
    "    [\"Fifth Ave NY\", 40.774987620333434, -73.96547459831164, \"C1\"],\n",
    "    [\"Chelsea L\", 51.489027977809016, -0.1701367709207771, \"C2\"],\n",
    "    [\"Upper East Side NY\", 40.77042227433877, -73.95413494511916, \"C2\"],\n",
    "    [\"Picadilly Circus L\", 51.51063869930203, -0.13491599824102046, \"C3\"],\n",
    "    [\"Times Square NY\", 40.758689525151674, -73.98528514311366, \"C3\"],\n",
    "    [\"Shoreditch L\", 51.52438917339741, -0.07761514706454309, \"C4\"],\n",
    "    [\"Lower East Side NY\", 40.715576289768045, -73.98573517965326, \"C4\"],\n",
    "    [\"The City L\", 51.51304907945532, -0.09246999957592936, \"C5\"],\n",
    "    [\"Wall St NY\", 40.706556289638975, -74.00878272041244, \"C5\"]\n",
    "\n",
    "], columns=cols)"
   ]
  },
  {
   "cell_type": "code",
   "execution_count": 67,
   "metadata": {},
   "outputs": [],
   "source": [
    "# Use function from data processing notebook\n",
    "from helperfunctions import get_country_specific_information, get_coordinates\n",
    "def create_grid(df_input, city):\n",
    "    if city == \"London\":\n",
    "        _, _, _, num = get_country_specific_information()\n",
    "        prefix = \"L\"\n",
    "    else:\n",
    "        _, _, num, _ = get_country_specific_information()\n",
    "        prefix = \"NY\"\n",
    "    df = df_input.copy()\n",
    "    df['Grid'] = np.nan\n",
    "    \n",
    "    bottomLeft, bottomRight, topLeft, topRight = get_coordinates(city)\n",
    "\n",
    "    cols = np.linspace(bottomLeft[1], bottomRight[1], num=num)\n",
    "    rows = np.linspace(bottomLeft[0], topLeft[0], num=num)\n",
    "\n",
    "    num = 0\n",
    "    for i in range(len(rows)-1):\n",
    "        for j in range(len(cols)-1):\n",
    "            for index,row in df.loc[(df.lon >= cols[j]) & (df.lon <= cols[j+1]) & (df.lat >= rows[i]) & (df.lat <= rows[i+1])].iterrows():\n",
    "                    df.loc[index, \"Grid\"] = prefix + str(int(num))\n",
    "\n",
    "            \n",
    "            num += 1\n",
    "\n",
    "    return df"
   ]
  },
  {
   "cell_type": "code",
   "execution_count": 68,
   "metadata": {},
   "outputs": [
    {
     "data": {
      "text/html": [
       "<div>\n",
       "<style scoped>\n",
       "    .dataframe tbody tr th:only-of-type {\n",
       "        vertical-align: middle;\n",
       "    }\n",
       "\n",
       "    .dataframe tbody tr th {\n",
       "        vertical-align: top;\n",
       "    }\n",
       "\n",
       "    .dataframe thead th {\n",
       "        text-align: right;\n",
       "    }\n",
       "</style>\n",
       "<table border=\"1\" class=\"dataframe\">\n",
       "  <thead>\n",
       "    <tr style=\"text-align: right;\">\n",
       "      <th></th>\n",
       "      <th>place</th>\n",
       "      <th>lat</th>\n",
       "      <th>lon</th>\n",
       "      <th>comparison</th>\n",
       "      <th>Grid</th>\n",
       "    </tr>\n",
       "  </thead>\n",
       "  <tbody>\n",
       "    <tr>\n",
       "      <th>0</th>\n",
       "      <td>Mayfair L</td>\n",
       "      <td>51.511985</td>\n",
       "      <td>-0.148799</td>\n",
       "      <td>C1</td>\n",
       "      <td>L176</td>\n",
       "    </tr>\n",
       "    <tr>\n",
       "      <th>1</th>\n",
       "      <td>Fifth Ave NY</td>\n",
       "      <td>40.774988</td>\n",
       "      <td>-73.965475</td>\n",
       "      <td>C1</td>\n",
       "      <td>NY165</td>\n",
       "    </tr>\n",
       "    <tr>\n",
       "      <th>2</th>\n",
       "      <td>Chelsea L</td>\n",
       "      <td>51.489028</td>\n",
       "      <td>-0.170137</td>\n",
       "      <td>C2</td>\n",
       "      <td>L79</td>\n",
       "    </tr>\n",
       "    <tr>\n",
       "      <th>3</th>\n",
       "      <td>Upper East Side NY</td>\n",
       "      <td>40.770422</td>\n",
       "      <td>-73.954135</td>\n",
       "      <td>C2</td>\n",
       "      <td>NY168</td>\n",
       "    </tr>\n",
       "    <tr>\n",
       "      <th>4</th>\n",
       "      <td>Picadilly Circus L</td>\n",
       "      <td>51.510639</td>\n",
       "      <td>-0.134916</td>\n",
       "      <td>C3</td>\n",
       "      <td>L178</td>\n",
       "    </tr>\n",
       "    <tr>\n",
       "      <th>5</th>\n",
       "      <td>Times Square NY</td>\n",
       "      <td>40.758690</td>\n",
       "      <td>-73.985285</td>\n",
       "      <td>C3</td>\n",
       "      <td>NY123</td>\n",
       "    </tr>\n",
       "    <tr>\n",
       "      <th>6</th>\n",
       "      <td>Shoreditch L</td>\n",
       "      <td>51.524389</td>\n",
       "      <td>-0.077615</td>\n",
       "      <td>C4</td>\n",
       "      <td>L222</td>\n",
       "    </tr>\n",
       "    <tr>\n",
       "      <th>7</th>\n",
       "      <td>Lower East Side NY</td>\n",
       "      <td>40.715576</td>\n",
       "      <td>-73.985735</td>\n",
       "      <td>C4</td>\n",
       "      <td>NY28</td>\n",
       "    </tr>\n",
       "    <tr>\n",
       "      <th>8</th>\n",
       "      <td>The City L</td>\n",
       "      <td>51.513049</td>\n",
       "      <td>-0.092470</td>\n",
       "      <td>C5</td>\n",
       "      <td>L182</td>\n",
       "    </tr>\n",
       "    <tr>\n",
       "      <th>9</th>\n",
       "      <td>Wall St NY</td>\n",
       "      <td>40.706556</td>\n",
       "      <td>-74.008783</td>\n",
       "      <td>C5</td>\n",
       "      <td>NY4</td>\n",
       "    </tr>\n",
       "  </tbody>\n",
       "</table>\n",
       "</div>"
      ],
      "text/plain": [
       "                place        lat        lon comparison   Grid\n",
       "0           Mayfair L  51.511985  -0.148799         C1   L176\n",
       "1        Fifth Ave NY  40.774988 -73.965475         C1  NY165\n",
       "2           Chelsea L  51.489028  -0.170137         C2    L79\n",
       "3  Upper East Side NY  40.770422 -73.954135         C2  NY168\n",
       "4  Picadilly Circus L  51.510639  -0.134916         C3   L178\n",
       "5     Times Square NY  40.758690 -73.985285         C3  NY123\n",
       "6        Shoreditch L  51.524389  -0.077615         C4   L222\n",
       "7  Lower East Side NY  40.715576 -73.985735         C4   NY28\n",
       "8          The City L  51.513049  -0.092470         C5   L182\n",
       "9          Wall St NY  40.706556 -74.008783         C5    NY4"
      ]
     },
     "execution_count": 68,
     "metadata": {},
     "output_type": "execute_result"
    }
   ],
   "source": [
    "london_df = create_grid(df_test.loc[lambda x: x.place.str.endswith(\"L\")], \"London\")\n",
    "ny_df = create_grid(df_test.loc[lambda x: x.place.str.endswith(\"NY\")], \"New York\")\n",
    "df_testgrid = pd.concat([london_df, ny_df]).sort_values(\"comparison\")\n",
    "df_testgrid"
   ]
  },
  {
   "cell_type": "code",
   "execution_count": 80,
   "metadata": {},
   "outputs": [],
   "source": [
    "# Obtain embeddings from each model\n",
    "df_cont_emb = pd.DataFrame(cont_embeddings, index=df.Grid.values)\n",
    "df_disc_emb = pd.DataFrame(disc_embeddings, index=df.Grid.values)"
   ]
  },
  {
   "cell_type": "markdown",
   "metadata": {},
   "source": [
    "To compare embeddings for the given areas, cosine similarity is calculated between areas assumed as comparable. Cosine similarity is chosen due to its bound between -1 and 1, which means that all similarities are on the same scale and makes them comparable. The function below reports the cosine similarity for the area comparisons for each of the two embedding models."
   ]
  },
  {
   "cell_type": "code",
   "execution_count": 141,
   "metadata": {},
   "outputs": [],
   "source": [
    "def comparison_func(comparison_num):\n",
    "    from sklearn.metrics.pairwise import cosine_similarity\n",
    "    df_c = df_testgrid.loc[lambda x: x.comparison == comparison_num]\n",
    "    header_text = \" <-> \".join(df_c.place.values)\n",
    "    cont_temp = df_cont_emb.loc[lambda x: x.index.isin(df_c.Grid)]\n",
    "    disc_temp = df_disc_emb.loc[lambda x: x.index.isin(df_c.Grid)]\n",
    "    \n",
    "    print(\"=\"*48)\n",
    "    print(\" \"*int((48-len(header_text))/2), header_text)\n",
    "    print(\"=\"*48)\n",
    "    print(\"Cosine similarity\")\n",
    "    print(\"Continuous:\", cosine_similarity(cont_temp)[0,1])\n",
    "    print(\"Discrete:\", cosine_similarity(disc_temp)[0,1])"
   ]
  },
  {
   "cell_type": "code",
   "execution_count": 142,
   "metadata": {},
   "outputs": [
    {
     "name": "stdout",
     "output_type": "stream",
     "text": [
      "================================================\n",
      "            Mayfair L <-> Fifth Ave NY\n",
      "================================================\n",
      "Cosine similarity\n",
      "Continuous: -0.31120586\n",
      "Discrete: 0.6814031\n"
     ]
    }
   ],
   "source": [
    "# C1\n",
    "comparison_func(\"C1\")"
   ]
  },
  {
   "cell_type": "markdown",
   "metadata": {},
   "source": [
    "For the first comparison, it is seen that the discrete model performs better than the continuous. This is indicated by the similarity of the discrete model, which is close to 1, as opposed to the continuous model where a negative similarity is calculated. "
   ]
  },
  {
   "cell_type": "code",
   "execution_count": 143,
   "metadata": {},
   "outputs": [
    {
     "name": "stdout",
     "output_type": "stream",
     "text": [
      "================================================\n",
      "         Chelsea L <-> Upper East Side NY\n",
      "================================================\n",
      "Cosine similarity\n",
      "Continuous: -0.08128221\n",
      "Discrete: -0.31924143\n"
     ]
    }
   ],
   "source": [
    "# C2\n",
    "comparison_func(\"C2\")"
   ]
  },
  {
   "cell_type": "markdown",
   "metadata": {},
   "source": [
    "In this comparison, neither of the models performs as expected, since they both indicate that the two areas are dissimilar. "
   ]
  },
  {
   "cell_type": "code",
   "execution_count": null,
   "metadata": {},
   "outputs": [
    {
     "name": "stdout",
     "output_type": "stream",
     "text": [
      "================================================\n",
      "      Picadilly Circus L <-> Times Square NY\n",
      "================================================\n",
      "Cosine similarity\n",
      "Continuous: 0.5340566\n",
      "Discrete: 0.04356924\n"
     ]
    }
   ],
   "source": [
    "# C3\n",
    "comparison_func(\"C3\")"
   ]
  },
  {
   "cell_type": "markdown",
   "metadata": {},
   "source": [
    "For the third comparison, the continuous model outperforms the discrete model indicated by the much higher similarity value calculated for the continuous model."
   ]
  },
  {
   "cell_type": "code",
   "execution_count": 145,
   "metadata": {},
   "outputs": [
    {
     "name": "stdout",
     "output_type": "stream",
     "text": [
      "================================================\n",
      "       Shoreditch L <-> Lower East Side NY\n",
      "================================================\n",
      "Cosine similarity\n",
      "Continuous: 0.0052382397\n",
      "Discrete: -0.603295\n"
     ]
    }
   ],
   "source": [
    "# C4\n",
    "comparison_func(\"C4\")"
   ]
  },
  {
   "cell_type": "markdown",
   "metadata": {},
   "source": [
    "Again, both model are not performing as they should, but the discrete model is estimating the areas as more dissimilar than the continuous."
   ]
  },
  {
   "cell_type": "code",
   "execution_count": 146,
   "metadata": {},
   "outputs": [
    {
     "name": "stdout",
     "output_type": "stream",
     "text": [
      "================================================\n",
      "            The City L <-> Wall St NY\n",
      "================================================\n",
      "Cosine similarity\n",
      "Continuous: -0.15875505\n",
      "Discrete: -0.36943018\n"
     ]
    }
   ],
   "source": [
    "# C5\n",
    "comparison_func(\"C5\")"
   ]
  },
  {
   "cell_type": "markdown",
   "metadata": {},
   "source": [
    "The final comparison is also not very promising for either of our models, since both evaluate the areas as dissimilar."
   ]
  },
  {
   "cell_type": "markdown",
   "metadata": {},
   "source": [
    "The model comparison did not provide a clear answer regarding which model to use in the recommender system. The first approach using TSNE indicated that both models were suitable for providing cross border comparisons of area embeddings. In the second approach, two of the five comparisons had similarity values that reflected the expectations. However, it was not unanimous which model was the better of the two. In the remaining three comparisons, no decision could be made regarding a superior model.\n",
    "\n",
    "Therefore, a decision is made based on the loss curves of the models and suggestions presented by our mentor. The loss curves of the discrete model indicated that it kept learning when increasing the epochs. This indicates that the model is able to obtain better results if trained longer, but this will not be conducted in the interest of time. Furthermore, our mentor highlighted that the discrete model performed better from experience. "
   ]
  },
  {
   "cell_type": "markdown",
   "metadata": {},
   "source": [
    "# Conclusion and final remarks <a class=\"anchor\" id=\"4-bullet\"></a>\n",
    "\n",
    "It has been possible to create embedding vectors for each grid cell successfully, which will be used in the recommender system. The better performing space embeddings model was ambiguous and difficult to identify. Multiple approaches were considered, where none provided a definitive answer. The embeddings from the discrete model did not perform outstanding in the comparisons considered here. However, they will be used for the recommender system, where the recommendations will be validated using stereotypical personas.\n",
    "\n",
    "The creation of the recommender system and the subsequent analysis can be found in the [Recommender System notebook](./RecommenderSystem.ipynb) which is the next suggested step to learn more about the project."
   ]
  }
 ],
 "metadata": {
  "interpreter": {
   "hash": "120e41c718bbd8f8ec4a027ba989813e34426de40859c9c53e628c4a48c10621"
  },
  "kernelspec": {
   "display_name": "Python 3",
   "language": "python",
   "name": "python3"
  },
  "language_info": {
   "codemirror_mode": {
    "name": "ipython",
    "version": 3
   },
   "file_extension": ".py",
   "mimetype": "text/x-python",
   "name": "python",
   "nbconvert_exporter": "python",
   "pygments_lexer": "ipython3",
   "version": "3.8.5"
  }
 },
 "nbformat": 4,
 "nbformat_minor": 2
}
